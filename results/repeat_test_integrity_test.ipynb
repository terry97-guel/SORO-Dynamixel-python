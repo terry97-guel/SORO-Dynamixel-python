{
 "cells": [
  {
   "cell_type": "code",
   "execution_count": 1,
   "metadata": {},
   "outputs": [],
   "source": [
    "import json\n",
    "from pathlib import Path\n",
    "import copy\n",
    "\n",
    "from numpy import single\n",
    "\n",
    "filepath = Path('1002/repeat_test')\n",
    "\n",
    "file_storage = {'first':[], 'second':[], 'third':[],'fourth':[], 'zero':[]}\n",
    "for singlefile in filepath.iterdir():\n",
    "    with open(str(singlefile), \"r\") as st_json:\n",
    "        st_python = json.load(st_json)\n",
    "    \n",
    "    temp = copy.deepcopy(st_python)\n",
    "    \n",
    "    for key in file_storage.keys():\n",
    "        if key in str(singlefile):\n",
    "            file_storage[key].append(temp)\n",
    "            break\n"
   ]
  },
  {
   "cell_type": "code",
   "execution_count": 8,
   "metadata": {},
   "outputs": [
    {
     "name": "stdout",
     "output_type": "stream",
     "text": [
      "[[-315.01680613  950.83194971  512.79842854]\n",
      " [-299.70884323  950.20407438  516.87222719]\n",
      " [-299.74704981  950.14077425  516.52771235]\n",
      " [-316.57227874  950.91164112  510.18881798]\n",
      " [-311.29395962  950.9626627   512.31187582]]\n",
      "standard deviation along axis: [7.3393466  0.36043534 2.57368127]\n"
     ]
    }
   ],
   "source": [
    "## Unlabeled markers ##\n",
    "import numpy as np\n",
    "unlabeled_markers_list = []\n",
    "\n",
    "for markers in file_storage['first']:\n",
    "    if len(markers['unlabeled_markers_list']) != 1:\n",
    "        print(\"Ghost markers Found! \", markers)\n",
    "        continue \n",
    "    unlabeled_markers_list.append([\n",
    "        markers['unlabeled_markers_list'][0]['x'], \n",
    "        markers['unlabeled_markers_list'][0]['y'], \n",
    "        markers['unlabeled_markers_list'][0]['z']\n",
    "        ])\n",
    "    \n",
    "unlabeled_markers_array = np.array(unlabeled_markers_list) * 1000\n",
    "unlabeled_markers_array = unlabeled_markers_array[:5]\n",
    "print(unlabeled_markers_array)\n",
    "print(\"standard deviation along axis:\", np.std(unlabeled_markers_array,axis=0))"
   ]
  },
  {
   "cell_type": "code",
   "execution_count": 49,
   "metadata": {},
   "outputs": [
    {
     "data": {
      "text/plain": [
       "[{'x': -0.31161385774612427, 'y': 0.8361464142799377, 'z': 0.4496890604496002},\n",
       " {'x': -0.263024240732193, 'y': 0.8363696932792664, 'z': 0.49373042583465576},\n",
       " {'x': -0.31413090229034424, 'y': 0.8359094858169556, 'z': 0.5498851537704468},\n",
       " {'x': -0.3622158467769623, 'y': 0.8346413373947144, 'z': 0.49857214093208313}]"
      ]
     },
     "execution_count": 49,
     "metadata": {},
     "output_type": "execute_result"
    }
   ],
   "source": [
    "markers['platform_markers_list']"
   ]
  },
  {
   "cell_type": "code",
   "execution_count": 72,
   "metadata": {},
   "outputs": [
    {
     "ename": "TypeError",
     "evalue": "list indices must be integers or slices, not str",
     "output_type": "error",
     "traceback": [
      "\u001b[0;31m---------------------------------------------------------------------------\u001b[0m",
      "\u001b[0;31mTypeError\u001b[0m                                 Traceback (most recent call last)",
      "\u001b[1;32m/home/terry-q/Rilab/sOftrobot/SORO-Dynamixel-python/results/repeat_test_integrity_test.ipynb Cell 5\u001b[0m in \u001b[0;36m<cell line: 6>\u001b[0;34m()\u001b[0m\n\u001b[1;32m      <a href='vscode-notebook-cell:/home/terry-q/Rilab/sOftrobot/SORO-Dynamixel-python/results/repeat_test_integrity_test.ipynb#W4sZmlsZQ%3D%3D?line=2'>3</a>\u001b[0m \u001b[39mimport\u001b[39;00m \u001b[39mnumpy\u001b[39;00m \u001b[39mas\u001b[39;00m \u001b[39mnp\u001b[39;00m\n\u001b[1;32m      <a href='vscode-notebook-cell:/home/terry-q/Rilab/sOftrobot/SORO-Dynamixel-python/results/repeat_test_integrity_test.ipynb#W4sZmlsZQ%3D%3D?line=3'>4</a>\u001b[0m platform_markers_list \u001b[39m=\u001b[39m []\n\u001b[0;32m----> <a href='vscode-notebook-cell:/home/terry-q/Rilab/sOftrobot/SORO-Dynamixel-python/results/repeat_test_integrity_test.ipynb#W4sZmlsZQ%3D%3D?line=5'>6</a>\u001b[0m \u001b[39mfor\u001b[39;00m markers \u001b[39min\u001b[39;00m file_storage[\u001b[39m'\u001b[39;49m\u001b[39mfirst\u001b[39;49m\u001b[39m'\u001b[39;49m]:\n\u001b[1;32m      <a href='vscode-notebook-cell:/home/terry-q/Rilab/sOftrobot/SORO-Dynamixel-python/results/repeat_test_integrity_test.ipynb#W4sZmlsZQ%3D%3D?line=6'>7</a>\u001b[0m     \u001b[39massert\u001b[39;00m \u001b[39mlen\u001b[39m(markers[\u001b[39m'\u001b[39m\u001b[39mplatform_markers_list\u001b[39m\u001b[39m'\u001b[39m]) \u001b[39m==\u001b[39m \u001b[39m4\u001b[39m\n\u001b[1;32m      <a href='vscode-notebook-cell:/home/terry-q/Rilab/sOftrobot/SORO-Dynamixel-python/results/repeat_test_integrity_test.ipynb#W4sZmlsZQ%3D%3D?line=7'>8</a>\u001b[0m     platform_markers_list\u001b[39m.\u001b[39mappend([\n\u001b[1;32m      <a href='vscode-notebook-cell:/home/terry-q/Rilab/sOftrobot/SORO-Dynamixel-python/results/repeat_test_integrity_test.ipynb#W4sZmlsZQ%3D%3D?line=8'>9</a>\u001b[0m         markers[\u001b[39m'\u001b[39m\u001b[39mplatform_markers_list\u001b[39m\u001b[39m'\u001b[39m][\u001b[39m0\u001b[39m][\u001b[39m'\u001b[39m\u001b[39mx\u001b[39m\u001b[39m'\u001b[39m], \n\u001b[1;32m     <a href='vscode-notebook-cell:/home/terry-q/Rilab/sOftrobot/SORO-Dynamixel-python/results/repeat_test_integrity_test.ipynb#W4sZmlsZQ%3D%3D?line=9'>10</a>\u001b[0m         markers[\u001b[39m'\u001b[39m\u001b[39mplatform_markers_list\u001b[39m\u001b[39m'\u001b[39m][\u001b[39m0\u001b[39m][\u001b[39m'\u001b[39m\u001b[39my\u001b[39m\u001b[39m'\u001b[39m], \n\u001b[1;32m     <a href='vscode-notebook-cell:/home/terry-q/Rilab/sOftrobot/SORO-Dynamixel-python/results/repeat_test_integrity_test.ipynb#W4sZmlsZQ%3D%3D?line=10'>11</a>\u001b[0m         markers[\u001b[39m'\u001b[39m\u001b[39mplatform_markers_list\u001b[39m\u001b[39m'\u001b[39m][\u001b[39m0\u001b[39m][\u001b[39m'\u001b[39m\u001b[39mz\u001b[39m\u001b[39m'\u001b[39m]\n\u001b[1;32m     <a href='vscode-notebook-cell:/home/terry-q/Rilab/sOftrobot/SORO-Dynamixel-python/results/repeat_test_integrity_test.ipynb#W4sZmlsZQ%3D%3D?line=11'>12</a>\u001b[0m         ])\n",
      "\u001b[0;31mTypeError\u001b[0m: list indices must be integers or slices, not str"
     ]
    }
   ],
   "source": [
    "## Platform markers ##\n",
    "\n",
    "import numpy as np\n",
    "platform_markers_list = []\n",
    "\n",
    "for markers in file_storage['first']:\n",
    "    assert len(markers['platform_markers_list']) == 4\n",
    "    platform_markers_list.append([\n",
    "        markers['platform_markers_list'][0]['x'], \n",
    "        markers['platform_markers_list'][0]['y'], \n",
    "        markers['platform_markers_list'][0]['z']\n",
    "        ])\n",
    "    \n",
    "platform_markers_array = np.array(platform_markers_list) * 1000\n",
    "print(platform_markers_array)\n",
    "print(\"standard deviation along axis:\", np.std(platform_markers_array,axis=0))"
   ]
  },
  {
   "cell_type": "code",
   "execution_count": null,
   "metadata": {},
   "outputs": [],
   "source": []
  },
  {
   "cell_type": "markdown",
   "metadata": {},
   "source": [
    "## Mocap Noise"
   ]
  },
  {
   "cell_type": "code",
   "execution_count": 73,
   "metadata": {},
   "outputs": [],
   "source": [
    "import json\n",
    "from pathlib import Path\n",
    "import copy\n",
    "\n",
    "from numpy import single\n",
    "\n",
    "filepath = Path('mocap/data')\n",
    "\n",
    "file_storage = []\n",
    "for singlefile in filepath.iterdir():\n",
    "    with open(str(singlefile), \"r\") as st_json:\n",
    "        st_python = json.load(st_json)\n",
    "    \n",
    "    temp = copy.deepcopy(st_python)\n",
    "    file_storage.append(temp)\n",
    "    "
   ]
  },
  {
   "cell_type": "code",
   "execution_count": 74,
   "metadata": {},
   "outputs": [
    {
     "name": "stdout",
     "output_type": "stream",
     "text": [
      "[[-304.12590504  966.06892347  502.5408268 ]\n",
      " [-304.13126945  966.07208252  502.52890587]\n",
      " [-304.17954922  966.07422829  502.55250931]\n",
      " ...\n",
      " [-304.14026976  966.07607603  502.53981352]\n",
      " [-304.07938361  966.06093645  502.55072117]\n",
      " [-304.21870947  966.06713533  502.56246328]]\n",
      "standard deviation along axis: [0.05029348 0.00664256 0.01335146]\n"
     ]
    }
   ],
   "source": [
    "## Unlabeled markers ##\n",
    "import numpy as np\n",
    "unlabeled_markers_list = []\n",
    "\n",
    "for markers in file_storage:\n",
    "    if len(markers['unlabeled_markers_list']) != 1:\n",
    "        print(\"Ghost markers Found! \", markers)\n",
    "        continue \n",
    "    unlabeled_markers_list.append([\n",
    "        markers['unlabeled_markers_list'][0]['x'], \n",
    "        markers['unlabeled_markers_list'][0]['y'], \n",
    "        markers['unlabeled_markers_list'][0]['z']\n",
    "        ])\n",
    "    \n",
    "unlabeled_markers_array = np.array(unlabeled_markers_list) * 1000\n",
    "print(unlabeled_markers_array)\n",
    "print(\"standard deviation along axis:\", np.std(unlabeled_markers_array,axis=0))"
   ]
  },
  {
   "cell_type": "code",
   "execution_count": null,
   "metadata": {},
   "outputs": [],
   "source": []
  }
 ],
 "metadata": {
  "kernelspec": {
   "display_name": "Python 3.9.10 64-bit ('3.9.10')",
   "language": "python",
   "name": "python3"
  },
  "language_info": {
   "codemirror_mode": {
    "name": "ipython",
    "version": 3
   },
   "file_extension": ".py",
   "mimetype": "text/x-python",
   "name": "python",
   "nbconvert_exporter": "python",
   "pygments_lexer": "ipython3",
   "version": "3.9.10"
  },
  "orig_nbformat": 4,
  "vscode": {
   "interpreter": {
    "hash": "97b2947be866fa91c703bb0e62170c19e38afd86492cb518deafd87a1b61c874"
   }
  }
 },
 "nbformat": 4,
 "nbformat_minor": 2
}
