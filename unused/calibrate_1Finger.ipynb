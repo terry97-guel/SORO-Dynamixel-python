{
 "cells": [
  {
   "cell_type": "code",
   "execution_count": 1,
   "metadata": {},
   "outputs": [
    {
     "name": "stdout",
     "output_type": "stream",
     "text": [
      "['/home/terry-q/Rilab/sOftrobot/SORO-Dynamixel-python', '', '/home/terry-q/catkin_ws/devel/lib/python3/dist-packages', '/opt/ros/noetic/lib/python3/dist-packages', '/home/terry-q/.pyenv/versions/2.7.16/lib/python27.zip', '/home/terry-q/.pyenv/versions/2.7.16/lib/python2.7', '/home/terry-q/.pyenv/versions/2.7.16/lib/python2.7/plat-linux2', '/home/terry-q/.pyenv/versions/2.7.16/lib/python2.7/lib-tk', '/home/terry-q/.pyenv/versions/2.7.16/lib/python2.7/lib-old', '/home/terry-q/.pyenv/versions/2.7.16/lib/python2.7/lib-dynload', '/home/terry-q/.pyenv/versions/2.7.16/envs/soro/lib/python2.7/site-packages', '/home/terry-q/.pyenv/versions/2.7.16/envs/soro/lib/python2.7/site-packages/IPython/extensions', '/home/terry-q/.ipython', '.']\n",
      "PACKAGES LOADED.\n"
     ]
    }
   ],
   "source": [
    "import os, time\n",
    "import numpy as np\n",
    "import matplotlib.pyplot as plt\n",
    "from datetime import datetime\n",
    "import sys\n",
    "sys.path.append(\".\")\n",
    "from model.class_xc330 import xc330\n",
    "\n",
    "# from class_grp import grp\n",
    "%matplotlib inline\n",
    "print (\"PACKAGES LOADED.\")\n",
    "\n",
    "FINGER_NUM =1\n"
   ]
  },
  {
   "cell_type": "code",
   "execution_count": 2,
   "metadata": {},
   "outputs": [
    {
     "name": "stdout",
     "output_type": "stream",
     "text": [
      "[sudo] password for terry-q: "
     ]
    }
   ],
   "source": [
    "!echo 'qwer1234'| sudo -S chmod a+rw /dev/ttyUSB0"
   ]
  },
  {
   "cell_type": "markdown",
   "metadata": {},
   "source": [
    "## INSTANTIATE XL320 "
   ]
  },
  {
   "cell_type": "code",
   "execution_count": 3,
   "metadata": {},
   "outputs": [
    {
     "name": "stdout",
     "output_type": "stream",
     "text": [
      "[SNAPBOT] INSTANTIATED AT [/dev/ttyUSB0]\n"
     ]
    }
   ],
   "source": [
    "snapbot = xc330('SNAPBOT', _USB_NUM=0)"
   ]
  },
  {
   "cell_type": "markdown",
   "metadata": {},
   "source": [
    "## Connect"
   ]
  },
  {
   "cell_type": "code",
   "execution_count": 4,
   "metadata": {},
   "outputs": [
    {
     "name": "stdout",
     "output_type": "stream",
     "text": [
      "[SNAPBOT] CONNECT\n",
      " SUCCEEDED TO OPEN THE PORT!\n",
      " SUCCEEDED TO CHANGE THE BAUDRATE!\n",
      "COMMUNICATION SUCCESS\n",
      "[SNAPBOT] DETECT ID\n",
      "[SNAPBOT] [4]MOTORS DETECTED \n",
      "[SNAPBOT] ID_LIST:[[13, 14, 15, 16]]\n"
     ]
    }
   ],
   "source": [
    "snapbot.connect()"
   ]
  },
  {
   "cell_type": "code",
   "execution_count": 5,
   "metadata": {},
   "outputs": [
    {
     "name": "stdout",
     "output_type": "stream",
     "text": [
      "TORQUE ON\n"
     ]
    }
   ],
   "source": [
    "snapbot.set_torque([1])\n",
    "print (\"TORQUE ON\")\n",
    "snapbot.set_operatingmode([4])\n"
   ]
  },
  {
   "cell_type": "markdown",
   "metadata": {},
   "source": [
    "## set Min/Max"
   ]
  },
  {
   "cell_type": "code",
   "execution_count": 6,
   "metadata": {},
   "outputs": [
    {
     "name": "stdout",
     "output_type": "stream",
     "text": [
      "INITIALIZE POSITION\n",
      "[1455 1671 2289 1765]\n"
     ]
    }
   ],
   "source": [
    "print (\"INITIALIZE POSITION\")\n",
    "currpos = snapbot.get_currpos()\n",
    "print (currpos)\n",
    "\n",
    "minmaxInterval = 5000\n",
    "snapbot.set_minmaxpos(currpos-np.ones_like(currpos)*minmaxInterval,currpos+np.ones_like(currpos)*minmaxInterval)"
   ]
  },
  {
   "cell_type": "code",
   "execution_count": 18,
   "metadata": {},
   "outputs": [],
   "source": [
    "MoveSize = 1000\n",
    "# Calpos = currpos +np.array([1,0,0,0]*FINGER_NUM)*MoveSize\n",
    "# snapbot.set_goalposcluster(Calpos,1)\n",
    "# time.sleep(3)\n",
    "\n",
    "# Calpos = currpos +np.array([0,-1,0,0]*FINGER_NUM)*MoveSize\n",
    "# snapbot.set_goalposcluster(Calpos,1)\n",
    "# time.sleep(3)\n",
    "\n",
    "Calpos = currpos +np.array([0,0,1,0]*FINGER_NUM)*MoveSize\n",
    "snapbot.set_goalposcluster(Calpos,1)\n",
    "time.sleep(3)\n",
    "\n",
    "# Calpos = currpos +np.array([0,0,0,-1]*FINGER_NUM)*MoveSize\n",
    "# snapbot.set_goalposcluster(Calpos,1)\n",
    "# time.sleep(3)\n"
   ]
  },
  {
   "cell_type": "markdown",
   "metadata": {},
   "source": [
    "## Go to ZeroPos"
   ]
  },
  {
   "cell_type": "code",
   "execution_count": null,
   "metadata": {},
   "outputs": [],
   "source": [
    "snapbot.set_goalpos(currpos)"
   ]
  },
  {
   "cell_type": "markdown",
   "metadata": {},
   "source": [
    "## KalmanFilter"
   ]
  },
  {
   "cell_type": "code",
   "execution_count": 22,
   "metadata": {},
   "outputs": [],
   "source": [
    "def signedint2int(signedints):\n",
    "    signedints = np.asarray(signedints)\n",
    "    plainInts = np.zeros_like(signedints)\n",
    "    for idx,signedint in enumerate(signedints):\n",
    "        assert 0<=signedint and signedint<2**16\n",
    "        if signedint > 2**15:\n",
    "            plainInt = signedint - 2**16\n",
    "        else:\n",
    "            plainInt = signedint\n",
    "        plainInts[idx] = plainInt\n",
    "    return plainInts"
   ]
  },
  {
   "cell_type": "code",
   "execution_count": 19,
   "metadata": {},
   "outputs": [],
   "source": [
    "class KalmanFilterClass(object):\n",
    "    def __init__(self,name='kf',dt=0.05,q_x=0.1,q_v=0.1,r_y=1.0,y_init=0.0):\n",
    "        self.name = name\n",
    "        self.dt = dt\n",
    "        self.q_x = q_x\n",
    "        self.q_v = q_v\n",
    "        self.r_y = r_y\n",
    "        self.y_init = y_init\n",
    "        # Initialize some internal variables\n",
    "        self.Q = np.array([[self.q_x,0],[0,self.q_v]])\n",
    "        self.R = np.array(self.r_y)\n",
    "        self.H = np.array([[1,0]])\n",
    "        self.F = np.array([[1,self.dt],[0,1]])\n",
    "        #\n",
    "        self.x_hat = np.array([[self.y_init],[0]])\n",
    "        self.P_hat = self.Q\n",
    "        self.y = self.y_init\n",
    "        \n",
    "    # Update Kalman Filter\n",
    "    def update(self,y):\n",
    "        x_hat_m = np.matmul(self.F,self.x_hat)\n",
    "        P_hat_m = np.matmul(np.matmul(self.F,self.P_hat),self.F.T) + self.Q\n",
    "        W = np.linalg.inv(np.matmul(np.matmul(self.H,P_hat_m),self.H.T)+self.R)\n",
    "        K = np.matmul(np.matmul(P_hat_m, self.H.T),W)\n",
    "        # Update\n",
    "        self.x_hat = self.x_hat + np.matmul(K,y-np.matmul(self.H,x_hat_m))\n",
    "        self.P_hat = P_hat_m - np.matmul(np.matmul(K,self.H),P_hat_m)"
   ]
  },
  {
   "cell_type": "markdown",
   "metadata": {},
   "source": [
    "## estimate"
   ]
  },
  {
   "cell_type": "code",
   "execution_count": 116,
   "metadata": {},
   "outputs": [],
   "source": [
    "# Realse Tension\n",
    "snapbot.set_torque([0])\n",
    "time.sleep(2)\n",
    "snapbot.set_torque([1])\n",
    "\n",
    "# set currentpos\n",
    "currpos = snapbot.get_currpos()\n",
    "minmaxInterval = 5000\n",
    "snapbot.set_minmaxpos(currpos-np.ones_like(currpos)*minmaxInterval,currpos+np.ones_like(currpos)*minmaxInterval)\n",
    "initpos = snapbot.get_currpos()"
   ]
  },
  {
   "cell_type": "code",
   "execution_count": 122,
   "metadata": {},
   "outputs": [
    {
     "name": "stdout",
     "output_type": "stream",
     "text": [
      "INITIALIZE POSITION\n",
      "Warm up Done!\n",
      "INITIALIZE POSITION\n",
      "[1695 1443 2725 1502]\n"
     ]
    }
   ],
   "source": [
    "print (\"INITIALIZE POSITION\")\n",
    "\n",
    "currpos = snapbot.get_currpos()\n",
    "length = currpos.shape[0]\n",
    "numiter = 10\n",
    "predPlots = np.zeros(length*numiter).reshape(length,numiter)\n",
    "\n",
    "maxtime = 500\n",
    "Errorbound = 1\n",
    "# Kp = 2\n",
    "# Kd = 0.02\n",
    "Kp = 2\n",
    "Kd = 1\n",
    "currentTarget = np.array([1,-1,2,-1]*FINGER_NUM)*15\n",
    "currentErrors = np.zeros(maxtime*length).reshape(maxtime,currentTarget.shape[0])\n",
    "pos = snapbot.get_currpos()\n",
    "iteration = 0\n",
    "warmiteration = 100\n",
    "KalmanFilters = []\n",
    "\n",
    "# Warm up Sequence\n",
    "for i in range(length):\n",
    "    name = \"current\" + str(i)\n",
    "    KalmanFilter = KalmanFilterClass(name=name,dt=0.05,q_x=0.1,q_v=0.1,r_y=2.0,y_init=0.0)\n",
    "    KalmanFilters.append(KalmanFilter)\n",
    "\n",
    "for num in range(warmiteration):\n",
    "    cur = snapbot.get_currcurr()\n",
    "    cur = signedint2int(cur)\n",
    "    \n",
    "    for idx,(KalmanFilter,Singlecur) in enumerate(zip(KalmanFilters,cur)):\n",
    "        # updatevalues[idx,i] = Singlecur\n",
    "        KalmanFilter.update(Singlecur)\n",
    "\n",
    "    \n",
    "        pred = KalmanFilter.x_hat[0] + KalmanFilter.x_hat[1]*KalmanFilter.dt*2\n",
    "    \n",
    "        # predPlots[idx,i] = pred\n",
    "        \n",
    "    time.sleep(0.01)\n",
    "print(\"Warm up Done!\")\n",
    "\n",
    "while True:\n",
    "    snapbot.set_torque([1])\n",
    "    snapbot.set_goalpos(pos)\n",
    "    \n",
    "    #Calibrate\n",
    "    \n",
    "    \n",
    "    # updatevalues = np.zeros(length*numiter).reshape(length,numiter)\n",
    "    # predPlots = np.zeros(length*numiter).reshape(length,numiter)\n",
    "\n",
    "    for i in range(numiter):\n",
    "        \n",
    "        cur = snapbot.get_currcurr()\n",
    "        cur = signedint2int(cur)\n",
    "        \n",
    "        for idx,(KalmanFilter,Singlecur) in enumerate(zip(KalmanFilters,cur)):\n",
    "            # updatevalues[idx,i] = Singlecur\n",
    "            KalmanFilter.update(Singlecur)\n",
    "\n",
    "        \n",
    "            pred = KalmanFilter.x_hat[0] + KalmanFilter.x_hat[1]*KalmanFilter.dt*2\n",
    "        \n",
    "            predPlots[idx,i] = pred\n",
    "    \n",
    "    \n",
    "    time.sleep(0.1)\n",
    "    \n",
    "    currentError = currentTarget - predPlots[:,-1]\n",
    "    \n",
    "    currentErrors[iteration] = currentError\n",
    "    \n",
    "    P = currentError\n",
    "    \n",
    "    if iteration==0:\n",
    "        D = 0\n",
    "    else:\n",
    "        D = currentErrors[iteration] - currentErrors[iteration-1]\n",
    "    \n",
    "    deltaX = Kp * P - Kd * D\n",
    "    deltaX = np.where(abs(currentError)<Errorbound,0,deltaX)\n",
    "    \n",
    "    pos = pos+deltaX\n",
    "    pos = pos.astype(np.int)\n",
    "    if (abs(currentError)<Errorbound).all():\n",
    "        break\n",
    "    \n",
    "    iteration = iteration+1\n",
    "    if iteration>=maxtime:\n",
    "        print(\"Reached maximum Iteration\")\n",
    "        break\n",
    "\n",
    "print (\"INITIALIZE POSITION\")\n",
    "currpos = snapbot.get_currpos()\n",
    "print (currpos)\n",
    "\n",
    "minmaxInterval = 5000\n",
    "snapbot.set_minmaxpos(currpos-np.ones_like(currpos)*minmaxInterval,currpos+np.ones_like(currpos)*minmaxInterval)\n",
    "initpos = snapbot.get_currpos()"
   ]
  },
  {
   "cell_type": "markdown",
   "metadata": {},
   "source": [
    "## Custom Calibrate"
   ]
  },
  {
   "cell_type": "code",
   "execution_count": 126,
   "metadata": {},
   "outputs": [],
   "source": [
    "l1 = 0\n",
    "l2 = 0\n",
    "l3 = 0\n",
    "l4 = 0\n",
    "Calpos = currpos +np.array([l1,-l2,l3,-l4]*FINGER_NUM)\n",
    "snapbot.set_goalposcluster(Calpos,1)\n"
   ]
  },
  {
   "cell_type": "markdown",
   "metadata": {},
   "source": [
    "## Plot"
   ]
  },
  {
   "cell_type": "code",
   "execution_count": 123,
   "metadata": {},
   "outputs": [
    {
     "name": "stdout",
     "output_type": "stream",
     "text": [
      "[ 13.82710862 -12.13228792  30.22880359 -14.73929139]\n"
     ]
    },
    {
     "data": {
      "image/png": "[encoded data removed]",
      "text/plain": [
       "<Figure size 720x720 with 4 Axes>"
      ]
     },
     "metadata": {
      "needs_background": "light"
     },
     "output_type": "display_data"
    }
   ],
   "source": [
    "KalmanFilters = []\n",
    "for i in range(length):\n",
    "    name = \"current\" + str(i)\n",
    "    KalmanFilter = KalmanFilterClass(name=name,dt=0.05,q_x=0.1,q_v=0.1,r_y=2.0,y_init=0.0)\n",
    "    KalmanFilters.append(KalmanFilter)\n",
    "#Calibrate\n",
    "# ls = np.zeros(10*3).reshape(10,3)\n",
    "numiter = 40\n",
    "updatevalues = np.zeros(length*numiter).reshape(length,numiter)\n",
    "predPlots = np.zeros(length*numiter).reshape(length,numiter)\n",
    "\n",
    "for i in range(numiter):\n",
    "    cur = snapbot.get_currcurr()\n",
    "    cur = signedint2int(cur)\n",
    "    \n",
    "    for idx,(KalmanFilter,Singlecur) in enumerate(zip(KalmanFilters,cur)):\n",
    "        updatevalues[idx,i] = Singlecur\n",
    "        KalmanFilter.update(Singlecur)\n",
    "\n",
    "        \n",
    "        pred = KalmanFilter.x_hat[0] + KalmanFilter.x_hat[1]*KalmanFilter.dt*2   \n",
    "        \n",
    "        predPlots[idx,i] = pred\n",
    "        \n",
    "    time.sleep(0.1)\n",
    "\n",
    "figure, axis = plt.subplots(4,1,figsize=(10,10))\n",
    "for idx,(updatevalue,predPlot) in enumerate(zip(updatevalues,predPlots)):\n",
    "    axis[idx].plot(predPlot,'r-', label='prediction'+str(i))\n",
    "    axis[idx].plot(updatevalue,'ob',label='raw value'+str(i))\n",
    "\n",
    "print(predPlots[:,-1])\n",
    "plt.legend()\n",
    "plt.show()"
   ]
  }
 ],
 "metadata": {
  "interpreter": {
   "hash": "386093ab83ddeba233afb6ca52bad0bdae5da3794f823c62290d42e746dfacfe"
  },
  "kernelspec": {
   "display_name": "Python 2.7.16 64-bit ('soro')",
   "language": "python",
   "name": "python3"
  },
  "language_info": {
   "codemirror_mode": {
    "name": "ipython",
    "version": 2
   },
   "file_extension": ".py",
   "mimetype": "text/x-python",
   "name": "python",
   "nbconvert_exporter": "python",
   "pygments_lexer": "ipython2",
   "version": "2.7.16"
  },
  "orig_nbformat": 4
 },
 "nbformat": 4,
 "nbformat_minor": 2
}
