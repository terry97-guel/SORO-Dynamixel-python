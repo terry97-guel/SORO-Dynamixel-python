{
 "cells": [
  {
   "cell_type": "markdown",
   "metadata": {},
   "source": [
    "### 1D Kalman Filter"
   ]
  },
  {
   "cell_type": "code",
   "execution_count": 1,
   "metadata": {},
   "outputs": [],
   "source": [
    "class KalmanFilterClass(object):\n",
    "    def __init__(self,name='kf',dt=0.05,q_x=0.1,q_v=0.1,r_y=1.0,y_init=0.0):\n",
    "        self.name = name\n",
    "        self.dt = dt\n",
    "        self.q_x = q_x\n",
    "        self.q_v = q_v\n",
    "        self.r_y = r_y\n",
    "        self.y_init = y_init\n",
    "        # Initialize some internal variables\n",
    "        self.Q = np.array([[self.q_x,0],[0,self.q_v]])\n",
    "        self.R = np.array(self.r_y)\n",
    "        self.H = np.array([[1,0]])\n",
    "        self.F = np.array([[1,self.dt],[0,1]])\n",
    "        #\n",
    "        self.x_hat = np.array([[self.y_init],[0]])\n",
    "        self.P_hat = self.Q\n",
    "        self.y = self.y_init\n",
    "        \n",
    "    # Update Kalman Filter\n",
    "    def update(self,y):\n",
    "        x_hat_m = np.matmul(self.F,self.x_hat)\n",
    "        P_hat_m = np.matmul(np.matmul(self.F,self.P_hat),self.F.T) + self.Q\n",
    "        W = np.linalg.inv(np.matmul(np.matmul(self.H,P_hat_m),self.H.T)+self.R)\n",
    "        K = np.matmul(np.matmul(P_hat_m, self.H.T),W)\n",
    "        # Update\n",
    "        self.x_hat = self.x_hat + np.matmul(K,y-np.matmul(self.H,x_hat_m))\n",
    "        self.P_hat = P_hat_m - np.matmul(np.matmul(K,self.H),P_hat_m)"
   ]
  },
  {
   "cell_type": "code",
   "execution_count": 2,
   "metadata": {},
   "outputs": [],
   "source": [
    "def signedint2int(signedints):\n",
    "    signedints = np.asarray(signedints)\n",
    "    plainInts = np.zeros_like(signedints)\n",
    "    for idx,signedint in enumerate(signedints):\n",
    "        assert 0<=signedint and signedint<2**16\n",
    "        if signedint > 2**15:\n",
    "            plainInt = signedint - 2**16\n",
    "        else:\n",
    "            plainInt = signedint\n",
    "        plainInts[idx] = plainInt\n",
    "    return plainInts"
   ]
  },
  {
   "cell_type": "markdown",
   "metadata": {},
   "source": [
    "## open port"
   ]
  },
  {
   "cell_type": "code",
   "execution_count": 4,
   "metadata": {},
   "outputs": [
    {
     "name": "stdout",
     "output_type": "stream",
     "text": [
      "[sudo] password for terry-q: "
     ]
    }
   ],
   "source": [
    "!echo 'qwer1234'| sudo -S chmod a+rw /dev/ttyUSB0"
   ]
  },
  {
   "cell_type": "markdown",
   "metadata": {},
   "source": [
    "## BASIC USAGE OF XL320 CLASS"
   ]
  },
  {
   "cell_type": "code",
   "execution_count": 5,
   "metadata": {
    "ExecuteTime": {
     "end_time": "2017-10-27T16:24:29.711191Z",
     "start_time": "2017-10-27T16:24:29.478864Z"
    }
   },
   "outputs": [
    {
     "name": "stdout",
     "output_type": "stream",
     "text": [
      "PACKAGES LOADED.\n"
     ]
    }
   ],
   "source": [
    "import os, time\n",
    "import numpy as np\n",
    "import matplotlib.pyplot as plt\n",
    "import custom_dynamixel_functions as dynamixel\n",
    "from datetime import datetime\n",
    "from class_xc330 import xc330\n",
    "from class_motionhelper import tracker, timer\n",
    "# from class_grp import grp\n",
    "%matplotlib inline\n",
    "print (\"PACKAGES LOADED.\")\n"
   ]
  },
  {
   "cell_type": "markdown",
   "metadata": {},
   "source": [
    "## INSTANTIATE XL320 "
   ]
  },
  {
   "cell_type": "code",
   "execution_count": 6,
   "metadata": {
    "ExecuteTime": {
     "end_time": "2017-10-27T16:24:31.277571Z",
     "start_time": "2017-10-27T16:24:31.275156Z"
    }
   },
   "outputs": [
    {
     "name": "stdout",
     "output_type": "stream",
     "text": [
      "[SNAPBOT] INSTANTIATED AT [/dev/ttyUSB0]\n"
     ]
    }
   ],
   "source": [
    "snapbot = xc330('SNAPBOT', _USB_NUM=0)"
   ]
  },
  {
   "cell_type": "markdown",
   "metadata": {},
   "source": [
    "## CONNECT"
   ]
  },
  {
   "cell_type": "code",
   "execution_count": 8,
   "metadata": {
    "ExecuteTime": {
     "end_time": "2017-10-27T16:24:34.695450Z",
     "start_time": "2017-10-27T16:24:33.072986Z"
    }
   },
   "outputs": [
    {
     "name": "stdout",
     "output_type": "stream",
     "text": [
      "[SNAPBOT] CONNECT\n",
      " SUCCEEDED TO OPEN THE PORT!\n",
      " SUCCEEDED TO CHANGE THE BAUDRATE!\n",
      "COMMUNICATION SUCCESS\n",
      "[SNAPBOT] DETECT ID\n",
      "[SNAPBOT] [12]MOTORS DETECTED \n",
      "[SNAPBOT] ID_LIST:[[1, 2, 3, 4, 5, 6, 7, 8, 9, 10, 11, 12]]\n"
     ]
    }
   ],
   "source": [
    "snapbot.connect()\n",
    "\n",
    "# snapbot.IDX_LIST = [21, 22, 15, 16, 13, 14, 17, 18]"
   ]
  },
  {
   "cell_type": "code",
   "execution_count": 9,
   "metadata": {},
   "outputs": [
    {
     "name": "stdout",
     "output_type": "stream",
     "text": [
      "TORQUE ON\n"
     ]
    }
   ],
   "source": [
    "snapbot.set_torque([1])\n",
    "print (\"TORQUE ON\")\n"
   ]
  },
  {
   "cell_type": "code",
   "execution_count": 10,
   "metadata": {},
   "outputs": [],
   "source": [
    "snapbot.set_operatingmode([4])\n"
   ]
  },
  {
   "cell_type": "code",
   "execution_count": 11,
   "metadata": {
    "ExecuteTime": {
     "end_time": "2017-10-27T16:13:36.890155Z",
     "start_time": "2017-10-27T16:13:35.871780Z"
    }
   },
   "outputs": [
    {
     "name": "stdout",
     "output_type": "stream",
     "text": [
      "INITIALIZE POSITION\n",
      "[  45 1664 3425  220 2313 1771 1469 1284  299 3699 2412 3329]\n"
     ]
    }
   ],
   "source": [
    "print (\"INITIALIZE POSITION\")\n",
    "currpos = snapbot.get_currpos()\n",
    "print (currpos)\n",
    "\n",
    "minmaxInterval = 5000\n",
    "snapbot.set_minmaxpos(currpos-np.ones_like(currpos)*minmaxInterval,currpos+np.ones_like(currpos)*minmaxInterval)"
   ]
  },
  {
   "cell_type": "markdown",
   "metadata": {},
   "source": [
    "## Go to Zeropos"
   ]
  },
  {
   "cell_type": "code",
   "execution_count": 12,
   "metadata": {},
   "outputs": [],
   "source": [
    "snapbot.set_goalpos(currpos)"
   ]
  },
  {
   "cell_type": "markdown",
   "metadata": {},
   "source": [
    "## Calibrate"
   ]
  },
  {
   "cell_type": "code",
   "execution_count": 13,
   "metadata": {},
   "outputs": [
    {
     "data": {
      "text/plain": [
       "array([ 0,  0,  0,  0,  0,  0,  0, 12,  0,  0,  0,  0])"
      ]
     },
     "execution_count": 13,
     "metadata": {},
     "output_type": "execute_result"
    }
   ],
   "source": [
    "pos = currpos+np.array([0,0,-0,0,-0,0,-0,100,-0,0,-0,0])\n",
    "snapbot.set_goalposcluster(pos,1)\n",
    "cur = snapbot.get_currcurr()\n",
    "# cur1 = 65536 - cur[0]\n",
    "# cur2 = cur[1]\n",
    "# cur3 = cur[2]\n",
    "# SingleLs = np.array([cur1,cur2,cur3])\n",
    "# SingleLs\n",
    "cur = signedint2int(cur)\n",
    "cur"
   ]
  },
  {
   "cell_type": "markdown",
   "metadata": {},
   "source": [
    "## KalmanFilter"
   ]
  },
  {
   "cell_type": "markdown",
   "metadata": {},
   "source": [
    "### plot current estimation"
   ]
  },
  {
   "cell_type": "code",
   "execution_count": 16,
   "metadata": {},
   "outputs": [
    {
     "data": {
      "image/png": "[encoded data removed]",
      "text/plain": [
       "<Figure size 1440x1440 with 12 Axes>"
      ]
     },
     "metadata": {
      "needs_background": "light"
     },
     "output_type": "display_data"
    }
   ],
   "source": [
    "currpos = snapbot.get_currpos()\n",
    "length = currpos.shape[0]\n",
    "KalmanFilters = []\n",
    "for i in range(length):\n",
    "    name = \"current\" + str(i)\n",
    "    KalmanFilter = KalmanFilterClass(name=name,dt=0.05,q_x=0.1,q_v=0.1,r_y=2.0,y_init=0.0)\n",
    "    KalmanFilters.append(KalmanFilter)\n",
    "#Calibrate\n",
    "# ls = np.zeros(10*3).reshape(10,3)\n",
    "numiter = 40\n",
    "updatevalues = np.zeros(length*numiter).reshape(length,numiter)\n",
    "predPlots = np.zeros(length*numiter).reshape(length,numiter)\n",
    "\n",
    "for i in range(numiter):\n",
    "    cur = snapbot.get_currcurr()\n",
    "    cur = signedint2int(cur)\n",
    "    \n",
    "    for idx,(KalmanFilter,Singlecur) in enumerate(zip(KalmanFilters,cur)):\n",
    "        updatevalues[idx,i] = Singlecur\n",
    "        KalmanFilter.update(Singlecur)\n",
    "\n",
    "        \n",
    "        pred = KalmanFilter.x_hat[0] + KalmanFilter.x_hat[1]*KalmanFilter.dt*2   \n",
    "        \n",
    "        predPlots[idx,i] = pred\n",
    "        \n",
    "    time.sleep(0.1)\n",
    "\n",
    "figure, axis = plt.subplots(4,3,figsize=(20,20))\n",
    "for idx,(updatevalue,predPlot) in enumerate(zip(updatevalues,predPlots)):\n",
    "    axis[idx//3,idx%3].plot(predPlot,'r-', label='prediction'+str(i))\n",
    "    axis[idx//3,idx%3].plot(updatevalue,'ob',label='raw value'+str(i))\n",
    "\n",
    "plt.legend()\n",
    "plt.show()"
   ]
  },
  {
   "cell_type": "code",
   "execution_count": 12,
   "metadata": {},
   "outputs": [],
   "source": [
    "snapbot.set_torque([0])\n",
    "time.sleep(2)\n",
    "snapbot.set_torque([1])"
   ]
  },
  {
   "cell_type": "code",
   "execution_count": 13,
   "metadata": {},
   "outputs": [],
   "source": [
    "currpos = snapbot.get_currpos()\n",
    "minmaxInterval = 5000\n",
    "snapbot.set_minmaxpos(currpos-np.ones_like(currpos)*minmaxInterval,currpos+np.ones_like(currpos)*minmaxInterval)\n",
    "initpos = snapbot.get_currpos()"
   ]
  },
  {
   "cell_type": "code",
   "execution_count": 18,
   "metadata": {},
   "outputs": [
    {
     "name": "stdout",
     "output_type": "stream",
     "text": [
      "INITIALIZE POSITION\n",
      "[  698  4958    76  3196 -1393  5387 -2154  4436 -3199  7042  -734  6408]\n",
      "Warm up Done!\n",
      "[-16.471,\t17.397,\t-11.318,\t14.762,\t-19.502,\t14.286,\t-17.261,\t18.639,\t-18.534,\t16.764,\t-16.970,\t20.335,\t]\n",
      "[10.964,\t-7.607,\t8.601,\t-8.448,\t8.178,\t-5.179,\t5.643,\t-8.193,\t9.551,\t-6.219,\t6.456,\t-8.047,\t]\n",
      "[12.941,\t-14.232,\t14.709,\t-16.680,\t15.631,\t-11.006,\t13.477,\t-17.412,\t12.524,\t-13.170,\t11.467,\t-12.362,\t]\n",
      "[-11.992,\t8.663,\t-9.285,\t9.218,\t-8.331,\t2.357,\t-4.174,\t6.914,\t-11.689,\t9.487,\t-7.214,\t8.953,\t]\n",
      "[-13.937,\t15.488,\t-14.721,\t16.971,\t-16.473,\t12.815,\t-13.874,\t17.238,\t-14.204,\t14.125,\t-13.007,\t13.472,\t]\n",
      "[8.216,\t-7.948,\t8.632,\t-7.050,\t5.052,\t0.946,\t0.030,\t-1.174,\t8.462,\t-5.611,\t4.807,\t-6.243,\t]\n",
      "[11.470,\t-11.434,\t18.869,\t-17.994,\t15.688,\t0.928,\t0.505,\t-20.996,\t10.242,\t-9.698,\t9.196,\t-9.735,\t]\n",
      "[-9.028,\t9.190,\t-8.774,\t8.736,\t-5.733,\t-2.338,\t3.608,\t0.756,\t-10.695,\t5.407,\t-7.608,\t6.691,\t]\n",
      "[-12.659,\t13.178,\t-16.059,\t16.812,\t-16.559,\t-1.307,\t-0.362,\t2.243,\t-11.867,\t11.575,\t-10.194,\t11.618,\t]\n",
      "[9.382,\t-9.194,\t6.169,\t-4.413,\t2.229,\t5.210,\t-3.077,\t2.508,\t9.137,\t-2.975,\t4.485,\t-6.030,\t]\n",
      "[11.092,\t-13.347,\t18.916,\t-18.960,\t17.630,\t2.960,\t-1.234,\t-0.757,\t10.063,\t-7.363,\t6.564,\t-9.436,\t]\n",
      "[-9.589,\t10.404,\t-7.657,\t5.455,\t-3.662,\t-6.553,\t5.940,\t-3.038,\t-10.567,\t3.708,\t-6.299,\t8.189,\t]\n",
      "[-13.012,\t14.696,\t-15.545,\t16.405,\t-16.916,\t-4.014,\t1.341,\t-0.104,\t-12.072,\t8.599,\t-8.530,\t11.037,\t]\n",
      "[9.278,\t-8.729,\t5.690,\t0.047,\t-0.249,\t9.841,\t-10.159,\t2.228,\t9.338,\t-2.210,\t4.295,\t-7.226,\t]\n",
      "[11.477,\t-11.991,\t16.726,\t-1.417,\t0.673,\t4.963,\t-2.008,\t1.040,\t12.210,\t-7.726,\t6.255,\t-10.380,\t]\n",
      "[-9.119,\t10.808,\t-6.252,\t-0.319,\t2.414,\t-9.935,\t11.317,\t-3.784,\t-10.818,\t3.589,\t-4.637,\t7.797,\t]\n",
      "[-13.333,\t13.835,\t-14.970,\t-0.061,\t-0.952,\t-5.436,\t2.066,\t-1.922,\t-14.112,\t9.354,\t-7.345,\t12.116,\t]\n",
      "[4.973,\t-9.806,\t4.112,\t0.084,\t-3.342,\t12.551,\t-13.269,\t5.935,\t9.484,\t-2.252,\t2.968,\t-7.259,\t]\n",
      "[8.321,\t-12.013,\t16.748,\t0.426,\t0.193,\t6.688,\t-4.872,\t3.034,\t14.265,\t-7.587,\t6.887,\t-10.874,\t]\n",
      "[-4.864,\t11.111,\t-3.889,\t-0.236,\t2.303,\t-9.865,\t12.630,\t-7.335,\t-11.372,\t1.959,\t-2.721,\t9.125,\t]\n",
      "[-9.767,\t13.656,\t-14.104,\t-0.503,\t-0.214,\t-3.727,\t2.854,\t-2.789,\t-15.413,\t8.690,\t-9.015,\t11.926,\t]\n",
      "[5.668,\t-7.319,\t0.735,\t0.136,\t-1.905,\t11.434,\t-14.034,\t10.752,\t8.106,\t-1.205,\t1.852,\t-9.290,\t]\n",
      "[9.004,\t-12.202,\t2.070,\t0.241,\t-0.845,\t6.868,\t-6.088,\t5.064,\t13.187,\t-8.930,\t9.039,\t-12.077,\t]\n",
      "[-5.609,\t8.081,\t0.618,\t-0.235,\t0.541,\t-8.127,\t10.506,\t-13.862,\t-10.755,\t2.836,\t-1.802,\t10.672,\t]\n",
      "[-10.102,\t14.049,\t0.199,\t-0.047,\t1.210,\t-7.738,\t6.907,\t-5.304,\t-14.638,\t10.266,\t-10.765,\t13.707,\t]\n",
      "[5.747,\t-7.509,\t-0.219,\t0.038,\t-1.940,\t10.068,\t-12.913,\t15.857,\t9.998,\t-2.169,\t0.616,\t-9.445,\t]\n",
      "[10.912,\t-12.400,\t-0.354,\t0.215,\t-2.979,\t9.928,\t-10.532,\t9.846,\t15.007,\t-10.851,\t1.374,\t-14.575,\t]\n",
      "[-6.219,\t9.924,\t0.168,\t-0.139,\t2.204,\t-8.970,\t13.456,\t-20.945,\t-15.504,\t4.512,\t-0.068,\t12.312,\t]\n",
      "[-10.206,\t13.710,\t-0.248,\t0.115,\t2.954,\t-10.108,\t11.588,\t-7.234,\t-17.173,\t12.348,\t-0.132,\t16.427,\t]\n",
      "[5.897,\t-8.522,\t-0.206,\t0.220,\t-4.212,\t10.646,\t-13.444,\t19.894,\t6.585,\t-2.564,\t0.009,\t-8.829,\t]\n",
      "[11.525,\t-11.986,\t-0.208,\t0.173,\t-3.998,\t12.683,\t-14.543,\t14.050,\t11.317,\t-10.515,\t-0.347,\t-10.076,\t]\n",
      "[-6.707,\t10.526,\t0.118,\t-0.038,\t4.478,\t-7.084,\t11.193,\t-15.310,\t-9.337,\t4.253,\t-0.463,\t11.072,\t]\n",
      "[-10.965,\t14.229,\t-0.195,\t-0.237,\t4.902,\t-10.507,\t16.968,\t-13.950,\t-12.539,\t12.436,\t-0.301,\t12.738,\t]\n",
      "[5.784,\t-9.813,\t-0.364,\t0.344,\t-7.126,\t8.462,\t-12.940,\t17.263,\t8.522,\t-3.143,\t-0.193,\t-8.181,\t]\n",
      "[11.876,\t-15.263,\t-0.010,\t0.482,\t-5.052,\t13.131,\t-17.936,\t16.953,\t10.510,\t-8.567,\t-0.332,\t-9.012,\t]\n",
      "[-6.029,\t11.716,\t0.059,\t0.007,\t8.384,\t-8.931,\t9.106,\t-18.457,\t-11.383,\t4.787,\t-0.842,\t11.295,\t]\n",
      "[-11.662,\t16.013,\t0.365,\t-0.469,\t3.839,\t-9.416,\t19.279,\t-17.367,\t-13.119,\t10.195,\t-0.297,\t11.394,\t]\n",
      "[5.369,\t-9.920,\t-0.091,\t0.013,\t-11.204,\t11.288,\t-11.815,\t18.346,\t6.882,\t-3.904,\t-0.068,\t-7.226,\t]\n",
      "[13.023,\t-19.798,\t-0.436,\t0.453,\t-4.882,\t12.466,\t-19.108,\t21.315,\t7.465,\t-7.745,\t-0.352,\t-9.949,\t]\n",
      "[-5.528,\t12.466,\t0.148,\t-0.352,\t11.257,\t-6.615,\t8.031,\t-15.147,\t-9.940,\t5.253,\t-0.541,\t9.509,\t]\n",
      "[-12.954,\t16.728,\t-0.003,\t0.040,\t4.692,\t-6.416,\t15.900,\t-14.199,\t-9.881,\t9.494,\t-0.145,\t11.714,\t]\n",
      "[4.786,\t-8.250,\t-0.196,\t0.251,\t-12.549,\t8.491,\t-11.000,\t15.329,\t8.456,\t-3.973,\t0.008,\t-7.153,\t]\n",
      "[11.818,\t-17.610,\t-0.160,\t0.139,\t-6.580,\t9.288,\t-16.635,\t17.280,\t8.191,\t-8.751,\t-0.211,\t-11.150,\t]\n",
      "[-4.621,\t10.593,\t0.310,\t-0.268,\t11.488,\t-6.529,\t9.197,\t-13.157,\t-10.158,\t5.470,\t-0.318,\t9.355,\t]\n",
      "[-12.224,\t16.544,\t0.380,\t-0.168,\t5.258,\t-5.817,\t12.137,\t-14.658,\t-10.435,\t10.303,\t-0.360,\t13.027,\t]\n",
      "[3.025,\t-8.869,\t-0.070,\t-0.032,\t-13.342,\t8.350,\t-10.886,\t14.736,\t9.125,\t-4.340,\t-0.260,\t-7.233,\t]\n",
      "[13.663,\t-17.474,\t-0.235,\t0.412,\t-7.667,\t7.835,\t-14.282,\t17.264,\t11.351,\t-8.156,\t-0.384,\t-8.956,\t]\n",
      "[-3.589,\t11.013,\t-0.402,\t-0.183,\t10.752,\t-7.263,\t10.052,\t-13.644,\t-11.176,\t5.535,\t-0.427,\t9.936,\t]\n",
      "[-12.907,\t15.918,\t-0.152,\t-0.281,\t7.596,\t-8.315,\t12.526,\t-13.677,\t-13.804,\t9.404,\t-0.165,\t11.162,\t]\n",
      "[0.908,\t-7.907,\t-0.460,\t0.134,\t-13.390,\t8.779,\t-11.867,\t15.531,\t9.813,\t-5.368,\t0.007,\t-8.763,\t]\n",
      "[2.275,\t-17.618,\t-0.431,\t0.268,\t-10.542,\t10.168,\t-14.444,\t16.547,\t11.493,\t-9.802,\t-0.273,\t-10.804,\t]\n",
      "[-0.052,\t10.796,\t0.481,\t-0.151,\t13.033,\t-4.161,\t10.187,\t-13.810,\t-12.006,\t7.123,\t-0.462,\t11.319,\t]\n",
      "[-0.825,\t15.771,\t0.363,\t-0.270,\t9.942,\t-6.206,\t12.774,\t-17.697,\t-14.188,\t11.042,\t-0.422,\t12.768,\t]\n",
      "[-0.761,\t-8.233,\t-0.080,\t-0.148,\t-13.980,\t7.940,\t-11.440,\t15.973,\t10.890,\t-7.496,\t0.018,\t-8.882,\t]\n",
      "[-0.301,\t-17.024,\t0.028,\t0.260,\t-12.228,\t7.528,\t-15.219,\t20.011,\t10.867,\t-8.780,\t0.018,\t-10.763,\t]\n",
      "[-0.336,\t10.570,\t0.159,\t-0.364,\t12.201,\t-6.096,\t9.403,\t-13.883,\t-13.702,\t8.526,\t-0.367,\t11.726,\t]\n",
      "[-1.007,\t16.008,\t-0.021,\t-0.072,\t12.811,\t-6.647,\t14.548,\t-17.013,\t-14.016,\t10.948,\t-0.613,\t13.500,\t]\n",
      "[0.668,\t-8.317,\t0.271,\t-0.120,\t-15.083,\t7.801,\t-11.569,\t15.167,\t9.057,\t-7.761,\t-0.248,\t-9.611,\t]\n",
      "[1.120,\t-17.061,\t-0.289,\t0.049,\t-15.580,\t8.951,\t-15.383,\t18.447,\t13.363,\t-11.542,\t-0.481,\t-12.440,\t]\n",
      "[0.691,\t11.058,\t-0.115,\t-0.439,\t12.719,\t-7.209,\t7.301,\t-15.150,\t-11.198,\t10.033,\t-0.871,\t11.655,\t]\n",
      "[0.728,\t16.270,\t0.245,\t-0.095,\t8.235,\t-6.933,\t10.239,\t-15.358,\t-14.555,\t13.103,\t-0.180,\t14.127,\t]\n",
      "[0.179,\t-9.359,\t0.115,\t0.154,\t-16.456,\t10.245,\t-8.768,\t16.347,\t10.009,\t-10.582,\t-0.249,\t-11.115,\t]\n",
      "[0.567,\t-16.661,\t0.114,\t0.214,\t-11.551,\t8.836,\t-12.090,\t18.958,\t16.294,\t-11.226,\t-0.493,\t-11.074,\t]\n",
      "[0.460,\t11.748,\t0.232,\t-0.429,\t8.928,\t-7.079,\t6.952,\t-10.274,\t-13.344,\t12.828,\t-0.413,\t14.497,\t]\n",
      "[0.313,\t16.374,\t0.141,\t-0.448,\t11.047,\t-7.302,\t10.173,\t-15.337,\t-17.403,\t14.226,\t-0.153,\t14.539,\t]\n",
      "[0.284,\t-10.601,\t0.150,\t-0.229,\t-12.420,\t8.782,\t-9.758,\t13.366,\t9.700,\t-7.669,\t-0.715,\t-8.518,\t]\n",
      "[0.345,\t-17.563,\t0.006,\t0.199,\t-13.210,\t9.073,\t-12.326,\t17.553,\t16.244,\t-10.071,\t-0.545,\t-10.637,\t]\n",
      "[0.047,\t12.750,\t-0.148,\t0.006,\t7.766,\t-8.111,\t8.103,\t-13.152,\t-12.488,\t10.591,\t-0.738,\t11.666,\t]\n",
      "[0.248,\t16.018,\t0.160,\t0.178,\t7.519,\t-8.522,\t9.842,\t-15.765,\t-17.399,\t12.434,\t-0.255,\t12.821,\t]\n",
      "[0.509,\t-9.540,\t0.116,\t0.058,\t-12.712,\t9.422,\t-10.032,\t14.761,\t10.859,\t-6.649,\t-0.081,\t-9.239,\t]\n",
      "[0.634,\t-16.859,\t-0.008,\t0.456,\t-10.454,\t11.294,\t-12.242,\t19.071,\t17.038,\t-9.973,\t-0.690,\t-13.214,\t]\n",
      "[0.131,\t11.848,\t0.423,\t-0.097,\t11.077,\t-5.602,\t8.730,\t-13.915,\t-13.480,\t8.096,\t-0.342,\t11.436,\t]\n",
      "[0.074,\t16.442,\t0.463,\t-0.012,\t9.498,\t-5.928,\t8.802,\t-15.497,\t-17.957,\t11.361,\t-0.534,\t14.549,\t]\n",
      "[0.113,\t-10.099,\t0.528,\t0.130,\t-15.295,\t7.187,\t-11.759,\t17.076,\t9.928,\t-7.477,\t-0.456,\t-9.622,\t]\n",
      "[0.417,\t-15.566,\t-0.171,\t0.407,\t-13.027,\t6.941,\t-11.847,\t18.751,\t16.018,\t-10.713,\t-0.650,\t-10.865,\t]\n",
      "[0.264,\t12.056,\t0.253,\t-0.205,\t9.381,\t-6.193,\t6.426,\t-14.108,\t-12.376,\t9.134,\t-0.277,\t11.899,\t]\n",
      "[0.426,\t16.267,\t0.397,\t-0.144,\t9.716,\t-6.083,\t10.417,\t-15.809,\t-16.945,\t12.161,\t-0.145,\t12.969,\t]\n"
     ]
    },
    {
     "ename": "KeyboardInterrupt",
     "evalue": "",
     "output_type": "error",
     "traceback": [
      "\u001b[0;31m\u001b[0m",
      "\u001b[0;31mKeyboardInterrupt\u001b[0mTraceback (most recent call last)",
      "\u001b[0;32m<ipython-input-18-c9132a113627>\u001b[0m in \u001b[0;36m<module>\u001b[0;34m()\u001b[0m\n\u001b[1;32m     72\u001b[0m \u001b[0;34m\u001b[0m\u001b[0m\n\u001b[1;32m     73\u001b[0m \u001b[0;34m\u001b[0m\u001b[0m\n\u001b[0;32m---> 74\u001b[0;31m     \u001b[0mtime\u001b[0m\u001b[0;34m.\u001b[0m\u001b[0msleep\u001b[0m\u001b[0;34m(\u001b[0m\u001b[0;36m0.1\u001b[0m\u001b[0;34m)\u001b[0m\u001b[0;34m\u001b[0m\u001b[0m\n\u001b[0m\u001b[1;32m     75\u001b[0m \u001b[0;34m\u001b[0m\u001b[0m\n\u001b[1;32m     76\u001b[0m     \u001b[0mcurrentError\u001b[0m \u001b[0;34m=\u001b[0m \u001b[0mcurrentTarget\u001b[0m \u001b[0;34m-\u001b[0m \u001b[0mpredPlots\u001b[0m\u001b[0;34m[\u001b[0m\u001b[0;34m:\u001b[0m\u001b[0;34m,\u001b[0m\u001b[0;34m-\u001b[0m\u001b[0;36m1\u001b[0m\u001b[0;34m]\u001b[0m\u001b[0;34m\u001b[0m\u001b[0m\n",
      "\u001b[0;31mKeyboardInterrupt\u001b[0m: "
     ]
    }
   ],
   "source": [
    "print (\"INITIALIZE POSITION\")\n",
    "currpos = snapbot.get_currpos()\n",
    "print (currpos)\n",
    "\n",
    "minmaxInterval = 5000\n",
    "snapbot.set_minmaxpos(currpos-np.ones_like(currpos)*minmaxInterval,currpos+np.ones_like(currpos)*minmaxInterval)\n",
    "\n",
    "\n",
    "currpos = snapbot.get_currpos()\n",
    "length = currpos.shape[0]\n",
    "numiter = 10\n",
    "predPlots = np.zeros(length*numiter).reshape(length,numiter)\n",
    "\n",
    "maxtime = 500\n",
    "Errorbound = 1\n",
    "# Kp = 2\n",
    "# Kd = 0.02\n",
    "Kp = 2\n",
    "Kd = 1\n",
    "currentTarget = np.array([-1,1,-1,1,-1,1,-1,1,-1,1,-1,1])*30\n",
    "currentErrors = np.zeros(maxtime*length).reshape(maxtime,currentTarget.shape[0])\n",
    "pos = snapbot.get_currpos()\n",
    "iteration = 0\n",
    "warmiteration = 100\n",
    "KalmanFilters = []\n",
    "\n",
    "# Warm up Sequence\n",
    "for i in range(length):\n",
    "    name = \"current\" + str(i)\n",
    "    KalmanFilter = KalmanFilterClass(name=name,dt=0.05,q_x=0.1,q_v=0.1,r_y=2.0,y_init=0.0)\n",
    "    KalmanFilters.append(KalmanFilter)\n",
    "\n",
    "for num in range(warmiteration):\n",
    "    cur = snapbot.get_currcurr()\n",
    "    cur = signedint2int(cur)\n",
    "    \n",
    "    for idx,(KalmanFilter,Singlecur) in enumerate(zip(KalmanFilters,cur)):\n",
    "        # updatevalues[idx,i] = Singlecur\n",
    "        KalmanFilter.update(Singlecur)\n",
    "\n",
    "    \n",
    "        pred = KalmanFilter.x_hat[0] + KalmanFilter.x_hat[1]*KalmanFilter.dt*2\n",
    "    \n",
    "        # predPlots[idx,i] = pred\n",
    "        \n",
    "    time.sleep(0.01)\n",
    "print(\"Warm up Done!\")\n",
    "\n",
    "while True:\n",
    "    snapbot.set_torque([1])\n",
    "    snapbot.set_goalpos(pos)\n",
    "    \n",
    "    #Calibrate\n",
    "    \n",
    "    \n",
    "    # updatevalues = np.zeros(length*numiter).reshape(length,numiter)\n",
    "    # predPlots = np.zeros(length*numiter).reshape(length,numiter)\n",
    "\n",
    "    for i in range(numiter):\n",
    "        \n",
    "        cur = snapbot.get_currcurr()\n",
    "        cur = signedint2int(cur)\n",
    "        \n",
    "        for idx,(KalmanFilter,Singlecur) in enumerate(zip(KalmanFilters,cur)):\n",
    "            # updatevalues[idx,i] = Singlecur\n",
    "            KalmanFilter.update(Singlecur)\n",
    "\n",
    "        \n",
    "            pred = KalmanFilter.x_hat[0] + KalmanFilter.x_hat[1]*KalmanFilter.dt*2\n",
    "        \n",
    "            predPlots[idx,i] = pred\n",
    "    \n",
    "    \n",
    "    time.sleep(0.1)\n",
    "    \n",
    "    currentError = currentTarget - predPlots[:,-1]\n",
    "    \n",
    "    currentErrors[iteration] = currentError\n",
    "    \n",
    "    P = currentError\n",
    "    \n",
    "    if iteration==0:\n",
    "        D = 0\n",
    "    else:\n",
    "        D = currentErrors[iteration] - currentErrors[iteration-1]\n",
    "    \n",
    "    deltaX = Kp * P - Kd * D\n",
    "    deltaX = np.where(abs(currentError)<Errorbound,0,deltaX)\n",
    "    print(\"[{:.3f},\\t{:.3f},\\t{:.3f},\\t{:.3f},\\t{:.3f},\\t{:.3f},\\t{:.3f},\\t{:.3f},\\t{:.3f},\\t{:.3f},\\t{:.3f},\\t{:.3f},\\t]\".format(currentError[0],currentError[1],\\\n",
    "        currentError[2],currentError[3],currentError[4],currentError[5],currentError[6],currentError[7],currentError[8],currentError[9],currentError[10],currentError[11],))\n",
    "    \n",
    "    # print(deltaX)\n",
    "    # print(P,D)\n",
    "    \n",
    "    pos = pos+deltaX\n",
    "    pos = pos.astype(np.int)\n",
    "    if (abs(currentError)<Errorbound).all():\n",
    "        break\n",
    "    \n",
    "    iteration = iteration+1\n",
    "    if iteration>=maxtime:\n",
    "        print(\"Reached maximum Iteration\")\n",
    "        break\n",
    "\n",
    "print (\"INITIALIZE POSITION\")\n",
    "currpos = snapbot.get_currpos()\n",
    "print (currpos)\n",
    "\n",
    "minmaxInterval = 5000\n",
    "snapbot.set_minmaxpos(currpos-np.ones_like(currpos)*minmaxInterval,currpos+np.ones_like(currpos)*minmaxInterval)\n",
    "initpos = snapbot.get_currpos()"
   ]
  },
  {
   "cell_type": "code",
   "execution_count": 11,
   "metadata": {},
   "outputs": [],
   "source": [
    "minmaxInterval = 5000\n",
    "snapbot.set_minmaxpos(currpos-np.ones_like(currpos)*minmaxInterval,currpos+np.ones_like(currpos)*minmaxInterval)\n",
    "initpos = snapbot.get_currpos()"
   ]
  },
  {
   "cell_type": "code",
   "execution_count": 107,
   "metadata": {},
   "outputs": [],
   "source": [
    "snapbot.set_goalposcluster(initpos,1)"
   ]
  },
  {
   "cell_type": "code",
   "execution_count": 118,
   "metadata": {},
   "outputs": [],
   "source": [
    "snapbot.set_torque([0])\n",
    "time.sleep(2)\n",
    "snapbot.set_torque([1])"
   ]
  },
  {
   "cell_type": "code",
   "execution_count": 125,
   "metadata": {},
   "outputs": [],
   "source": [
    "##Custom Calibration\n",
    "\n",
    "Calpos = initpos+np.array([-2200,1300,-1800,1200 ,-1800,1500,-1500,1500 ,-2000,1700,-1700,1300 ])\n",
    "Calpos = Calpos.astype(np.int)\n",
    "snapbot.set_goalposcluster(Calpos,1)"
   ]
  },
  {
   "cell_type": "code",
   "execution_count": 126,
   "metadata": {},
   "outputs": [],
   "source": [
    "##Grasp\n",
    "\n",
    "pos = Calpos+np.array([0,1,0,3]*3) * 500\n",
    "pos = pos.astype(np.int)\n",
    "snapbot.set_goalposcluster(pos,1)"
   ]
  },
  {
   "cell_type": "code",
   "execution_count": 38,
   "metadata": {},
   "outputs": [],
   "source": [
    "##Grasp\n",
    "\n",
    "pos = initpos+np.array([0,0,0.5,1]*3) * 2000 + np.array([-1,-0.5,0,0]*3) * 1000\n",
    "pos = pos.astype(np.int)\n",
    "snapbot.set_goalposcluster(pos,1)"
   ]
  },
  {
   "cell_type": "code",
   "execution_count": 86,
   "metadata": {},
   "outputs": [],
   "source": [
    "##Ungrasp\n",
    "pos = initpos+np.array([0,0,-1,0,0,0,-1,0,0,0,-1,0])* 0+np.array([1000,0,0,0,0,0,0,0,0,0,0,0])\n",
    "snapbot.set_goalposcluster(pos,1)"
   ]
  },
  {
   "cell_type": "code",
   "execution_count": 83,
   "metadata": {},
   "outputs": [],
   "source": [
    "## Init\n",
    "pos = initpos\n",
    "snapbot.set_goalposcluster(pos,1)"
   ]
  },
  {
   "cell_type": "code",
   "execution_count": 16,
   "metadata": {},
   "outputs": [
    {
     "data": {
      "text/plain": [
       "4"
      ]
     },
     "execution_count": 16,
     "metadata": {},
     "output_type": "execute_result"
    }
   ],
   "source": [
    "snapbot.LEN_GOAL_POSITION"
   ]
  },
  {
   "cell_type": "code",
   "execution_count": 11,
   "metadata": {},
   "outputs": [],
   "source": [
    "posList = []"
   ]
  },
  {
   "cell_type": "code",
   "execution_count": 19,
   "metadata": {
    "ExecuteTime": {
     "end_time": "2017-10-27T15:25:17.936082Z",
     "start_time": "2017-10-27T15:25:17.926812Z"
    }
   },
   "outputs": [
    {
     "ename": "NameError",
     "evalue": "name 'posList' is not defined",
     "output_type": "error",
     "traceback": [
      "\u001b[0;31m\u001b[0m",
      "\u001b[0;31mNameError\u001b[0mTraceback (most recent call last)",
      "\u001b[0;32m<ipython-input-19-4cc9f6e76187>\u001b[0m in \u001b[0;36m<module>\u001b[0;34m()\u001b[0m\n\u001b[1;32m      1\u001b[0m \u001b[0mcurrpos\u001b[0m \u001b[0;34m=\u001b[0m \u001b[0msnapbot\u001b[0m\u001b[0;34m.\u001b[0m\u001b[0mget_currpos\u001b[0m\u001b[0;34m(\u001b[0m\u001b[0;34m)\u001b[0m\u001b[0;34m\u001b[0m\u001b[0m\n\u001b[1;32m      2\u001b[0m \u001b[0;31m# print (\"CURRENT POS: %s\" % (currpos))\u001b[0m\u001b[0;34m\u001b[0m\u001b[0;34m\u001b[0m\u001b[0m\n\u001b[0;32m----> 3\u001b[0;31m \u001b[0mposList\u001b[0m\u001b[0;34m.\u001b[0m\u001b[0mappend\u001b[0m\u001b[0;34m(\u001b[0m\u001b[0mcurrpos\u001b[0m\u001b[0;34m)\u001b[0m\u001b[0;34m\u001b[0m\u001b[0m\n\u001b[0m\u001b[1;32m      4\u001b[0m \u001b[0;32mprint\u001b[0m\u001b[0;34m(\u001b[0m\u001b[0mposList\u001b[0m\u001b[0;34m)\u001b[0m\u001b[0;34m\u001b[0m\u001b[0m\n",
      "\u001b[0;31mNameError\u001b[0m: name 'posList' is not defined"
     ]
    }
   ],
   "source": [
    "currpos = snapbot.get_currpos()\n",
    "# print (\"CURRENT POS: %s\" % (currpos))\n",
    "posList.append(currpos)\n",
    "print(posList)"
   ]
  }
 ],
 "metadata": {
  "interpreter": {
   "hash": "386093ab83ddeba233afb6ca52bad0bdae5da3794f823c62290d42e746dfacfe"
  },
  "kernelspec": {
   "display_name": "Python 2.7.16 64-bit ('soro')",
   "language": "python",
   "name": "python3"
  },
  "language_info": {
   "codemirror_mode": {
    "name": "ipython",
    "version": 2
   },
   "file_extension": ".py",
   "mimetype": "text/x-python",
   "name": "python",
   "nbconvert_exporter": "python",
   "pygments_lexer": "ipython2",
   "version": "2.7.16"
  },
  "varInspector": {
   "cols": {
    "lenName": 16,
    "lenType": 16,
    "lenVar": 40
   },
   "kernels_config": {
    "python": {
     "delete_cmd_postfix": "",
     "delete_cmd_prefix": "del ",
     "library": "var_list.py",
     "varRefreshCmd": "print(var_dic_list())"
    },
    "r": {
     "delete_cmd_postfix": ") ",
     "delete_cmd_prefix": "rm(",
     "library": "var_list.r",
     "varRefreshCmd": "cat(var_dic_list()) "
    }
   },
   "types_to_exclude": [
    "module",
    "function",
    "builtin_function_or_method",
    "instance",
    "_Feature"
   ],
   "window_display": false
  }
 },
 "nbformat": 4,
 "nbformat_minor": 2
}
