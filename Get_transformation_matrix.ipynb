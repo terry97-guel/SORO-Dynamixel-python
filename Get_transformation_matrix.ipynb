{
 "cells": [
  {
   "cell_type": "code",
   "execution_count": 1,
   "metadata": {},
   "outputs": [],
   "source": [
    "import json\n",
    "import numpy as np\n",
    "import math\n",
    "from functools import partial\n",
    "from scipy.optimize import minimize\n",
    "\n",
    "\n",
    "PI = math.pi\n",
    "\n",
    "with open(\"marker_pos_for_calibration.json\", \"r\") as st_json:\n",
    "\tst_python = json.load(st_json)"
   ]
  },
  {
   "cell_type": "code",
   "execution_count": 2,
   "metadata": {},
   "outputs": [
    {
     "data": {
      "text/plain": [
       "dict_keys(['depth_camera_pos_list', 'mocap_pos_list'])"
      ]
     },
     "execution_count": 2,
     "metadata": {},
     "output_type": "execute_result"
    }
   ],
   "source": [
    "st_python.keys()"
   ]
  },
  {
   "cell_type": "code",
   "execution_count": 3,
   "metadata": {},
   "outputs": [
    {
     "data": {
      "text/plain": [
       "36"
      ]
     },
     "execution_count": 3,
     "metadata": {},
     "output_type": "execute_result"
    }
   ],
   "source": [
    "number_of_points = len(st_python['depth_camera_pos_list'])\n",
    "\n",
    "\n",
    "number_of_points"
   ]
  },
  {
   "cell_type": "code",
   "execution_count": 4,
   "metadata": {},
   "outputs": [],
   "source": [
    "depth_camera_pos_list = np.array(st_python['depth_camera_pos_list'])\n",
    "mocap_pos_list = np.array(st_python['mocap_pos_list'])"
   ]
  },
  {
   "cell_type": "code",
   "execution_count": 5,
   "metadata": {},
   "outputs": [
    {
     "data": {
      "text/plain": [
       "(array([[-1.52858019e-01,  3.25751305e-03,  5.68240643e-01],\n",
       "        [-1.14236951e-01,  4.44602966e-03,  5.65053463e-01],\n",
       "        [-7.97431469e-02,  5.34105301e-03,  5.62750816e-01],\n",
       "        [-5.05696535e-02,  5.93733788e-03,  5.62969208e-01],\n",
       "        [-1.83968246e-02,  6.47902489e-03,  5.60513020e-01],\n",
       "        [ 1.33260489e-02,  6.92868233e-03,  5.57759047e-01],\n",
       "        [ 4.42222953e-02,  7.55786896e-03,  5.57778597e-01],\n",
       "        [ 9.05518234e-02,  8.57019424e-03,  5.49674988e-01],\n",
       "        [ 1.29809484e-01,  9.20128822e-03,  5.45294762e-01],\n",
       "        [ 1.34309947e-01,  9.37795639e-03,  5.07029533e-01],\n",
       "        [ 1.06570445e-01,  9.03916359e-03,  5.02062798e-01],\n",
       "        [ 6.85784966e-02,  8.34035873e-03,  4.98417377e-01],\n",
       "        [ 3.88333499e-02,  7.87472725e-03,  4.90980148e-01],\n",
       "        [ 5.06758690e-04,  7.08317757e-03,  4.89905834e-01],\n",
       "        [-4.37125266e-02,  6.08539581e-03,  4.91316557e-01],\n",
       "        [-8.56860876e-02,  5.61141968e-03,  4.92130518e-01],\n",
       "        [-1.37805045e-01,  4.09984589e-03,  4.93397713e-01],\n",
       "        [-1.70182586e-01,  3.59678268e-03,  4.88472939e-01],\n",
       "        [-2.13049889e-01,  2.13599205e-03,  4.68656063e-01],\n",
       "        [-2.14452267e-01,  2.51698494e-03,  4.12846804e-01],\n",
       "        [-2.11796045e-01,  2.31599808e-03,  3.59196186e-01],\n",
       "        [-1.71720147e-01,  3.00955772e-03,  3.55814219e-01],\n",
       "        [-1.27151191e-01,  4.06718254e-03,  3.61376762e-01],\n",
       "        [-7.38508403e-02,  5.08451462e-03,  3.58996630e-01],\n",
       "        [-1.97476745e-02,  6.17969036e-03,  3.56391668e-01],\n",
       "        [ 3.03357542e-02,  7.31778145e-03,  3.52046490e-01],\n",
       "        [ 8.32998455e-02,  7.87222385e-03,  3.46791983e-01],\n",
       "        [ 1.31839201e-01,  9.24074650e-03,  3.53766441e-01],\n",
       "        [ 1.30699471e-01,  8.81862640e-03,  3.15626979e-01],\n",
       "        [ 9.34914351e-02,  8.21256638e-03,  3.05470467e-01],\n",
       "        [ 5.12744114e-02,  7.53080845e-03,  2.99718261e-01],\n",
       "        [ 1.38947219e-02,  6.54184818e-03,  2.97208428e-01],\n",
       "        [-1.84640586e-02,  5.92756271e-03,  2.87922621e-01],\n",
       "        [-6.06660545e-02,  5.22708893e-03,  2.82883644e-01],\n",
       "        [-9.65167880e-02,  4.37712669e-03,  2.79199600e-01],\n",
       "        [-1.35313302e-01,  3.83102894e-03,  2.84970760e-01]]),\n",
       " array([[ 0.11177864, -0.10156959,  0.84600002],\n",
       "        [ 0.07880703, -0.10510632,  0.85200006],\n",
       "        [ 0.0374731 , -0.09946088,  0.84000003],\n",
       "        [ 0.0013968 , -0.09576339,  0.83200002],\n",
       "        [-0.03001965, -0.09382102,  0.82700002],\n",
       "        [-0.06338304, -0.08863553,  0.81700003],\n",
       "        [-0.0977354 , -0.08396334,  0.81100005],\n",
       "        [-0.1289141 , -0.08201165,  0.80500007],\n",
       "        [-0.17630479, -0.07274118,  0.79100001],\n",
       "        [-0.21652754, -0.06623147,  0.77600002],\n",
       "        [-0.21034667, -0.03686669,  0.72800004],\n",
       "        [-0.18024983, -0.03541851,  0.72300005],\n",
       "        [-0.1418272 , -0.03566345,  0.72800004],\n",
       "        [-0.11100712, -0.03183359,  0.72300005],\n",
       "        [-0.0718085 , -0.03311993,  0.72500002],\n",
       "        [-0.02774195, -0.03701861,  0.73100001],\n",
       "        [ 0.01476273, -0.04136599,  0.74400002],\n",
       "        [ 0.06822482, -0.04547895,  0.75100005],\n",
       "        [ 0.1034952 , -0.04572118,  0.75500005],\n",
       "        [ 0.14647432, -0.03321129,  0.72700006],\n",
       "        [ 0.14935565,  0.00699082,  0.66500002],\n",
       "        [ 0.14686888,  0.04235803,  0.60500002],\n",
       "        [ 0.10718115,  0.04618359,  0.59000003],\n",
       "        [ 0.06475125,  0.04551494,  0.59400004],\n",
       "        [ 0.01544523,  0.04957487,  0.58400005],\n",
       "        [-0.03541939,  0.05498705,  0.58000004],\n",
       "        [-0.0807856 ,  0.06052729,  0.56900001],\n",
       "        [-0.12920986,  0.06685486,  0.55900002],\n",
       "        [-0.17506284,  0.06616684,  0.56100005],\n",
       "        [-0.16697778,  0.08865096,  0.52400005],\n",
       "        [-0.13170764,  0.09191661,  0.51800001],\n",
       "        [-0.09285755,  0.09326742,  0.51600003],\n",
       "        [-0.05911789,  0.09209407,  0.51900005],\n",
       "        [-0.02867437,  0.09574199,  0.51100004],\n",
       "        [ 0.00929568,  0.09489741,  0.51100004],\n",
       "        [ 0.07729195,  0.09141206,  0.52000004]]))"
      ]
     },
     "execution_count": 5,
     "metadata": {},
     "output_type": "execute_result"
    }
   ],
   "source": [
    "mocap_pos_list,depth_camera_pos_list"
   ]
  },
  {
   "cell_type": "code",
   "execution_count": 280,
   "metadata": {},
   "outputs": [
    {
     "data": {
      "text/plain": [
       "array([[ 0.11177864,  0.07880703,  0.0374731 ,  0.0013968 , -0.03001965,\n",
       "        -0.06338304, -0.0977354 , -0.1289141 , -0.17630479, -0.21652754,\n",
       "        -0.21034667, -0.18024983, -0.1418272 , -0.11100712, -0.0718085 ,\n",
       "        -0.02774195,  0.01476273,  0.06822482,  0.1034952 ,  0.14647432,\n",
       "         0.14935565,  0.14686888,  0.10718115,  0.06475125,  0.01544523,\n",
       "        -0.03541939, -0.0807856 , -0.12920986, -0.17506284, -0.16697778,\n",
       "        -0.13170764, -0.09285755, -0.05911789, -0.02867437,  0.00929568,\n",
       "         0.07729195],\n",
       "       [-0.10156959, -0.10510632, -0.09946088, -0.09576339, -0.09382102,\n",
       "        -0.08863553, -0.08396334, -0.08201165, -0.07274118, -0.06623147,\n",
       "        -0.03686669, -0.03541851, -0.03566345, -0.03183359, -0.03311993,\n",
       "        -0.03701861, -0.04136599, -0.04547895, -0.04572118, -0.03321129,\n",
       "         0.00699082,  0.04235803,  0.04618359,  0.04551494,  0.04957487,\n",
       "         0.05498705,  0.06052729,  0.06685486,  0.06616684,  0.08865096,\n",
       "         0.09191661,  0.09326742,  0.09209407,  0.09574199,  0.09489741,\n",
       "         0.09141206],\n",
       "       [ 0.84600002,  0.85200006,  0.84000003,  0.83200002,  0.82700002,\n",
       "         0.81700003,  0.81100005,  0.80500007,  0.79100001,  0.77600002,\n",
       "         0.72800004,  0.72300005,  0.72800004,  0.72300005,  0.72500002,\n",
       "         0.73100001,  0.74400002,  0.75100005,  0.75500005,  0.72700006,\n",
       "         0.66500002,  0.60500002,  0.59000003,  0.59400004,  0.58400005,\n",
       "         0.58000004,  0.56900001,  0.55900002,  0.56100005,  0.52400005,\n",
       "         0.51800001,  0.51600003,  0.51900005,  0.51100004,  0.51100004,\n",
       "         0.52000004]])"
      ]
     },
     "execution_count": 280,
     "metadata": {},
     "output_type": "execute_result"
    }
   ],
   "source": [
    "np.transpose(depth_camera_pos_list)\n"
   ]
  },
  {
   "cell_type": "code",
   "execution_count": 281,
   "metadata": {},
   "outputs": [
    {
     "data": {
      "text/plain": [
       "array([[ 0.11177864,  0.07880703,  0.0374731 ,  0.0013968 , -0.03001965,\n",
       "        -0.06338304, -0.0977354 , -0.1289141 , -0.17630479, -0.21652754,\n",
       "        -0.21034667, -0.18024983, -0.1418272 , -0.11100712, -0.0718085 ,\n",
       "        -0.02774195,  0.01476273,  0.06822482,  0.1034952 ,  0.14647432,\n",
       "         0.14935565,  0.14686888,  0.10718115,  0.06475125,  0.01544523,\n",
       "        -0.03541939, -0.0807856 , -0.12920986, -0.17506284, -0.16697778,\n",
       "        -0.13170764, -0.09285755, -0.05911789, -0.02867437,  0.00929568,\n",
       "         0.07729195],\n",
       "       [-0.10156959, -0.10510632, -0.09946088, -0.09576339, -0.09382102,\n",
       "        -0.08863553, -0.08396334, -0.08201165, -0.07274118, -0.06623147,\n",
       "        -0.03686669, -0.03541851, -0.03566345, -0.03183359, -0.03311993,\n",
       "        -0.03701861, -0.04136599, -0.04547895, -0.04572118, -0.03321129,\n",
       "         0.00699082,  0.04235803,  0.04618359,  0.04551494,  0.04957487,\n",
       "         0.05498705,  0.06052729,  0.06685486,  0.06616684,  0.08865096,\n",
       "         0.09191661,  0.09326742,  0.09209407,  0.09574199,  0.09489741,\n",
       "         0.09141206],\n",
       "       [ 0.84600002,  0.85200006,  0.84000003,  0.83200002,  0.82700002,\n",
       "         0.81700003,  0.81100005,  0.80500007,  0.79100001,  0.77600002,\n",
       "         0.72800004,  0.72300005,  0.72800004,  0.72300005,  0.72500002,\n",
       "         0.73100001,  0.74400002,  0.75100005,  0.75500005,  0.72700006,\n",
       "         0.66500002,  0.60500002,  0.59000003,  0.59400004,  0.58400005,\n",
       "         0.58000004,  0.56900001,  0.55900002,  0.56100005,  0.52400005,\n",
       "         0.51800001,  0.51600003,  0.51900005,  0.51100004,  0.51100004,\n",
       "         0.52000004],\n",
       "       [ 1.        ,  1.        ,  1.        ,  1.        ,  1.        ,\n",
       "         1.        ,  1.        ,  1.        ,  1.        ,  1.        ,\n",
       "         1.        ,  1.        ,  1.        ,  1.        ,  1.        ,\n",
       "         1.        ,  1.        ,  1.        ,  1.        ,  1.        ,\n",
       "         1.        ,  1.        ,  1.        ,  1.        ,  1.        ,\n",
       "         1.        ,  1.        ,  1.        ,  1.        ,  1.        ,\n",
       "         1.        ,  1.        ,  1.        ,  1.        ,  1.        ,\n",
       "         1.        ]])"
      ]
     },
     "execution_count": 281,
     "metadata": {},
     "output_type": "execute_result"
    }
   ],
   "source": [
    "depth_camera_transformation = np.zeros((4,number_of_points))\n",
    "mocap_transformation = np.zeros((4,number_of_points))\n",
    "\n",
    "depth_camera_transformation[:3,:] = np.transpose(depth_camera_pos_list)\n",
    "depth_camera_transformation[3,:]  = np.ones_like(depth_camera_transformation[3,:])\n",
    "\n",
    "mocap_transformation[:3,:] = np.transpose(mocap_pos_list)\n",
    "mocap_transformation[3,:]  = np.ones_like(mocap_transformation[3,:])\n",
    "\n",
    "depth_camera_transformation"
   ]
  },
  {
   "cell_type": "code",
   "execution_count": 282,
   "metadata": {},
   "outputs": [],
   "source": [
    "\n",
    "def t2pr(T=np.zeros((4,4))):\n",
    "    p = T[0:3,3]\n",
    "    R = T[0:3,0:3]\n",
    "    return (p,R)\n",
    "\n",
    "def t2r(T=np.zeros((4,4))):\n",
    "    R = T[0:3,0:3]\n",
    "    return R\n",
    "\n",
    "def t2p(T=np.zeros((4,4))):\n",
    "    p = T[0:3,3]\n",
    "    return p\n",
    "\n",
    "def pr2t(p=np.zeros((1,3)), R=np.zeros((4,4))):\n",
    "    T = np.zeros((4,4))\n",
    "    T[0:3,0:3] = R[:]\n",
    "    T[0:3,3] =  p[:]\n",
    "    T[3,3] = 1\n",
    "    return T\n",
    "\n",
    "def rpy2r(rpys=np.zeros(3)): # [radian]\n",
    "    R = np.zeros((3,3))\n",
    "    r = rpys[0]\n",
    "    p = rpys[1]\n",
    "    y = rpys[2]\n",
    "    R[0,:] = np.vstack([\n",
    "        np.cos(y)*np.cos(p),\n",
    "        -np.sin(y)*np.cos(r) + np.cos(y)*np.sin(p)*np.sin(r),\n",
    "        np.sin(y)*np.sin(r) + np.cos(y)*np.sin(p)*np.cos(r)\n",
    "        ]).reshape(3)\n",
    "    R[1,:] = np.vstack([\n",
    "        np.sin(y)*np.cos(p),\n",
    "        np.cos(y)*np.cos(r) + np.sin(y)*np.sin(p)*np.sin(r),\n",
    "        -np.cos(y)*np.sin(r) + np.sin(y)*np.sin(p)*np.cos(r)\n",
    "        ]).reshape(3)\n",
    "    R[2,:] = np.vstack([\n",
    "        -np.sin(p),\n",
    "        np.cos(p)*np.sin(r),\n",
    "        np.cos(p)*np.cos(r)\n",
    "        ]).reshape(3)\n",
    "    return R\n",
    "\n",
    "def r2rpy(R): # [radian]\n",
    "    r = np.arctan2(R[2,1],R[2,2])\n",
    "    p = np.arctan2(-R[2,0],np.sqrt(R[2,1]*R[2,1]+R[2,2]*R[2,2]))\n",
    "    y = np.arctan2(R[1,0],R[0,0])\n",
    "    rpys = np.stack([r,p,y])\n",
    "    return rpys\n",
    "\n",
    "def skew(p=np.zeros(3)):\n",
    "    skew_ps = np.zeros((3,3))\n",
    "    \n",
    "    skew_ps[0,:] = np.vstack([0, -p[:,2], p[:,1]]).transpose(0,1)\n",
    "    skew_ps[1,:] = np.vstack([p[:,2], 0, -p[:,0]]).transpose(0,1)\n",
    "    skew_ps[2,:] = np.vstack([-p[:,1], p[:,0],0]).transpose(0,1)\n",
    "    return skew_ps\n",
    "\n"
   ]
  },
  {
   "cell_type": "code",
   "execution_count": 283,
   "metadata": {},
   "outputs": [
    {
     "data": {
      "text/plain": [
       "(array([1.2363415 , 0.05350178, 0.91736669]),\n",
       " array([-1.83922854,  0.03237427, -3.12201292]))"
      ]
     },
     "execution_count": 283,
     "metadata": {},
     "output_type": "execute_result"
    }
   ],
   "source": [
    "T_init = mocap_transformation@ np.transpose(depth_camera_transformation) @np.linalg.inv(depth_camera_transformation@np.transpose(depth_camera_transformation))\n",
    "t2p(T_init),r2rpy(t2r(T_init))"
   ]
  },
  {
   "cell_type": "code",
   "execution_count": 284,
   "metadata": {},
   "outputs": [],
   "source": [
    "def get_position_orientation_loss(rpy_pos):\n",
    "    rpy = rpy_pos[:3]\n",
    "    p = rpy_pos[3:]\n",
    "    R = rpy2r(rpy)\n",
    "    T = pr2t(p,R)\n",
    "    \n",
    "    T_predicted = T @ depth_camera_transformation\n",
    "    error_pos = T_predicted - mocap_transformation\n",
    "    loss = np.mean(np.abs(error_pos[:3]))\n",
    "    return loss\n",
    "\n",
    "def get_loss_Fn(kwarg):\n",
    "    keys = kwarg.keys()\n",
    "    assert len(keys)==1\n",
    "    \n",
    "    key = list(keys)[0]\n",
    "    value = kwarg[key]\n",
    "    \n",
    "    if key=='rpy':\n",
    "        def p_loss(p):\n",
    "            rpy = value\n",
    "            R = rpy2r(rpy)\n",
    "            T = pr2t(p,R)\n",
    "            \n",
    "            T_predicted = T @ depth_camera_transformation\n",
    "            error_pos = T_predicted - mocap_transformation\n",
    "            loss = np.mean(np.abs(error_pos[:3]))\n",
    "            return loss\n",
    "        return p_loss\n",
    "    if key=='p':\n",
    "        def rpy_loss(rpy):\n",
    "            p   = value\n",
    "            R = rpy2r(rpy)\n",
    "            T = pr2t(p,R)\n",
    "            \n",
    "            T_predicted = T @ depth_camera_transformation\n",
    "            error_pos = T_predicted - mocap_transformation\n",
    "            loss = np.mean(np.abs(error_pos[:3]))\n",
    "            return loss\n",
    "        return rpy_loss\n",
    "    else: raise Exception(\"kwargs key must contain 'rpy' or 'p'\")\n",
    "\n",
    "\n"
   ]
  },
  {
   "cell_type": "code",
   "execution_count": 285,
   "metadata": {},
   "outputs": [
    {
     "name": "stdout",
     "output_type": "stream",
     "text": [
      "0.7454802624691459\n",
      "0.7454802624691459\n",
      "0.7454802624691459\n"
     ]
    }
   ],
   "source": [
    "rpy_init = r2rpy(t2r(T_init))\n",
    "p_init = t2p(T_init)\n",
    "rpy_pos_init = np.concatenate([rpy_init,p_init])\n",
    "print(get_position_orientation_loss(rpy_pos_init))\n",
    "\n",
    "p_loss = get_loss_Fn({'rpy':rpy_init})\n",
    "print(p_loss(p_init))\n",
    "rpy_loss = get_loss_Fn({'p':p_init})\n",
    "print(rpy_loss(rpy_init))"
   ]
  },
  {
   "cell_type": "code",
   "execution_count": 256,
   "metadata": {},
   "outputs": [
    {
     "data": {
      "text/plain": [
       "0.15381993565762664"
      ]
     },
     "execution_count": 256,
     "metadata": {},
     "output_type": "execute_result"
    }
   ],
   "source": [
    "rpy = rpy_init\n",
    "p   = p_init\n",
    "\n",
    "\n",
    "for _ in range(100):\n",
    "    # optimizie p\n",
    "    p_loss = get_loss_Fn({'rpy':rpy})\n",
    "    res = minimize(p_loss, p, method='nelder-mead',\n",
    "                options={'fatol': 1e-17, 'disp': True, 'maxiter':10_000})\n",
    "    p = res.x\n",
    "\n",
    "    rpy_loss = get_loss_Fn({'p':p})\n",
    "    # optimizie rpy\n",
    "    res = minimize(rpy_loss, rpy, method='nelder-mead',\n",
    "                options={'fatol': 1e-17, 'disp': True, 'maxiter':10_000})\n",
    "    rpy = res.x\n",
    "\n",
    "\n",
    "rpy_pos = np.concatenate([rpy, p])\n",
    "get_position_orientation_loss(rpy_pos)\n",
    "\n",
    "p = p\n",
    "R = rpy2r(rpy)\n",
    "T = pr2t(p,R)\n",
    "\n",
    "T_predicted = T @ depth_camera_transformation\n",
    "error_pos = T_predicted - mocap_transformation\n",
    "\n",
    "# np.transpose(error_pos)[0]\n",
    "np.max(error_pos)"
   ]
  },
  {
   "cell_type": "code",
   "execution_count": 290,
   "metadata": {},
   "outputs": [
    {
     "name": "stdout",
     "output_type": "stream",
     "text": [
      "Optimization terminated successfully.\n",
      "         Current function value: 0.035046\n",
      "         Iterations: 1005\n",
      "         Function evaluations: 1629\n"
     ]
    },
    {
     "data": {
      "text/plain": [
       "0.05860692915714205"
      ]
     },
     "execution_count": 290,
     "metadata": {},
     "output_type": "execute_result"
    }
   ],
   "source": [
    "rpy_pos = rpy_pos_init\n",
    "res = minimize(get_position_orientation_loss, rpy_pos, method='nelder-mead',\n",
    "               options={'fatol': 1e-17, 'disp': True, 'maxiter':10_000})\n",
    "\n",
    "rpy_pos = res.x\n",
    "rpy = rpy_pos[:3]\n",
    "p = rpy_pos[3:]\n",
    "R = rpy2r(rpy)\n",
    "T = pr2t(p,R)\n",
    "\n",
    "T_predicted = T @ depth_camera_transformation\n",
    "error_pos = T_predicted - mocap_transformation\n",
    "\n",
    "# np.transpose(error_pos)[0]\n",
    "np.max(error_pos)"
   ]
  }
 ],
 "metadata": {
  "interpreter": {
   "hash": "97b2947be866fa91c703bb0e62170c19e38afd86492cb518deafd87a1b61c874"
  },
  "kernelspec": {
   "display_name": "Python 3.9.10 64-bit ('3.9.10')",
   "language": "python",
   "name": "python3"
  },
  "language_info": {
   "codemirror_mode": {
    "name": "ipython",
    "version": 3
   },
   "file_extension": ".py",
   "mimetype": "text/x-python",
   "name": "python",
   "nbconvert_exporter": "python",
   "pygments_lexer": "ipython3",
   "version": "3.9.10"
  },
  "orig_nbformat": 4
 },
 "nbformat": 4,
 "nbformat_minor": 2
}
