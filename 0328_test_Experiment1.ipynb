{
 "cells": [
  {
   "cell_type": "code",
   "execution_count": 15,
   "metadata": {},
   "outputs": [],
   "source": [
    "minmaxInterval = 2000"
   ]
  },
  {
   "cell_type": "markdown",
   "metadata": {},
   "source": [
    "## open port"
   ]
  },
  {
   "cell_type": "code",
   "execution_count": 16,
   "metadata": {},
   "outputs": [
    {
     "name": "stdout",
     "output_type": "stream",
     "text": [
      "[sudo] password for terry: chmod: cannot access '/dev/ttyUSB1': No such file or directory\n"
     ]
    }
   ],
   "source": [
    "!echo 'quzinee1!'| sudo -S chmod a+rw /dev/ttyUSB1"
   ]
  },
  {
   "cell_type": "markdown",
   "metadata": {},
   "source": [
    "## BASIC USAGE OF XL320 CLASS"
   ]
  },
  {
   "cell_type": "code",
   "execution_count": 17,
   "metadata": {},
   "outputs": [
    {
     "data": {
      "text/plain": [
       "(4, 4)"
      ]
     },
     "execution_count": 17,
     "metadata": {},
     "output_type": "execute_result"
    }
   ],
   "source": [
    "import os, time\n",
    "import numpy as np\n",
    "import matplotlib.pyplot as plt\n",
    "from datetime import datetime\n",
    "from math import pi as PI\n",
    "DEG90 = PI/2\n",
    "PROPORTION_MATRIX = np.array(\n",
    "    [\n",
    "        [1,0.1,0.4,0.4, 0,0,0,0, 0,0,0,0, 0,0,0,0],\n",
    "        [0.1,1,0.4,0.4, 0,0,0,0, 0,0,0,0, 0,0,0,0],\n",
    "        [0.4,0.4,1,0.1, 0,0,0,0, 0,0,0,0, 0,0,0,0],\n",
    "        [0.4,0.4,0.1,1, 0,0,0,0, 0,0,0,0, 0,0,0,0],\n",
    "        \n",
    "        [0,0,0,0,  1,0.1,0.4,0.4, 0,0,0,0, 0,0,0,0],\n",
    "        [0,0,0,0,  0.1,1,0.4,0.4,  0,0,0,0, 0,0,0,0],\n",
    "        [0,0,0,0,  0.4,0.4,1,0.1, 0,0,0,0, 0,0,0,0],\n",
    "        [0,0,0,0,  0.4,0.4,0.1,1, 0,0,0,0, 0,0,0,0],\n",
    "        \n",
    "        [0,0,0,0, 0,0,0,0, 1,0.1,0.4,0.4, 0,0,0,0],\n",
    "        [0,0,0,0, 0,0,0,0, 0.1,1,0.4,0.4, 0,0,0,0],\n",
    "        [0,0,0,0, 0,0,0,0, 0.4,0.4,1,0.1, 0,0,0,0],\n",
    "        [0,0,0,0, 0,0,0,0, 0.4,0.4,0.1,1, 0,0,0,0],\n",
    "        \n",
    "        [0,0,0,0, 0,0,0,0, 0,0,0,0, 1,0.1,0.4,0.4],\n",
    "        [0,0,0,0, 0,0,0,0, 0,0,0,0, 0.1,1,0.4,0.4],\n",
    "        [0,0,0,0, 0,0,0,0, 0,0,0,0, 0.4,0.4,1,0.1],\n",
    "        [0,0,0,0, 0,0,0,0, 0,0,0,0, 0.4,0.4,0.1,1],\n",
    "        ])\n",
    "PROPORTION_MATRIX = PROPORTION_MATRIX[:4,:4]\n",
    "PROPORTION_MATRIX.shape"
   ]
  },
  {
   "cell_type": "code",
   "execution_count": 18,
   "metadata": {
    "ExecuteTime": {
     "end_time": "2017-10-27T16:24:29.711191Z",
     "start_time": "2017-10-27T16:24:29.478864Z"
    }
   },
   "outputs": [],
   "source": [
    "import sys\n",
    "sys.path.append(\".\")\n",
    "\"\"\" FOR DYNAMIXEL \"\"\"\n",
    "from model.class_xc330 import xc330\n",
    "\"\"\" FOR MODERN DRIVER \"\"\"\n",
    "import roslib; roslib.load_manifest('ur_driver')\n",
    "import rospy\n",
    "import actionlib\n",
    "from control_msgs.msg import *\n",
    "from trajectory_msgs.msg import *\n",
    "from sensor_msgs.msg import JointState\n",
    "\n",
    "from class_vicon_marker import VICON\n",
    "from class_vicon_base import ViconBase\n",
    "\n",
    "class OneFinger(object):\n",
    "    def __init__(self,):\n",
    "        rospy.init_node(\"DEMO\")\n",
    "        self.JOINT_NAMES = ['shoulder_pan_joint', 'shoulder_lift_joint', 'elbow_joint',\n",
    "                            'wrist_1_joint', 'wrist_2_joint', 'wrist_3_joint']\n",
    "        self.client      = None\n",
    "        \n",
    "        self.xc          = xc330('SOFTROBOT', _USB_NUM=0)\n",
    "        \n",
    "    def init_xc(self,initpos):\n",
    "        self.xc.connect()\n",
    "        self.xc.set_operatingmode([4])\n",
    "\n",
    "        self.xc.set_torque([0])\n",
    "        time.sleep(2)\n",
    "        self.xc.set_torque([1])\n",
    "        print (\"TORQUE ON\")\n",
    "\n",
    "        currpos = self.xc.get_currpos()\n",
    "        minmaxInterval = 5000\n",
    "        self.xc.set_minmaxpos(currpos-np.ones_like(currpos)*minmaxInterval,currpos+np.ones_like(currpos)*minmaxInterval)\n",
    "\n",
    "        if initpos is None:\n",
    "            initpos = currpos; print(\"No initpos Found\")\n",
    "            self.set_init_pos()\n",
    "            return currpos\n",
    "\n",
    "        self.xc.set_goalposcluster(initpos,1)\n",
    "\n",
    "        print(\"INITIALIZE POSITION\")\n",
    "        currpos = self.xc.get_currpos()\n",
    "        print(currpos)\n",
    "\n",
    "        minmaxInterval = minmaxInterval\n",
    "        self.xc.set_minmaxpos(currpos-np.ones_like(currpos)*minmaxInterval,currpos+np.ones_like(currpos)*minmaxInterval)\n",
    "        self.set_init_pos()\n",
    "        return currpos\n",
    "        \n",
    "    def set_init_pos(self):\n",
    "        self.initpos = self.xc.get_currpos()\n",
    "    # def move_xc(self,pos):\n",
    "    #     pos = self.initpos + np.array(pos)* np.array([1,-1,-1,1])\n",
    "    #     self.xc.set_goalposcluster(pos,1)\n",
    "        \n",
    "        \n",
    "    def move_arm_speed(self, joints, speed):\n",
    "        try: \n",
    "            q = joints\n",
    "            g = FollowJointTrajectoryGoal()\n",
    "            g.trajectory = JointTrajectory()\n",
    "            g.trajectory.joint_names = self.JOINT_NAMES\n",
    "            joint_states = rospy.wait_for_message(\"joint_states\", JointState)\n",
    "            joints_pos   = joint_states.position\n",
    "\n",
    "            diff = np.array(joints_pos) - np.array(q)\n",
    "\n",
    "            assert speed <= 1e-1 \n",
    "            movetime = np.linalg.norm(diff)/speed\n",
    "\n",
    "            g.trajectory.points = [\n",
    "                JointTrajectoryPoint(positions=joints_pos, velocities=[0]*6, time_from_start=rospy.Duration(0.0)),\n",
    "                JointTrajectoryPoint(positions=q, velocities=[0]*6, time_from_start=rospy.Duration(movetime))]  \n",
    "\n",
    "            self.client.send_goal(g)\n",
    "            self.client.wait_for_result()\n",
    "        except KeyboardInterrupt:\n",
    "            self.client.cancel_goal()\n",
    "            raise\n",
    "        except:\n",
    "            raise  \n",
    "        \n",
    "    def move_xc(self, control, movetime):\n",
    "        controls = np.array(control).astype(int)\n",
    "        assert controls.ndim == 1\n",
    "\n",
    "        \n",
    "        pos_list = []\n",
    "        currpos = self.xc.get_currpos()\n",
    "        goal_pos  = control * np.array([1,-1,-1,1]) + self.initpos\n",
    "\n",
    "        resolution = 5\n",
    "        splitnum = np.linalg.norm(goal_pos - currpos)/resolution\n",
    "\n",
    "        interpolate_pos = np.linspace(currpos,goal_pos,int(splitnum))\n",
    "        currpos = goal_pos\n",
    "        pos_list.append(interpolate_pos)\n",
    "        \n",
    "        pos_array = np.vstack(pos_list)\n",
    "\n",
    "        if len(pos_array) > 0:\n",
    "            unit_sleep = movetime/len(pos_array)\n",
    "            for pos in pos_array:\n",
    "                self.xc.set_goalpos(pos)\n",
    "                time.sleep(unit_sleep)\n",
    "\n",
    "\n",
    "    def multiple_move_xc(self, controls, movetimes):\n",
    "        controls = np.array(controls).astype(int)\n",
    "        movetimes = np.array(movetimes)\n",
    "        assert controls.ndim == 2\n",
    "        assert movetimes.ndim == 1\n",
    "        \n",
    "        pos_list = []\n",
    "        currpos = self.xc.get_currpos()\n",
    "\n",
    "        for control in controls:\n",
    "            goal_pos  = control * np.array([1,-1,-1,1]) + self.initpos\n",
    "\n",
    "            resolution = 5\n",
    "            splitnum = np.linalg.norm(goal_pos - currpos)/resolution\n",
    "\n",
    "            interpolate_pos = np.linspace(currpos,goal_pos,int(splitnum))\n",
    "            currpos = goal_pos\n",
    "            pos_list.append(interpolate_pos)\n",
    "            \n",
    "        # pos_array = np.vstack(pos_list)\n",
    "        for pos, movetime in zip(pos_list, movetimes):\n",
    "            unit_sleep = movetime/len(pos)\n",
    "            for pos_ in pos:\n",
    "                self.xc.set_goalpos(pos_)\n",
    "                time.sleep(unit_sleep)\n",
    "\n",
    "    def execute_arm_speed(self, joints, speed):\n",
    "        try:\n",
    "            self.client = actionlib.SimpleActionClient('follow_joint_trajectory', FollowJointTrajectoryAction)\n",
    "            print(\"Waiting for server...\")\n",
    "            self.client.wait_for_server()\n",
    "            print(\"Connected to server\")\n",
    "            \"\"\" Initialize \"\"\"\n",
    "            self.move_arm_speed(joints, speed)\n",
    "            print(\"Finish plan\")\n",
    "\n",
    "        except KeyboardInterrupt:\n",
    "            rospy.signal_shutdown(\"KeyboardInterrupt\")\n",
    "            raise      \n"
   ]
  },
  {
   "cell_type": "markdown",
   "metadata": {},
   "source": [
    "## INSTANTIATE Robot "
   ]
  },
  {
   "cell_type": "code",
   "execution_count": 19,
   "metadata": {
    "ExecuteTime": {
     "end_time": "2017-10-27T16:24:31.277571Z",
     "start_time": "2017-10-27T16:24:31.275156Z"
    }
   },
   "outputs": [
    {
     "name": "stdout",
     "output_type": "stream",
     "text": [
      "[SOFTROBOT] INSTANTIATED AT [b'/dev/ttyUSB0']\n"
     ]
    }
   ],
   "source": [
    "robot = OneFinger()"
   ]
  },
  {
   "cell_type": "code",
   "execution_count": 20,
   "metadata": {},
   "outputs": [],
   "source": [
    "init_joint=[0,-DEG90,DEG90,-DEG90,-DEG90, 0]"
   ]
  },
  {
   "cell_type": "code",
   "execution_count": 21,
   "metadata": {},
   "outputs": [
    {
     "name": "stdout",
     "output_type": "stream",
     "text": [
      "[SOFTROBOT] CONNECT\n",
      "[PortHandler setup] The port number 0 has same device name... reinitialize port number 0!!\n",
      " SUCCEEDED TO OPEN THE PORT!\n",
      " SUCCEEDED TO CHANGE THE BAUDRATE!\n",
      "COMMUNICATION SUCCESS\n",
      "[SOFTROBOT] DETECT ID\n",
      "[SOFTROBOT] [4]MOTORS DETECTED \n",
      "[SOFTROBOT] ID_LIST:[[13, 14, 15, 16]]\n",
      "TORQUE ON\n",
      "INITIALIZE POSITION\n",
      "[4673 3105  986 1587]\n"
     ]
    }
   ],
   "source": [
    "currpos = robot.init_xc([4722, 3082,  957, 1628])"
   ]
  },
  {
   "cell_type": "code",
   "execution_count": 22,
   "metadata": {},
   "outputs": [],
   "source": [
    "robot.move_xc([0,0,0,0], movetime=5)"
   ]
  },
  {
   "cell_type": "code",
   "execution_count": 23,
   "metadata": {},
   "outputs": [],
   "source": [
    "def move_soro(robot:OneFinger, motor_array, time_array):\n",
    "    motor_array = np.array(motor_array)\n",
    "\n",
    "    assert motor_array.ndim == 2\n",
    "    assert len(time_array) == len(motor_array)\n",
    "    assert (motor_array<=2500).all()\n",
    "    assert (motor_array>=0).all()\n",
    "\n",
    "    motor_list = []\n",
    "    currpos = robot.xc.get_currpos()\n",
    "    \n",
    "    for motor_control in motor_array:\n",
    "        goal_pos  = PROPORTION_MATRIX @ motor_control * np.array([1,-1,-1,1]) + robot.initpos\n",
    "\n",
    "        resolution = 10\n",
    "        splitnum = np.linalg.norm(goal_pos - currpos)/resolution\n",
    "\n",
    "        interpolate_pos = np.linspace(currpos,goal_pos,int(splitnum))\n",
    "        currpos = goal_pos\n",
    "        motor_list.append(interpolate_pos)\n",
    "    \n",
    "    from tqdm.notebook import tqdm\n",
    "    for motor_array, movetime in tqdm(zip(motor_list, time_array)):\n",
    "        \n",
    "        unit_sleep = movetime/len(motor_array)\n",
    "        for motor in motor_array:\n",
    "            robot.xc.set_goalpos(motor)\n",
    "            time.sleep(unit_sleep* 0.7)\n",
    "        \n"
   ]
  },
  {
   "cell_type": "code",
   "execution_count": 24,
   "metadata": {},
   "outputs": [
    {
     "data": {
      "application/vnd.jupyter.widget-view+json": {
       "model_id": "c39991e8893640c8a0f4b1e6018c4091",
       "version_major": 2,
       "version_minor": 0
      },
      "text/plain": [
       "0it [00:00, ?it/s]"
      ]
     },
     "metadata": {},
     "output_type": "display_data"
    },
    {
     "name": "stderr",
     "output_type": "stream",
     "text": [
      "/tmp/ipykernel_12944/232994809.py:25: RuntimeWarning: divide by zero encountered in double_scalars\n",
      "  unit_sleep = movetime/len(motor_array)\n"
     ]
    }
   ],
   "source": [
    "motor_array = np.array([[0,0,0,0]]).astype(np.float32)\n",
    "time_array= np.array([1.0])\n",
    "\n",
    "move_soro(robot, motor_array, time_array)"
   ]
  },
  {
   "cell_type": "code",
   "execution_count": 25,
   "metadata": {},
   "outputs": [],
   "source": [
    "class Mocap():\n",
    "    def __init__(self):\n",
    "        # rospy.init_node(\"MOCAP\")\n",
    "        self.JOINT_NAMES = ['shoulder_pan_joint', 'shoulder_lift_joint', 'elbow_joint',\n",
    "                            'wrist_1_joint', 'wrist_2_joint', 'wrist_3_joint']\n",
    "        self.client      = None\n",
    "        self.vicon_marker= VICON()\n",
    "        # self.vicon_reference  = ViconBase('ReferenceFrame')\n",
    "        self.vicon_platform = ViconBase('Platform')\n",
    "        # self.execute_arm(init_joint)\n",
    "        # self.xc          = xc330('SNAPBOT', _USB_NUM=0)\n",
    "        \n",
    "    "
   ]
  },
  {
   "cell_type": "code",
   "execution_count": 26,
   "metadata": {},
   "outputs": [],
   "source": [
    "import json\n",
    "\n",
    "mocap = Mocap()"
   ]
  },
  {
   "cell_type": "code",
   "execution_count": 27,
   "metadata": {},
   "outputs": [],
   "source": [
    "import json\n",
    "\n",
    "def get_mocap_info(mocap:Mocap):\n",
    "    integrated_dict = {}\n",
    "\n",
    "    platform_data_ = mocap.vicon_platform.transform_data\n",
    "    platform_dict_ = dict(\n",
    "        plat_x=platform_data_.position.x,\n",
    "        plat_y=platform_data_.position.y,\n",
    "        plat_z=platform_data_.position.z)\n",
    "    integrated_dict.update(platform_dict_)\n",
    "    \n",
    "\n",
    "    markers = mocap.vicon_marker.markers\n",
    "    assert len(markers) == 1\n",
    "    marker = markers[0]\n",
    "    EE_dict_ = dict(\n",
    "        EE_x = marker.position.x,\n",
    "        EE_y = marker.position.y,\n",
    "        EE_z = marker.position.z\n",
    "    )\n",
    "\n",
    "    integrated_dict.update(EE_dict_)\n",
    "    \n",
    "    return integrated_dict\n",
    "\n",
    "mocap_info = get_mocap_info(mocap)"
   ]
  },
  {
   "cell_type": "code",
   "execution_count": 28,
   "metadata": {},
   "outputs": [
    {
     "data": {
      "text/plain": [
       "array([-0.00720674,  0.12697262,  0.00310135])"
      ]
     },
     "execution_count": 28,
     "metadata": {},
     "output_type": "execute_result"
    }
   ],
   "source": [
    "p_plat = np.array([mocap_info['plat_x'], mocap_info['plat_y'], mocap_info['plat_z']])\n",
    "p_ee = np.array([mocap_info['EE_x'], mocap_info['EE_y'], mocap_info['EE_z']])\n",
    "\n",
    "p_zero = p_ee-p_plat\n",
    "p_zero"
   ]
  },
  {
   "cell_type": "code",
   "execution_count": 29,
   "metadata": {},
   "outputs": [
    {
     "data": {
      "text/plain": [
       "(array([[1667.669  ,    0.     ,    0.     ,  350.17438]], dtype=float32),\n",
       " array([[1667.669  ],\n",
       "        [-350.17438]], dtype=float32))"
      ]
     },
     "execution_count": 29,
     "metadata": {},
     "output_type": "execute_result"
    }
   ],
   "source": [
    "def get_random_motor_control(limit=2000):\n",
    "    r = np.random.rand(1).astype(np.float32) * limit\n",
    "    theta = np.random.rand(1).astype(np.float32) * 2 * np.pi\n",
    "\n",
    "    motor_control = np.array([r*np.cos(theta), r*np.sin(theta)]).astype(np.float32)\n",
    "\n",
    "    return motor_control\n",
    "\n",
    "def motor_control_to_motor_array(motor_control):\n",
    "    motor_array = np.zeros(4).astype(np.float32)\n",
    "\n",
    "    # motor_array[1] = motor_control[0]\n",
    "    # motor_array[2] = motor_control[1]\n",
    "\n",
    "    if motor_control[0] > 0:\n",
    "        motor_array[0] = motor_control[0]\n",
    "    else:\n",
    "        motor_array[1] = -motor_control[0]\n",
    "\n",
    "    if motor_control[1] > 0:\n",
    "        motor_array[2] = motor_control[1]\n",
    "    else:\n",
    "        motor_array[3] = -motor_control[1]\n",
    "\n",
    "    motor_array = motor_array.reshape(1,-1) \n",
    "    \n",
    "    return motor_array\n",
    "\n",
    "\n",
    "motor_control = get_random_motor_control(limit=2000)\n",
    "motor_control_to_motor_array(motor_control), motor_control"
   ]
  },
  {
   "attachments": {},
   "cell_type": "markdown",
   "metadata": {},
   "source": [
    "# Path Trajectory"
   ]
  },
  {
   "cell_type": "code",
   "execution_count": 39,
   "metadata": {},
   "outputs": [
    {
     "name": "stdout",
     "output_type": "stream",
     "text": [
      "actuation\n",
      "target_trajectory\n"
     ]
    }
   ],
   "source": [
    "for key in data:\n",
    "    print(key)"
   ]
  },
  {
   "cell_type": "code",
   "execution_count": 40,
   "metadata": {},
   "outputs": [
    {
     "data": {
      "text/plain": [
       "((10, 1, 2),\n",
       " 816.004638671875,\n",
       " array([[[ -29.7154007 ,  -70.8663559 ]],\n",
       " \n",
       "        [[-702.38525391,  415.53665161]],\n",
       " \n",
       "        [[-702.56463623,  416.43783569]],\n",
       " \n",
       "        [[-556.24957275, -841.25195312]],\n",
       " \n",
       "        [[-556.18786621, -841.3260498 ]],\n",
       " \n",
       "        [[ 816.00463867, -665.19042969]],\n",
       " \n",
       "        [[ 815.90283203, -665.13781738]],\n",
       " \n",
       "        [[ 630.69732666,  541.91827393]],\n",
       " \n",
       "        [[ 623.58111572,  542.83813477]],\n",
       " \n",
       "        [[-702.5604248 ,  418.08724976]]]))"
      ]
     },
     "execution_count": 40,
     "metadata": {},
     "output_type": "execute_result"
    }
   ],
   "source": [
    "from pathlib import Path\n",
    "path = Path(\"planned_traj/small_square1\")\n",
    "\n",
    "data = np.load(path/'PRIMNET.npz')\n",
    "planed_motor_array = data['actuation']\n",
    "target_trajectory = data['target_trajectory']\n",
    "planed_motor_array.shape, np.max(planed_motor_array), planed_motor_array"
   ]
  },
  {
   "cell_type": "code",
   "execution_count": 48,
   "metadata": {},
   "outputs": [
    {
     "data": {
      "application/vnd.jupyter.widget-view+json": {
       "model_id": "96c88eb03e8e4638ab4c8e164bfd9e7f",
       "version_major": 2,
       "version_minor": 0
      },
      "text/plain": [
       "0it [00:00, ?it/s]"
      ]
     },
     "metadata": {},
     "output_type": "display_data"
    },
    {
     "data": {
      "application/vnd.jupyter.widget-view+json": {
       "model_id": "b3a7a04e8a2348a68f4981c2dcc9749a",
       "version_major": 2,
       "version_minor": 0
      },
      "text/plain": [
       "0it [00:00, ?it/s]"
      ]
     },
     "metadata": {},
     "output_type": "display_data"
    },
    {
     "data": {
      "application/vnd.jupyter.widget-view+json": {
       "model_id": "920b75c5c1e3402a8b356ec357f46771",
       "version_major": 2,
       "version_minor": 0
      },
      "text/plain": [
       "0it [00:00, ?it/s]"
      ]
     },
     "metadata": {},
     "output_type": "display_data"
    },
    {
     "data": {
      "application/vnd.jupyter.widget-view+json": {
       "model_id": "8739f6401926421d9b6b9fa0fea2536a",
       "version_major": 2,
       "version_minor": 0
      },
      "text/plain": [
       "0it [00:00, ?it/s]"
      ]
     },
     "metadata": {},
     "output_type": "display_data"
    },
    {
     "data": {
      "application/vnd.jupyter.widget-view+json": {
       "model_id": "1425d265477c48bbaaad48113c3fb424",
       "version_major": 2,
       "version_minor": 0
      },
      "text/plain": [
       "0it [00:00, ?it/s]"
      ]
     },
     "metadata": {},
     "output_type": "display_data"
    },
    {
     "data": {
      "application/vnd.jupyter.widget-view+json": {
       "model_id": "981f8dee52074cf987a1711e171ddb7f",
       "version_major": 2,
       "version_minor": 0
      },
      "text/plain": [
       "0it [00:00, ?it/s]"
      ]
     },
     "metadata": {},
     "output_type": "display_data"
    },
    {
     "data": {
      "application/vnd.jupyter.widget-view+json": {
       "model_id": "e16631104ae34390bc02a7285ef9e195",
       "version_major": 2,
       "version_minor": 0
      },
      "text/plain": [
       "0it [00:00, ?it/s]"
      ]
     },
     "metadata": {},
     "output_type": "display_data"
    },
    {
     "data": {
      "application/vnd.jupyter.widget-view+json": {
       "model_id": "0d2d2859d4ad4ab7bc5ddb686b2db984",
       "version_major": 2,
       "version_minor": 0
      },
      "text/plain": [
       "0it [00:00, ?it/s]"
      ]
     },
     "metadata": {},
     "output_type": "display_data"
    },
    {
     "data": {
      "application/vnd.jupyter.widget-view+json": {
       "model_id": "33993dbccb1b46fdad71a2afef743ae3",
       "version_major": 2,
       "version_minor": 0
      },
      "text/plain": [
       "0it [00:00, ?it/s]"
      ]
     },
     "metadata": {},
     "output_type": "display_data"
    },
    {
     "data": {
      "application/vnd.jupyter.widget-view+json": {
       "model_id": "37e13618a99c4749b250e2b52421813a",
       "version_major": 2,
       "version_minor": 0
      },
      "text/plain": [
       "0it [00:00, ?it/s]"
      ]
     },
     "metadata": {},
     "output_type": "display_data"
    }
   ],
   "source": [
    "mocap_info_list = []\n",
    "for motor_control in planed_motor_array:\n",
    "    motor_control = motor_control[0]\n",
    "    time_array= np.array([0.5])\n",
    "    motor_array = motor_control_to_motor_array(motor_control)\n",
    "    move_soro(robot, motor_array, time_array)\n",
    "    time.sleep(0.5)\n",
    "    mocap_info = get_mocap_info(mocap)\n",
    "    mocap_info_list.append(mocap_info)\n",
    "\n",
    "    "
   ]
  },
  {
   "cell_type": "code",
   "execution_count": 53,
   "metadata": {},
   "outputs": [
    {
     "data": {
      "text/plain": [
       "(10, 3)"
      ]
     },
     "execution_count": 53,
     "metadata": {},
     "output_type": "execute_result"
    }
   ],
   "source": [
    "position_list = []\n",
    "\n",
    "transform_matrix = np.array(\n",
    "    [\n",
    "        [ 0,-1, 0],\n",
    "        [ 0, 0, 1],\n",
    "        [-1, 0, 0]\n",
    "    ]\n",
    ")\n",
    "\n",
    "\n",
    "for mocap_info in mocap_info_list:\n",
    "    \n",
    "    p_plat = np.array([mocap_info['plat_x'], mocap_info['plat_y'], mocap_info['plat_z']])\n",
    "    p_ee = np.array([mocap_info['EE_x'], mocap_info['EE_y'], mocap_info['EE_z']])\n",
    "    p_off = np.array([p_zero[0], 0, p_zero[2]])\n",
    "\n",
    "    position_ = p_ee-p_plat -p_off\n",
    "    position_ = (position_ @ transform_matrix)\n",
    "    position_list.append(position_)\n",
    "\n",
    "position_array = np.array(position_list)\n",
    "position_array.shape\n",
    "\n",
    "\n"
   ]
  },
  {
   "cell_type": "code",
   "execution_count": 54,
   "metadata": {},
   "outputs": [],
   "source": [
    "pos_off = target_trajectory[0] - position_array[0]\n",
    "\n",
    "pos_off = np.array([0,0,0])"
   ]
  },
  {
   "cell_type": "code",
   "execution_count": 56,
   "metadata": {},
   "outputs": [
    {
     "data": {
      "text/plain": [
       "(-0.05, 0.05)"
      ]
     },
     "execution_count": 56,
     "metadata": {},
     "output_type": "execute_result"
    },
    {
     "data": {
      "image/png": "[encoded data removed]",
      "text/plain": [
       "<Figure size 640x480 with 1 Axes>"
      ]
     },
     "metadata": {},
     "output_type": "display_data"
    }
   ],
   "source": [
    "from matplotlib import pyplot as plt\n",
    "\n",
    "plt.plot(position_array[1:,0]+pos_off[0], position_array[1:,1]+pos_off[1])\n",
    "\n",
    "target_trajectory = data['target_trajectory']\n",
    "plt.plot(target_trajectory[1:,0], target_trajectory[1:,1])\n",
    "\n",
    "plt.xlim(-0.05, 0.05)\n",
    "plt.ylim(-0.05, 0.05)"
   ]
  },
  {
   "cell_type": "code",
   "execution_count": 57,
   "metadata": {},
   "outputs": [],
   "source": [
    "data = dict(data)\n",
    "data['result'] = position_array\n",
    "np.savez(path/'PRIMNET_res.npz', **data)"
   ]
  },
  {
   "cell_type": "code",
   "execution_count": 59,
   "metadata": {},
   "outputs": [
    {
     "ename": "FileNotFoundError",
     "evalue": "[Errno 2] No such file or directory: 'planned_traj/small_square1/PRIMNET_res.npz'",
     "output_type": "error",
     "traceback": [
      "\u001b[0;31m---------------------------------------------------------------------------\u001b[0m",
      "\u001b[0;31mFileNotFoundError\u001b[0m                         Traceback (most recent call last)",
      "Cell \u001b[0;32mIn[59], line 3\u001b[0m\n\u001b[1;32m      1\u001b[0m path \u001b[39m=\u001b[39m Path(\u001b[39m\"\u001b[39m\u001b[39mplanned_traj/small_square1\u001b[39m\u001b[39m\"\u001b[39m)\n\u001b[0;32m----> 3\u001b[0m data \u001b[39m=\u001b[39m np\u001b[39m.\u001b[39;49mload(path\u001b[39m/\u001b[39;49m\u001b[39m'\u001b[39;49m\u001b[39mPRIMNET_res.npz\u001b[39;49m\u001b[39m'\u001b[39;49m)\n\u001b[1;32m      5\u001b[0m plt\u001b[39m.\u001b[39mplot(data[\u001b[39m'\u001b[39m\u001b[39mresult\u001b[39m\u001b[39m'\u001b[39m][\u001b[39m1\u001b[39m:,\u001b[39m0\u001b[39m], data[\u001b[39m'\u001b[39m\u001b[39mresult\u001b[39m\u001b[39m'\u001b[39m][\u001b[39m1\u001b[39m:,\u001b[39m1\u001b[39m])\n\u001b[1;32m      6\u001b[0m plt\u001b[39m.\u001b[39mplot(data[\u001b[39m'\u001b[39m\u001b[39mtarget_trajectory\u001b[39m\u001b[39m'\u001b[39m][\u001b[39m1\u001b[39m:,\u001b[39m0\u001b[39m], data[\u001b[39m'\u001b[39m\u001b[39mtarget_trajectory\u001b[39m\u001b[39m'\u001b[39m][\u001b[39m1\u001b[39m:,\u001b[39m1\u001b[39m])\n",
      "File \u001b[0;32m~/.local/lib/python3.8/site-packages/numpy/lib/npyio.py:405\u001b[0m, in \u001b[0;36mload\u001b[0;34m(file, mmap_mode, allow_pickle, fix_imports, encoding, max_header_size)\u001b[0m\n\u001b[1;32m    403\u001b[0m     own_fid \u001b[39m=\u001b[39m \u001b[39mFalse\u001b[39;00m\n\u001b[1;32m    404\u001b[0m \u001b[39melse\u001b[39;00m:\n\u001b[0;32m--> 405\u001b[0m     fid \u001b[39m=\u001b[39m stack\u001b[39m.\u001b[39menter_context(\u001b[39mopen\u001b[39;49m(os_fspath(file), \u001b[39m\"\u001b[39;49m\u001b[39mrb\u001b[39;49m\u001b[39m\"\u001b[39;49m))\n\u001b[1;32m    406\u001b[0m     own_fid \u001b[39m=\u001b[39m \u001b[39mTrue\u001b[39;00m\n\u001b[1;32m    408\u001b[0m \u001b[39m# Code to distinguish from NumPy binary files and pickles.\u001b[39;00m\n",
      "\u001b[0;31mFileNotFoundError\u001b[0m: [Errno 2] No such file or directory: 'planned_traj/small_square1/PRIMNET_res.npz'"
     ]
    }
   ],
   "source": [
    "path = Path(\"planned_traj/small_square1\")\n",
    "\n",
    "data = np.load(path/'PRIMNET_res.npz')\n",
    "\n",
    "plt.plot(data['result'][1:,0], data['result'][1:,1])\n",
    "plt.plot(data['target_trajectory'][1:,0], data['target_trajectory'][1:,1])\n",
    "\n",
    "plt.xlim(-0.05, 0.05)\n",
    "plt.ylim(-0.05, 0.05)\n"
   ]
  },
  {
   "cell_type": "code",
   "execution_count": null,
   "metadata": {},
   "outputs": [],
   "source": []
  }
 ],
 "metadata": {
  "kernelspec": {
   "display_name": "Python 3.8.10 64-bit",
   "language": "python",
   "name": "python3"
  },
  "language_info": {
   "codemirror_mode": {
    "name": "ipython",
    "version": 3
   },
   "file_extension": ".py",
   "mimetype": "text/x-python",
   "name": "python",
   "nbconvert_exporter": "python",
   "pygments_lexer": "ipython3",
   "version": "3.8.10"
  },
  "varInspector": {
   "cols": {
    "lenName": 16,
    "lenType": 16,
    "lenVar": 40
   },
   "kernels_config": {
    "python": {
     "delete_cmd_postfix": "",
     "delete_cmd_prefix": "del ",
     "library": "var_list.py",
     "varRefreshCmd": "print(var_dic_list())"
    },
    "r": {
     "delete_cmd_postfix": ") ",
     "delete_cmd_prefix": "rm(",
     "library": "var_list.r",
     "varRefreshCmd": "cat(var_dic_list()) "
    }
   },
   "types_to_exclude": [
    "module",
    "function",
    "builtin_function_or_method",
    "instance",
    "_Feature"
   ],
   "window_display": false
  },
  "vscode": {
   "interpreter": {
    "hash": "916dbcbb3f70747c44a77c7bcd40155683ae19c65e1c03b4aa3499c5328201f1"
   }
  }
 },
 "nbformat": 4,
 "nbformat_minor": 2
}
