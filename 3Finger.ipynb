{
 "cells": [
  {
   "cell_type": "code",
   "execution_count": 1,
   "metadata": {},
   "outputs": [],
   "source": [
    "minmaxInterval = 2500"
   ]
  },
  {
   "cell_type": "markdown",
   "metadata": {},
   "source": [
    "## open port"
   ]
  },
  {
   "cell_type": "code",
   "execution_count": 1,
   "metadata": {},
   "outputs": [
    {
     "name": "stdout",
     "output_type": "stream",
     "text": [
      "[sudo] password for terry-q: "
     ]
    }
   ],
   "source": [
    "!echo 'qwer1234'| sudo -S chmod a+rw /dev/ttyUSB0"
   ]
  },
  {
   "cell_type": "markdown",
   "metadata": {},
   "source": [
    "## BASIC USAGE OF XL320 CLASS"
   ]
  },
  {
   "cell_type": "code",
   "execution_count": 2,
   "metadata": {},
   "outputs": [],
   "source": [
    "import os, time\n",
    "import numpy as np\n",
    "import matplotlib.pyplot as plt\n",
    "from datetime import datetime\n",
    "from math import pi as PI\n",
    "DEG90 = PI/2\n",
    "PROPORTION_MATRIX = np.array(\n",
    "    [\n",
    "        [1,0.1,0.4,0.4, 0,0,0,0, 0,0,0,0],\n",
    "        [0.1,1,0.4,0.4, 0,0,0,0, 0,0,0,0],\n",
    "        [0.4,0.4,1,0.1, 0,0,0,0, 0,0,0,0],\n",
    "        [0.4,0.4,0.1,1, 0,0,0,0, 0,0,0,0],\n",
    "        \n",
    "        [0,0,0,0,  1,0.1,0.4,0.4, 0,0,0,0],\n",
    "        [0,0,0,0,  0.1,1,0.4,0.4,  0,0,0,0],\n",
    "        [0,0,0,0,  0.4,0.4,1,0.1, 0,0,0,0],\n",
    "        [0,0,0,0,  0.4,0.4,0.1,1, 0,0,0,0],\n",
    "        \n",
    "        [0,0,0,0, 0,0,0,0, 1,0.1,0.4,0.4],\n",
    "        [0,0,0,0, 0,0,0,0, 0.1,1,0.4,0.4],\n",
    "        [0,0,0,0, 0,0,0,0, 0.4,0.4,1,0.1],\n",
    "        [0,0,0,0, 0,0,0,0, 0.4,0.4,0.1,1]\n",
    "        ])\n"
   ]
  },
  {
   "cell_type": "code",
   "execution_count": 3,
   "metadata": {
    "ExecuteTime": {
     "end_time": "2017-10-27T16:24:29.711191Z",
     "start_time": "2017-10-27T16:24:29.478864Z"
    }
   },
   "outputs": [
    {
     "name": "stdout",
     "output_type": "stream",
     "text": [
      "['/home/terry-q/Rilab/sOftrobot/SORO-Dynamixel-python', '', '/home/terry-q/catkin_ws/devel/lib/python3/dist-packages', '/opt/ros/noetic/lib/python3/dist-packages', '/usr/lib/python38.zip', '/usr/lib/python3.8', '/usr/lib/python3.8/lib-dynload', '/home/terry-q/.local/lib/python3.8/site-packages', '/usr/local/lib/python3.8/dist-packages', '/usr/lib/python3/dist-packages', '.']\n"
     ]
    }
   ],
   "source": [
    "import sys\n",
    "sys.path.append(\".\")\n",
    "\"\"\" FOR DYNAMIXEL \"\"\"\n",
    "from model.class_xc330 import xc330\n",
    "\"\"\" FOR MODERN DRIVER \"\"\"\n",
    "import roslib; roslib.load_manifest('ur_driver')\n",
    "import rospy\n",
    "import actionlib\n",
    "from control_msgs.msg import *\n",
    "from trajectory_msgs.msg import *\n",
    "from sensor_msgs.msg import JointState\n",
    "\n",
    "from class_vicon_marker import VICON\n",
    "from class_vicon_base import ViconBase\n",
    "\n",
    "class Fingers(object):\n",
    "    def __init__(self,):\n",
    "        rospy.init_node(\"DEMO\")\n",
    "        self.JOINT_NAMES = ['shoulder_pan_joint', 'shoulder_lift_joint', 'elbow_joint',\n",
    "                            'wrist_1_joint', 'wrist_2_joint', 'wrist_3_joint']\n",
    "        self.client      = None\n",
    "        \n",
    "        self.xc          = xc330('SOFTROBOT', _USB_NUM=0)\n",
    "        \n",
    "    def init_xc(self,initpos):\n",
    "        self.xc.connect()\n",
    "        self.xc.set_operatingmode([4])\n",
    "\n",
    "        self.xc.set_torque([0])\n",
    "        time.sleep(2)\n",
    "        self.xc.set_torque([1])\n",
    "        print (\"TORQUE ON\")\n",
    "\n",
    "        currpos = self.xc.get_currpos()\n",
    "        minmaxInterval = 3000\n",
    "        self.xc.set_minmaxpos(currpos-np.ones_like(currpos)*minmaxInterval,currpos+np.ones_like(currpos)*minmaxInterval)\n",
    "\n",
    "        if (initpos==None).any(): initpos = currpos; print(\"No initpos Found\")\n",
    "        self.initpos = initpos\n",
    "        self.xc.set_goalposcluster(initpos,1)\n",
    "\n",
    "        print (\"INITIALIZE POSITION\")\n",
    "        currpos = self.xc.get_currpos()\n",
    "        print (currpos)\n",
    "\n",
    "        minmaxInterval = minmaxInterval\n",
    "        self.xc.set_minmaxpos(currpos-np.ones_like(currpos)*minmaxInterval,currpos+np.ones_like(currpos)*minmaxInterval)\n",
    "    \n",
    "    def move_xc(self,pos):\n",
    "        self.xc.set_goalposcluster(pos,1)\n",
    "        \n",
    "    def pmove_xc(self,pos):\n",
    "        pos = self.initpos + PROPORTION_MATRIX[:12,:12] @ np.array(pos) * np.array([1,-1,-1,1]*3)\n",
    "        self.xc.set_goalposcluster(pos,1)\n",
    "        \n",
    "    def move_arm(self, joints):\n",
    "        try: \n",
    "            q = joints\n",
    "            g = FollowJointTrajectoryGoal()\n",
    "            g.trajectory = JointTrajectory()\n",
    "            g.trajectory.joint_names = self.JOINT_NAMES\n",
    "            joint_states = rospy.wait_for_message(\"joint_states\", JointState)\n",
    "            joints_pos   = joint_states.position\n",
    "            g.trajectory.points = [\n",
    "                JointTrajectoryPoint(positions=joints_pos, velocities=[0]*6, time_from_start=rospy.Duration(0.0)),\n",
    "                JointTrajectoryPoint(positions=q, velocities=[0]*6, time_from_start=rospy.Duration(3))]  \n",
    "            self.client.send_goal(g)\n",
    "            self.client.wait_for_result()\n",
    "        except KeyboardInterrupt:\n",
    "            self.client.cancel_goal()\n",
    "            raise\n",
    "        except:\n",
    "            raise  \n",
    "         \n",
    "    def execute_arm(self, joints):\n",
    "        try:\n",
    "            self.client = actionlib.SimpleActionClient('follow_joint_trajectory', FollowJointTrajectoryAction)\n",
    "            print(\"Waiting for server...\")\n",
    "            self.client.wait_for_server()\n",
    "            print(\"Connected to server\")\n",
    "            \"\"\" Initialize \"\"\"\n",
    "            self.move_arm(joints)\n",
    "            print(\"Finish plan\")\n",
    "\n",
    "        except KeyboardInterrupt:\n",
    "            rospy.signal_shutdown(\"KeyboardInterrupt\")\n",
    "            raise      \n"
   ]
  },
  {
   "cell_type": "markdown",
   "metadata": {},
   "source": [
    "## INSTANTIATE Robot "
   ]
  },
  {
   "cell_type": "code",
   "execution_count": 4,
   "metadata": {
    "ExecuteTime": {
     "end_time": "2017-10-27T16:24:31.277571Z",
     "start_time": "2017-10-27T16:24:31.275156Z"
    }
   },
   "outputs": [
    {
     "name": "stdout",
     "output_type": "stream",
     "text": [
      "[SOFTROBOT] INSTANTIATED AT [b'/dev/ttyUSB0']\n"
     ]
    }
   ],
   "source": [
    "robot = Fingers()"
   ]
  },
  {
   "cell_type": "code",
   "execution_count": 7,
   "metadata": {},
   "outputs": [
    {
     "name": "stdout",
     "output_type": "stream",
     "text": [
      "Waiting for server...\n",
      "Connected to server\n",
      "Finish plan\n"
     ]
    }
   ],
   "source": [
    "init_joint=[0,-DEG90,DEG90,-DEG90,-DEG90,DEG90]\n",
    "robot.execute_arm(init_joint)"
   ]
  },
  {
   "cell_type": "markdown",
   "metadata": {},
   "source": [
    "# Calibrate initpos\n",
    "반드시 Cap을 벗기고 진행할것"
   ]
  },
  {
   "cell_type": "code",
   "execution_count": 6,
   "metadata": {},
   "outputs": [],
   "source": [
    "# Upright_joint = np.array([0, -90+45, 90-45, -90, 90, 90])/90*DEG90\n",
    "# robot.execute_arm(Upright_joint)"
   ]
  },
  {
   "cell_type": "code",
   "execution_count": 7,
   "metadata": {},
   "outputs": [],
   "source": [
    "# robot.init_xc(initpos=np.array([None]))\n",
    "# initpos = robot.xc.get_currpos()"
   ]
  },
  {
   "cell_type": "code",
   "execution_count": 8,
   "metadata": {},
   "outputs": [],
   "source": [
    "# relaxed_pos = initpos"
   ]
  },
  {
   "cell_type": "code",
   "execution_count": 9,
   "metadata": {},
   "outputs": [],
   "source": [
    "# initpos = np.array([2247, -546,  344, 2629, 1000, 2833, 1801, 4351, 4761, 2223, 1299,\n",
    "#        1990,  2605, -703, 2454, 1732])\n",
    "# # initpos[-4:] = relaxed_pos[-4:]\n",
    "# robot.init_xc(initpos=initpos)"
   ]
  },
  {
   "cell_type": "code",
   "execution_count": 10,
   "metadata": {},
   "outputs": [],
   "source": [
    "# relaxed_pos"
   ]
  },
  {
   "cell_type": "code",
   "execution_count": 11,
   "metadata": {},
   "outputs": [],
   "source": [
    "# # 1번은 플러스, 2번 마이너스, 3번 마이너스, 4번 플러스\n",
    "# pos = initpos + np.array([0,0,0,0, 0,0,0,0, 0,0,0,0, 100,200,200,200]) * np.array([1,-1,-1,1]*4)\n",
    "# # robot.move_xc(pos)\n",
    "\n",
    "# pos = pos + PROPORTION_MATRIX @ np.array([0,0,0,0, 0,0,0,0, 0,0,0,0, 600,600,600,600]) * np.array([1,-1,-1,1]*4)\n",
    "\n",
    "# robot.move_xc(pos)\n",
    "\n",
    "# robot.xc.get_currpos()"
   ]
  },
  {
   "cell_type": "code",
   "execution_count": 12,
   "metadata": {},
   "outputs": [],
   "source": [
    "# initpos = np.array([2247, -546,  344, 2629, 1000, 2833, 1801, 4351, 4761, 2223, 1299,\n",
    "#        1990, 4110,  970, 3106, 3197])\n",
    "# robot.init_xc(initpos)\n",
    "# robot.xc.get_currpos()\n",
    "\n",
    "# pos = initpos + np.array([300]*16) * np.array([1,-1,-1,1]*4)\n",
    "# robot.move_xc(pos)\n",
    "# time.sleep(2)\n",
    "\n",
    "# pos = initpos + PROPORTION_MATRIX @ np.array([1000,0,0,0, 0,0,1000,0, 0,1000,0,0, 0,0,0,1000]) * np.array([1,-1,-1,1]*4)\n",
    "# robot.move_xc(pos)\n",
    "# time.sleep(2)\n",
    "\n",
    "\n",
    "# pos = initpos + PROPORTION_MATRIX @ np.array([0,1000,0,0, 0,0,0,1000, 1000,0,0,0, 0,0,1000,0]) * np.array([1,-1,-1,1]*4)\n",
    "# robot.move_xc(pos)\n",
    "# time.sleep(2)\n",
    "\n",
    "# robot.move_xc(initpos)"
   ]
  },
  {
   "cell_type": "markdown",
   "metadata": {},
   "source": [
    "# Pick and place"
   ]
  },
  {
   "cell_type": "code",
   "execution_count": 8,
   "metadata": {},
   "outputs": [
    {
     "name": "stdout",
     "output_type": "stream",
     "text": [
      "[SOFTROBOT] CONNECT\n",
      " SUCCEEDED TO OPEN THE PORT!\n",
      " SUCCEEDED TO CHANGE THE BAUDRATE!\n",
      "COMMUNICATION SUCCESS\n",
      "[SOFTROBOT] DETECT ID\n",
      "[SOFTROBOT] [12]MOTORS DETECTED \n",
      "[SOFTROBOT] ID_LIST:[[1, 2, 3, 4, 5, 6, 7, 8, 9, 10, 11, 12]]\n",
      "TORQUE ON\n",
      "No initpos Found\n",
      "INITIALIZE POSITION\n",
      "[1727  395  996 1884  444 3570 2347 3678 4144 3349 2209  995]\n",
      "[SOFTROBOT] CONNECT\n",
      "[PortHandler setup] The port number 0 has same device name... reinitialize port number 0!!\n",
      " SUCCEEDED TO OPEN THE PORT!\n",
      " SUCCEEDED TO CHANGE THE BAUDRATE!\n",
      "COMMUNICATION SUCCESS\n",
      "[SOFTROBOT] DETECT ID\n",
      "[SOFTROBOT] [12]MOTORS DETECTED \n",
      "[SOFTROBOT] ID_LIST:[[1, 2, 3, 4, 5, 6, 7, 8, 9, 10, 11, 12]]\n",
      "TORQUE ON\n",
      "INITIALIZE POSITION\n",
      "[2230 -513  368 2601  984 2859 1822 4325 4737 2259 1332 1957]\n"
     ]
    },
    {
     "data": {
      "text/plain": [
       "array([2238, -529,  359, 2613,  991, 2848, 1815, 4335, 4748, 2242, 1317,\n",
       "       1974])"
      ]
     },
     "execution_count": 8,
     "metadata": {},
     "output_type": "execute_result"
    }
   ],
   "source": [
    "robot.init_xc(np.array([None]))\n",
    "initpos = robot.xc.get_currpos()\n",
    "pos = initpos + np.array([1,1,1,1, 1,1,1,1, 1,1,1,1])*1000 * np.array([1,-1,-1,1]*3)\n",
    "robot.move_xc(pos)\n",
    "\n",
    "initpos = np.array([2247, -546,  344, 2629, 1000, 2833, 1801, 4351, 4761, 2223, 1299,\n",
    "       1990])\n",
    "robot.init_xc(initpos)\n",
    "\n",
    "robot.xc.get_currpos()"
   ]
  },
  {
   "cell_type": "markdown",
   "metadata": {},
   "source": [
    "# Pick and Place"
   ]
  },
  {
   "cell_type": "code",
   "execution_count": 12,
   "metadata": {},
   "outputs": [],
   "source": [
    "# Ungrasp\n",
    "robot.pmove_xc(np.array([2000,0,0,0]*3))"
   ]
  },
  {
   "cell_type": "code",
   "execution_count": 13,
   "metadata": {},
   "outputs": [
    {
     "name": "stdout",
     "output_type": "stream",
     "text": [
      "Waiting for server...\n",
      "Connected to server\n",
      "Finish plan\n",
      "Waiting for server...\n",
      "Connected to server\n",
      "Finish plan\n",
      "Waiting for server...\n",
      "Connected to server\n",
      "Finish plan\n",
      "Waiting for server...\n",
      "Connected to server\n",
      "Finish plan\n",
      "Waiting for server...\n",
      "Connected to server\n",
      "Finish plan\n",
      "Waiting for server...\n",
      "Connected to server\n",
      "Finish plan\n"
     ]
    }
   ],
   "source": [
    "# Jar\n",
    "target_down = np.array([-52.15, -76.28, 104.92, -118.90, -89.82, 38.04])/90*DEG90\n",
    "target_up = np.array([-52.12, -82.53, 89.23, -96.96, -89.76, 37.92])/90*DEG90\n",
    "\n",
    "locate_down = np.array([5.26, -87.29, 118.61, -121.27, -90.09, 95.48])/90*DEG90\n",
    "locate_up = np.array([5.30, -94.65, 101.60, -96.90, -90.02, 95.36])/90*DEG90\n",
    "\n",
    "# approach up\n",
    "robot.execute_arm(target_up)\n",
    "time.sleep(2)\n",
    "\n",
    "# approach down\n",
    "robot.execute_arm(target_down)\n",
    "time.sleep(2)\n",
    "\n",
    "# Grasp\n",
    "robot.pmove_xc(np.array([0,2500,0,0]*3))\n",
    "\n",
    "# Pick up\n",
    "robot.execute_arm(target_up)\n",
    "time.sleep(2)\n",
    "\n",
    "robot.execute_arm(locate_up)\n",
    "time.sleep(2)\n",
    "\n",
    "robot.execute_arm(locate_down)\n",
    "time.sleep(2)\n",
    "\n",
    "# Ungrasp\n",
    "robot.pmove_xc(np.array([2000,0,0,0]*3))\n",
    "\n",
    "robot.execute_arm(locate_up)\n",
    "time.sleep(2)\n"
   ]
  },
  {
   "cell_type": "code",
   "execution_count": 14,
   "metadata": {},
   "outputs": [
    {
     "name": "stdout",
     "output_type": "stream",
     "text": [
      "Waiting for server...\n",
      "Connected to server\n",
      "Finish plan\n",
      "Waiting for server...\n",
      "Connected to server\n",
      "Finish plan\n",
      "Waiting for server...\n",
      "Connected to server\n",
      "Finish plan\n",
      "Waiting for server...\n",
      "Connected to server\n",
      "Finish plan\n",
      "Waiting for server...\n",
      "Connected to server\n",
      "Finish plan\n",
      "Waiting for server...\n",
      "Connected to server\n",
      "Finish plan\n"
     ]
    }
   ],
   "source": [
    "# air feshner\n",
    "target_down = np.array([-33.68, -66.54, 93.37, -117.01, -89.93, 56.48])/90*DEG90\n",
    "target_up = np.array([-33.65, -72.65, 73.96, -91.50, -89.88, 56.34])/90*DEG90\n",
    "\n",
    "locate_down = np.array([2.80, -68.79, 97.70, -118.87, -90.07, 92.98])/90*DEG90\n",
    "locate_up = np.array([2.84, -75.76, 75.24, -89.45, -90.00, 92.82])/90*DEG90\n",
    "\n",
    "# approach up\n",
    "robot.execute_arm(target_up)\n",
    "time.sleep(2)\n",
    "\n",
    "# approach down\n",
    "robot.execute_arm(target_down)\n",
    "time.sleep(2)\n",
    "\n",
    "# Grasp\n",
    "robot.pmove_xc(np.array([0,2500,0,0]*3))\n",
    "\n",
    "# Pick up\n",
    "robot.execute_arm(target_up)\n",
    "time.sleep(2)\n",
    "\n",
    "robot.execute_arm(locate_up)\n",
    "time.sleep(2)\n",
    "\n",
    "robot.execute_arm(locate_down)\n",
    "time.sleep(2)\n",
    "\n",
    "# Ungrasp\n",
    "robot.pmove_xc(np.array([2000,0,0,0]*3))\n",
    "\n",
    "robot.execute_arm(locate_up)\n",
    "time.sleep(2)"
   ]
  },
  {
   "cell_type": "code",
   "execution_count": 15,
   "metadata": {},
   "outputs": [
    {
     "name": "stdout",
     "output_type": "stream",
     "text": [
      "Waiting for server...\n",
      "Connected to server\n",
      "Finish plan\n",
      "Waiting for server...\n",
      "Connected to server\n",
      "Finish plan\n",
      "Waiting for server...\n",
      "Connected to server\n",
      "Finish plan\n",
      "Waiting for server...\n",
      "Connected to server\n",
      "Finish plan\n",
      "Waiting for server...\n",
      "Connected to server\n",
      "Finish plan\n",
      "Waiting for server...\n",
      "Connected to server\n",
      "Finish plan\n"
     ]
    }
   ],
   "source": [
    "# tennis ball\n",
    "target_down = np.array([-17.53, -45.75, 70.21, -114.56, -89.98, 72.60])/90*DEG90\n",
    "target_up = np.array([-17.52, -51.78, 57.30, -95.62, -89.94, 72.48])/90*DEG90\n",
    "\n",
    "locate_down = np.array([1.55, -49.04, 76.16, -117.11, -90.05, 91.69])/90*DEG90\n",
    "locate_up = np.array([1.56, -55.77, 63.78, -97.99, -90.00, 91.59])/90*DEG90\n",
    "\n",
    "\n",
    "# approach up\n",
    "robot.execute_arm(target_up)\n",
    "time.sleep(2)\n",
    "\n",
    "# approach down\n",
    "robot.execute_arm(target_down)\n",
    "time.sleep(2)\n",
    "\n",
    "# Grasp\n",
    "robot.pmove_xc(np.array([0,2500,0,0]*3))\n",
    "\n",
    "# Pick up\n",
    "robot.execute_arm(target_up)\n",
    "time.sleep(2)\n",
    "\n",
    "robot.execute_arm(locate_up)\n",
    "time.sleep(2)\n",
    "\n",
    "robot.execute_arm(locate_down)\n",
    "time.sleep(2)\n",
    "\n",
    "# Ungrasp\n",
    "robot.pmove_xc(np.array([2000,0,0,0]*3))\n",
    "\n",
    "robot.execute_arm(locate_up)\n",
    "time.sleep(2)"
   ]
  },
  {
   "cell_type": "code",
   "execution_count": 16,
   "metadata": {},
   "outputs": [
    {
     "name": "stdout",
     "output_type": "stream",
     "text": [
      "Waiting for server...\n",
      "Connected to server\n",
      "Finish plan\n",
      "Waiting for server...\n",
      "Connected to server\n",
      "Finish plan\n",
      "Waiting for server...\n",
      "Connected to server\n",
      "Finish plan\n",
      "Waiting for server...\n",
      "Connected to server\n",
      "Finish plan\n",
      "Waiting for server...\n",
      "Connected to server\n",
      "Finish plan\n",
      "Waiting for server...\n",
      "Connected to server\n",
      "Finish plan\n"
     ]
    }
   ],
   "source": [
    "# water bottle\n",
    "target_down = np.array([-39.24, -50.22, 59.18, -99.17, -89.84, 50.78])/90*DEG90\n",
    "target_up = np.array([-39.22, -50.46, 42.64, -82.39, -89.83, 50.67])/90*DEG90\n",
    "\n",
    "locate_down = np.array([1.48, -40.42, 39.82, -89.37, -89.97, 91.43])/90*DEG90\n",
    "locate_up = np.array([1.50, -35.58, 11.10, -70.50, -89.98, 91.30])/90*DEG90\n",
    "\n",
    "# approach up\n",
    "robot.execute_arm(target_up)\n",
    "time.sleep(2)\n",
    "\n",
    "# approach down\n",
    "robot.execute_arm(target_down)\n",
    "time.sleep(2)\n",
    "\n",
    "# Grasp\n",
    "robot.pmove_xc(np.array([0,2500,0,0]*3))\n",
    "\n",
    "# Pick up\n",
    "robot.execute_arm(target_up)\n",
    "time.sleep(2)\n",
    "\n",
    "robot.execute_arm(locate_up)\n",
    "time.sleep(2)\n",
    "\n",
    "robot.execute_arm(locate_down)\n",
    "time.sleep(2)\n",
    "\n",
    "# Ungrasp\n",
    "robot.pmove_xc(np.array([2000,0,0,0]*3))\n",
    "\n",
    "robot.execute_arm(locate_up)\n",
    "time.sleep(2)"
   ]
  },
  {
   "cell_type": "code",
   "execution_count": 17,
   "metadata": {},
   "outputs": [
    {
     "name": "stdout",
     "output_type": "stream",
     "text": [
      "Waiting for server...\n",
      "Connected to server\n",
      "Finish plan\n"
     ]
    }
   ],
   "source": [
    "robot.execute_arm(init_joint)"
   ]
  },
  {
   "cell_type": "markdown",
   "metadata": {},
   "source": [
    "# Tennis"
   ]
  },
  {
   "cell_type": "code",
   "execution_count": 55,
   "metadata": {},
   "outputs": [],
   "source": [
    "# Grasp\n",
    "robot.pmove_xc(np.array([0,2500,0,0]*3))"
   ]
  },
  {
   "cell_type": "code",
   "execution_count": 56,
   "metadata": {},
   "outputs": [],
   "source": [
    "# Ungrasp\n",
    "robot.pmove_xc(np.array([2000,0,0,0]*3))"
   ]
  },
  {
   "cell_type": "code",
   "execution_count": 95,
   "metadata": {},
   "outputs": [],
   "source": [
    "# robot.execute_arm(Place_up_joint)\n",
    "# init_joint=[0,-DEG90,DEG90,-DEG90,-DEG90,DEG90]\n",
    "# robot.execute_arm(init_joint)"
   ]
  },
  {
   "cell_type": "code",
   "execution_count": 48,
   "metadata": {},
   "outputs": [],
   "source": [
    "init_joint=[0,-DEG90,DEG90,-DEG90,-DEG90,DEG90]\n",
    "Target_up_joint = np.array([-23.10, -41.35, 58.77, 107.57])/90*DEG90\n",
    "\n",
    "Target_down_joint = np.array([-32.72, -67.72, 103.66, -126.13, -89.92, 57.51])/90*DEG90\n",
    "\n",
    "Place_up_joint = np.array([])/90*DEG90\n",
    "\n",
    "Place_down_joint = np.array([-38.07,-49.32,77.91,-118.45,-89.65,94.72])/90*DEG90\n",
    "\n",
    "assert (Target_up_joint * np.array([-1,-1,1,-1,-1,1])>0).all()\n",
    "assert (Target_down_joint * np.array([-1,-1,1,-1,-1,1])>0).all()\n",
    "assert (Place_up_joint * np.array([-1,-1,1,-1,-1,1])>0).all()\n",
    "assert (Place_down_joint * np.array([-1,-1,1,-1,-1,1])>0).all()\n",
    "\n",
    "\n",
    "# robot.execute_arm(init_joint)\n",
    "\n",
    "# robot.execute_arm(Target_up_joint)\n",
    "\n",
    "robot.pmove_xc(np.array([1000,0,1000,0]*4))\n",
    "\n",
    "# robot.execute_arm(Target_down_joint)\n",
    "\n",
    "# 접근 동작\n",
    "robot.pmove_xc(np.array([2000,0,0,2000]*4))\n",
    "\n",
    "# 잡는 동작\n",
    "robot.pmove_xc(np.array([200,1200,0,2000]*4))\n",
    "\n",
    "# 절반 돌리고\n",
    "robot.pmove_xc(np.array([200,1200,500,500]*4))\n",
    "\n",
    "# 나머지 돌리고\n",
    "robot.pmove_xc(np.array([200,2200,500,1000]*4))\n",
    "\n",
    "# 들고\n",
    "robot.pmove_xc(np.array([0,2000,3000,1000]*4))\n",
    "\n",
    "# UnGrasp\n",
    "robot.pmove_xc(np.array([1000,0,1000,0]*4))\n",
    "\n",
    "# 접근 동작\n",
    "robot.pmove_xc(np.array([2000,0,0,2000]*4))\n",
    "\n",
    "# # 잡는 동작\n",
    "robot.pmove_xc(np.array([200,1200,0,2000]*4))\n",
    "\n",
    "# 절반 돌리고\n",
    "robot.pmove_xc(np.array([200,1200,500,500]*4))\n",
    "\n",
    "# 나머지 돌리고\n",
    "robot.pmove_xc(np.array([200,2200,500,1000]*4))\n",
    "\n",
    "# robot.execute_arm(Target_up_joint)\n",
    "# robot.execute_arm(Place_up_joint)\n",
    "# robot.execute_arm(Place_down_joint)\n",
    "\n",
    "robot.pmove_xc(np.array([1000,0,1000,0]*4))\n",
    "# robot.execute_arm(Place_up_joint)\n",
    "# robot.execute_arm(init_joint)"
   ]
  },
  {
   "cell_type": "markdown",
   "metadata": {},
   "source": [
    "# Tumbler"
   ]
  },
  {
   "cell_type": "code",
   "execution_count": 43,
   "metadata": {},
   "outputs": [],
   "source": [
    "robot.pmove_xc(np.array([0,0,0,0]*4))"
   ]
  },
  {
   "cell_type": "code",
   "execution_count": 44,
   "metadata": {},
   "outputs": [],
   "source": [
    "# robot.execute_arm(Place_up_joint)\n",
    "# init_joint=[0,-DEG90,DEG90,-DEG90,-DEG90,DEG90]\n",
    "# robot.execute_arm(init_joint)"
   ]
  },
  {
   "cell_type": "code",
   "execution_count": 45,
   "metadata": {},
   "outputs": [
    {
     "name": "stdout",
     "output_type": "stream",
     "text": [
      "Waiting for server...\n",
      "Connected to server\n",
      "Finish plan\n",
      "Waiting for server...\n",
      "Connected to server\n",
      "Finish plan\n",
      "Waiting for server...\n",
      "Connected to server\n",
      "Finish plan\n",
      "Waiting for server...\n",
      "Connected to server\n",
      "Finish plan\n",
      "Waiting for server...\n",
      "Connected to server\n",
      "Finish plan\n",
      "Waiting for server...\n",
      "Connected to server\n",
      "Finish plan\n",
      "Waiting for server...\n",
      "Connected to server\n",
      "Finish plan\n",
      "Waiting for server...\n",
      "Connected to server\n",
      "Finish plan\n"
     ]
    }
   ],
   "source": [
    "init_joint=[0,-DEG90,DEG90,-DEG90,-DEG90,DEG90]\n",
    "Target_up_joint = np.array([-34.38,-90.85,93.59,-92.60,-89.61,98.27])/90*DEG90\n",
    "Target_down_joint = np.array([-34.42,-87.67,107.73,-109.93,-89.65,98.36])/90*DEG90\n",
    "Place_up_joint = np.array([-25.41,-66.39,63.93,-87.40,-89.59,107.17])/90*DEG90\n",
    "Place_down_joint = np.array([-25.45,-56.45,89.79,-123.20,-89.68,107.37])/90*DEG90\n",
    "\n",
    "assert (Target_up_joint * np.array([-1,-1,1,-1,-1,1])>0).all()\n",
    "assert (Target_down_joint * np.array([-1,-1,1,-1,-1,1])>0).all()\n",
    "assert (Place_up_joint * np.array([-1,-1,1,-1,-1,1])>0).all()\n",
    "assert (Place_down_joint * np.array([-1,-1,1,-1,-1,1])>0).all()\n",
    "\n",
    "\n",
    "robot.execute_arm(init_joint)\n",
    "\n",
    "robot.execute_arm(Target_up_joint)\n",
    "\n",
    "robot.pmove_xc(np.array([1000,0,1000,0]*4))\n",
    "\n",
    "robot.execute_arm(Target_down_joint)\n",
    "\n",
    "# 접근 동작\n",
    "robot.pmove_xc(np.array([2000,0,0,2000]*4))\n",
    "\n",
    "# 잡는 동작\n",
    "robot.pmove_xc(np.array([200,1200,0,2000]*4))\n",
    "\n",
    "# 절반 돌리고\n",
    "robot.pmove_xc(np.array([200,1200,500,500]*4))\n",
    "\n",
    "# 나머지 돌리고\n",
    "robot.pmove_xc(np.array([200,2200,500,1000]*4))\n",
    "\n",
    "# 들고\n",
    "robot.pmove_xc(np.array([0,2000,3000,1000]*4))\n",
    "\n",
    "# UnGrasp\n",
    "robot.pmove_xc(np.array([1000,0,1000,0]*4))\n",
    "\n",
    "# 접근 동작\n",
    "robot.pmove_xc(np.array([2000,0,0,2000]*4))\n",
    "\n",
    "# # 잡는 동작\n",
    "robot.pmove_xc(np.array([200,1200,0,2000]*4))\n",
    "\n",
    "# 절반 돌리고\n",
    "robot.pmove_xc(np.array([200,1200,500,500]*4))\n",
    "\n",
    "# 나머지 돌리고\n",
    "robot.pmove_xc(np.array([200,2200,500,1000]*4))\n",
    "\n",
    "robot.execute_arm(Target_up_joint)\n",
    "robot.execute_arm(Place_up_joint)\n",
    "robot.execute_arm(Place_down_joint)\n",
    "\n",
    "robot.pmove_xc(np.array([1000,0,1000,0]*4))\n",
    "robot.execute_arm(Place_up_joint)\n",
    "robot.execute_arm(init_joint)\n"
   ]
  },
  {
   "cell_type": "markdown",
   "metadata": {},
   "source": [
    "# Tumbler2"
   ]
  },
  {
   "cell_type": "code",
   "execution_count": 46,
   "metadata": {},
   "outputs": [],
   "source": [
    "robot.pmove_xc(np.array([0,0,0,0]*4))"
   ]
  },
  {
   "cell_type": "code",
   "execution_count": 47,
   "metadata": {},
   "outputs": [
    {
     "name": "stdout",
     "output_type": "stream",
     "text": [
      "Waiting for server...\n",
      "Connected to server\n",
      "Finish plan\n",
      "Waiting for server...\n",
      "Connected to server\n",
      "Finish plan\n",
      "Waiting for server...\n",
      "Connected to server\n",
      "Finish plan\n",
      "Waiting for server...\n",
      "Connected to server\n",
      "Finish plan\n",
      "Waiting for server...\n",
      "Connected to server\n",
      "Finish plan\n",
      "Waiting for server...\n",
      "Connected to server\n",
      "Finish plan\n",
      "Waiting for server...\n",
      "Connected to server\n",
      "Finish plan\n",
      "Waiting for server...\n",
      "Connected to server\n",
      "Finish plan\n"
     ]
    }
   ],
   "source": [
    "init_joint=[0,-DEG90,DEG90,-DEG90,-DEG90,DEG90]\n",
    "Target_up_joint = np.array([-11.76,-94.52,93.83,-89.17,-89.60,120.91])/90*DEG90\n",
    "Target_down_joint = np.array([-11.76,-91.46,111.03,-109.48,-89.64,121.01])/90*DEG90\n",
    "Place_up_joint = np.array([-8.21,-66.55,61.03,-84.34,-89.52,124.35])/90*DEG90\n",
    "Place_down_joint = np.array([-8.26,-57.02,90.09,-122.93,-89.67,124.56])/90*DEG90\n",
    "\n",
    "assert (Target_up_joint * np.array([-1,-1,1,-1,-1,1])>0).all()\n",
    "assert (Target_down_joint * np.array([-1,-1,1,-1,-1,1])>0).all()\n",
    "assert (Place_up_joint * np.array([-1,-1,1,-1,-1,1])>0).all()\n",
    "assert (Place_down_joint * np.array([-1,-1,1,-1,-1,1])>0).all()\n",
    "\n",
    "\n",
    "robot.execute_arm(init_joint)\n",
    "\n",
    "robot.execute_arm(Target_up_joint)\n",
    "\n",
    "robot.pmove_xc(np.array([1000,0,1000,0]*4))\n",
    "\n",
    "robot.execute_arm(Target_down_joint)\n",
    "\n",
    "# 접근 동작\n",
    "robot.pmove_xc(np.array([2000,0,0,2000]*4))\n",
    "\n",
    "# 잡는 동작\n",
    "robot.pmove_xc(np.array([200,1200,0,2000]*4))\n",
    "\n",
    "# 절반 돌리고\n",
    "robot.pmove_xc(np.array([200,1200,500,500]*4))\n",
    "\n",
    "# 나머지 돌리고\n",
    "robot.pmove_xc(np.array([200,2200,500,1000]*4))\n",
    "\n",
    "# 들고\n",
    "robot.pmove_xc(np.array([0,2000,3000,1000]*4))\n",
    "\n",
    "# UnGrasp\n",
    "robot.pmove_xc(np.array([1000,0,1000,0]*4))\n",
    "\n",
    "# 접근 동작\n",
    "robot.pmove_xc(np.array([2000,0,0,2000]*4))\n",
    "\n",
    "# 잡는 동작\n",
    "robot.pmove_xc(np.array([200,1200,0,2000]*4))\n",
    "\n",
    "# 절반 돌리고\n",
    "robot.pmove_xc(np.array([200,1200,500,500]*4))\n",
    "\n",
    "# 나머지 돌리고\n",
    "robot.pmove_xc(np.array([200,2200,500,1000]*4))\n",
    "\n",
    "# 들고\n",
    "robot.pmove_xc(np.array([0,2000,3000,1000]*4))\n",
    "\n",
    "# UnGrasp\n",
    "robot.pmove_xc(np.array([1000,0,1000,0]*4))\n",
    "\n",
    "# 접근 동작\n",
    "robot.pmove_xc(np.array([2000,0,0,2000]*4))\n",
    "\n",
    "# 잡는 동작\n",
    "robot.pmove_xc(np.array([200,1200,0,2000]*4))\n",
    "\n",
    "# 절반 돌리고\n",
    "robot.pmove_xc(np.array([200,1200,500,500]*4))\n",
    "\n",
    "# 나머지 돌리고\n",
    "robot.pmove_xc(np.array([200,2200,500,1000]*4))\n",
    "\n",
    "\n",
    "robot.execute_arm(Target_up_joint)\n",
    "robot.execute_arm(Place_up_joint)\n",
    "robot.execute_arm(Place_down_joint)\n",
    "\n",
    "robot.pmove_xc(np.array([1000,0,1000,0]*4))\n",
    "robot.execute_arm(Place_up_joint)\n",
    "robot.execute_arm(init_joint)\n"
   ]
  },
  {
   "cell_type": "markdown",
   "metadata": {},
   "source": [
    "## Gat"
   ]
  },
  {
   "cell_type": "code",
   "execution_count": 48,
   "metadata": {},
   "outputs": [],
   "source": [
    "robot.pmove_xc(np.array([0,0,0,0]*4))\n"
   ]
  },
  {
   "cell_type": "code",
   "execution_count": 49,
   "metadata": {},
   "outputs": [
    {
     "name": "stdout",
     "output_type": "stream",
     "text": [
      "Waiting for server...\n",
      "Connected to server\n",
      "Finish plan\n",
      "Waiting for server...\n",
      "Connected to server\n",
      "Finish plan\n",
      "Waiting for server...\n",
      "Connected to server\n",
      "Finish plan\n",
      "Waiting for server...\n",
      "Connected to server\n",
      "Finish plan\n",
      "Waiting for server...\n",
      "Connected to server\n",
      "Finish plan\n",
      "Waiting for server...\n",
      "Connected to server\n",
      "Finish plan\n",
      "Waiting for server...\n",
      "Connected to server\n",
      "Finish plan\n",
      "Waiting for server...\n",
      "Connected to server\n",
      "Finish plan\n"
     ]
    }
   ],
   "source": [
    "init_joint=[0,-DEG90,DEG90,-DEG90,-DEG90,DEG90]\n",
    "Target_up_joint   = np.array([16.84,-83.79,82.93,-89.01,-89.59,149.49])/90*DEG90\n",
    "Target_down_joint = np.array([16.81,-82.13,96.38,-104.12,-89.61,149.57])/90*DEG90\n",
    "Place_up_joint    = np.array([12.25,-55.41,42.79,-77.25,-89.58,144.78])/90*DEG90\n",
    "Place_down_joint  = np.array([12.20,-48.98,77.21,-118.10,-89.63,145.01])/90*DEG90\n",
    "\n",
    "assert (Target_up_joint * np.array([1,-1,1,-1,-1,1])>0).all()\n",
    "assert (Target_down_joint * np.array([1,-1,1,-1,-1,1])>0).all()\n",
    "assert (Place_up_joint * np.array([1,-1,1,-1,-1,1])>0).all()\n",
    "assert (Place_down_joint * np.array([1,-1,1,-1,-1,1])>0).all()\n",
    "\n",
    "\n",
    "robot.execute_arm(init_joint)\n",
    "\n",
    "robot.execute_arm(Target_up_joint)\n",
    "\n",
    "robot.pmove_xc(np.array([1000,0,1000,0]*4))\n",
    "\n",
    "robot.execute_arm(Target_down_joint)\n",
    "\n",
    "\n",
    "# 접근 동작\n",
    "robot.pmove_xc(np.array([2000,0,0,2000]*4))\n",
    "\n",
    "# 잡는 동작\n",
    "robot.pmove_xc(np.array([200,1500,0,2000]*4))\n",
    "\n",
    "# 절반 돌리고\n",
    "robot.pmove_xc(np.array([200,1200,1200,1600]*4))\n",
    "\n",
    "# 나머지 돌리고\n",
    "robot.pmove_xc(np.array([200,2200,500,1000]*4))\n",
    "\n",
    "\n",
    "robot.execute_arm(Target_up_joint)\n",
    "robot.execute_arm(Place_up_joint)\n",
    "robot.execute_arm(Place_down_joint)\n",
    "\n",
    "robot.pmove_xc(np.array([1000,0,1000,0]*4))\n",
    "robot.execute_arm(Place_up_joint)\n",
    "robot.execute_arm(init_joint)\n"
   ]
  },
  {
   "cell_type": "code",
   "execution_count": 50,
   "metadata": {},
   "outputs": [],
   "source": [
    "robot.pmove_xc(np.array([0,0,0,0]*4))"
   ]
  },
  {
   "cell_type": "markdown",
   "metadata": {},
   "source": [
    "# MAYO"
   ]
  },
  {
   "cell_type": "code",
   "execution_count": 17,
   "metadata": {},
   "outputs": [],
   "source": [
    "pos = initpos+ PROPORTION_MATRIX @ np.array([1,0,1,0, 0,0,0,0, 0,0,0,0, 1,0,1,0]) * 4000 * np.array([1,-1,-1,1]*4)\n",
    "pos = pos    + PROPORTION_MATRIX @ np.array([0,0,0,0, 0.3,0,1,0, 1,0,0,0.3, 0,0,0,0]) * 4000 * np.array([1,-1,-1,1]*4)\n",
    "\n",
    "# pos = pos + np.array([0,0,0,0, 0,0,0,0, 0,0,0,400, 0,0,0,0]) * np.array([1,-1,-1,1]*4)\n",
    "snapbot.set_goalposcluster(pos,1)"
   ]
  },
  {
   "cell_type": "code",
   "execution_count": 18,
   "metadata": {},
   "outputs": [],
   "source": [
    "pos = initpos+ PROPORTION_MATRIX @ np.array([1,0,1,0, 0,0,0,0, 0,0,0,0, 1,0,1,0]) * 4000 * np.array([1,-1,-1,1]*4)\n",
    "pos = pos    + PROPORTION_MATRIX @ np.array([0,0,0,0, 0.3,0,1,0, 1,0,0,0.3, 0,0,0,0]) * 4000 * np.array([1,-1,-1,1]*4)\n",
    "pos = pos    + PROPORTION_MATRIX @ np.array([0,0,0,0, 0,0,1,0, 1,0,0,0, 0,0,0,0]) * 1000 * np.array([1,-1,-1,1]*4)\n",
    "\n",
    "# pos = pos + np.array([0,0,0,0, 0,0,0,0, 0,0,0,400, 0,0,0,0]) * np.array([1,-1,-1,1]*4)\n",
    "snapbot.set_goalposcluster(pos,1)"
   ]
  },
  {
   "cell_type": "code",
   "execution_count": null,
   "metadata": {},
   "outputs": [],
   "source": []
  },
  {
   "cell_type": "code",
   "execution_count": 83,
   "metadata": {},
   "outputs": [],
   "source": []
  }
 ],
 "metadata": {
  "kernelspec": {
   "display_name": "Python 3.8.10 64-bit",
   "language": "python",
   "name": "python3"
  },
  "language_info": {
   "codemirror_mode": {
    "name": "ipython",
    "version": 3
   },
   "file_extension": ".py",
   "mimetype": "text/x-python",
   "name": "python",
   "nbconvert_exporter": "python",
   "pygments_lexer": "ipython3",
   "version": "3.8.10"
  },
  "varInspector": {
   "cols": {
    "lenName": 16,
    "lenType": 16,
    "lenVar": 40
   },
   "kernels_config": {
    "python": {
     "delete_cmd_postfix": "",
     "delete_cmd_prefix": "del ",
     "library": "var_list.py",
     "varRefreshCmd": "print(var_dic_list())"
    },
    "r": {
     "delete_cmd_postfix": ") ",
     "delete_cmd_prefix": "rm(",
     "library": "var_list.r",
     "varRefreshCmd": "cat(var_dic_list()) "
    }
   },
   "types_to_exclude": [
    "module",
    "function",
    "builtin_function_or_method",
    "instance",
    "_Feature"
   ],
   "window_display": false
  },
  "vscode": {
   "interpreter": {
    "hash": "31f2aee4e71d21fbe5cf8b01ff0e069b9275f58929596ceb00d14d90e3e16cd6"
   }
  }
 },
 "nbformat": 4,
 "nbformat_minor": 2
}
