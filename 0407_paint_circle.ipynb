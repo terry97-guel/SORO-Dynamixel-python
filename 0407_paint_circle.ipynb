{
 "cells": [
  {
   "cell_type": "code",
   "execution_count": 11,
   "metadata": {},
   "outputs": [],
   "source": [
    "minmaxInterval = 2000"
   ]
  },
  {
   "cell_type": "markdown",
   "metadata": {},
   "source": [
    "## open port"
   ]
  },
  {
   "cell_type": "code",
   "execution_count": 12,
   "metadata": {},
   "outputs": [
    {
     "name": "stdout",
     "output_type": "stream",
     "text": [
      "[sudo] password for terry: "
     ]
    }
   ],
   "source": [
    "!echo 'quzinee1!'| sudo -S chmod a+rw /dev/ttyUSB0"
   ]
  },
  {
   "cell_type": "markdown",
   "metadata": {},
   "source": [
    "## BASIC USAGE OF XL320 CLASS"
   ]
  },
  {
   "cell_type": "code",
   "execution_count": 13,
   "metadata": {},
   "outputs": [],
   "source": [
    "import rospy\n",
    "from trajectory_msgs.msg import JointTrajectory, JointTrajectoryPoint\n",
    "\n",
    "rospy.init_node(\"Experiment2\")\n",
    "\n",
    "\n",
    "class Soro(object):\n",
    "    def __init__(self):\n",
    "        self.transform_data_pub = rospy.Publisher('/dynamixel/control', JointTrajectory, queue_size=10)\n",
    "\n",
    "    def actuate(self, data:JointTrajectory):\n",
    "        self.transform_data_pub.publish(data)\n",
    "\n",
    "\n",
    "soro = Soro()\n",
    "rate = rospy.Rate(1) # 10 Hz"
   ]
  },
  {
   "cell_type": "code",
   "execution_count": 14,
   "metadata": {
    "ExecuteTime": {
     "end_time": "2017-10-27T16:24:29.711191Z",
     "start_time": "2017-10-27T16:24:29.478864Z"
    }
   },
   "outputs": [],
   "source": [
    "import sys\n",
    "sys.path.append(\".\")\n",
    "\"\"\" FOR DYNAMIXEL \"\"\"\n",
    "from model.class_xc330 import xc330\n",
    "\"\"\" FOR MODERN DRIVER \"\"\"\n",
    "import roslib; roslib.load_manifest('ur_driver')\n",
    "import rospy\n",
    "import actionlib\n",
    "from control_msgs.msg import *\n",
    "from trajectory_msgs.msg import *\n",
    "from sensor_msgs.msg import JointState\n",
    "\n",
    "from class_vicon_marker import VICON\n",
    "from class_vicon_base import ViconBase\n",
    "import copy\n",
    "import numpy as np\n",
    "\n",
    "from numpy import pi as PI\n",
    "DEG90 = PI/2\n",
    "\n",
    "class UR(object):\n",
    "    def __init__(self,):\n",
    "        self.JOINT_NAMES = ['shoulder_pan_joint', 'shoulder_lift_joint', 'elbow_joint',\n",
    "                            'wrist_1_joint', 'wrist_2_joint', 'wrist_3_joint']\n",
    "        self.client      = None\n",
    "        \n",
    "   \n",
    "    def move_arm_speed(self, traj:JointTrajectory, speed_limit):\n",
    "        try: \n",
    "            g = FollowJointTrajectoryGoal()\n",
    "            g.trajectory = copy.deepcopy(traj)\n",
    "            g.trajectory.joint_names = self.JOINT_NAMES\n",
    "            joint_states = rospy.wait_for_message(\"joint_states\", JointState)\n",
    "            joints_pos   = joint_states.position\n",
    "\n",
    "            init_point = JointTrajectoryPoint()\n",
    "            init_point.positions = joints_pos\n",
    "            init_point.time_from_start = rospy.Duration.from_sec(0)\n",
    "            init_point.velocities = [0 for _ in range(6)]\n",
    "            g.trajectory.points.insert(0, init_point)\n",
    "\n",
    "            q_list = []\n",
    "            time_list = []\n",
    "            for point in g.trajectory.points:\n",
    "                q_list.append(point.positions)\n",
    "                time_list.append(point.time_from_start.to_sec())\n",
    "\n",
    "            print(q_list)\n",
    "\n",
    "            for i in range(len(q_list)-1):\n",
    "                q_before = np.array(q_list[i])\n",
    "                q_after  = np.array(q_list[i+1])\n",
    "                print(q_after, q_before)\n",
    "                time_before = time_list[i]\n",
    "                time_after = time_list[i+1]\n",
    "\n",
    "                diff_q = q_after - q_before\n",
    "                diff_time = time_after - time_before\n",
    "\n",
    "                speed = np.linalg.norm(diff_q)/diff_time\n",
    "                print(speed)\n",
    "                assert speed <= speed_limit\n",
    "            \n",
    "            \n",
    "\n",
    "            self.client.send_goal(g)\n",
    "            # self.client.wait_for_result()\n",
    "        except KeyboardInterrupt:\n",
    "            self.client.cancel_goal()\n",
    "            raise\n",
    "        except:\n",
    "            raise  \n",
    "\n",
    "    def execute_arm_speed(self, traj, speed_limit):\n",
    "        try:\n",
    "            self.client = actionlib.SimpleActionClient('follow_joint_trajectory', FollowJointTrajectoryAction)\n",
    "            print(\"Waiting for server...\")\n",
    "            self.client.wait_for_server()\n",
    "            print(\"Connected to server\")\n",
    "            \"\"\" Initialize \"\"\"\n",
    "            self.move_arm_speed(traj, speed_limit)\n",
    "            print(\"Finish plan\")\n",
    "\n",
    "        except KeyboardInterrupt:\n",
    "            rospy.signal_shutdown(\"KeyboardInterrupt\")\n",
    "            raise      \n",
    "\n",
    "    def execute_arm_time(self, joints, movetime):\n",
    "        try:\n",
    "            self.client = actionlib.SimpleActionClient('follow_joint_trajectory', FollowJointTrajectoryAction)\n",
    "            print(\"Waiting for server...\")\n",
    "            self.client.wait_for_server()\n",
    "            print(\"Connected to server\")\n",
    "            \"\"\" Initialize \"\"\"\n",
    "            self.move_arm_time(joints, movetime)\n",
    "            print(\"Finish plan\")\n",
    "\n",
    "        except KeyboardInterrupt:\n",
    "            rospy.signal_shutdown(\"KeyboardInterrupt\")\n",
    "            raise      \n"
   ]
  },
  {
   "cell_type": "markdown",
   "metadata": {},
   "source": [
    "## INSTANTIATE Robot "
   ]
  },
  {
   "cell_type": "code",
   "execution_count": 15,
   "metadata": {
    "ExecuteTime": {
     "end_time": "2017-10-27T16:24:31.277571Z",
     "start_time": "2017-10-27T16:24:31.275156Z"
    }
   },
   "outputs": [],
   "source": [
    "robot = UR()\n",
    "init_joint =[0,-DEG90,DEG90,-DEG90,-DEG90, DEG90]"
   ]
  },
  {
   "cell_type": "code",
   "execution_count": 16,
   "metadata": {},
   "outputs": [
    {
     "name": "stdout",
     "output_type": "stream",
     "text": [
      "Waiting for server...\n",
      "Connected to server\n",
      "[(-7.788287561538709e-07, -1.571214338342184, 1.5709283987628382, -1.5704820913127442, -1.5708096663104456, -1.4607106344044496e-05), [0, -1.5707963267948966, 1.5707963267948966, -1.5707963267948966, -1.5707963267948966, 0.0]]\n",
      "[ 0.         -1.57079633  1.57079633 -1.57079633 -1.57079633  0.        ] [-7.78828756e-07 -1.57121434e+00  1.57092840e+00 -1.57048209e+00\n",
      " -1.57080967e+00 -1.46071063e-05]\n",
      "0.00010794674861803948\n",
      "Finish plan\n"
     ]
    }
   ],
   "source": [
    "q =[0,-DEG90,DEG90,-DEG90,-DEG90, DEG90 * 0]\n",
    "\n",
    "q_traj = JointTrajectory()\n",
    "\n",
    "point = JointTrajectoryPoint()\n",
    "point.positions = q\n",
    "point.velocities = [0 for _ in range(6)]\n",
    "point.time_from_start = rospy.Duration.from_sec(5)\n",
    "\n",
    "q_traj.points.append(point)\n",
    "\n",
    "robot.execute_arm_speed(q_traj, speed_limit=0.5)\n",
    "# traj"
   ]
  },
  {
   "cell_type": "code",
   "execution_count": 17,
   "metadata": {},
   "outputs": [],
   "source": [
    "motor_control = [0,0]\n",
    "\n",
    "motor_traj = JointTrajectory()\n",
    "point = JointTrajectoryPoint()\n",
    "point.positions = motor_control\n",
    "point.velocities = [0 for _ in range(2)]\n",
    "point.time_from_start = rospy.Duration.from_sec(2)\n",
    "\n",
    "motor_traj.points.append(point)\n",
    "soro.actuate(motor_traj)"
   ]
  },
  {
   "cell_type": "code",
   "execution_count": 18,
   "metadata": {},
   "outputs": [
    {
     "data": {
      "text/plain": [
       "((20, 2), (20, 6))"
      ]
     },
     "execution_count": 18,
     "metadata": {},
     "output_type": "execute_result"
    }
   ],
   "source": [
    "motor_array = np.load(\"planned_traj/circle/motor_array.npy\")\n",
    "qs_array = np.load(\"planned_traj/circle/qs_array.npy\")\n",
    "\n",
    "motor_array.shape, qs_array.shape"
   ]
  },
  {
   "cell_type": "code",
   "execution_count": 19,
   "metadata": {},
   "outputs": [
    {
     "data": {
      "text/plain": [
       "(array([-0.02628223, -0.92816806,  1.3628775 , -2.0055072 , -1.570796  ,\n",
       "        -0.02628358], dtype=float32),\n",
       " [0,\n",
       "  -1.5707963267948966,\n",
       "  1.5707963267948966,\n",
       "  -1.5707963267948966,\n",
       "  -1.5707963267948966,\n",
       "  1.5707963267948966])"
      ]
     },
     "execution_count": 19,
     "metadata": {},
     "output_type": "execute_result"
    }
   ],
   "source": [
    "qs_array[8], init_joint"
   ]
  },
  {
   "cell_type": "code",
   "execution_count": 20,
   "metadata": {},
   "outputs": [],
   "source": [
    "q_traj = JointTrajectory()\n",
    "motor_traj = JointTrajectory()\n",
    "\n",
    "unit_time = 3\n",
    "\n",
    "for i,(qs, motor_control) in enumerate(zip(qs_array, motor_array)):\n",
    "    point = JointTrajectoryPoint()\n",
    "    point.positions = qs\n",
    "    point.velocities = [0 for _ in range(6)]\n",
    "    point.time_from_start = rospy.Duration.from_sec(unit_time * (i+1))\n",
    "    q_traj.points.append(point)\n",
    "    \n",
    "    point = JointTrajectoryPoint()\n",
    "    point.positions = motor_control\n",
    "    point.velocities = [0 for _ in range(2)]\n",
    "    point.time_from_start = rospy.Duration.from_sec(unit_time * (i+1))\n",
    "    motor_traj.points.append(point)\n",
    "    "
   ]
  },
  {
   "cell_type": "code",
   "execution_count": 21,
   "metadata": {},
   "outputs": [
    {
     "name": "stdout",
     "output_type": "stream",
     "text": [
      "Waiting for server...\n",
      "Connected to server\n",
      "[(-3.6541615621388246e-05, -1.5711547336974085, 1.5709283987628382, -1.570470170383789, -1.5708096663104456, -3.8448964254200746e-05), array([-0.07520548, -0.91235256,  1.3309155 , -1.9893613 , -1.5707959 ,\n",
      "       -0.07520763], dtype=float32), array([-0.07506419, -0.9222058 ,  1.3494447 , -1.9980342 , -1.5707964 ,\n",
      "       -0.07506334], dtype=float32), array([-0.07244632, -0.93489414,  1.3722702 , -2.008171  , -1.5707964 ,\n",
      "       -0.07244546], dtype=float32), array([-0.06696826, -0.9442702 ,  1.3896253 , -2.0161505 , -1.5707964 ,\n",
      "       -0.06696773], dtype=float32), array([-0.05918093, -0.949543  ,  1.3999679 , -2.021221  , -1.5707964 ,\n",
      "       -0.05918072], dtype=float32), array([-0.0503016 , -0.95002854,  1.4017054 , -2.022473  , -1.5707964 ,\n",
      "       -0.05030172], dtype=float32), array([-0.04099071, -0.9462427 ,  1.3955001 , -2.020054  , -1.5707963 ,\n",
      "       -0.04099114], dtype=float32), array([-0.03287306, -0.9386636 ,  1.3820105 , -2.0141442 , -1.570796  ,\n",
      "       -0.032874  ], dtype=float32), array([-0.02628223, -0.92816806,  1.3628775 , -2.0055072 , -1.570796  ,\n",
      "       -0.02628358], dtype=float32), array([-0.02183988, -0.9154007 ,  1.3394139 , -1.9948115 , -1.5707959 ,\n",
      "       -0.02184144], dtype=float32), array([-0.02014315, -0.90126586,  1.3134938 , -1.9830263 , -1.5707959 ,\n",
      "       -0.02014463], dtype=float32), array([-0.02153429, -0.88756603,  1.2886047 , -1.9718368 , -1.5707959 ,\n",
      "       -0.02153552], dtype=float32), array([-0.02578312, -0.87588686,  1.267698  , -1.9626087 , -1.570796  ,\n",
      "       -0.02578402], dtype=float32), array([-0.03226312, -0.86787957,  1.2536602 , -1.9565778 , -1.570796  ,\n",
      "       -0.03226368], dtype=float32), array([-0.0403216 , -0.8642783 ,  1.2476332 , -1.9541517 , -1.5707961 ,\n",
      "       -0.04032178], dtype=float32), array([-0.04914486, -0.8655721 ,  1.2502652 , -1.9554895 , -1.5707963 ,\n",
      "       -0.04914467], dtype=float32), array([-0.05764126, -0.87160236,  1.2610587 , -1.9602522 , -1.5707964 ,\n",
      "       -0.05764064], dtype=float32), array([-0.0648737 , -0.88130176,  1.278035  , -1.9675285 , -1.5707965 ,\n",
      "       -0.06487256], dtype=float32), array([-0.07080287, -0.8940567 ,  1.3002331 , -1.9769713 , -1.5707965 ,\n",
      "       -0.0708015 ], dtype=float32), array([-0.07420525, -0.9077256 ,  1.3240284 , -1.9870974 , -1.5707965 ,\n",
      "       -0.07420368], dtype=float32)]\n",
      "[-0.07520548 -0.91235256  1.3309155  -1.9893613  -1.5707959  -0.07520763] [-3.65416156e-05 -1.57115473e+00  1.57092840e+00 -1.57047017e+00\n",
      " -1.57080967e+00 -3.84489643e-05]\n",
      "0.2745495419450959\n",
      "[-0.07506419 -0.9222058   1.3494447  -1.9980342  -1.5707964  -0.07506334] [-0.07520548 -0.91235256  1.3309155  -1.9893613  -1.5707959  -0.07520763]\n",
      "0.007569545259078343\n",
      "[-0.07244632 -0.93489414  1.3722702  -2.008171   -1.5707964  -0.07244546] [-0.07506419 -0.9222058   1.3494447  -1.9980342  -1.5707964  -0.07506334]\n",
      "0.009419002880652746\n",
      "[-0.06696826 -0.9442702   1.3896253  -2.0161505  -1.5707964  -0.06696773] [-0.07244632 -0.93489414  1.3722702  -2.008171   -1.5707964  -0.07244546]\n",
      "0.007548322901129723\n",
      "[-0.05918093 -0.949543    1.3999679  -2.021221   -1.5707964  -0.05918072] [-0.06696826 -0.9442702   1.3896253  -2.0161505  -1.5707964  -0.06696773]\n",
      "0.005595250055193901\n",
      "[-0.0503016  -0.95002854  1.4017054  -2.022473   -1.5707964  -0.05030172] [-0.05918093 -0.949543    1.3999679  -2.021221   -1.5707964  -0.05918072]\n",
      "0.0042492058128118515\n",
      "[-0.04099071 -0.9462427   1.3955001  -2.020054   -1.5707963  -0.04099114] [-0.0503016  -0.95002854  1.4017054  -2.022473   -1.5707964  -0.05030172]\n",
      "0.00507794413715601\n",
      "[-0.03287306 -0.9386636   1.3820105  -2.0141442  -1.570796   -0.032874  ] [-0.04099071 -0.9462427   1.3955001  -2.020054   -1.5707963  -0.04099114]\n",
      "0.006717500587304433\n",
      "[-0.02628223 -0.92816806  1.3628775  -2.0055072  -1.570796   -0.02628358] [-0.03287306 -0.9386636   1.3820105  -2.0141442  -1.570796   -0.032874  ]\n",
      "0.008417552337050438\n",
      "[-0.02183988 -0.9154007   1.3394139  -1.9948115  -1.5707959  -0.02184144] [-0.02628223 -0.92816806  1.3628775  -2.0055072  -1.570796   -0.02628358]\n",
      "0.009817284842332205\n",
      "[-0.02014315 -0.90126586  1.3134938  -1.9830263  -1.5707959  -0.02014463] [-0.02183988 -0.9154007   1.3394139  -1.9948115  -1.5707959  -0.02184144]\n",
      "0.010626445213953653\n",
      "[-0.02153429 -0.88756603  1.2886047  -1.9718368  -1.5707959  -0.02153552] [-0.02014315 -0.90126586  1.3134938  -1.9830263  -1.5707959  -0.02014463]\n",
      "0.01019927610953649\n",
      "[-0.02578312 -0.87588686  1.267698   -1.9626087  -1.570796   -0.02578402] [-0.02153429 -0.88756603  1.2886047  -1.9718368  -1.5707959  -0.02153552]\n",
      "0.008786055569847425\n",
      "[-0.03226312 -0.86787957  1.2536602  -1.9565778  -1.570796   -0.03226368] [-0.02578312 -0.87588686  1.267698   -1.9626087  -1.570796   -0.02578402]\n",
      "0.006510898470878601\n",
      "[-0.0403216  -0.8642783   1.2476332  -1.9541517  -1.5707961  -0.04032178] [-0.03226312 -0.86787957  1.2536602  -1.9565778  -1.570796   -0.03226368]\n",
      "0.004534450980524222\n",
      "[-0.04914486 -0.8655721   1.2502652  -1.9554895  -1.5707963  -0.04914467] [-0.0403216  -0.8642783   1.2476332  -1.9541517  -1.5707961  -0.04032178]\n",
      "0.004295790878434976\n",
      "[-0.05764126 -0.87160236  1.2610587  -1.9602522  -1.5707964  -0.05764064] [-0.04914486 -0.8655721   1.2502652  -1.9554895  -1.5707963  -0.04914467]\n",
      "0.005962062006195386\n",
      "[-0.0648737  -0.88130176  1.278035   -1.9675285  -1.5707965  -0.06487256] [-0.05764126 -0.87160236  1.2610587  -1.9602522  -1.5707964  -0.05764064]\n",
      "0.007744735727707545\n",
      "[-0.07080287 -0.8940567   1.3002331  -1.9769713  -1.5707965  -0.0708015 ] [-0.0648737  -0.88130176  1.278035   -1.9675285  -1.5707965  -0.06487256]\n",
      "0.009515582273403803\n",
      "[-0.07420525 -0.9077256   1.3240284  -1.9870974  -1.5707965  -0.07420368] [-0.07080287 -0.8940567   1.3002331  -1.9769713  -1.5707965  -0.0708015 ]\n",
      "0.009881192818284035\n",
      "Finish plan\n"
     ]
    }
   ],
   "source": [
    "robot.execute_arm_speed(q_traj, speed_limit=0.5)\n",
    "soro.actuate(motor_traj)"
   ]
  }
 ],
 "metadata": {
  "kernelspec": {
   "display_name": "Python 3.8.10 64-bit",
   "language": "python",
   "name": "python3"
  },
  "language_info": {
   "codemirror_mode": {
    "name": "ipython",
    "version": 3
   },
   "file_extension": ".py",
   "mimetype": "text/x-python",
   "name": "python",
   "nbconvert_exporter": "python",
   "pygments_lexer": "ipython3",
   "version": "3.8.10 (default, Mar 13 2023, 10:26:41) \n[GCC 9.4.0]"
  },
  "varInspector": {
   "cols": {
    "lenName": 16,
    "lenType": 16,
    "lenVar": 40
   },
   "kernels_config": {
    "python": {
     "delete_cmd_postfix": "",
     "delete_cmd_prefix": "del ",
     "library": "var_list.py",
     "varRefreshCmd": "print(var_dic_list())"
    },
    "r": {
     "delete_cmd_postfix": ") ",
     "delete_cmd_prefix": "rm(",
     "library": "var_list.r",
     "varRefreshCmd": "cat(var_dic_list()) "
    }
   },
   "types_to_exclude": [
    "module",
    "function",
    "builtin_function_or_method",
    "instance",
    "_Feature"
   ],
   "window_display": false
  },
  "vscode": {
   "interpreter": {
    "hash": "916dbcbb3f70747c44a77c7bcd40155683ae19c65e1c03b4aa3499c5328201f1"
   }
  }
 },
 "nbformat": 4,
 "nbformat_minor": 2
}
