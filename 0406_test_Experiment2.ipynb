{
 "cells": [
  {
   "cell_type": "code",
   "execution_count": 1,
   "metadata": {},
   "outputs": [],
   "source": [
    "minmaxInterval = 2000"
   ]
  },
  {
   "cell_type": "markdown",
   "metadata": {},
   "source": [
    "## open port"
   ]
  },
  {
   "cell_type": "code",
   "execution_count": 2,
   "metadata": {},
   "outputs": [
    {
     "name": "stdout",
     "output_type": "stream",
     "text": [
      "[sudo] password for terry: chmod: cannot access '/dev/ttyUSB1': No such file or directory\n"
     ]
    }
   ],
   "source": [
    "!echo 'quzinee1!'| sudo -S chmod a+rw /dev/ttyUSB1"
   ]
  },
  {
   "cell_type": "markdown",
   "metadata": {},
   "source": [
    "## BASIC USAGE OF XL320 CLASS"
   ]
  },
  {
   "cell_type": "code",
   "execution_count": 3,
   "metadata": {},
   "outputs": [
    {
     "data": {
      "text/plain": [
       "(4, 4)"
      ]
     },
     "execution_count": 3,
     "metadata": {},
     "output_type": "execute_result"
    }
   ],
   "source": [
    "import os, time\n",
    "import numpy as np\n",
    "import matplotlib.pyplot as plt\n",
    "from datetime import datetime\n",
    "from math import pi as PI\n",
    "DEG90 = PI/2\n",
    "PROPORTION_MATRIX = np.array(\n",
    "    [\n",
    "        [1,0.1,0.4,0.4, 0,0,0,0, 0,0,0,0, 0,0,0,0],\n",
    "        [0.1,1,0.4,0.4, 0,0,0,0, 0,0,0,0, 0,0,0,0],\n",
    "        [0.4,0.4,1,0.1, 0,0,0,0, 0,0,0,0, 0,0,0,0],\n",
    "        [0.4,0.4,0.1,1, 0,0,0,0, 0,0,0,0, 0,0,0,0],\n",
    "        \n",
    "        [0,0,0,0,  1,0.1,0.4,0.4, 0,0,0,0, 0,0,0,0],\n",
    "        [0,0,0,0,  0.1,1,0.4,0.4,  0,0,0,0, 0,0,0,0],\n",
    "        [0,0,0,0,  0.4,0.4,1,0.1, 0,0,0,0, 0,0,0,0],\n",
    "        [0,0,0,0,  0.4,0.4,0.1,1, 0,0,0,0, 0,0,0,0],\n",
    "        \n",
    "        [0,0,0,0, 0,0,0,0, 1,0.1,0.4,0.4, 0,0,0,0],\n",
    "        [0,0,0,0, 0,0,0,0, 0.1,1,0.4,0.4, 0,0,0,0],\n",
    "        [0,0,0,0, 0,0,0,0, 0.4,0.4,1,0.1, 0,0,0,0],\n",
    "        [0,0,0,0, 0,0,0,0, 0.4,0.4,0.1,1, 0,0,0,0],\n",
    "        \n",
    "        [0,0,0,0, 0,0,0,0, 0,0,0,0, 1,0.1,0.4,0.4],\n",
    "        [0,0,0,0, 0,0,0,0, 0,0,0,0, 0.1,1,0.4,0.4],\n",
    "        [0,0,0,0, 0,0,0,0, 0,0,0,0, 0.4,0.4,1,0.1],\n",
    "        [0,0,0,0, 0,0,0,0, 0,0,0,0, 0.4,0.4,0.1,1],\n",
    "        ])\n",
    "PROPORTION_MATRIX = PROPORTION_MATRIX[:4,:4]\n",
    "PROPORTION_MATRIX.shape"
   ]
  },
  {
   "cell_type": "code",
   "execution_count": 4,
   "metadata": {
    "ExecuteTime": {
     "end_time": "2017-10-27T16:24:29.711191Z",
     "start_time": "2017-10-27T16:24:29.478864Z"
    }
   },
   "outputs": [
    {
     "name": "stdout",
     "output_type": "stream",
     "text": [
      "['/home/terry/Rilab/sOftrobot/SORO-Dynamixel-python', '', '/home/terry/catkin_ws/devel/lib/python3/dist-packages', '/opt/ros/noetic/lib/python3/dist-packages', '/usr/lib/python38.zip', '/usr/lib/python3.8', '/usr/lib/python3.8/lib-dynload', '/home/terry/.local/lib/python3.8/site-packages', '/usr/local/lib/python3.8/dist-packages', '/usr/lib/python3/dist-packages', '.']\n"
     ]
    }
   ],
   "source": [
    "import sys\n",
    "sys.path.append(\".\")\n",
    "\"\"\" FOR DYNAMIXEL \"\"\"\n",
    "from model.class_xc330 import xc330\n",
    "\"\"\" FOR MODERN DRIVER \"\"\"\n",
    "import roslib; roslib.load_manifest('ur_driver')\n",
    "import rospy\n",
    "import actionlib\n",
    "from control_msgs.msg import *\n",
    "from trajectory_msgs.msg import *\n",
    "from sensor_msgs.msg import JointState\n",
    "\n",
    "from class_vicon_marker import VICON\n",
    "from class_vicon_base import ViconBase\n",
    "\n",
    "class OneFinger(object):\n",
    "    def __init__(self,):\n",
    "        rospy.init_node(\"DEMO\")\n",
    "        self.JOINT_NAMES = ['shoulder_pan_joint', 'shoulder_lift_joint', 'elbow_joint',\n",
    "                            'wrist_1_joint', 'wrist_2_joint', 'wrist_3_joint']\n",
    "        self.client      = None\n",
    "        \n",
    "        self.xc          = xc330('SOFTROBOT', _USB_NUM=0)\n",
    "        \n",
    "    def init_xc(self,initpos):\n",
    "        self.xc.connect()\n",
    "        self.xc.set_operatingmode([4])\n",
    "\n",
    "        self.xc.set_torque([0])\n",
    "        time.sleep(2)\n",
    "        self.xc.set_torque([1])\n",
    "        print (\"TORQUE ON\")\n",
    "\n",
    "        currpos = self.xc.get_currpos()\n",
    "        minmaxInterval = 5000\n",
    "        self.xc.set_minmaxpos(currpos-np.ones_like(currpos)*minmaxInterval,currpos+np.ones_like(currpos)*minmaxInterval)\n",
    "\n",
    "        if initpos is None:\n",
    "            initpos = currpos; print(\"No initpos Found\")\n",
    "            self.set_init_pos()\n",
    "            return currpos\n",
    "\n",
    "        self.xc.set_goalposcluster(initpos,1)\n",
    "\n",
    "        print(\"INITIALIZE POSITION\")\n",
    "        currpos = self.xc.get_currpos()\n",
    "        print(currpos)\n",
    "\n",
    "        minmaxInterval = minmaxInterval\n",
    "        self.xc.set_minmaxpos(currpos-np.ones_like(currpos)*minmaxInterval,currpos+np.ones_like(currpos)*minmaxInterval)\n",
    "        self.set_init_pos()\n",
    "        return currpos\n",
    "        \n",
    "    def set_init_pos(self):\n",
    "        self.initpos = self.xc.get_currpos()\n",
    "    # def move_xc(self,pos):\n",
    "    #     pos = self.initpos + np.array(pos)* np.array([1,-1,-1,1])\n",
    "    #     self.xc.set_goalposcluster(pos,1)\n",
    "        \n",
    "    def pmove_xc(self,pos):\n",
    "        pos = self.initpos + PROPORTION_MATRIX @ np.array(pos) * np.array([1,-1,-1,1])\n",
    "        self.xc.set_goalposcluster(pos,1)\n",
    "        \n",
    "    def move_arm_speed(self, joints, speed):\n",
    "        try: \n",
    "            q = joints\n",
    "            g = FollowJointTrajectoryGoal()\n",
    "            g.trajectory = JointTrajectory()\n",
    "            g.trajectory.joint_names = self.JOINT_NAMES\n",
    "            joint_states = rospy.wait_for_message(\"joint_states\", JointState)\n",
    "            joints_pos   = joint_states.position\n",
    "\n",
    "            diff = np.array(joints_pos) - np.array(q)\n",
    "\n",
    "            assert speed <= 1e-1 \n",
    "            movetime = np.linalg.norm(diff)/speed\n",
    "\n",
    "            g.trajectory.points = [\n",
    "                JointTrajectoryPoint(positions=joints_pos, velocities=[0]*6, time_from_start=rospy.Duration(0.0)),\n",
    "                JointTrajectoryPoint(positions=q, velocities=[0]*6, time_from_start=rospy.Duration(movetime))]  \n",
    "\n",
    "            self.client.send_goal(g)\n",
    "            self.client.wait_for_result()\n",
    "        except KeyboardInterrupt:\n",
    "            self.client.cancel_goal()\n",
    "            raise\n",
    "        except:\n",
    "            raise  \n",
    "        \n",
    "    def move_xc(self, control, movetime):\n",
    "        controls = np.array(control).astype(int)\n",
    "        assert controls.ndim == 1\n",
    "\n",
    "        \n",
    "        pos_list = []\n",
    "        currpos = self.xc.get_currpos()\n",
    "        goal_pos  = control * np.array([1,-1,-1,1]) + self.initpos\n",
    "\n",
    "        resolution = 5\n",
    "        splitnum = np.linalg.norm(goal_pos - currpos)/resolution\n",
    "\n",
    "        interpolate_pos = np.linspace(currpos,goal_pos,int(splitnum))\n",
    "        currpos = goal_pos\n",
    "        pos_list.append(interpolate_pos)\n",
    "        \n",
    "        pos_array = np.vstack(pos_list)\n",
    "\n",
    "        if len(pos_array) > 0:\n",
    "            unit_sleep = movetime/len(pos_array)\n",
    "            for pos in pos_array:\n",
    "                self.xc.set_goalpos(pos)\n",
    "                time.sleep(unit_sleep)\n",
    "\n",
    "\n",
    "    def multiple_move_xc(self, controls, movetimes):\n",
    "        controls = np.array(controls).astype(int)\n",
    "        movetimes = np.array(movetimes)\n",
    "        assert controls.ndim == 2\n",
    "        assert movetimes.ndim == 1\n",
    "        \n",
    "        pos_list = []\n",
    "        currpos = self.xc.get_currpos()\n",
    "\n",
    "        for control in controls:\n",
    "            goal_pos  = control * np.array([1,-1,-1,1]) + self.initpos\n",
    "\n",
    "            resolution = 5\n",
    "            splitnum = np.linalg.norm(goal_pos - currpos)/resolution\n",
    "\n",
    "            interpolate_pos = np.linspace(currpos,goal_pos,int(splitnum))\n",
    "            currpos = goal_pos\n",
    "            pos_list.append(interpolate_pos)\n",
    "            \n",
    "        # pos_array = np.vstack(pos_list)\n",
    "        for pos, movetime in zip(pos_list, movetimes):\n",
    "            unit_sleep = movetime/len(pos)\n",
    "            for pos_ in pos:\n",
    "                self.xc.set_goalpos(pos_)\n",
    "                time.sleep(unit_sleep)\n",
    "\n",
    "    def execute_arm_speed(self, joints, speed):\n",
    "        try:\n",
    "            self.client = actionlib.SimpleActionClient('follow_joint_trajectory', FollowJointTrajectoryAction)\n",
    "            print(\"Waiting for server...\")\n",
    "            self.client.wait_for_server()\n",
    "            print(\"Connected to server\")\n",
    "            \"\"\" Initialize \"\"\"\n",
    "            self.move_arm_speed(joints, speed)\n",
    "            print(\"Finish plan\")\n",
    "\n",
    "        except KeyboardInterrupt:\n",
    "            rospy.signal_shutdown(\"KeyboardInterrupt\")\n",
    "            raise      \n"
   ]
  },
  {
   "cell_type": "markdown",
   "metadata": {},
   "source": [
    "## INSTANTIATE Robot "
   ]
  },
  {
   "cell_type": "code",
   "execution_count": 5,
   "metadata": {
    "ExecuteTime": {
     "end_time": "2017-10-27T16:24:31.277571Z",
     "start_time": "2017-10-27T16:24:31.275156Z"
    }
   },
   "outputs": [
    {
     "name": "stdout",
     "output_type": "stream",
     "text": [
      "[SOFTROBOT] INSTANTIATED AT [b'/dev/ttyUSB0']\n"
     ]
    }
   ],
   "source": [
    "robot = OneFinger()"
   ]
  },
  {
   "cell_type": "code",
   "execution_count": 6,
   "metadata": {},
   "outputs": [
    {
     "name": "stdout",
     "output_type": "stream",
     "text": [
      "Waiting for server...\n",
      "Connected to server\n",
      "Finish plan\n"
     ]
    }
   ],
   "source": [
    "init_joint=[0,-DEG90,DEG90,-DEG90,-DEG90, 0]\n",
    "robot.execute_arm_speed(init_joint, speed=1e-1)"
   ]
  },
  {
   "cell_type": "code",
   "execution_count": 7,
   "metadata": {},
   "outputs": [
    {
     "name": "stdout",
     "output_type": "stream",
     "text": [
      "[SOFTROBOT] CONNECT\n",
      " SUCCEEDED TO OPEN THE PORT!\n",
      " SUCCEEDED TO CHANGE THE BAUDRATE!\n",
      "COMMUNICATION SUCCESS\n",
      "[SOFTROBOT] DETECT ID\n",
      "[SOFTROBOT] [4]MOTORS DETECTED \n",
      "[SOFTROBOT] ID_LIST:[[13, 14, 15, 16]]\n",
      "TORQUE ON\n",
      "INITIALIZE POSITION\n",
      "[4675 3105  985 1591]\n"
     ]
    }
   ],
   "source": [
    "currpos = robot.init_xc([4722, 3082,  957, 1628])"
   ]
  },
  {
   "cell_type": "code",
   "execution_count": 8,
   "metadata": {},
   "outputs": [],
   "source": [
    "# robot.move_xc([1000,0,0,0], movetime=5)"
   ]
  },
  {
   "cell_type": "code",
   "execution_count": 10,
   "metadata": {},
   "outputs": [],
   "source": [
    "def move_soro(robot:OneFinger, motor_array, time_array):\n",
    "    motor_array = np.array(motor_array)\n",
    "\n",
    "    assert motor_array.ndim == 2\n",
    "    assert len(time_array) == len(motor_array)\n",
    "\n",
    "    motor_list = []\n",
    "    currpos = robot.xc.get_currpos()\n",
    "    \n",
    "    for motor_control in motor_array:\n",
    "        goal_pos  = PROPORTION_MATRIX @ motor_control * np.array([1,-1,-1,1]) + robot.initpos\n",
    "\n",
    "        resolution = 10\n",
    "        splitnum = np.linalg.norm(goal_pos - currpos)/resolution\n",
    "\n",
    "        interpolate_pos = np.linspace(currpos,goal_pos,int(splitnum))\n",
    "        currpos = goal_pos\n",
    "        motor_list.append(interpolate_pos)\n",
    "    \n",
    "    from tqdm.notebook import tqdm\n",
    "    i = 0\n",
    "    for motor_array, movetime in tqdm(zip(motor_list, time_array)):\n",
    "        \n",
    "        unit_sleep = movetime/len(motor_array)\n",
    "        for motor in motor_array:\n",
    "            robot.xc.set_goalpos(motor)\n",
    "            time.sleep(unit_sleep* 0.7)\n",
    "        robot.client.wait_for_result()\n",
    "\n",
    "\n",
    "\n"
   ]
  },
  {
   "attachments": {},
   "cell_type": "markdown",
   "metadata": {},
   "source": [
    "# get qs and motor for paint"
   ]
  },
  {
   "cell_type": "code",
   "execution_count": 10,
   "metadata": {},
   "outputs": [],
   "source": [
    "# q0 = [0,-DEG90,DEG90,-DEG90,-DEG90, 0]\n",
    "# motor0 = [0,0,0,0]\n",
    "\n",
    "# q1 = np.array([-0.6, -57.6, 109.6, -179.4, -100.5, 0.0])/180 * PI\n",
    "# motor1 = [0,1000,0,0]\n",
    "# q2 = np.array([-3.6, -56.0, 108.3, -177.1, -97.4, 0.0])/180 * PI\n",
    "# moto2 = [1000,0,0,0]\n",
    "\n",
    "# qs_array = np.array([q0,q1,q2])\n",
    "# motor_array = np.array([motor0,motor1,moto2])\n",
    "\n",
    "# qs_array.shape, motor_array.shape"
   ]
  },
  {
   "cell_type": "code",
   "execution_count": 11,
   "metadata": {},
   "outputs": [],
   "source": [
    "q_ink_up   = np.array([-52.8, -79.8-1, 110.9, -121.3, -89.9, -52.7]) / 180 * PI\n",
    "q_ink_down = np.array([-52.8, -74.8-1, 115.0, -130.3, -89.9, -52.7]) / 180 * PI\n",
    "\n",
    "m_ink_up   = np.array([0,0,500,0])\n",
    "m_ink_down = np.array([0,0,0,500])\n",
    "\n",
    "q_ink_array = np.vstack([q_ink_up, q_ink_down, q_ink_down, q_ink_up])\n",
    "m_ink_array = np.vstack([m_ink_up, m_ink_up, m_ink_down, m_ink_down])\n"
   ]
  },
  {
   "cell_type": "code",
   "execution_count": 12,
   "metadata": {},
   "outputs": [],
   "source": [
    "# move_arm_soro(robot, q_ink_array, m_ink_array, time_array=2*np.ones(len(m_ink_array)).astype(np.float32))"
   ]
  },
  {
   "cell_type": "code",
   "execution_count": 19,
   "metadata": {},
   "outputs": [],
   "source": [
    "pertub = [2,3,0,1]\n",
    "\n",
    "motor_array = np.load(\"planned_traj/save/paint/motor_array.npy\").astype(np.float32)[:, pertub]\n",
    "qs_array    = np.load(\"planned_traj/save/paint/qs_array.npy\").astype(np.float32)\n",
    "\n",
    "assert (qs_array <  PI).all() and (qs_array>-PI).all()"
   ]
  },
  {
   "cell_type": "code",
   "execution_count": 20,
   "metadata": {},
   "outputs": [],
   "source": [
    "# i = 1\n",
    "# move_arm_soro(robot,np.array([qs_array[i]]), np.array([motor_array[i]]), time_array=np.ones(1).astype(np.float32))\n",
    "# motor_array[i]"
   ]
  },
  {
   "cell_type": "code",
   "execution_count": 21,
   "metadata": {},
   "outputs": [],
   "source": [
    "# motor_array = 200* np.ones_like(motor_array).astype(np.float32)"
   ]
  },
  {
   "cell_type": "code",
   "execution_count": 22,
   "metadata": {},
   "outputs": [
    {
     "data": {
      "text/plain": [
       "array([[ 618.4649 ,  691.57635,  937.16876,  279.90594],\n",
       "       [ 543.40295,  834.30255,  936.04034,  318.74585],\n",
       "       [ 493.20248, 1034.622  ,  899.9741 ,  373.40823],\n",
       "       [ 493.20248, 1034.622  ,  899.9741 ,  373.40823],\n",
       "       [ 489.09375, 1050.942  ,  886.35565,  387.9576 ],\n",
       "       [ 489.0934 , 1050.9421 ,  886.3557 ,  387.95737],\n",
       "       [ 489.0934 , 1050.9421 ,  886.3557 ,  387.95737],\n",
       "       [ 555.53033,  803.857  ,  946.15155,  326.1091 ],\n",
       "       [ 652.9683 ,  629.6859 ,  939.26404,  277.35257],\n",
       "       [ 652.9683 ,  629.6859 ,  939.26404,  277.35257],\n",
       "       [ 653.2155 ,  629.25037,  939.35645,  277.13367],\n",
       "       [ 653.21625,  629.24884,  939.3566 ,  277.13303],\n",
       "       [ 653.21625,  629.24884,  939.3566 ,  277.13303],\n",
       "       [ 603.7238 ,  730.78656,  882.1786 ,  355.89212],\n",
       "       [ 608.1578 ,  794.5985 ,  762.6408 ,  456.77808],\n",
       "       [ 608.1578 ,  794.5985 ,  762.6408 ,  456.77808],\n",
       "       [ 606.87946,  802.48737,  759.7019 ,  461.28088],\n",
       "       [ 606.4891 ,  804.8964 ,  758.8046 ,  462.65576],\n",
       "       [ 606.4891 ,  804.8964 ,  758.8046 ,  462.65576],\n",
       "       [ 611.9267 ,  738.99475,  878.6149 ,  349.2577 ],\n",
       "       [ 630.22516,  673.5751 ,  974.94086,  252.23586],\n",
       "       [ 630.22516,  673.5751 ,  974.94086,  252.23586],\n",
       "       [ 630.4258 ,  673.2227 ,  975.0127 ,  252.06047],\n",
       "       [ 630.42615,  673.22235,  975.0133 ,  252.0597 ],\n",
       "       [ 630.42615,  673.22235,  975.0133 ,  252.0597 ],\n",
       "       [ 634.543  ,  654.1722 , 1008.3678 ,  219.68025],\n",
       "       [ 705.74646,  629.04047, 1225.6599 ,  197.89182],\n",
       "       [ 705.74646,  629.04047, 1225.6599 ,  197.89182],\n",
       "       [ 731.1188 ,  613.95905, 1258.5378 ,  200.53267],\n",
       "       [ 737.10364,  610.46936, 1266.4419 ,  200.02739],\n",
       "       [ 737.10364,  610.46936, 1266.4419 ,  200.02739],\n",
       "       [ 697.35004,  622.2449 , 1188.8837 ,  341.45715],\n",
       "       [ 646.5248 ,  648.3052 , 1113.9054 ,  488.28506],\n",
       "       [ 646.5248 ,  648.3052 , 1113.9054 ,  488.28506],\n",
       "       [ 645.13196,  649.75745, 1113.4723 ,  490.02914],\n",
       "       [ 645.0469 ,  649.8463 , 1113.4459 ,  490.1354 ],\n",
       "       [ 645.0469 ,  649.8463 , 1113.4459 ,  490.1354 ],\n",
       "       [ 599.93005,  728.1124 , 1064.741  ,  584.52466],\n",
       "       [ 554.4045 ,  932.29865,  935.488  ,  702.6752 ],\n",
       "       [ 554.4045 ,  932.29865,  935.488  ,  702.6752 ],\n",
       "       [ 554.40356,  932.30115,  935.48456,  702.6783 ],\n",
       "       [ 554.4035 ,  932.3015 ,  935.4832 ,  702.6795 ],\n",
       "       [ 554.4035 ,  932.3015 ,  935.4832 ,  702.6795 ],\n",
       "       [ 589.0887 ,  766.21594, 1051.176  ,  598.5644 ],\n",
       "       [ 682.339  ,  592.45447, 1180.0807 ,  394.21808],\n",
       "       [ 682.339  ,  592.45447, 1180.0807 ,  394.21808],\n",
       "       [ 688.8212 ,  585.7204 , 1182.151  ,  386.0241 ],\n",
       "       [ 689.0326 ,  585.5009 , 1182.2189 ,  385.75662],\n",
       "       [ 689.0326 ,  585.5009 , 1182.2189 ,  385.75662],\n",
       "       [ 683.49054,  604.5538 , 1209.6609 ,  351.69806],\n",
       "       [ 726.54865,  589.1883 , 1287.9296 ,  206.5764 ],\n",
       "       [ 726.54865,  589.1883 , 1287.9296 ,  206.5764 ],\n",
       "       [ 728.34186,  587.3406 , 1288.5359 ,  204.2627 ],\n",
       "       [ 728.38043,  587.30096, 1288.5488 ,  204.21278],\n",
       "       [ 728.38043,  587.30096, 1288.5488 ,  204.21278],\n",
       "       [ 685.36957,  602.6045 , 1210.2676 ,  349.31406],\n",
       "       [ 632.43335,  631.1049 , 1135.1583 ,  498.04642],\n",
       "       [ 632.43335,  631.1049 , 1135.1583 ,  498.04642],\n",
       "       [ 630.8152 ,  632.7926 , 1134.656  ,  500.07138],\n",
       "       [ 630.78186,  632.8271 , 1134.6453 ,  500.1134 ],\n",
       "       [ 630.78186,  632.8271 , 1134.6453 ,  500.1134 ],\n",
       "       [ 680.31244,  608.01544, 1208.9979 ,  355.2203 ],\n",
       "       [ 722.71857,  593.5377 , 1287.5188 ,  210.2747 ],\n",
       "       [ 722.71857,  593.5377 , 1287.5188 ,  210.2747 ],\n",
       "       [ 724.506  ,  591.6956 , 1288.1226 ,  207.96956],\n",
       "       [ 724.5408 ,  591.6596 , 1288.1338 ,  207.92513],\n",
       "       [ 724.5408 ,  591.6596 , 1288.1338 ,  207.92513],\n",
       "       [ 683.8333 ,  604.3631 , 1210.1327 ,  350.75516],\n",
       "       [ 633.1127 ,  630.31415, 1135.1866 ,  497.45172],\n",
       "       [ 633.1127 ,  630.31415, 1135.1866 ,  497.45172],\n",
       "       [ 631.5795 ,  631.91284, 1134.71   ,  499.3713 ],\n",
       "       [ 631.503  ,  631.99255, 1134.6858 ,  499.4679 ],\n",
       "       [ 631.503  ,  631.99255, 1134.6858 ,  499.4679 ],\n",
       "       [ 610.1111 ,  683.76984, 1101.9612 ,  544.7154 ],\n",
       "       [ 536.60095,  918.60834,  949.7905 ,  725.28265],\n",
       "       [ 536.60095,  918.60834,  949.7905 ,  725.28265],\n",
       "       [ 536.59863,  918.6145 ,  949.78204,  725.29   ],\n",
       "       [ 536.5987 ,  918.6147 ,  949.78125,  725.2905 ],\n",
       "       [ 536.5987 ,  918.6147 ,  949.78125,  725.2905 ],\n",
       "       [ 569.79114,  757.25903, 1065.1426 ,  624.6276 ],\n",
       "       [ 592.9374 ,  646.739  , 1188.3864 ,  493.1437 ],\n",
       "       [ 592.9374 ,  646.739  , 1188.3864 ,  493.1437 ],\n",
       "       [ 667.1394 ,  561.2602 , 1213.613  ,  402.73145],\n",
       "       [ 669.2326 ,  559.0864 , 1214.2831 ,  400.0839 ],\n",
       "       [ 669.2326 ,  559.0864 , 1214.2831 ,  400.0839 ],\n",
       "       [ 663.73285,  578.09485, 1241.7384 ,  365.972  ],\n",
       "       [ 706.6576 ,  562.8664 , 1319.9615 ,  221.02307],\n",
       "       [ 706.6576 ,  562.8664 , 1319.9615 ,  221.02307],\n",
       "       [ 708.6078 ,  560.85724, 1320.6213 ,  218.50604],\n",
       "       [ 708.6433 ,  560.8208 , 1320.633  ,  218.46034],\n",
       "       [ 708.6433 ,  560.8208 , 1320.633  ,  218.46034],\n",
       "       [ 665.7736 ,  575.97797, 1242.3973 ,  363.38223],\n",
       "       [ 618.5151 ,  611.88464, 1158.7672 ,  508.50705],\n",
       "       [ 618.5151 ,  611.88464, 1158.7672 ,  508.50705],\n",
       "       [ 616.79724,  613.6756 , 1158.2322 ,  510.65952],\n",
       "       [ 616.757  ,  613.7178 , 1158.2198 ,  510.7096 ],\n",
       "       [ 616.757  ,  613.7178 , 1158.2198 ,  510.7096 ],\n",
       "       [ 611.7425 ,  613.76654, 1133.0479 ,  546.79407],\n",
       "       [ 581.385  ,  749.6967 ,  970.8473 ,  725.3314 ],\n",
       "       [ 581.385  ,  749.6967 ,  970.8473 ,  725.3314 ],\n",
       "       [ 577.0612 ,  766.9652 ,  964.74884,  731.2777 ],\n",
       "       [ 576.97095,  767.3255 ,  964.62213,  731.4015 ],\n",
       "       [ 576.97095,  767.3255 ,  964.62213,  731.4015 ],\n",
       "       [ 583.3409 ,  687.0899 , 1086.3928 ,  617.9344 ],\n",
       "       [ 591.68335,  655.3377 , 1196.7325 ,  485.3144 ],\n",
       "       [ 591.68335,  655.3377 , 1196.7325 ,  485.3144 ],\n",
       "       [ 638.3828 ,  595.0374 , 1216.5834 ,  427.88486],\n",
       "       [ 644.8842 ,  588.2757 , 1218.6423 ,  419.69125],\n",
       "       [ 644.8842 ,  588.2757 , 1218.6423 ,  419.69125],\n",
       "       [ 583.1552 ,  678.06934, 1192.1775 ,  491.91663],\n",
       "       [ 484.1506 , 1011.67017, 1094.533  ,  613.91327],\n",
       "       [ 484.1506 , 1011.67017, 1094.533  ,  613.91327],\n",
       "       [ 480.82248, 1023.3863 , 1092.0931 ,  619.80884],\n",
       "       [ 479.737  , 1027.1307 , 1091.412  ,  621.9533 ],\n",
       "       [ 479.737  , 1027.1307 , 1091.412  ,  621.9533 ],\n",
       "       [ 555.25275,  784.2077 , 1116.9133 ,  566.17194],\n",
       "       [ 676.26587,  572.9615 , 1160.6244 ,  428.23706],\n",
       "       [ 676.26587,  572.9615 , 1160.6244 ,  428.23706],\n",
       "       [ 686.3817 ,  562.4431 , 1163.8334 ,  415.4805 ],\n",
       "       [ 686.4825 ,  562.3385 , 1163.8652 ,  415.353  ],\n",
       "       [ 686.4825 ,  562.3385 , 1163.8652 ,  415.353  ],\n",
       "       [ 740.82074,  509.24594, 1188.4025 ,  336.51642],\n",
       "       [ 891.8937 ,  346.1305 , 1201.6279 ,  200.74834],\n",
       "       [ 891.8937 ,  346.1305 , 1201.6279 ,  200.74834],\n",
       "       [ 883.4118 ,  332.37167, 1201.6461 ,  202.80139],\n",
       "       [ 876.06476,  319.811  , 1200.1111 ,  197.93277],\n",
       "       [ 876.06476,  319.811  , 1200.1111 ,  197.93277],\n",
       "       [ 861.67285,  389.35236, 1323.3622 ,  441.74536],\n",
       "       [ 837.4772 ,  469.91257, 1475.8588 ,  731.56464],\n",
       "       [ 837.4772 ,  469.91257, 1475.8588 ,  731.56464],\n",
       "       [ 835.3842 ,  474.38525, 1485.2936 ,  745.2526 ],\n",
       "       [ 834.7511 ,  475.7401 , 1488.1504 ,  749.4016 ],\n",
       "       [ 834.7511 ,  475.7401 , 1488.1504 ,  749.4016 ],\n",
       "       [ 882.1408 ,  405.3791 , 1321.0507 ,  580.4219 ],\n",
       "       [ 936.8419 ,  342.4144 , 1104.4196 ,  463.98953],\n",
       "       [ 936.8419 ,  342.4144 , 1104.4196 ,  463.98953],\n",
       "       [ 940.9025 ,  338.28833, 1079.6332 ,  449.08704],\n",
       "       [ 941.60565,  337.57364, 1075.3344 ,  446.5196 ],\n",
       "       [ 941.60565,  337.57364, 1075.3344 ,  446.5196 ],\n",
       "       [ 903.08704,  396.89203, 1298.7344 ,  538.797  ],\n",
       "       [ 838.93274,  473.305  , 1496.5933 ,  681.64856],\n",
       "       [ 838.93274,  473.305  , 1496.5933 ,  681.64856],\n",
       "       [ 836.36346,  478.73154, 1508.0786 ,  698.1605 ],\n",
       "       [ 835.96313,  479.57803, 1509.8696 ,  700.7372 ],\n",
       "       [ 835.96313,  479.57803, 1509.8696 ,  700.7372 ],\n",
       "       [ 847.4914 ,  500.0108 , 1525.7344 ,  830.8569 ],\n",
       "       [ 952.5494 ,  466.54745, 1713.0386 , 1071.4711 ],\n",
       "       [ 952.5494 ,  466.54745, 1713.0386 , 1071.4711 ],\n",
       "       [ 978.6553 ,  453.6033 , 1761.7952 , 1111.544  ],\n",
       "       [ 984.5377 ,  450.84985, 1773.3163 , 1121.3632 ],\n",
       "       [ 984.5377 ,  450.84985, 1773.3163 , 1121.3632 ],\n",
       "       [ 788.11456,  505.05643, 1634.6555 ,  987.5039 ],\n",
       "       [ 626.9958 ,  493.80197, 1462.6635 ,  829.19214],\n",
       "       [ 626.9958 ,  493.80197, 1462.6635 ,  829.19214],\n",
       "       [ 626.9958 ,  493.80197, 1462.6635 ,  829.19214],\n",
       "       [ 626.9958 ,  493.80197, 1462.6635 ,  829.19214],\n",
       "       [ 626.9958 ,  493.80197, 1462.6635 ,  829.19214],\n",
       "       [ 672.58606,  520.1033 , 1468.138  ,  924.58307],\n",
       "       [ 795.33093,  602.98236, 1541.569  , 1171.0752 ],\n",
       "       [ 795.33093,  602.98236, 1541.569  , 1171.0752 ],\n",
       "       [ 806.7622 ,  617.61426, 1557.0023 , 1199.4319 ],\n",
       "       [ 808.83966,  620.27136, 1559.8044 , 1204.5836 ],\n",
       "       [ 808.83966,  620.27136, 1559.8044 , 1204.5836 ],\n",
       "       [ 692.78253,  546.7279 , 1496.3661 ,  975.2867 ],\n",
       "       [ 635.43066,  497.30655, 1486.5862 ,  834.64734],\n",
       "       [ 635.43066,  497.30655, 1486.5862 ,  834.64734],\n",
       "       [ 635.4306 ,  497.3065 , 1486.5858 ,  834.64734],\n",
       "       [ 635.4307 ,  497.30655, 1486.5856 ,  834.6475 ],\n",
       "       [ 635.4307 ,  497.30655, 1486.5856 ,  834.6475 ],\n",
       "       [ 587.08716,  471.5036 , 1324.7568 ,  806.8707 ],\n",
       "       [ 523.1653 ,  437.24847, 1116.1056 ,  767.5499 ],\n",
       "       [ 523.165  ,  437.24835, 1116.1067 ,  767.552  ],\n",
       "       [ 523.165  ,  437.2482 , 1116.1072 ,  767.55176],\n",
       "       [ 523.1645 ,  437.248  , 1116.1069 ,  767.5521 ],\n",
       "       [ 523.1645 ,  437.248  , 1116.1068 ,  767.55206],\n",
       "       [ 505.96292,  429.43665, 1212.5776 ,  689.8284 ],\n",
       "       [ 498.43716,  412.33957, 1307.579  ,  604.5547 ],\n",
       "       [ 498.43716,  412.33957, 1307.579  ,  604.5547 ],\n",
       "       [ 498.55035,  412.22366, 1307.5901 ,  604.43896],\n",
       "       [ 498.7381 ,  412.03186, 1307.6064 ,  604.24896],\n",
       "       [ 498.7381 ,  412.03186, 1307.6064 ,  604.24896],\n",
       "       [ 648.22095,  271.7313 , 1272.722  ,  499.4395 ],\n",
       "       [ 771.69446,  199.76842, 1167.9353 ,  226.73387],\n",
       "       [ 771.69446,  199.76842, 1167.9353 ,  226.73387],\n",
       "       [ 784.2051 ,  200.221  , 1154.426  ,  201.26729],\n",
       "       [ 784.9835 ,  200.02852, 1153.4233 ,  199.94312],\n",
       "       [ 784.9835 ,  200.02852, 1153.4233 ,  199.94312],\n",
       "       [ 763.167  ,  281.10812, 1303.6292 ,  467.1628 ],\n",
       "       [ 734.3835 ,  365.27258, 1467.4756 ,  758.7143 ]], dtype=float32)"
      ]
     },
     "execution_count": 22,
     "metadata": {},
     "output_type": "execute_result"
    }
   ],
   "source": [
    "motor_array"
   ]
  },
  {
   "cell_type": "code",
   "execution_count": 24,
   "metadata": {},
   "outputs": [
    {
     "data": {
      "text/plain": [
       "63"
      ]
     },
     "execution_count": 24,
     "metadata": {},
     "output_type": "execute_result"
    }
   ],
   "source": [
    "len(motor_array)//3"
   ]
  },
  {
   "cell_type": "code",
   "execution_count": 25,
   "metadata": {},
   "outputs": [
    {
     "data": {
      "text/plain": [
       "(63.0, 192)"
      ]
     },
     "execution_count": 25,
     "metadata": {},
     "output_type": "execute_result"
    }
   ],
   "source": [
    "(189) / 3, 64 * 3"
   ]
  },
  {
   "cell_type": "code",
   "execution_count": 26,
   "metadata": {},
   "outputs": [
    {
     "data": {
      "application/vnd.jupyter.widget-view+json": {
       "model_id": "53d03a5609c14a918a66cd090ff22956",
       "version_major": 2,
       "version_minor": 0
      },
      "text/plain": [
       "0it [00:00, ?it/s]"
      ]
     },
     "metadata": {},
     "output_type": "display_data"
    },
    {
     "name": "stdout",
     "output_type": "stream",
     "text": [
      "[-0.92153385 -1.41022604  1.93557014 -2.11708438 -1.569051   -0.91978852]\n",
      "[-0.92153385 -1.32295957  2.00712864 -2.27416402 -1.569051   -0.91978852]\n"
     ]
    },
    {
     "name": "stderr",
     "output_type": "stream",
     "text": [
      "/tmp/ipykernel_128504/1366246583.py:57: RuntimeWarning: divide by zero encountered in double_scalars\n",
      "  unit_sleep = movetime/len(motor_array)\n"
     ]
    },
    {
     "name": "stdout",
     "output_type": "stream",
     "text": [
      "[-0.92153385 -1.32295957  2.00712864 -2.27416402 -1.569051   -0.91978852]\n",
      "[-0.92153385 -1.41022604  1.93557014 -2.11708438 -1.569051   -0.91978852]\n"
     ]
    },
    {
     "data": {
      "application/vnd.jupyter.widget-view+json": {
       "model_id": "90b16eeee8c949cf869a2f03a3cb30f7",
       "version_major": 2,
       "version_minor": 0
      },
      "text/plain": [
       "0it [00:00, ?it/s]"
      ]
     },
     "metadata": {},
     "output_type": "display_data"
    },
    {
     "name": "stdout",
     "output_type": "stream",
     "text": [
      "[-0.03422723 -0.93055968  1.27988164 -1.92012024 -1.57079506 -0.03422925]\n",
      "[-0.04055804 -0.90866808  1.31158368 -1.97371042 -1.57079637 -0.04055755]\n",
      "[-0.04668383 -0.88339082  1.34002535 -2.02742934 -1.57079649 -0.04668332]\n"
     ]
    },
    {
     "data": {
      "application/vnd.jupyter.widget-view+json": {
       "model_id": "e54ef6b4b473476aae8bb98223844536",
       "version_major": 2,
       "version_minor": 0
      },
      "text/plain": [
       "0it [00:00, ?it/s]"
      ]
     },
     "metadata": {},
     "output_type": "display_data"
    },
    {
     "name": "stdout",
     "output_type": "stream",
     "text": [
      "[-0.04668383 -0.88339082  1.34002535 -2.02742934 -1.57079649 -0.04668332]\n",
      "[-0.0885172  -0.89257256  1.35841231 -2.03663707 -1.57079709 -0.08851738]\n",
      "[-0.12953711 -0.8975778   1.36713509 -2.04035401 -1.57079697 -0.12953746]\n"
     ]
    },
    {
     "data": {
      "application/vnd.jupyter.widget-view+json": {
       "model_id": "d9200012254a40da9e6d5612257e5836",
       "version_major": 2,
       "version_minor": 0
      },
      "text/plain": [
       "0it [00:00, ?it/s]"
      ]
     },
     "metadata": {},
     "output_type": "display_data"
    },
    {
     "name": "stdout",
     "output_type": "stream",
     "text": [
      "[-0.12953711 -0.8975778   1.36713509 -2.04035401 -1.57079697 -0.12953746]\n",
      "[-0.12247853 -0.92031185  1.33562509 -1.9861114  -1.57079637 -0.12247939]\n",
      "[-0.11351504 -0.94155673  1.30189852 -1.93113983 -1.57079601 -0.11351582]\n"
     ]
    },
    {
     "data": {
      "application/vnd.jupyter.widget-view+json": {
       "model_id": "68b2ae80dbbd405390638be63236e976",
       "version_major": 2,
       "version_minor": 0
      },
      "text/plain": [
       "0it [00:00, ?it/s]"
      ]
     },
     "metadata": {},
     "output_type": "display_data"
    },
    {
     "name": "stdout",
     "output_type": "stream",
     "text": [
      "[-0.11351504 -0.94155673  1.30189852 -1.93113983 -1.57079601 -0.11351582]\n",
      "[-0.09271382 -0.94388614  1.30349557 -1.93040538 -1.57079589 -0.09271374]\n"
     ]
    },
    {
     "name": "stderr",
     "output_type": "stream",
     "text": [
      "/tmp/ipykernel_128504/1366246583.py:57: RuntimeWarning: divide by zero encountered in divide\n",
      "  unit_sleep = movetime/len(motor_array)\n"
     ]
    },
    {
     "name": "stdout",
     "output_type": "stream",
     "text": [
      "[-0.07173225 -0.94601689  1.3069394  -1.93171823 -1.57079577 -0.07173211]\n"
     ]
    },
    {
     "data": {
      "application/vnd.jupyter.widget-view+json": {
       "model_id": "032eb378016b486e8b7ef51ae9a46af6",
       "version_major": 2,
       "version_minor": 0
      },
      "text/plain": [
       "0it [00:00, ?it/s]"
      ]
     },
     "metadata": {},
     "output_type": "display_data"
    },
    {
     "name": "stdout",
     "output_type": "stream",
     "text": [
      "[-0.07173225 -0.94601689  1.3069394  -1.93171823 -1.57079577 -0.07173211]\n",
      "[-0.0733767  -0.93520139  1.35390512 -1.98949802 -1.57079661 -0.07337567]\n",
      "[-0.07295838 -0.92189274  1.40128962 -2.05019116 -1.57079697 -0.07295737]\n"
     ]
    },
    {
     "data": {
      "application/vnd.jupyter.widget-view+json": {
       "model_id": "4f3ff999669f4ed6a3239ebf687d91a4",
       "version_major": 2,
       "version_minor": 0
      },
      "text/plain": [
       "0it [00:00, ?it/s]"
      ]
     },
     "metadata": {},
     "output_type": "display_data"
    },
    {
     "name": "stdout",
     "output_type": "stream",
     "text": [
      "[-0.07295838 -0.92189274  1.40128962 -2.05019116 -1.57079697 -0.07295737]\n",
      "[-0.07088301 -0.97958891  1.50081031 -2.09201503 -1.57079732 -0.07088114]\n",
      "[-0.0686809  -1.03786747  1.59622757 -2.12915373 -1.57079732 -0.06867916]\n"
     ]
    },
    {
     "data": {
      "application/vnd.jupyter.widget-view+json": {
       "model_id": "5aa23e7c866c4fc9982559f1e97d3fc7",
       "version_major": 2,
       "version_minor": 0
      },
      "text/plain": [
       "0it [00:00, ?it/s]"
      ]
     },
     "metadata": {},
     "output_type": "display_data"
    },
    {
     "name": "stdout",
     "output_type": "stream",
     "text": [
      "[-0.0686809  -1.03786747  1.59622757 -2.12915373 -1.57079732 -0.06867916]\n",
      "[-0.06980291 -1.05664722  1.5560935  -2.07024455 -1.57079637 -0.06980377]\n",
      "[-0.07025953 -1.06981031  1.5076373  -2.00862527 -1.57079613 -0.07026055]\n"
     ]
    },
    {
     "data": {
      "application/vnd.jupyter.widget-view+json": {
       "model_id": "7649cb6fa61d49d69829c91804d8c92c",
       "version_major": 2,
       "version_minor": 0
      },
      "text/plain": [
       "0it [00:00, ?it/s]"
      ]
     },
     "metadata": {},
     "output_type": "display_data"
    },
    {
     "name": "stdout",
     "output_type": "stream",
     "text": [
      "[-0.92153385 -1.41022604  1.93557014 -2.11708438 -1.569051   -0.91978852]\n",
      "[-0.92153385 -1.32295957  2.00712864 -2.27416402 -1.569051   -0.91978852]\n",
      "[-0.92153385 -1.32295957  2.00712864 -2.27416402 -1.569051   -0.91978852]\n",
      "[-0.92153385 -1.41022604  1.93557014 -2.11708438 -1.569051   -0.91978852]\n"
     ]
    },
    {
     "data": {
      "application/vnd.jupyter.widget-view+json": {
       "model_id": "b7935609ea4c409782cb49317b8cee84",
       "version_major": 2,
       "version_minor": 0
      },
      "text/plain": [
       "0it [00:00, ?it/s]"
      ]
     },
     "metadata": {},
     "output_type": "display_data"
    },
    {
     "name": "stdout",
     "output_type": "stream",
     "text": [
      "[-0.07025953 -1.06981031  1.5076373  -2.00862527 -1.57079613 -0.07026055]\n",
      "[-0.09552477 -1.06031493  1.49059335 -2.00107646 -1.57079649 -0.09552524]\n",
      "[-0.12094858 -1.04759232  1.47082583 -1.99403095 -1.57079661 -0.12094912]\n"
     ]
    },
    {
     "data": {
      "application/vnd.jupyter.widget-view+json": {
       "model_id": "3c4488e05e4b46d690422a407ff3c031",
       "version_major": 2,
       "version_minor": 0
      },
      "text/plain": [
       "0it [00:00, ?it/s]"
      ]
     },
     "metadata": {},
     "output_type": "display_data"
    },
    {
     "name": "stdout",
     "output_type": "stream",
     "text": [
      "[-0.12094858 -1.04759232  1.47082583 -1.99403095 -1.57079661 -0.12094912]\n",
      "[-0.12138721 -1.0166891   1.49117355 -2.04527998 -1.57079661 -0.12138714]\n",
      "[-0.12271299 -0.97599093  1.5019788  -2.09678364 -1.57079661 -0.12271328]\n"
     ]
    },
    {
     "data": {
      "application/vnd.jupyter.widget-view+json": {
       "model_id": "a1804ef30c504ab1a5187d5a53e475c1",
       "version_major": 2,
       "version_minor": 0
      },
      "text/plain": [
       "0it [00:00, ?it/s]"
      ]
     },
     "metadata": {},
     "output_type": "display_data"
    },
    {
     "name": "stdout",
     "output_type": "stream",
     "text": [
      "[-0.12271299 -0.97599093  1.5019788  -2.09678364 -1.57079661 -0.12271328]\n",
      "[-0.1224014  -0.90832267  1.39041011 -2.05288696 -1.57079542 -0.12240367]\n",
      "[-0.12226797 -0.83841697  1.26879327 -2.00117588 -1.57079542 -0.12227063]\n"
     ]
    },
    {
     "data": {
      "application/vnd.jupyter.widget-view+json": {
       "model_id": "1bc4ef2b243d485ea027f9ccc0670814",
       "version_major": 2,
       "version_minor": 0
      },
      "text/plain": [
       "0it [00:00, ?it/s]"
      ]
     },
     "metadata": {},
     "output_type": "display_data"
    },
    {
     "name": "stdout",
     "output_type": "stream",
     "text": [
      "[-0.12226797 -0.83841697  1.26879327 -2.00117588 -1.57079542 -0.12227063]\n",
      "[-0.12109794 -0.87396417  1.25897328 -1.95580637 -1.57079577 -0.12109802]\n",
      "[-0.12101712 -0.91041021  1.24946503 -1.90985203 -1.57079577 -0.12101705]\n"
     ]
    },
    {
     "data": {
      "application/vnd.jupyter.widget-view+json": {
       "model_id": "0674b19a04754573b58f411080c4564a",
       "version_major": 2,
       "version_minor": 0
      },
      "text/plain": [
       "0it [00:00, ?it/s]"
      ]
     },
     "metadata": {},
     "output_type": "display_data"
    },
    {
     "name": "stdout",
     "output_type": "stream",
     "text": [
      "[-0.12101712 -0.91041021  1.24946503 -1.90985203 -1.57079577 -0.12101705]\n",
      "[-0.13089196 -0.93447463  1.28712634 -1.9234463  -1.57079673 -0.13089032]\n",
      "[-0.14191756 -0.95746521  1.32472924 -1.93805861 -1.5707972  -0.14191589]\n"
     ]
    },
    {
     "data": {
      "application/vnd.jupyter.widget-view+json": {
       "model_id": "e80157be6064442ba6e4fadc39e18c7b",
       "version_major": 2,
       "version_minor": 0
      },
      "text/plain": [
       "0it [00:00, ?it/s]"
      ]
     },
     "metadata": {},
     "output_type": "display_data"
    },
    {
     "name": "stdout",
     "output_type": "stream",
     "text": [
      "[-0.14191756 -0.95746521  1.32472924 -1.93805861 -1.5707972  -0.14191589]\n",
      "[-0.14485374 -0.93799845  1.35905735 -1.99185383 -1.5707972  -0.14485303]\n",
      "[-0.15036282 -0.92540221  1.40849141 -2.05388355 -1.5707972  -0.15036172]\n"
     ]
    },
    {
     "data": {
      "application/vnd.jupyter.widget-view+json": {
       "model_id": "8d340e7e20884848a6ca7eaab491612b",
       "version_major": 2,
       "version_minor": 0
      },
      "text/plain": [
       "0it [00:00, ?it/s]"
      ]
     },
     "metadata": {},
     "output_type": "display_data"
    },
    {
     "name": "stdout",
     "output_type": "stream",
     "text": [
      "[-0.15036282 -0.92540221  1.40849141 -2.05388355 -1.5707972  -0.15036172]\n",
      "[-0.17953803 -0.99329249  1.52427618 -2.10177803 -1.57079732 -0.17953615]\n",
      "[-0.21242467 -1.05949299  1.63166944 -2.14297128 -1.57079732 -0.21242325]\n"
     ]
    },
    {
     "data": {
      "application/vnd.jupyter.widget-view+json": {
       "model_id": "e9e96a61c154404189502e5d596bc854",
       "version_major": 2,
       "version_minor": 0
      },
      "text/plain": [
       "0it [00:00, ?it/s]"
      ]
     },
     "metadata": {},
     "output_type": "display_data"
    },
    {
     "name": "stdout",
     "output_type": "stream",
     "text": [
      "[-0.21242467 -1.05949299  1.63166944 -2.14297128 -1.57079732 -0.21242325]\n",
      "[-0.20893571 -1.07699768  1.58769933 -2.08149958 -1.57079637 -0.20893657]\n",
      "[-0.20397095 -1.09232501  1.54048709 -2.01896    -1.57079613 -0.20397192]\n"
     ]
    },
    {
     "data": {
      "application/vnd.jupyter.widget-view+json": {
       "model_id": "84969b9b5e93465d92c319207c9a65d8",
       "version_major": 2,
       "version_minor": 0
      },
      "text/plain": [
       "0it [00:00, ?it/s]"
      ]
     },
     "metadata": {},
     "output_type": "display_data"
    },
    {
     "name": "stdout",
     "output_type": "stream",
     "text": [
      "[-0.92153385 -1.41022604  1.93557014 -2.11708438 -1.569051   -0.91978852]\n",
      "[-0.92153385 -1.32295957  2.00712864 -2.27416402 -1.569051   -0.91978852]\n",
      "[-0.92153385 -1.32295957  2.00712864 -2.27416402 -1.569051   -0.91978852]\n",
      "[-0.92153385 -1.41022604  1.93557014 -2.11708438 -1.569051   -0.91978852]\n"
     ]
    },
    {
     "data": {
      "application/vnd.jupyter.widget-view+json": {
       "model_id": "6d5fa08ac0a04a57a1f05a92cce4be4a",
       "version_major": 2,
       "version_minor": 0
      },
      "text/plain": [
       "0it [00:00, ?it/s]"
      ]
     },
     "metadata": {},
     "output_type": "display_data"
    },
    {
     "name": "stdout",
     "output_type": "stream",
     "text": [
      "[-0.20397095 -1.09232501  1.54048709 -2.01896    -1.57079613 -0.20397192]\n",
      "[-0.18596055 -1.07023434  1.50588075 -2.00644398 -1.57079566 -0.18596166]\n",
      "[-0.16909303 -1.04895715  1.47294084 -1.99478137 -1.57079554 -0.1690942 ]\n"
     ]
    },
    {
     "data": {
      "application/vnd.jupyter.widget-view+json": {
       "model_id": "205d19b7880442b08a83179af5185060",
       "version_major": 2,
       "version_minor": 0
      },
      "text/plain": [
       "0it [00:00, ?it/s]"
      ]
     },
     "metadata": {},
     "output_type": "display_data"
    },
    {
     "name": "stdout",
     "output_type": "stream",
     "text": [
      "[-0.16909303 -1.04895715  1.47294084 -1.99478137 -1.57079554 -0.1690942 ]\n",
      "[-0.16933368 -1.02039449  1.49704162 -2.04744267 -1.57079613 -0.16933355]\n",
      "[-0.16933373 -0.9780461   1.50560467 -2.09835362 -1.57079625 -0.16933401]\n"
     ]
    },
    {
     "data": {
      "application/vnd.jupyter.widget-view+json": {
       "model_id": "be2001b242fe4f03b6829222c315ca6b",
       "version_major": 2,
       "version_minor": 0
      },
      "text/plain": [
       "0it [00:00, ?it/s]"
      ]
     },
     "metadata": {},
     "output_type": "display_data"
    },
    {
     "name": "stdout",
     "output_type": "stream",
     "text": [
      "[-0.16933373 -0.9780461   1.50560467 -2.09835362 -1.57079625 -0.16933401]\n",
      "[-0.16691223 -0.9107484   1.3949068  -2.05495787 -1.57079542 -0.16691455]\n",
      "[-0.16430172 -0.84063653  1.27290301 -2.00306654 -1.57079542 -0.16430436]\n"
     ]
    },
    {
     "data": {
      "application/vnd.jupyter.widget-view+json": {
       "model_id": "4a67ad8e96874d048044aad241e41219",
       "version_major": 2,
       "version_minor": 0
      },
      "text/plain": [
       "0it [00:00, ?it/s]"
      ]
     },
     "metadata": {},
     "output_type": "display_data"
    },
    {
     "name": "stdout",
     "output_type": "stream",
     "text": [
      "[-0.16430172 -0.84063653  1.27290301 -2.00306654 -1.57079542 -0.16430436]\n",
      "[-0.16333586 -0.87690578  1.26390151 -1.95779288 -1.57079577 -0.16333587]\n",
      "[-0.16370788 -0.91346953  1.2546188  -1.91194654 -1.57079577 -0.16370779]\n"
     ]
    },
    {
     "data": {
      "application/vnd.jupyter.widget-view+json": {
       "model_id": "7ce558c179f345ffa86d88335465f894",
       "version_major": 2,
       "version_minor": 0
      },
      "text/plain": [
       "0it [00:00, ?it/s]"
      ]
     },
     "metadata": {},
     "output_type": "display_data"
    },
    {
     "name": "stdout",
     "output_type": "stream",
     "text": [
      "[-0.16370788 -0.91346953  1.2546188  -1.91194654 -1.57079577 -0.16370779]\n",
      "[-0.17990607 -0.98794381  1.37398128 -1.95683098 -1.57079732 -0.17990366]\n",
      "[-0.19848876 -1.05938069  1.4866635  -1.9980768  -1.57079732 -0.19848661]\n"
     ]
    },
    {
     "data": {
      "application/vnd.jupyter.widget-view+json": {
       "model_id": "c11d612a70ac4f39bf21643422ea8356",
       "version_major": 2,
       "version_minor": 0
      },
      "text/plain": [
       "0it [00:00, ?it/s]"
      ]
     },
     "metadata": {},
     "output_type": "display_data"
    },
    {
     "name": "stdout",
     "output_type": "stream",
     "text": [
      "[-0.19848876 -1.05938069  1.4866635  -1.9980768  -1.57079732 -0.19848661]\n",
      "[-0.19991851 -1.02158312  1.49919407 -2.04840684 -1.57079685 -0.19991867]\n",
      "[-0.19925481 -0.97861103  1.50667195 -2.09885669 -1.57079685 -0.19925517]\n"
     ]
    },
    {
     "data": {
      "application/vnd.jupyter.widget-view+json": {
       "model_id": "9df7434f6bd44e94a331e7cd0fcb3b9a",
       "version_major": 2,
       "version_minor": 0
      },
      "text/plain": [
       "0it [00:00, ?it/s]"
      ]
     },
     "metadata": {},
     "output_type": "display_data"
    },
    {
     "name": "stdout",
     "output_type": "stream",
     "text": [
      "[-0.19925481 -0.97861103  1.50667195 -2.09885669 -1.57079685 -0.19925517]\n",
      "[-0.19619164 -0.91091857  1.3952562  -2.05513668 -1.57079542 -0.19619389]\n",
      "[-0.19301125 -0.84071497  1.27311425 -2.00319934 -1.57079542 -0.19301392]\n"
     ]
    },
    {
     "data": {
      "application/vnd.jupyter.widget-view+json": {
       "model_id": "ee624cf1bb3647cf8678fdda19114415",
       "version_major": 2,
       "version_minor": 0
      },
      "text/plain": [
       "0it [00:00, ?it/s]"
      ]
     },
     "metadata": {},
     "output_type": "display_data"
    },
    {
     "name": "stdout",
     "output_type": "stream",
     "text": [
      "[-0.19301125 -0.84071497  1.27311425 -2.00319934 -1.57079542 -0.19301392]\n",
      "[-0.19198373 -0.87723307  1.26435844 -1.95792246 -1.57079577 -0.19198371]\n",
      "[-0.19246107 -0.91384469  1.25514404 -1.91209662 -1.57079577 -0.19246098]\n"
     ]
    },
    {
     "data": {
      "application/vnd.jupyter.widget-view+json": {
       "model_id": "01d383fb5dc3441fb5ead1266681775f",
       "version_major": 2,
       "version_minor": 0
      },
      "text/plain": [
       "0it [00:00, ?it/s]"
      ]
     },
     "metadata": {},
     "output_type": "display_data"
    },
    {
     "name": "stdout",
     "output_type": "stream",
     "text": [
      "[-0.92153385 -1.41022604  1.93557014 -2.11708438 -1.569051   -0.91978852]\n",
      "[-0.92153385 -1.32295957  2.00712864 -2.27416402 -1.569051   -0.91978852]\n",
      "[-0.92153385 -1.32295957  2.00712864 -2.27416402 -1.569051   -0.91978852]\n",
      "[-0.92153385 -1.41022604  1.93557014 -2.11708438 -1.569051   -0.91978852]\n"
     ]
    },
    {
     "data": {
      "application/vnd.jupyter.widget-view+json": {
       "model_id": "3fd1022f6220464abc21baebed9aa34c",
       "version_major": 2,
       "version_minor": 0
      },
      "text/plain": [
       "0it [00:00, ?it/s]"
      ]
     },
     "metadata": {},
     "output_type": "display_data"
    },
    {
     "name": "stdout",
     "output_type": "stream",
     "text": [
      "[-0.19246107 -0.91384469  1.25514404 -1.91209662 -1.57079577 -0.19246098]\n",
      "[-0.20337597 -0.93723408  1.29157082 -1.92513132 -1.57079673 -0.20337453]\n",
      "[-0.21521465 -0.95902399  1.3271964  -1.93896699 -1.57079709 -0.21521318]\n"
     ]
    },
    {
     "data": {
      "application/vnd.jupyter.widget-view+json": {
       "model_id": "59e85878f8d14e3ea86941f21e333bdb",
       "version_major": 2,
       "version_minor": 0
      },
      "text/plain": [
       "0it [00:00, ?it/s]"
      ]
     },
     "metadata": {},
     "output_type": "display_data"
    },
    {
     "name": "stdout",
     "output_type": "stream",
     "text": [
      "[-0.21521465 -0.95902399  1.3271964  -1.93896699 -1.57079709 -0.21521318]\n",
      "[-0.21736288 -0.93798409  1.35915164 -1.99196231 -1.57079709 -0.21736231]\n",
      "[-0.22401036 -0.92577414  1.40973846 -2.05475879 -1.57079709 -0.22400928]\n"
     ]
    },
    {
     "data": {
      "application/vnd.jupyter.widget-view+json": {
       "model_id": "5ed29a41fbde4a97956f6ac40a670a09",
       "version_major": 2,
       "version_minor": 0
      },
      "text/plain": [
       "0it [00:00, ?it/s]"
      ]
     },
     "metadata": {},
     "output_type": "display_data"
    },
    {
     "name": "stdout",
     "output_type": "stream",
     "text": [
      "[-0.22401036 -0.92577414  1.40973846 -2.05475879 -1.57079709 -0.22400928]\n",
      "[-0.25691378 -0.9917628   1.52179043 -2.10082221 -1.5707972  -0.25691238]\n",
      "[-0.29299897 -1.05532173  1.62502698 -2.14050031 -1.5707972  -0.29299775]\n"
     ]
    },
    {
     "data": {
      "application/vnd.jupyter.widget-view+json": {
       "model_id": "fbae3d7c7a9948acaa087642d82489ef",
       "version_major": 2,
       "version_minor": 0
      },
      "text/plain": [
       "0it [00:00, ?it/s]"
      ]
     },
     "metadata": {},
     "output_type": "display_data"
    },
    {
     "name": "stdout",
     "output_type": "stream",
     "text": [
      "[-0.29299897 -1.05532173  1.62502698 -2.14050031 -1.5707972  -0.29299775]\n",
      "[-0.2888912  -1.07262306  1.58085565 -2.07903123 -1.57079637 -0.28889209]\n",
      "[-0.28662515 -1.09097294  1.53920106 -2.01902676 -1.57079613 -0.2866261 ]\n"
     ]
    },
    {
     "data": {
      "application/vnd.jupyter.widget-view+json": {
       "model_id": "69b09bdae84c42cd9649cdb0be6833af",
       "version_major": 2,
       "version_minor": 0
      },
      "text/plain": [
       "0it [00:00, ?it/s]"
      ]
     },
     "metadata": {},
     "output_type": "display_data"
    },
    {
     "name": "stdout",
     "output_type": "stream",
     "text": [
      "[-0.28662515 -1.09097294  1.53920106 -2.01902676 -1.57079613 -0.2866261 ]\n",
      "[-0.26447725 -1.06804005  1.50235872 -2.00511599 -1.57079566 -0.26447812]\n",
      "[-0.24654223 -1.04814438  1.47167234 -1.99432516 -1.57079554 -0.24654324]\n"
     ]
    },
    {
     "data": {
      "application/vnd.jupyter.widget-view+json": {
       "model_id": "cdce6c5794eb48a0957ff57a817ade61",
       "version_major": 2,
       "version_minor": 0
      },
      "text/plain": [
       "0it [00:00, ?it/s]"
      ]
     },
     "metadata": {},
     "output_type": "display_data"
    },
    {
     "name": "stdout",
     "output_type": "stream",
     "text": [
      "[-0.24654223 -1.04814438  1.47167234 -1.99432516 -1.57079554 -0.24654324]\n",
      "[-0.24671355 -1.01957707  1.4958059  -2.04702401 -1.57079613 -0.24671343]\n",
      "[-0.24613993 -0.97704391  1.50408463 -2.09783649 -1.57079625 -0.24614032]\n"
     ]
    },
    {
     "data": {
      "application/vnd.jupyter.widget-view+json": {
       "model_id": "067da8d0dd9a41b1a1a119b6916903e7",
       "version_major": 2,
       "version_minor": 0
      },
      "text/plain": [
       "0it [00:00, ?it/s]"
      ]
     },
     "metadata": {},
     "output_type": "display_data"
    },
    {
     "name": "stdout",
     "output_type": "stream",
     "text": [
      "[-0.24613993 -0.97704391  1.50408463 -2.09783649 -1.57079625 -0.24614032]\n",
      "[-0.24028313 -0.90857707  1.39134411 -2.05356622 -1.57079542 -0.24028532]\n",
      "[-0.23448667 -0.83803884  1.26848296 -2.00124359 -1.5707953  -0.23448926]\n"
     ]
    },
    {
     "data": {
      "application/vnd.jupyter.widget-view+json": {
       "model_id": "9e6bd3ed521d4e68b5438d474d5ea6e7",
       "version_major": 2,
       "version_minor": 0
      },
      "text/plain": [
       "0it [00:00, ?it/s]"
      ]
     },
     "metadata": {},
     "output_type": "display_data"
    },
    {
     "name": "stdout",
     "output_type": "stream",
     "text": [
      "[-0.23448667 -0.83803884  1.26848296 -2.00124359 -1.5707953  -0.23448926]\n",
      "[-0.23367472 -0.87504337  1.26062171 -1.9563756  -1.57079577 -0.23367468]\n",
      "[-0.23462997 -0.91172443  1.25162021 -1.91069293 -1.57079577 -0.23462982]\n"
     ]
    },
    {
     "data": {
      "application/vnd.jupyter.widget-view+json": {
       "model_id": "e4e792598a464c1a99558769bc292b79",
       "version_major": 2,
       "version_minor": 0
      },
      "text/plain": [
       "0it [00:00, ?it/s]"
      ]
     },
     "metadata": {},
     "output_type": "display_data"
    },
    {
     "name": "stdout",
     "output_type": "stream",
     "text": [
      "[-0.92153385 -1.41022604  1.93557014 -2.11708438 -1.569051   -0.91978852]\n",
      "[-0.92153385 -1.32295957  2.00712864 -2.27416402 -1.569051   -0.91978852]\n",
      "[-0.92153385 -1.32295957  2.00712864 -2.27416402 -1.569051   -0.91978852]\n",
      "[-0.92153385 -1.41022604  1.93557014 -2.11708438 -1.569051   -0.91978852]\n"
     ]
    },
    {
     "data": {
      "application/vnd.jupyter.widget-view+json": {
       "model_id": "4c6fad84751945c689576fa6dffc29f3",
       "version_major": 2,
       "version_minor": 0
      },
      "text/plain": [
       "0it [00:00, ?it/s]"
      ]
     },
     "metadata": {},
     "output_type": "display_data"
    },
    {
     "name": "stdout",
     "output_type": "stream",
     "text": [
      "[-0.23462997 -0.91172443  1.25162021 -1.91069293 -1.57079577 -0.23462982]\n",
      "[-0.25744319 -0.93923966  1.29493694 -1.92649281 -1.57079709 -0.25744224]\n",
      "[-0.28119668 -0.96308069  1.33400873 -1.94172406 -1.57079709 -0.28119591]\n"
     ]
    },
    {
     "data": {
      "application/vnd.jupyter.widget-view+json": {
       "model_id": "ea8041a3679148cfb1685291d6833daa",
       "version_major": 2,
       "version_minor": 0
      },
      "text/plain": [
       "0it [00:00, ?it/s]"
      ]
     },
     "metadata": {},
     "output_type": "display_data"
    },
    {
     "name": "stdout",
     "output_type": "stream",
     "text": [
      "[-0.28119668 -0.96308069  1.33400873 -1.94172406 -1.57079709 -0.28119591]\n",
      "[-0.28167143 -0.94350157  1.36772494 -1.99501753 -1.57079709 -0.28167081]\n",
      "[-0.28181428 -0.92952607  1.4157416  -2.05700994 -1.57079709 -0.28181344]\n"
     ]
    },
    {
     "data": {
      "application/vnd.jupyter.widget-view+json": {
       "model_id": "90a59419eb5d42cbb4d1173c50b73cfd",
       "version_major": 2,
       "version_minor": 0
      },
      "text/plain": [
       "0it [00:00, ?it/s]"
      ]
     },
     "metadata": {},
     "output_type": "display_data"
    },
    {
     "name": "stdout",
     "output_type": "stream",
     "text": [
      "[-0.28181428 -0.92952607  1.4157416  -2.05700994 -1.57079709 -0.28181344]\n",
      "[-0.28861773 -0.99124531  1.51974634 -2.09929514 -1.57079732 -0.28861585]\n",
      "[-0.29569182 -1.0513709   1.61746685 -2.13689017 -1.57079732 -0.29569015]\n"
     ]
    },
    {
     "data": {
      "application/vnd.jupyter.widget-view+json": {
       "model_id": "0d955d0cc9574cf1af01c1d827bc9952",
       "version_major": 2,
       "version_minor": 0
      },
      "text/plain": [
       "0it [00:00, ?it/s]"
      ]
     },
     "metadata": {},
     "output_type": "display_data"
    },
    {
     "name": "stdout",
     "output_type": "stream",
     "text": [
      "[-0.29569182 -1.0513709   1.61746685 -2.13689017 -1.57079732 -0.29569015]\n",
      "[-0.29733479 -1.06939534  1.57578079 -2.07718396 -1.57079637 -0.29733565]\n",
      "[-0.29814431 -1.08401982  1.52881042 -2.01558924 -1.57079613 -0.29814529]\n"
     ]
    },
    {
     "data": {
      "application/vnd.jupyter.widget-view+json": {
       "model_id": "9c7375a3078741df99f3dd0273d59c12",
       "version_major": 2,
       "version_minor": 0
      },
      "text/plain": [
       "0it [00:00, ?it/s]"
      ]
     },
     "metadata": {},
     "output_type": "display_data"
    },
    {
     "name": "stdout",
     "output_type": "stream",
     "text": [
      "[-0.29814431 -1.08401982  1.52881042 -2.01558924 -1.57079613 -0.29814529]\n",
      "[-0.29530895 -1.07497815  1.51315216 -2.00897169 -1.57079613 -0.29530975]\n",
      "[-0.29381844 -1.06786601  1.50243823 -2.0053699  -1.57079613 -0.29381943]\n"
     ]
    },
    {
     "data": {
      "application/vnd.jupyter.widget-view+json": {
       "model_id": "5440284a12a8471a9fa9bcbf6e65ca82",
       "version_major": 2,
       "version_minor": 0
      },
      "text/plain": [
       "0it [00:00, ?it/s]"
      ]
     },
     "metadata": {},
     "output_type": "display_data"
    },
    {
     "name": "stdout",
     "output_type": "stream",
     "text": [
      "[-0.29381844 -1.06786601  1.50243823 -2.0053699  -1.57079613 -0.29381943]\n",
      "[-0.29595104 -1.04325644  1.5319647  -2.05950332 -1.57079637 -0.29595074]\n",
      "[-0.30640203 -1.01396159  1.56113641 -2.11797023 -1.57079637 -0.30640155]\n"
     ]
    },
    {
     "data": {
      "application/vnd.jupyter.widget-view+json": {
       "model_id": "f3c9b9a30ed143f7a7d63212ca31ad8f",
       "version_major": 2,
       "version_minor": 0
      },
      "text/plain": [
       "0it [00:00, ?it/s]"
      ]
     },
     "metadata": {},
     "output_type": "display_data"
    },
    {
     "name": "stdout",
     "output_type": "stream",
     "text": [
      "[-0.30640203 -1.01396159  1.56113641 -2.11797023 -1.57079637 -0.30640155]\n",
      "[-0.33860871 -1.00945298  1.5555257  -2.11686993 -1.57079685 -0.3386091 ]\n",
      "[-0.36909327 -1.00297741  1.54500548 -2.11282516 -1.57079697 -0.36909372]\n"
     ]
    },
    {
     "data": {
      "application/vnd.jupyter.widget-view+json": {
       "model_id": "5a4fb3cb12204c149db13446a380273d",
       "version_major": 2,
       "version_minor": 0
      },
      "text/plain": [
       "0it [00:00, ?it/s]"
      ]
     },
     "metadata": {},
     "output_type": "display_data"
    },
    {
     "name": "stdout",
     "output_type": "stream",
     "text": [
      "[-0.36909327 -1.00297741  1.54500548 -2.11282516 -1.57079697 -0.36909372]\n",
      "[-0.36143255 -1.03162448  1.51767639 -2.05685019 -1.57079649 -0.36143318]\n",
      "[-0.35361522 -1.06121425  1.49113826 -2.00072145 -1.57079637 -0.3536157 ]\n"
     ]
    },
    {
     "data": {
      "application/vnd.jupyter.widget-view+json": {
       "model_id": "fdbf3246597c4043942d83d7fbef25bb",
       "version_major": 2,
       "version_minor": 0
      },
      "text/plain": [
       "0it [00:00, ?it/s]"
      ]
     },
     "metadata": {},
     "output_type": "display_data"
    },
    {
     "name": "stdout",
     "output_type": "stream",
     "text": [
      "[-0.92153385 -1.41022604  1.93557014 -2.11708438 -1.569051   -0.91978852]\n",
      "[-0.92153385 -1.32295957  2.00712864 -2.27416402 -1.569051   -0.91978852]\n",
      "[-0.92153385 -1.32295957  2.00712864 -2.27416402 -1.569051   -0.91978852]\n",
      "[-0.92153385 -1.41022604  1.93557014 -2.11708438 -1.569051   -0.91978852]\n"
     ]
    }
   ],
   "source": [
    "q_down = 2\n",
    "\n",
    "assert len(motor_array) % 3 == 0\n",
    "\n",
    "\n",
    "move_arm_soro(robot, q_ink_array, m_ink_array, time_array=0.5*np.ones(len(m_ink_array)).astype(np.float32))\n",
    "\n",
    "for i in range(len(motor_array)//3):\n",
    "    if i>38: break\n",
    "    \n",
    "    qs_array_ = qs_array[i*3:(i+1)*3] + np.array([0, q_down,-q_down ,0,0,0]) / 180 * PI\n",
    "    motor_array_ = motor_array[i*3:(i+1)*3]\n",
    "    # qs_array_ = qs_array[n:m] + np.array([0, q_down,-q_down ,0,0,0]) / 180 * PI\n",
    "    # motor_array_ = motor_array[n:m]\n",
    "\n",
    "\n",
    "    if i% (4*2)==7:\n",
    "        move_arm_soro(robot, q_ink_array, m_ink_array, time_array=0.5*np.ones(len(m_ink_array)).astype(np.float32))\n",
    "        \n",
    "    move_arm_soro(robot, qs_array_, motor_array_, time_array=0.5 * np.ones(len(motor_array_)).astype(np.float32))\n",
    "\n",
    "move_arm_soro(robot, q_ink_array, m_ink_array, time_array=0.5*np.ones(len(m_ink_array)).astype(np.float32))\n"
   ]
  },
  {
   "cell_type": "code",
   "execution_count": 27,
   "metadata": {},
   "outputs": [],
   "source": [
    "pertub = [2,3,0,1]\n",
    "\n",
    "motor_array = np.load(\"planned_traj/paint/motor_array.npy\").astype(np.float32)[:, pertub]\n",
    "qs_array    = np.load(\"planned_traj/paint/qs_array.npy\").astype(np.float32)\n",
    "\n",
    "assert (qs_array <  PI).all() and (qs_array>-PI).all()"
   ]
  },
  {
   "cell_type": "code",
   "execution_count": 28,
   "metadata": {},
   "outputs": [
    {
     "data": {
      "application/vnd.jupyter.widget-view+json": {
       "model_id": "ebe9171032c440fcb95f79de3f02c916",
       "version_major": 2,
       "version_minor": 0
      },
      "text/plain": [
       "0it [00:00, ?it/s]"
      ]
     },
     "metadata": {},
     "output_type": "display_data"
    },
    {
     "name": "stdout",
     "output_type": "stream",
     "text": [
      "[-0.36485094 -0.91027979  1.24818675 -1.90870571 -1.57079482 -0.36485311]\n",
      "[-0.35797149 -0.88595543  1.27377025 -1.95861006 -1.57079589 -0.35797143]\n",
      "[-0.35220963 -0.85849134  1.29775039 -2.01005435 -1.57079637 -0.35220963]\n"
     ]
    },
    {
     "data": {
      "application/vnd.jupyter.widget-view+json": {
       "model_id": "796159fc567944de9a36dfd237c54552",
       "version_major": 2,
       "version_minor": 0
      },
      "text/plain": [
       "0it [00:00, ?it/s]"
      ]
     },
     "metadata": {},
     "output_type": "display_data"
    },
    {
     "name": "stdout",
     "output_type": "stream",
     "text": [
      "[-0.35220963 -0.85849134  1.29775039 -2.01005435 -1.57079637 -0.35220963]\n",
      "[-0.3375732  -0.84678875  1.27986781 -2.00387549 -1.57079589 -0.33757401]\n",
      "[-0.32251281 -0.83742891  1.26350061 -1.99686873 -1.57079566 -0.32251349]\n"
     ]
    },
    {
     "data": {
      "application/vnd.jupyter.widget-view+json": {
       "model_id": "fad5e350ba694998af63e8b923a1f9ea",
       "version_major": 2,
       "version_minor": 0
      },
      "text/plain": [
       "0it [00:00, ?it/s]"
      ]
     },
     "metadata": {},
     "output_type": "display_data"
    },
    {
     "name": "stdout",
     "output_type": "stream",
     "text": [
      "[-0.32251281 -0.83742891  1.26350061 -1.99686873 -1.57079566 -0.32251349]\n",
      "[-0.32727194 -0.86765961  1.24624197 -1.9493798  -1.57079566 -0.32727206]\n",
      "[-0.33553296 -0.89450912  1.22280661 -1.89909506 -1.57079566 -0.33553314]\n"
     ]
    },
    {
     "data": {
      "application/vnd.jupyter.widget-view+json": {
       "model_id": "105cd745522d4a1b8254500c3c153997",
       "version_major": 2,
       "version_minor": 0
      },
      "text/plain": [
       "0it [00:00, ?it/s]"
      ]
     },
     "metadata": {},
     "output_type": "display_data"
    },
    {
     "name": "stdout",
     "output_type": "stream",
     "text": [
      "[-0.33553296 -0.89450912  1.22280661 -1.89909506 -1.57079566 -0.33553314]\n",
      "[-0.3395043  -0.8997458   1.22986166 -1.90091181 -1.57079613 -0.33950371]\n"
     ]
    },
    {
     "name": "stderr",
     "output_type": "stream",
     "text": [
      "/tmp/ipykernel_128504/1366246583.py:57: RuntimeWarning: divide by zero encountered in divide\n",
      "  unit_sleep = movetime/len(motor_array)\n"
     ]
    },
    {
     "name": "stdout",
     "output_type": "stream",
     "text": [
      "[-0.34396666 -0.90488796  1.2381709  -1.9040786  -1.57079625 -0.34396589]\n"
     ]
    },
    {
     "data": {
      "application/vnd.jupyter.widget-view+json": {
       "model_id": "8f619f1c9f14451e9b21b6c49c3c5257",
       "version_major": 2,
       "version_minor": 0
      },
      "text/plain": [
       "0it [00:00, ?it/s]"
      ]
     },
     "metadata": {},
     "output_type": "display_data"
    },
    {
     "name": "stdout",
     "output_type": "stream",
     "text": [
      "[-0.34396666 -0.90488796  1.2381709  -1.9040786  -1.57079625 -0.34396589]\n",
      "[-0.33983761 -0.88847766  1.27556781 -1.95788455 -1.57079661 -0.33983696]\n",
      "[-0.33543593 -0.87341354  1.3192424  -2.01662326 -1.57079685 -0.33543518]\n"
     ]
    },
    {
     "data": {
      "application/vnd.jupyter.widget-view+json": {
       "model_id": "ad8150d3b9fd4dde976a7f77d9e856f6",
       "version_major": 2,
       "version_minor": 0
      },
      "text/plain": [
       "0it [00:00, ?it/s]"
      ]
     },
     "metadata": {},
     "output_type": "display_data"
    },
    {
     "name": "stdout",
     "output_type": "stream",
     "text": [
      "[-0.33543593 -0.87341354  1.3192424  -2.01662326 -1.57079685 -0.33543518]\n",
      "[-0.3261956  -0.8883007   1.34678797 -2.02928209 -1.57079685 -0.32619458]\n",
      "[-0.31754321 -0.90474532  1.37522392 -2.04127312 -1.57079685 -0.3175422 ]\n"
     ]
    },
    {
     "data": {
      "application/vnd.jupyter.widget-view+json": {
       "model_id": "ac7fe77c85ff416ea266ff0ef74dc30f",
       "version_major": 2,
       "version_minor": 0
      },
      "text/plain": [
       "0it [00:00, ?it/s]"
      ]
     },
     "metadata": {},
     "output_type": "display_data"
    },
    {
     "name": "stdout",
     "output_type": "stream",
     "text": [
      "[-0.31754321 -0.90474532  1.37522392 -2.04127312 -1.57079685 -0.3175422 ]\n",
      "[-0.32219583 -0.92275802  1.3386269  -1.98666716 -1.57079625 -0.32219654]\n",
      "[-0.32753855 -0.93524049  1.29225711 -1.92781544 -1.57079601 -0.32753953]\n"
     ]
    },
    {
     "data": {
      "application/vnd.jupyter.widget-view+json": {
       "model_id": "b6d1ad1b0de043a4924b9f55acbbc586",
       "version_major": 2,
       "version_minor": 0
      },
      "text/plain": [
       "0it [00:00, ?it/s]"
      ]
     },
     "metadata": {},
     "output_type": "display_data"
    },
    {
     "name": "stdout",
     "output_type": "stream",
     "text": [
      "[-0.32753855 -0.93524049  1.29225711 -1.92781544 -1.57079601 -0.32753953]\n",
      "[-0.33803946 -0.93988083  1.29768292 -1.92859864 -1.57079625 -0.33803934]\n",
      "[-0.3493568  -0.94303421  1.30276005 -1.93052232 -1.57079649 -0.34935662]\n"
     ]
    },
    {
     "data": {
      "application/vnd.jupyter.widget-view+json": {
       "model_id": "16edf31a5ab1455d92936c13a59d903b",
       "version_major": 2,
       "version_minor": 0
      },
      "text/plain": [
       "0it [00:00, ?it/s]"
      ]
     },
     "metadata": {},
     "output_type": "display_data"
    },
    {
     "name": "stdout",
     "output_type": "stream",
     "text": [
      "[-0.3493568  -0.94303421  1.30276005 -1.93052232 -1.57079649 -0.34935662]\n",
      "[-0.35311148 -0.92735533  1.34198217 -1.98542106 -1.57079661 -0.3531107 ]\n",
      "[-0.36103261 -0.90768139  1.38040797 -2.0435214  -1.57079661 -0.3610318 ]\n"
     ]
    },
    {
     "data": {
      "application/vnd.jupyter.widget-view+json": {
       "model_id": "4966a9ba33a04dfa90396ff2fc01ab5d",
       "version_major": 2,
       "version_minor": 0
      },
      "text/plain": [
       "0it [00:00, ?it/s]"
      ]
     },
     "metadata": {},
     "output_type": "display_data"
    },
    {
     "name": "stdout",
     "output_type": "stream",
     "text": [
      "[-0.36103261 -0.90768139  1.38040797 -2.0435214  -1.57079661 -0.3610318 ]\n",
      "[-0.38578561 -0.92506603  1.41162996 -2.05736017 -1.57079709 -0.3857851 ]\n"
     ]
    },
    {
     "name": "stderr",
     "output_type": "stream",
     "text": [
      "/tmp/ipykernel_128504/1366246583.py:57: RuntimeWarning: divide by zero encountered in double_scalars\n",
      "  unit_sleep = movetime/len(motor_array)\n"
     ]
    },
    {
     "name": "stdout",
     "output_type": "stream",
     "text": [
      "[-0.4105961  -0.94084189  1.43848686 -2.06844139 -1.57079709 -0.41059572]\n"
     ]
    },
    {
     "data": {
      "application/vnd.jupyter.widget-view+json": {
       "model_id": "5ea062f23219425d8baa64cbb846592a",
       "version_major": 2,
       "version_minor": 0
      },
      "text/plain": [
       "0it [00:00, ?it/s]"
      ]
     },
     "metadata": {},
     "output_type": "display_data"
    },
    {
     "name": "stdout",
     "output_type": "stream",
     "text": [
      "[-0.4105961  -0.94084189  1.43848686 -2.06844139 -1.57079709 -0.41059572]\n",
      "[-0.40389788 -0.95978187  1.39984946 -2.01086593 -1.57079637 -0.40389875]\n",
      "[-0.39515361 -0.97719602  1.36013667 -1.95373869 -1.57079613 -0.3951546 ]\n"
     ]
    },
    {
     "data": {
      "application/vnd.jupyter.widget-view+json": {
       "model_id": "60924cefd7e7443f98648c6ed167166e",
       "version_major": 2,
       "version_minor": 0
      },
      "text/plain": [
       "0it [00:00, ?it/s]"
      ]
     },
     "metadata": {},
     "output_type": "display_data"
    },
    {
     "name": "stdout",
     "output_type": "stream",
     "text": [
      "[-0.39515361 -0.97719602  1.36013667 -1.95373869 -1.57079613 -0.3951546 ]\n",
      "[-0.39515361 -0.97719602  1.36013667 -1.95373869 -1.57079613 -0.3951546 ]\n",
      "[-0.39515361 -0.97719602  1.36013667 -1.95373869 -1.57079613 -0.3951546 ]\n"
     ]
    },
    {
     "data": {
      "application/vnd.jupyter.widget-view+json": {
       "model_id": "d0f9c8d1fbb74440a82d5753ca4cd251",
       "version_major": 2,
       "version_minor": 0
      },
      "text/plain": [
       "0it [00:00, ?it/s]"
      ]
     },
     "metadata": {},
     "output_type": "display_data"
    },
    {
     "name": "stdout",
     "output_type": "stream",
     "text": [
      "[-0.39515361 -0.97719602  1.36013667 -1.95373869 -1.57079613 -0.3951546 ]\n",
      "[-0.40066794 -0.96378116  1.40267817 -2.00969148 -1.57079649 -0.4006671 ]\n",
      "[-0.40824181 -0.94588957  1.44448666 -2.06939197 -1.57079661 -0.40824103]\n"
     ]
    },
    {
     "data": {
      "application/vnd.jupyter.widget-view+json": {
       "model_id": "74c787bccebc434aaa5adffdf8629d33",
       "version_major": 2,
       "version_minor": 0
      },
      "text/plain": [
       "0it [00:00, ?it/s]"
      ]
     },
     "metadata": {},
     "output_type": "display_data"
    },
    {
     "name": "stdout",
     "output_type": "stream",
     "text": [
      "[-0.40824181 -0.94588957  1.44448666 -2.06939197 -1.57079661 -0.40824103]\n",
      "[-0.42469954 -0.96420352  1.47648625 -2.08307791 -1.57079697 -0.42469868]\n",
      "[-0.4415516  -0.98190967  1.50605134 -2.0949378  -1.57079709 -0.44155076]\n"
     ]
    },
    {
     "data": {
      "application/vnd.jupyter.widget-view+json": {
       "model_id": "2da9e9f961e549a5a6d56dedbb99309c",
       "version_major": 2,
       "version_minor": 0
      },
      "text/plain": [
       "0it [00:00, ?it/s]"
      ]
     },
     "metadata": {},
     "output_type": "display_data"
    },
    {
     "name": "stdout",
     "output_type": "stream",
     "text": [
      "[-0.4415516  -0.98190967  1.50605134 -2.0949378  -1.57079709 -0.44155076]\n",
      "[-0.43620837 -0.99952678  1.46430008 -2.0355711  -1.57079637 -0.43620929]\n",
      "[-0.42816696 -1.01481132  1.42058925 -1.97657657 -1.57079613 -0.428168  ]\n"
     ]
    },
    {
     "data": {
      "application/vnd.jupyter.widget-view+json": {
       "model_id": "36085550338a4348af1923c6f15410d1",
       "version_major": 2,
       "version_minor": 0
      },
      "text/plain": [
       "0it [00:00, ?it/s]"
      ]
     },
     "metadata": {},
     "output_type": "display_data"
    },
    {
     "name": "stdout",
     "output_type": "stream",
     "text": [
      "[-0.92153385 -1.41022604  1.93557014 -2.11708438 -1.569051   -0.91978852]\n",
      "[-0.92153385 -1.32295957  2.00712864 -2.27416402 -1.569051   -0.91978852]\n",
      "[-0.92153385 -1.32295957  2.00712864 -2.27416402 -1.569051   -0.91978852]\n",
      "[-0.92153385 -1.41022604  1.93557014 -2.11708438 -1.569051   -0.91978852]\n"
     ]
    },
    {
     "data": {
      "application/vnd.jupyter.widget-view+json": {
       "model_id": "75bddb44b0ac415c81a866acbf7d8ef2",
       "version_major": 2,
       "version_minor": 0
      },
      "text/plain": [
       "0it [00:00, ?it/s]"
      ]
     },
     "metadata": {},
     "output_type": "display_data"
    },
    {
     "name": "stdout",
     "output_type": "stream",
     "text": [
      "[-0.42816696 -1.01481132  1.42058925 -1.97657657 -1.57079613 -0.428168  ]\n",
      "[-0.41727063 -1.00870256  1.40946428 -1.97155905 -1.57079601 -0.41727138]\n",
      "[-0.40676841 -1.00281433  1.39998321 -1.96796572 -1.57079601 -0.40676907]\n"
     ]
    },
    {
     "data": {
      "application/vnd.jupyter.widget-view+json": {
       "model_id": "5687615e24f1418e80d97ebf5f977d4c",
       "version_major": 2,
       "version_minor": 0
      },
      "text/plain": [
       "0it [00:00, ?it/s]"
      ]
     },
     "metadata": {},
     "output_type": "display_data"
    },
    {
     "name": "stdout",
     "output_type": "stream",
     "text": [
      "[-0.40676841 -1.00281433  1.39998321 -1.96796572 -1.57079601 -0.40676907]\n",
      "[-0.4044736  -0.98957829  1.44457523 -2.02579165 -1.57079649 -0.40447283]\n",
      "[-0.40041417 -0.97053854  1.48505227 -2.08530855 -1.57079673 -0.4004136 ]\n"
     ]
    },
    {
     "data": {
      "application/vnd.jupyter.widget-view+json": {
       "model_id": "98f6a922af16416b80f752d27148f2d9",
       "version_major": 2,
       "version_minor": 0
      },
      "text/plain": [
       "0it [00:00, ?it/s]"
      ]
     },
     "metadata": {},
     "output_type": "display_data"
    },
    {
     "name": "stdout",
     "output_type": "stream",
     "text": [
      "[-0.40041417 -0.97053854  1.48505227 -2.08530855 -1.57079673 -0.4004136 ]\n",
      "[-0.38721672 -0.98777203  1.51547817 -2.09850073 -1.57079673 -0.38721591]\n",
      "[-0.37477005 -1.00629513  1.5460581  -2.11055827 -1.57079673 -0.37476921]\n"
     ]
    },
    {
     "data": {
      "application/vnd.jupyter.widget-view+json": {
       "model_id": "0196d6c3687e4d749c3bf83e3666e800",
       "version_major": 2,
       "version_minor": 0
      },
      "text/plain": [
       "0it [00:00, ?it/s]"
      ]
     },
     "metadata": {},
     "output_type": "display_data"
    },
    {
     "name": "stdout",
     "output_type": "stream",
     "text": [
      "[-0.37477005 -1.00629513  1.5460581  -2.11055827 -1.57079673 -0.37476921]\n",
      "[-0.38032132 -1.02833549  1.51164512 -2.0541079  -1.57079625 -0.38032186]\n",
      "[-0.38646314 -1.04488353  1.46843879 -1.99435401 -1.57079613 -0.38646388]\n"
     ]
    },
    {
     "data": {
      "application/vnd.jupyter.widget-view+json": {
       "model_id": "083ff0fec8b04b6d9598a07a81feaa20",
       "version_major": 2,
       "version_minor": 0
      },
      "text/plain": [
       "0it [00:00, ?it/s]"
      ]
     },
     "metadata": {},
     "output_type": "display_data"
    },
    {
     "name": "stdout",
     "output_type": "stream",
     "text": [
      "[-0.38646314 -1.04488353  1.46843879 -1.99435401 -1.57079613 -0.38646388]\n",
      "[-0.38646314 -1.04488353  1.46843879 -1.99435401 -1.57079613 -0.38646388]\n",
      "[-0.38613939 -1.04537575  1.46846918 -1.9938916  -1.57079613 -0.38613999]\n"
     ]
    },
    {
     "data": {
      "application/vnd.jupyter.widget-view+json": {
       "model_id": "9579cd6650024235849568d7dfd66ae6",
       "version_major": 2,
       "version_minor": 0
      },
      "text/plain": [
       "0it [00:00, ?it/s]"
      ]
     },
     "metadata": {},
     "output_type": "display_data"
    },
    {
     "name": "stdout",
     "output_type": "stream",
     "text": [
      "[-0.38613939 -1.04537575  1.46846918 -1.9938916  -1.57079613 -0.38613999]\n",
      "[-0.37829706 -1.02211384  1.49911634 -2.04779744 -1.57079637 -0.37829688]\n",
      "[-0.37071729 -0.98996107  1.52211789 -2.10295177 -1.57079637 -0.37071723]\n"
     ]
    },
    {
     "data": {
      "application/vnd.jupyter.widget-view+json": {
       "model_id": "b661810a3fbf4b648b784f8aa25b6efa",
       "version_major": 2,
       "version_minor": 0
      },
      "text/plain": [
       "0it [00:00, ?it/s]"
      ]
     },
     "metadata": {},
     "output_type": "display_data"
    },
    {
     "name": "stdout",
     "output_type": "stream",
     "text": [
      "[-0.37071729 -0.98996107  1.52211789 -2.10295177 -1.57079637 -0.37071723]\n",
      "[-0.34980482 -0.98046557  1.5083584  -2.09868932 -1.57079589 -0.34980527]\n",
      "[-0.32896769 -0.97161202  1.49373655 -2.09292102 -1.57079566 -0.3289682 ]\n"
     ]
    },
    {
     "data": {
      "application/vnd.jupyter.widget-view+json": {
       "model_id": "86b5465809b142dbb908f8e31cf22aea",
       "version_major": 2,
       "version_minor": 0
      },
      "text/plain": [
       "0it [00:00, ?it/s]"
      ]
     },
     "metadata": {},
     "output_type": "display_data"
    },
    {
     "name": "stdout",
     "output_type": "stream",
     "text": [
      "[-0.32896769 -0.97161202  1.49373655 -2.09292102 -1.57079566 -0.3289682 ]\n",
      "[-0.33466998 -1.00500993  1.47570435 -2.04149199 -1.57079577 -0.33467007]\n",
      "[-0.34404951 -1.0352482   1.45153574 -1.98708522 -1.57079577 -0.3440496 ]\n"
     ]
    },
    {
     "data": {
      "application/vnd.jupyter.widget-view+json": {
       "model_id": "a61b9d2534f4469281975278c9f21eca",
       "version_major": 2,
       "version_minor": 0
      },
      "text/plain": [
       "0it [00:00, ?it/s]"
      ]
     },
     "metadata": {},
     "output_type": "display_data"
    },
    {
     "name": "stdout",
     "output_type": "stream",
     "text": [
      "[-0.92153385 -1.41022604  1.93557014 -2.11708438 -1.569051   -0.91978852]\n",
      "[-0.92153385 -1.32295957  2.00712864 -2.27416402 -1.569051   -0.91978852]\n",
      "[-0.92153385 -1.32295957  2.00712864 -2.27416402 -1.569051   -0.91978852]\n",
      "[-0.92153385 -1.41022604  1.93557014 -2.11708438 -1.569051   -0.91978852]\n"
     ]
    }
   ],
   "source": [
    "q_down = 2\n",
    "\n",
    "assert len(motor_array) % 3 == 0\n",
    "\n",
    "\n",
    "for i in range(len(motor_array)//3):\n",
    "    qs_array_ = qs_array[i*3:(i+1)*3] + np.array([0, q_down,-q_down ,0,0,0]) / 180 * PI\n",
    "    motor_array_ = motor_array[i*3:(i+1)*3]\n",
    "    # qs_array_ = qs_array[n:m] + np.array([0, q_down,-q_down ,0,0,0]) / 180 * PI\n",
    "    # motor_array_ = motor_array[n:m]\n",
    "\n",
    "\n",
    "    if i% (4*4)==15:\n",
    "        move_arm_soro(robot, q_ink_array, m_ink_array, time_array=0.5*np.ones(len(m_ink_array)).astype(np.float32))\n",
    "        \n",
    "    move_arm_soro(robot, qs_array_, motor_array_, time_array=0.5 * np.ones(len(motor_array_)).astype(np.float32))\n",
    "\n",
    "move_arm_soro(robot, q_ink_array, m_ink_array, time_array=0.5*np.ones(len(m_ink_array)).astype(np.float32))\n"
   ]
  },
  {
   "cell_type": "code",
   "execution_count": null,
   "metadata": {},
   "outputs": [],
   "source": []
  },
  {
   "cell_type": "code",
   "execution_count": null,
   "metadata": {},
   "outputs": [],
   "source": []
  },
  {
   "cell_type": "code",
   "execution_count": null,
   "metadata": {},
   "outputs": [],
   "source": [
    "q0 = init_joint\n",
    "q1 = np.array([0, -44, 63, -139, -92, 0]) / 180 * PI\n",
    "q2 = np.array([0, -33, 58, -150, -92, 0])/180 * PI\n",
    "q3 = np.array([0, -76, 124, -150, -93, 11])/180 * PI\n",
    "\n",
    "motor_0 = [0,0,0,0]\n",
    "motor_1 = [0,0,0,1000]\n",
    "motor_2 = [0,0,1000,0]\n",
    "motor_3 = [0,0,1000,0]\n"
   ]
  },
  {
   "cell_type": "code",
   "execution_count": null,
   "metadata": {},
   "outputs": [],
   "source": []
  },
  {
   "cell_type": "code",
   "execution_count": null,
   "metadata": {},
   "outputs": [],
   "source": [
    "qs_array = np.array([q0, q1, q2, q3, q0])\n",
    "motor_array = np.array([motor_0, motor_1, motor_2, motor_3, motor_0])\n",
    "time_array = np.array([1,1,3,1,1])\n",
    "# move_arm_soro(robot, qs_array, motor_array, time_array=time_array)\n",
    "\n",
    "qs_array.shape, motor_array.shape,\n"
   ]
  },
  {
   "cell_type": "code",
   "execution_count": null,
   "metadata": {},
   "outputs": [],
   "source": [
    "motor_array[:,[2,3,0,1]]\n",
    "\n",
    "# 1 -> 3\n",
    "# 2 -> 4\n",
    "# 3 -> 1\n",
    "# 4 -> 2"
   ]
  },
  {
   "cell_type": "code",
   "execution_count": null,
   "metadata": {},
   "outputs": [],
   "source": [
    "pertub = [2,3,0,1]\n",
    "\n",
    "motor_array = np.load(\"planned_traj/scraps/motor_array.npy\")[:,0,:].astype(np.float32)[:, pertub]\n",
    "qs_array = np.load(\"planned_traj/scraps/qs_array.npy\").astype(np.float32)\n",
    "\n",
    "qs_array.shape, motor_array.shape"
   ]
  },
  {
   "cell_type": "code",
   "execution_count": null,
   "metadata": {},
   "outputs": [],
   "source": [
    "move_arm_soro(robot, qs_array, motor_array, time_array=np.ones(len(motor_array)).astype(np.float32))"
   ]
  },
  {
   "cell_type": "code",
   "execution_count": null,
   "metadata": {},
   "outputs": [],
   "source": []
  },
  {
   "cell_type": "code",
   "execution_count": null,
   "metadata": {},
   "outputs": [],
   "source": []
  },
  {
   "cell_type": "code",
   "execution_count": null,
   "metadata": {},
   "outputs": [],
   "source": [
    "        \n",
    "robot.execute_arm_speed(init_joint, speed=1e-1)\n",
    "robot.move_xc(np.array([0,0,0,0]), movetime=3)        \n",
    "\n",
    "motor_array = np.load(\"planned_traj/scraps/motor_array.npy\")[:,0,:] * 1.5\n",
    "qs_array    = np.load(\"planned_traj/scraps/qs_array.npy\") + np.array([0,0,0,-4*DEG90,0, DEG90])\n",
    "# motor_array = np.array([[1000,0,0,0]]*30)\n",
    "qs_array.shape, motor_array.shape\n",
    "\n",
    "move_arm_soro(robot, qs_array, motor_array, time_array=np.ones(len(qs_array))*2)\n"
   ]
  },
  {
   "cell_type": "code",
   "execution_count": null,
   "metadata": {},
   "outputs": [],
   "source": [
    "# import numpy as np\n",
    "\n",
    "motor_controls = np.load(\"planned_traj/scraps/motor_array.npy\")[:,0,:] * 1.5\n",
    "motor_controls.shape\n",
    "robot.multiple_move_xc(motor_controls, movetimes=np.ones(len(motor_controls))*0.5 )"
   ]
  },
  {
   "cell_type": "code",
   "execution_count": null,
   "metadata": {},
   "outputs": [],
   "source": [
    "import numpy as np\n",
    "\n",
    "qs_array = np.load(\"planned_traj/scraps/qs_array.npy\")\n",
    "qs_array[0] - init_joint\n",
    "\n",
    "\n",
    "# init_joint=[0,-DEG90,DEG90,-DEG90,-DEG90, 0]\n",
    "# robot.execute_arm(init_joint, movetime = 5)\n",
    "\n",
    "# for qs in qs_array:\n",
    "#     robot.execute_arm(qs + np.array([0,0,0,-4*DEG90,0,-DEG90]), movetime = 10)"
   ]
  },
  {
   "cell_type": "markdown",
   "metadata": {},
   "source": [
    "# Calibrate initpos\n",
    "반드시 Cap을 벗기고 진행할것"
   ]
  },
  {
   "cell_type": "code",
   "execution_count": null,
   "metadata": {},
   "outputs": [],
   "source": [
    "# Upright_joint = np.array([0, -90+45, 90-45, -90, 90, 90])/90*DEG90\n",
    "# robot.execute_arm(Upright_joint)"
   ]
  },
  {
   "cell_type": "code",
   "execution_count": null,
   "metadata": {},
   "outputs": [],
   "source": [
    "# robot.init_xc(initpos=np.array([None]))\n",
    "# initpos = robot.xc.get_currpos()"
   ]
  },
  {
   "cell_type": "code",
   "execution_count": null,
   "metadata": {},
   "outputs": [],
   "source": [
    "# relaxed_pos = initpos"
   ]
  },
  {
   "cell_type": "code",
   "execution_count": null,
   "metadata": {},
   "outputs": [],
   "source": [
    "# initpos = np.array([2247, -546,  344, 2629, 1000, 2833, 1801, 4351, 4761, 2223, 1299,\n",
    "#        1990,  2605, -703, 2454, 1732])\n",
    "# # initpos[-4:] = relaxed_pos[-4:]\n",
    "# robot.init_xc(initpos=initpos)"
   ]
  },
  {
   "cell_type": "code",
   "execution_count": null,
   "metadata": {},
   "outputs": [],
   "source": [
    "# relaxed_pos"
   ]
  },
  {
   "cell_type": "code",
   "execution_count": null,
   "metadata": {},
   "outputs": [],
   "source": [
    "# # 1번은 플러스, 2번 마이너스, 3번 마이너스, 4번 플러스\n",
    "# pos = initpos + np.array([0,0,0,0, 0,0,0,0, 0,0,0,0, 100,200,200,200]) * np.array([1,-1,-1,1]*4)\n",
    "# # robot.move_xc(pos)\n",
    "\n",
    "# pos = pos + PROPORTION_MATRIX @ np.array([0,0,0,0, 0,0,0,0, 0,0,0,0, 600,600,600,600]) * np.array([1,-1,-1,1]*4)\n",
    "\n",
    "# robot.move_xc(pos)\n",
    "\n",
    "# robot.xc.get_currpos()"
   ]
  },
  {
   "cell_type": "code",
   "execution_count": null,
   "metadata": {},
   "outputs": [],
   "source": [
    "# initpos = np.array([2247, -546,  344, 2629, 1000, 2833, 1801, 4351, 4761, 2223, 1299,\n",
    "#        1990, 4110,  970, 3106, 3197])\n",
    "# robot.init_xc(initpos)\n",
    "# robot.xc.get_currpos()\n",
    "\n",
    "# pos = initpos + np.array([300]*16) * np.array([1,-1,-1,1]*4)\n",
    "# robot.move_xc(pos)\n",
    "# time.sleep(2)\n",
    "\n",
    "# pos = initpos + PROPORTION_MATRIX @ np.array([1000,0,0,0, 0,0,1000,0, 0,1000,0,0, 0,0,0,1000]) * np.array([1,-1,-1,1]*4)\n",
    "# robot.move_xc(pos)\n",
    "# time.sleep(2)\n",
    "\n",
    "\n",
    "# pos = initpos + PROPORTION_MATRIX @ np.array([0,1000,0,0, 0,0,0,1000, 1000,0,0,0, 0,0,1000,0]) * np.array([1,-1,-1,1]*4)\n",
    "# robot.move_xc(pos)\n",
    "# time.sleep(2)\n",
    "\n",
    "# robot.move_xc(initpos)"
   ]
  },
  {
   "cell_type": "markdown",
   "metadata": {},
   "source": [
    "# Twist Open"
   ]
  },
  {
   "cell_type": "code",
   "execution_count": null,
   "metadata": {},
   "outputs": [],
   "source": [
    "robot.init_xc(np.array([None]))\n",
    "initpos = robot.xc.get_currpos()\n",
    "pos = initpos + np.array([1,1,1,1, 1,1,1,1, 1,1,1,1, 1,1,1,1])*1000 * np.array([1,-1,-1,1]*4)\n",
    "robot.move_xc(pos)\n",
    "\n",
    "initpos = np.array([2247, -546,  344, 2629, 1000, 2833, 1801, 4351, 4761, 2223, 1299,\n",
    "       1990,  2705, -803, 2354, 1832])\n",
    "robot.init_xc(initpos)\n",
    "\n",
    "robot.xc.get_currpos()"
   ]
  },
  {
   "cell_type": "markdown",
   "metadata": {},
   "source": [
    "# Close Up"
   ]
  },
  {
   "cell_type": "code",
   "execution_count": null,
   "metadata": {},
   "outputs": [],
   "source": [
    "Target_up_joint = [0.001,-DEG90,DEG90,-DEG90,-DEG90,DEG90]\n",
    "\n",
    "Target_down_joint = np.array([0.02,-86.79,106.58,-109.79, -90.04, 90.11])/90*DEG90\n",
    "\n",
    "Target_down_joint2 = np.array([0.02,-87.48,104.85,-107.46, -90.03, 90.09])/90*DEG90\n",
    "Target_down_joint = (Target_down_joint2+Target_down_joint)/2\n",
    "assert (Target_up_joint * np.array([1,-1,1,-1,-1,1])>0).all()\n",
    "assert (Target_down_joint * np.array([1,-1,1,-1,-1,1])>0).all()\n",
    "assert (Target_down_joint2 * np.array([1,-1,1,-1,-1,1])>0).all()\n",
    "\n",
    "robot.execute_arm(Target_up_joint)\n",
    "robot.pmove_xc(np.array([0,0,0,0]*4))\n",
    "\n"
   ]
  },
  {
   "cell_type": "code",
   "execution_count": null,
   "metadata": {},
   "outputs": [],
   "source": [
    "coeff = 1.4\n",
    "rollout_actuation = np.load(\"actuations/Custom_grasp.npy\") * coeff\n",
    "\n",
    "# Ungrasp\n",
    "act = rollout_actuation[0].tolist()\n",
    "robot.pmove_xc(np.array(act*4)/coeff)"
   ]
  },
  {
   "cell_type": "code",
   "execution_count": null,
   "metadata": {},
   "outputs": [],
   "source": [
    "# Ungrasp\n",
    "act = rollout_actuation[0].tolist()\n",
    "robot.pmove_xc(np.array(act*4)/coeff)\n",
    "\n",
    "robot.execute_arm(Target_down_joint)\n",
    "\n",
    "# 접근 동작\n",
    "act = rollout_actuation[1].tolist()\n",
    "robot.pmove_xc(np.array(act*4))\n",
    "\n",
    "# 잡는 동작\n",
    "act = rollout_actuation[2].tolist()\n",
    "robot.pmove_xc(np.array(act*4))\n",
    "\n",
    "# 절반 돌리고\n",
    "act = rollout_actuation[3].tolist()\n",
    "robot.pmove_xc(np.array(act*4))\n",
    "\n",
    "# 나머지 돌리고\n",
    "act = rollout_actuation[4].tolist()\n",
    "robot.pmove_xc(np.array(act*4))\n",
    "\n",
    "# 들고\n",
    "act = rollout_actuation[5].tolist()\n",
    "robot.pmove_xc(np.array(act*4))\n",
    "\n",
    "# Ungrasp\n",
    "act = rollout_actuation[0].tolist()\n",
    "robot.pmove_xc(np.array(act*4)/coeff)\n",
    "\n",
    "# 접근 동작\n",
    "act = rollout_actuation[1].tolist()\n",
    "robot.pmove_xc(np.array(act*4))\n",
    "\n",
    "# 잡는 동작\n",
    "act = rollout_actuation[2].tolist()\n",
    "robot.pmove_xc(np.array(act*4))\n",
    "\n",
    "# 절반 돌리고\n",
    "act = rollout_actuation[3].tolist()\n",
    "robot.pmove_xc(np.array(act*4))\n",
    "\n",
    "# 나머지 돌리고\n",
    "act = rollout_actuation[4].tolist()\n",
    "robot.pmove_xc(np.array(act*4))\n",
    "\n",
    "# 들고\n",
    "act = rollout_actuation[5].tolist()\n",
    "robot.pmove_xc(np.array(act*4))\n",
    "\n",
    "# Ungrasp\n",
    "act = rollout_actuation[0].tolist()\n",
    "robot.pmove_xc(np.array(act*4)/coeff)\n",
    "\n",
    "# 접근 동작\n",
    "act = rollout_actuation[1].tolist()\n",
    "robot.pmove_xc(np.array(act*4))\n",
    "\n",
    "# 잡는 동작\n",
    "act = rollout_actuation[2].tolist()\n",
    "robot.pmove_xc(np.array(act*4))\n",
    "\n",
    "# 절반 돌리고\n",
    "act = rollout_actuation[3].tolist()\n",
    "robot.pmove_xc(np.array(act*4))\n",
    "\n",
    "# 나머지 돌리고\n",
    "act = rollout_actuation[4].tolist()\n",
    "robot.pmove_xc(np.array(act*4))\n",
    "\n"
   ]
  },
  {
   "cell_type": "code",
   "execution_count": null,
   "metadata": {},
   "outputs": [],
   "source": [
    "robot.execute_arm(Target_up_joint)\n",
    "time.sleep(4)\n",
    "robot.execute_arm(Target_down_joint2)\n"
   ]
  },
  {
   "cell_type": "code",
   "execution_count": null,
   "metadata": {},
   "outputs": [],
   "source": [
    "### Capping ###\n",
    "\n",
    "# 놓고\n",
    "act = rollout_actuation[3].tolist()\n",
    "robot.pmove_xc(np.array(act*4))\n",
    "robot.pmove_xc(np.array([1000,0,1000,0]*4))\n",
    "\n",
    "# 접근 동작\n",
    "robot.pmove_xc(np.array([0,2000,2000,0]*4))\n",
    "\n",
    "# 잡는 동작\n",
    "robot.pmove_xc(np.array([0,1800,200,800]*4))\n",
    "\n",
    "# 절반 돌리고\n",
    "robot.pmove_xc(np.array([500,500,200,1200]*4))\n",
    "\n",
    "# 나머지 돌리고\n",
    "robot.pmove_xc(np.array([700,1000,200,2000]*4))\n",
    "\n",
    "# 들고\n",
    "robot.pmove_xc(np.array([3000,1000,0,2000]*4))\n",
    "\n",
    "# UnGrasp\n",
    "robot.pmove_xc(np.array([1000,0,1000,0]*4))\n",
    "\n",
    "\n",
    "# 접근 동작\n",
    "robot.pmove_xc(np.array([0,2000,2000,0]*4))\n",
    "\n",
    "# 잡는 동작\n",
    "robot.pmove_xc(np.array([0,1800,200,800]*4))\n",
    "\n",
    "# 절반 돌리고\n",
    "robot.pmove_xc(np.array([500,500,200,1200]*4))\n",
    "\n",
    "# 나머지 돌리고\n",
    "robot.pmove_xc(np.array([700,1000,200,2000]*4))\n",
    "\n",
    "# 들고\n",
    "robot.pmove_xc(np.array([3000,1000,0,2000]*4))\n",
    "\n",
    "# UnGrasp\n",
    "robot.pmove_xc(np.array([1000,0,1000,0]*4))\n",
    "\n",
    "\n",
    "# 접근 동작\n",
    "robot.pmove_xc(np.array([0,2000,2000,0]*4))\n",
    "\n",
    "# 잡는 동작\n",
    "robot.pmove_xc(np.array([0,1800,200,800]*4))\n",
    "\n",
    "# 절반 돌리고\n",
    "robot.pmove_xc(np.array([500,500,200,1200]*4))\n",
    "\n",
    "# 나머지 돌리고\n",
    "robot.pmove_xc(np.array([700,1000,200,2000]*4))\n",
    "\n",
    "# 들고\n",
    "robot.pmove_xc(np.array([3000,1000,0,2000]*4))\n",
    "\n",
    "# UnGrasp\n",
    "robot.pmove_xc(np.array([1000,0,1000,0]*4))\n",
    "\n",
    "# 접근 동작\n",
    "robot.pmove_xc(np.array([0,2000,2000,0]*4))\n",
    "\n",
    "# 잡는 동작\n",
    "robot.pmove_xc(np.array([0,1800,200,800]*4))\n",
    "\n",
    "# 절반 돌리고\n",
    "robot.pmove_xc(np.array([500,500,200,1200]*4))\n",
    "\n",
    "# 나머지 돌리고\n",
    "robot.pmove_xc(np.array([700,1000,200,2000]*4))\n",
    "\n",
    "# 들고\n",
    "robot.pmove_xc(np.array([3000,1000,0,2000]*4))\n",
    "\n",
    "# UnGrasp\n",
    "robot.pmove_xc(np.array([1000,0,1000,0]*4))\n"
   ]
  },
  {
   "cell_type": "code",
   "execution_count": null,
   "metadata": {},
   "outputs": [],
   "source": [
    "robot.execute_arm(Target_up_joint)"
   ]
  },
  {
   "cell_type": "code",
   "execution_count": null,
   "metadata": {},
   "outputs": [],
   "source": [
    "# # Ungrasp\n",
    "# act = rollout_actuation[0].tolist()\n",
    "# robot.pmove_xc(np.array(act*4)/coeff)\n",
    "\n",
    "# # 접근 동작\n",
    "# act = rollout_actuation[1].tolist()\n",
    "# robot.pmove_xc(np.array(act*4))\n",
    "\n",
    "# # 잡는 동작\n",
    "# act = rollout_actuation[2].tolist()\n",
    "# robot.pmove_xc(np.array(act*4))\n",
    "\n",
    "# # 절반 돌리고\n",
    "# act = rollout_actuation[3].tolist()\n",
    "# robot.pmove_xc(np.array(act*4))\n",
    "\n",
    "# # 나머지 돌리고\n",
    "# act = rollout_actuation[4].tolist()\n",
    "# robot.pmove_xc(np.array(act*4))"
   ]
  },
  {
   "cell_type": "code",
   "execution_count": null,
   "metadata": {},
   "outputs": [],
   "source": [
    "robot.pmove_xc(np.array([1000,0,1000,0]*4))"
   ]
  },
  {
   "cell_type": "code",
   "execution_count": null,
   "metadata": {},
   "outputs": [],
   "source": [
    "# # 잡는 동작\n",
    "# robot.pmove_xc(np.array([0,1800,200,800]*4))\n",
    "\n",
    "# # 절반 돌리고\n",
    "# robot.pmove_xc(np.array([800,800,500,1500]*4))\n",
    "\n",
    "# # 나머지 돌리고\n",
    "# robot.pmove_xc(np.array([500,800,0,1800]*4))"
   ]
  },
  {
   "cell_type": "code",
   "execution_count": null,
   "metadata": {},
   "outputs": [],
   "source": []
  },
  {
   "cell_type": "code",
   "execution_count": null,
   "metadata": {},
   "outputs": [],
   "source": [
    "coeff = 0.7\n",
    "rollout_actuation = np.load(\"actuations/Custom_grasp.npy\") * coeff\n",
    "\n",
    "cap_actuation = np.zeros_like(rollout_actuation)\n",
    "\n",
    "cap_actuation[:,0] = rollout_actuation[:,2]\n",
    "cap_actuation[:,1] = rollout_actuation[:,3]\n",
    "cap_actuation[:,2] = rollout_actuation[:,0]\n",
    "cap_actuation[:,3] = rollout_actuation[:,1]\n"
   ]
  },
  {
   "cell_type": "code",
   "execution_count": null,
   "metadata": {},
   "outputs": [],
   "source": [
    "# # robot.execute_arm(Target_down_joint)\n",
    "\n",
    "# # Ungrasp\n",
    "# act = cap_actuation[0].tolist()\n",
    "# robot.pmove_xc(np.array(act*4)/coeff)\n",
    "\n",
    "# # robot.execute_arm(Target_down2_joint)\n",
    "\n",
    "# # 접근 동작\n",
    "# act = cap_actuation[1].tolist()\n",
    "# robot.pmove_xc(np.array(act*4))\n",
    "\n",
    "# # 잡는 동작\n",
    "# act = cap_actuation[2].tolist()\n",
    "# robot.pmove_xc(np.array(act*4))\n",
    "\n",
    "# # 절반 돌리고\n",
    "# act = cap_actuation[3].tolist()\n",
    "# robot.pmove_xc(np.array(act*4))\n",
    "\n",
    "# # 나머지 돌리고\n",
    "# act = cap_actuation[4].tolist()\n",
    "# robot.pmove_xc(np.array(act*4))\n",
    "\n",
    "# # 들고\n",
    "# act = cap_actuation[5].tolist()\n",
    "# robot.pmove_xc(np.array(act*4))\n",
    "\n",
    "# # Ungrasp\n",
    "# act = cap_actuation[0].tolist()\n",
    "# robot.pmove_xc(np.array(act*4)/coeff)\n"
   ]
  },
  {
   "cell_type": "code",
   "execution_count": null,
   "metadata": {},
   "outputs": [],
   "source": []
  },
  {
   "cell_type": "code",
   "execution_count": null,
   "metadata": {},
   "outputs": [],
   "source": []
  },
  {
   "cell_type": "code",
   "execution_count": null,
   "metadata": {},
   "outputs": [],
   "source": []
  },
  {
   "cell_type": "code",
   "execution_count": null,
   "metadata": {},
   "outputs": [],
   "source": [
    "# 놓고\n",
    "act = rollout_actuation[0].tolist()\n",
    "robot.pmove_xc(np.array(act*4)/coeff)"
   ]
  },
  {
   "cell_type": "code",
   "execution_count": null,
   "metadata": {},
   "outputs": [],
   "source": [
    "coeff = 1.5\n",
    "rollout_actuation = np.load(\"actuations/Custom_grasp.npy\") * coeff\n",
    "\n",
    "# 놓고\n",
    "act = rollout_actuation[0].tolist()\n",
    "robot.pmove_xc(np.array(act*4)/coeff)\n",
    "\n",
    "# robot.execute_arm(Target_down_joint)\n",
    "\n",
    "# 들고\n",
    "act = rollout_actuation[4].tolist()\n",
    "robot.pmove_xc(np.array(act*4))\n",
    "\n",
    "# # 원래대로 오고\n",
    "# act = rollout_actuation[4].tolist()\n",
    "# robot.pmove_xc(np.array(act*4))\n",
    "\n",
    "# # 절반 돌리고\n",
    "# act = rollout_actuation[3].tolist()\n",
    "# robot.pmove_xc(np.array(act*4))\n",
    "\n",
    "# # 나머지 돌리고\n",
    "# act = rollout_actuation[2].tolist()\n",
    "# robot.pmove_xc(np.array(act*4))\n",
    "\n",
    "# # 들고\n",
    "# act = rollout_actuation[1].tolist()\n",
    "# robot.pmove_xc(np.array(act*4))\n",
    "\n",
    "# # 놓고\n",
    "# act = rollout_actuation[0].tolist()\n",
    "# robot.pmove_xc(np.array(act*4)/coeff)\n"
   ]
  },
  {
   "cell_type": "code",
   "execution_count": null,
   "metadata": {},
   "outputs": [],
   "source": [
    "rollout_actuation = np.load(\"actuations/Custom_grasp.npy\")\n",
    "rollout_actuation = np.flip(rollout_actuation,axis=0)\n",
    "rollout_actuation"
   ]
  },
  {
   "cell_type": "code",
   "execution_count": null,
   "metadata": {},
   "outputs": [],
   "source": [
    "\n",
    "act = rollout_actuation[5].tolist()\n",
    "robot.pmove_xc(np.array(act*4))"
   ]
  },
  {
   "cell_type": "code",
   "execution_count": null,
   "metadata": {},
   "outputs": [],
   "source": [
    "# robot.pmove_xc(np.array([0,0,0,0]*4))"
   ]
  },
  {
   "cell_type": "markdown",
   "metadata": {},
   "source": [
    "# Jar"
   ]
  },
  {
   "cell_type": "code",
   "execution_count": null,
   "metadata": {},
   "outputs": [],
   "source": [
    "robot.pmove_xc(np.array([0,0,0,0]*4))"
   ]
  },
  {
   "cell_type": "code",
   "execution_count": null,
   "metadata": {},
   "outputs": [],
   "source": [
    "# robot.execute_arm(Place_up_joint)\n",
    "# init_joint=[0,-DEG90,DEG90,-DEG90,-DEG90,DEG90]\n",
    "# robot.execute_arm(init_joint)"
   ]
  },
  {
   "cell_type": "code",
   "execution_count": null,
   "metadata": {},
   "outputs": [],
   "source": [
    "Custom_grasp = np.load(\"actuations/Custom_grasp.npy\")\n",
    "Custom_grasp[0] = Custom_grasp[0]* 1.2\n",
    "Custom_grasp[1:] = Custom_grasp[1:]* 1.6\n",
    "\n",
    "\n",
    "Custom_grasp = Custom_grasp.tolist()\n",
    "Custom_grasp"
   ]
  },
  {
   "cell_type": "code",
   "execution_count": null,
   "metadata": {},
   "outputs": [],
   "source": [
    "robot.pmove_xc(np.tile(Custom_grasp[0],4))"
   ]
  },
  {
   "cell_type": "code",
   "execution_count": null,
   "metadata": {},
   "outputs": [],
   "source": [
    "for actuation in Custom_grasp:\n",
    "    time.sleep(1)\n",
    "    robot.pmove_xc(np.array(np.tile(actuation,4)))\n",
    "\n",
    "for actuation in Custom_grasp:\n",
    "    time.sleep(1)\n",
    "    if actuation == Custom_grasp[-1]: break\n",
    "    robot.pmove_xc(np.array(np.tile(actuation,4)))\n",
    "    "
   ]
  },
  {
   "cell_type": "code",
   "execution_count": null,
   "metadata": {},
   "outputs": [],
   "source": [
    "actuation == Custom_grasp[-1]"
   ]
  },
  {
   "cell_type": "code",
   "execution_count": null,
   "metadata": {},
   "outputs": [],
   "source": [
    "init_joint=[0,-DEG90,DEG90,-DEG90,-DEG90,DEG90]\n",
    "Target_up_joint = np.array([-51.04,-79.42,73.24,-83.68,-89.61,81.53])/90*DEG90\n",
    "Target_down_joint = np.array([-50.75,-75,100.9,-115.94,-89.4,82.05])/90*DEG90\n",
    "Place_up_joint = np.array([-38.01,-54.74,37.94,-73.06,-89.60,94.45])/90*DEG90\n",
    "Place_down_joint = np.array([-38.07,-49.32,77.91,-118.45,-89.65,94.72])/90*DEG90\n",
    "\n",
    "assert (Target_up_joint * np.array([-1,-1,1,-1,-1,1])>0).all()\n",
    "assert (Target_down_joint * np.array([-1,-1,1,-1,-1,1])>0).all()\n",
    "assert (Place_up_joint * np.array([-1,-1,1,-1,-1,1])>0).all()\n",
    "assert (Place_down_joint * np.array([-1,-1,1,-1,-1,1])>0).all()\n",
    "\n",
    "\n",
    "# robot.execute_arm(init_joint)\n",
    "\n",
    "# robot.execute_arm(Target_up_joint)\n",
    "\n",
    "robot.pmove_xc(np.array([1000,0,1000,0]*4))\n",
    "\n",
    "# robot.execute_arm(Target_down_joint)\n",
    "\n",
    "# 접근 동작\n",
    "robot.pmove_xc(np.array([2000,0,0,2000]*4))\n",
    "\n",
    "# 잡는 동작\n",
    "robot.pmove_xc(np.array([200,1200,0,2000]*4))\n",
    "\n",
    "# 절반 돌리고\n",
    "robot.pmove_xc(np.array([200,1200,500,500]*4))\n",
    "\n",
    "# 나머지 돌리고\n",
    "robot.pmove_xc(np.array([200,2200,500,1000]*4))\n",
    "\n",
    "# 들고\n",
    "robot.pmove_xc(np.array([0,2000,3000,1000]*4))\n",
    "\n",
    "# UnGrasp\n",
    "robot.pmove_xc(np.array([1000,0,1000,0]*4))\n",
    "\n",
    "# 접근 동작\n",
    "robot.pmove_xc(np.array([2000,0,0,2000]*4))\n",
    "\n",
    "# # 잡는 동작\n",
    "robot.pmove_xc(np.array([200,1200,0,2000]*4))\n",
    "\n",
    "# 절반 돌리고\n",
    "robot.pmove_xc(np.array([200,1200,500,500]*4))\n",
    "\n",
    "# 나머지 돌리고\n",
    "robot.pmove_xc(np.array([200,2200,500,1000]*4))\n",
    "\n",
    "# robot.execute_arm(Target_up_joint)\n",
    "# robot.execute_arm(Place_up_joint)\n",
    "# robot.execute_arm(Place_down_joint)\n",
    "\n",
    "robot.pmove_xc(np.array([1000,0,1000,0]*4))\n",
    "# robot.execute_arm(Place_up_joint)\n",
    "# robot.execute_arm(init_joint)"
   ]
  },
  {
   "cell_type": "markdown",
   "metadata": {},
   "source": [
    "# Tumbler"
   ]
  },
  {
   "cell_type": "code",
   "execution_count": null,
   "metadata": {},
   "outputs": [],
   "source": [
    "robot.pmove_xc(np.array([0,0,0,0]*4))"
   ]
  },
  {
   "cell_type": "code",
   "execution_count": null,
   "metadata": {},
   "outputs": [],
   "source": [
    "# robot.execute_arm(Place_up_joint)\n",
    "# init_joint=[0,-DEG90,DEG90,-DEG90,-DEG90,DEG90]\n",
    "# robot.execute_arm(init_joint)"
   ]
  },
  {
   "cell_type": "code",
   "execution_count": null,
   "metadata": {},
   "outputs": [],
   "source": [
    "init_joint=[0,-DEG90,DEG90,-DEG90,-DEG90,DEG90]\n",
    "Target_up_joint = np.array([-34.38,-90.85,93.59,-92.60,-89.61,98.27])/90*DEG90\n",
    "Target_down_joint = np.array([-34.42,-87.67,107.73,-109.93,-89.65,98.36])/90*DEG90\n",
    "Place_up_joint = np.array([-25.41,-66.39,63.93,-87.40,-89.59,107.17])/90*DEG90\n",
    "Place_down_joint = np.array([-25.45,-56.45,89.79,-123.20,-89.68,107.37])/90*DEG90\n",
    "\n",
    "assert (Target_up_joint * np.array([-1,-1,1,-1,-1,1])>0).all()\n",
    "assert (Target_down_joint * np.array([-1,-1,1,-1,-1,1])>0).all()\n",
    "assert (Place_up_joint * np.array([-1,-1,1,-1,-1,1])>0).all()\n",
    "assert (Place_down_joint * np.array([-1,-1,1,-1,-1,1])>0).all()\n",
    "\n",
    "\n",
    "robot.execute_arm(init_joint)\n",
    "\n",
    "robot.execute_arm(Target_up_joint)\n",
    "\n",
    "robot.pmove_xc(np.array([1000,0,1000,0]*4))\n",
    "\n",
    "robot.execute_arm(Target_down_joint)\n",
    "\n",
    "# 접근 동작\n",
    "robot.pmove_xc(np.array([2000,0,0,2000]*4))\n",
    "\n",
    "# 잡는 동작\n",
    "robot.pmove_xc(np.array([200,1200,0,2000]*4))\n",
    "\n",
    "# 절반 돌리고\n",
    "robot.pmove_xc(np.array([200,1200,500,500]*4))\n",
    "\n",
    "# 나머지 돌리고\n",
    "robot.pmove_xc(np.array([200,2200,500,1000]*4))\n",
    "\n",
    "# 들고\n",
    "robot.pmove_xc(np.array([0,2000,3000,1000]*4))\n",
    "\n",
    "# UnGrasp\n",
    "robot.pmove_xc(np.array([1000,0,1000,0]*4))\n",
    "\n",
    "# 접근 동작\n",
    "robot.pmove_xc(np.array([2000,0,0,2000]*4))\n",
    "\n",
    "# # 잡는 동작\n",
    "robot.pmove_xc(np.array([200,1200,0,2000]*4))\n",
    "\n",
    "# 절반 돌리고\n",
    "robot.pmove_xc(np.array([200,1200,500,500]*4))\n",
    "\n",
    "# 나머지 돌리고\n",
    "robot.pmove_xc(np.array([200,2200,500,1000]*4))\n",
    "\n",
    "robot.execute_arm(Target_up_joint)\n",
    "robot.execute_arm(Place_up_joint)\n",
    "robot.execute_arm(Place_down_joint)\n",
    "\n",
    "robot.pmove_xc(np.array([1000,0,1000,0]*4))\n",
    "robot.execute_arm(Place_up_joint)\n",
    "robot.execute_arm(init_joint)\n"
   ]
  },
  {
   "cell_type": "markdown",
   "metadata": {},
   "source": [
    "# Tumbler2"
   ]
  },
  {
   "cell_type": "code",
   "execution_count": null,
   "metadata": {},
   "outputs": [],
   "source": [
    "robot.pmove_xc(np.array([0,0,0,0]*4))"
   ]
  },
  {
   "cell_type": "code",
   "execution_count": null,
   "metadata": {},
   "outputs": [],
   "source": [
    "init_joint=[0,-DEG90,DEG90,-DEG90,-DEG90,DEG90]\n",
    "Target_up_joint = np.array([-11.76,-94.52,93.83,-89.17,-89.60,120.91])/90*DEG90\n",
    "Target_down_joint = np.array([-11.76,-91.46,111.03,-109.48,-89.64,121.01])/90*DEG90\n",
    "Place_up_joint = np.array([-8.21,-66.55,61.03,-84.34,-89.52,124.35])/90*DEG90\n",
    "Place_down_joint = np.array([-8.26,-57.02,90.09,-122.93,-89.67,124.56])/90*DEG90\n",
    "\n",
    "assert (Target_up_joint * np.array([-1,-1,1,-1,-1,1])>0).all()\n",
    "assert (Target_down_joint * np.array([-1,-1,1,-1,-1,1])>0).all()\n",
    "assert (Place_up_joint * np.array([-1,-1,1,-1,-1,1])>0).all()\n",
    "assert (Place_down_joint * np.array([-1,-1,1,-1,-1,1])>0).all()\n",
    "\n",
    "\n",
    "robot.execute_arm(init_joint)\n",
    "\n",
    "robot.execute_arm(Target_up_joint)\n",
    "\n",
    "robot.pmove_xc(np.array([1000,0,1000,0]*4))\n",
    "\n",
    "robot.execute_arm(Target_down_joint)\n",
    "\n",
    "# 접근 동작\n",
    "robot.pmove_xc(np.array([2000,0,0,2000]*4))\n",
    "\n",
    "# 잡는 동작\n",
    "robot.pmove_xc(np.array([200,1200,0,2000]*4))\n",
    "\n",
    "# 절반 돌리고\n",
    "robot.pmove_xc(np.array([200,1200,500,500]*4))\n",
    "\n",
    "# 나머지 돌리고\n",
    "robot.pmove_xc(np.array([200,2200,500,1000]*4))\n",
    "\n",
    "# 들고\n",
    "robot.pmove_xc(np.array([0,2000,3000,1000]*4))\n",
    "\n",
    "# UnGrasp\n",
    "robot.pmove_xc(np.array([1000,0,1000,0]*4))\n",
    "\n",
    "# 접근 동작\n",
    "robot.pmove_xc(np.array([2000,0,0,2000]*4))\n",
    "\n",
    "# 잡는 동작\n",
    "robot.pmove_xc(np.array([200,1200,0,2000]*4))\n",
    "\n",
    "# 절반 돌리고\n",
    "robot.pmove_xc(np.array([200,1200,500,500]*4))\n",
    "\n",
    "# 나머지 돌리고\n",
    "robot.pmove_xc(np.array([200,2200,500,1000]*4))\n",
    "\n",
    "# 들고\n",
    "robot.pmove_xc(np.array([0,2000,3000,1000]*4))\n",
    "\n",
    "# UnGrasp\n",
    "robot.pmove_xc(np.array([1000,0,1000,0]*4))\n",
    "\n",
    "# 접근 동작\n",
    "robot.pmove_xc(np.array([2000,0,0,2000]*4))\n",
    "\n",
    "# 잡는 동작\n",
    "robot.pmove_xc(np.array([200,1200,0,2000]*4))\n",
    "\n",
    "# 절반 돌리고\n",
    "robot.pmove_xc(np.array([200,1200,500,500]*4))\n",
    "\n",
    "# 나머지 돌리고\n",
    "robot.pmove_xc(np.array([200,2200,500,1000]*4))\n",
    "\n",
    "\n",
    "robot.execute_arm(Target_up_joint)\n",
    "robot.execute_arm(Place_up_joint)\n",
    "robot.execute_arm(Place_down_joint)\n",
    "\n",
    "robot.pmove_xc(np.array([1000,0,1000,0]*4))\n",
    "robot.execute_arm(Place_up_joint)\n",
    "robot.execute_arm(init_joint)\n"
   ]
  },
  {
   "cell_type": "markdown",
   "metadata": {},
   "source": [
    "## Gat"
   ]
  },
  {
   "cell_type": "code",
   "execution_count": null,
   "metadata": {},
   "outputs": [],
   "source": [
    "robot.pmove_xc(np.array([0,0,0,0]*4))\n"
   ]
  },
  {
   "cell_type": "code",
   "execution_count": null,
   "metadata": {},
   "outputs": [],
   "source": [
    "init_joint=[0,-DEG90,DEG90,-DEG90,-DEG90,DEG90]\n",
    "Target_up_joint   = np.array([16.84,-83.79,82.93,-89.01,-89.59,149.49])/90*DEG90\n",
    "Target_down_joint = np.array([16.81,-82.13,96.38,-104.12,-89.61,149.57])/90*DEG90\n",
    "Place_up_joint    = np.array([12.25,-55.41,42.79,-77.25,-89.58,144.78])/90*DEG90\n",
    "Place_down_joint  = np.array([12.20,-48.98,77.21,-118.10,-89.63,145.01])/90*DEG90\n",
    "\n",
    "assert (Target_up_joint * np.array([1,-1,1,-1,-1,1])>0).all()\n",
    "assert (Target_down_joint * np.array([1,-1,1,-1,-1,1])>0).all()\n",
    "assert (Place_up_joint * np.array([1,-1,1,-1,-1,1])>0).all()\n",
    "assert (Place_down_joint * np.array([1,-1,1,-1,-1,1])>0).all()\n",
    "\n",
    "\n",
    "robot.execute_arm(init_joint)\n",
    "\n",
    "robot.execute_arm(Target_up_joint)\n",
    "\n",
    "robot.pmove_xc(np.array([1000,0,1000,0]*4))\n",
    "\n",
    "robot.execute_arm(Target_down_joint)\n",
    "\n",
    "\n",
    "# 접근 동작\n",
    "robot.pmove_xc(np.array([2000,0,0,2000]*4))\n",
    "\n",
    "# 잡는 동작\n",
    "robot.pmove_xc(np.array([200,1500,0,2000]*4))\n",
    "\n",
    "# 절반 돌리고\n",
    "robot.pmove_xc(np.array([200,1200,1200,1600]*4))\n",
    "\n",
    "# 나머지 돌리고\n",
    "robot.pmove_xc(np.array([200,2200,500,1000]*4))\n",
    "\n",
    "\n",
    "robot.execute_arm(Target_up_joint)\n",
    "robot.execute_arm(Place_up_joint)\n",
    "robot.execute_arm(Place_down_joint)\n",
    "\n",
    "robot.pmove_xc(np.array([1000,0,1000,0]*4))\n",
    "robot.execute_arm(Place_up_joint)\n",
    "robot.execute_arm(init_joint)\n"
   ]
  },
  {
   "cell_type": "code",
   "execution_count": null,
   "metadata": {},
   "outputs": [],
   "source": [
    "robot.pmove_xc(np.array([0,0,0,0]*4))"
   ]
  },
  {
   "cell_type": "markdown",
   "metadata": {},
   "source": [
    "# MAYO"
   ]
  },
  {
   "cell_type": "code",
   "execution_count": null,
   "metadata": {},
   "outputs": [],
   "source": [
    "pos = initpos+ PROPORTION_MATRIX @ np.array([1,0,1,0, 0,0,0,0, 0,0,0,0, 1,0,1,0]) * 4000 * np.array([1,-1,-1,1]*4)\n",
    "pos = pos    + PROPORTION_MATRIX @ np.array([0,0,0,0, 0.3,0,1,0, 1,0,0,0.3, 0,0,0,0]) * 4000 * np.array([1,-1,-1,1]*4)\n",
    "\n",
    "# pos = pos + np.array([0,0,0,0, 0,0,0,0, 0,0,0,400, 0,0,0,0]) * np.array([1,-1,-1,1]*4)\n",
    "snapbot.set_goalposcluster(pos,1)"
   ]
  },
  {
   "cell_type": "code",
   "execution_count": null,
   "metadata": {},
   "outputs": [],
   "source": [
    "pos = initpos+ PROPORTION_MATRIX @ np.array([1,0,1,0, 0,0,0,0, 0,0,0,0, 1,0,1,0]) * 4000 * np.array([1,-1,-1,1]*4)\n",
    "pos = pos    + PROPORTION_MATRIX @ np.array([0,0,0,0, 0.3,0,1,0, 1,0,0,0.3, 0,0,0,0]) * 4000 * np.array([1,-1,-1,1]*4)\n",
    "pos = pos    + PROPORTION_MATRIX @ np.array([0,0,0,0, 0,0,1,0, 1,0,0,0, 0,0,0,0]) * 1000 * np.array([1,-1,-1,1]*4)\n",
    "\n",
    "# pos = pos + np.array([0,0,0,0, 0,0,0,0, 0,0,0,400, 0,0,0,0]) * np.array([1,-1,-1,1]*4)\n",
    "snapbot.set_goalposcluster(pos,1)"
   ]
  },
  {
   "cell_type": "code",
   "execution_count": null,
   "metadata": {},
   "outputs": [],
   "source": []
  },
  {
   "cell_type": "code",
   "execution_count": null,
   "metadata": {},
   "outputs": [],
   "source": []
  }
 ],
 "metadata": {
  "kernelspec": {
   "display_name": "Python 3.8.10 64-bit",
   "language": "python",
   "name": "python3"
  },
  "language_info": {
   "codemirror_mode": {
    "name": "ipython",
    "version": 3
   },
   "file_extension": ".py",
   "mimetype": "text/x-python",
   "name": "python",
   "nbconvert_exporter": "python",
   "pygments_lexer": "ipython3",
   "version": "3.8.10"
  },
  "varInspector": {
   "cols": {
    "lenName": 16,
    "lenType": 16,
    "lenVar": 40
   },
   "kernels_config": {
    "python": {
     "delete_cmd_postfix": "",
     "delete_cmd_prefix": "del ",
     "library": "var_list.py",
     "varRefreshCmd": "print(var_dic_list())"
    },
    "r": {
     "delete_cmd_postfix": ") ",
     "delete_cmd_prefix": "rm(",
     "library": "var_list.r",
     "varRefreshCmd": "cat(var_dic_list()) "
    }
   },
   "types_to_exclude": [
    "module",
    "function",
    "builtin_function_or_method",
    "instance",
    "_Feature"
   ],
   "window_display": false
  },
  "vscode": {
   "interpreter": {
    "hash": "916dbcbb3f70747c44a77c7bcd40155683ae19c65e1c03b4aa3499c5328201f1"
   }
  }
 },
 "nbformat": 4,
 "nbformat_minor": 2
}
