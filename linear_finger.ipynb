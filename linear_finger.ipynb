{
 "cells": [
  {
   "cell_type": "code",
   "execution_count": 41,
   "metadata": {},
   "outputs": [],
   "source": [
    "minmaxInterval = 7000"
   ]
  },
  {
   "cell_type": "markdown",
   "metadata": {},
   "source": [
    "## open port"
   ]
  },
  {
   "cell_type": "code",
   "execution_count": 42,
   "metadata": {},
   "outputs": [
    {
     "name": "stdout",
     "output_type": "stream",
     "text": [
      "[sudo] password for terry-q: "
     ]
    }
   ],
   "source": [
    "!echo 'qwer1234'| sudo -S chmod a+rw /dev/ttyUSB0"
   ]
  },
  {
   "cell_type": "markdown",
   "metadata": {},
   "source": [
    "## BASIC USAGE OF XL320 CLASS"
   ]
  },
  {
   "cell_type": "code",
   "execution_count": 43,
   "metadata": {
    "ExecuteTime": {
     "end_time": "2017-10-27T16:24:29.711191Z",
     "start_time": "2017-10-27T16:24:29.478864Z"
    }
   },
   "outputs": [
    {
     "name": "stdout",
     "output_type": "stream",
     "text": [
      "PACKAGES LOADED.\n"
     ]
    }
   ],
   "source": [
    "import os, time\n",
    "import numpy as np\n",
    "import matplotlib.pyplot as plt\n",
    "from datetime import datetime\n",
    "import sys\n",
    "sys.path.append(\".\")\n",
    "from model.class_xc330 import xc330\n",
    "\n",
    "# from class_grp import grp\n",
    "%matplotlib inline\n",
    "print (\"PACKAGES LOADED.\")\n"
   ]
  },
  {
   "cell_type": "markdown",
   "metadata": {},
   "source": [
    "## INSTANTIATE XL320 "
   ]
  },
  {
   "cell_type": "code",
   "execution_count": 44,
   "metadata": {
    "ExecuteTime": {
     "end_time": "2017-10-27T16:24:31.277571Z",
     "start_time": "2017-10-27T16:24:31.275156Z"
    }
   },
   "outputs": [
    {
     "name": "stdout",
     "output_type": "stream",
     "text": [
      "[SNAPBOT] INSTANTIATED AT [b'/dev/ttyUSB0']\n"
     ]
    }
   ],
   "source": [
    "snapbot = xc330('SNAPBOT', _USB_NUM=0)"
   ]
  },
  {
   "cell_type": "markdown",
   "metadata": {},
   "source": [
    "## CONNECT"
   ]
  },
  {
   "cell_type": "code",
   "execution_count": 45,
   "metadata": {
    "ExecuteTime": {
     "end_time": "2017-10-27T16:24:34.695450Z",
     "start_time": "2017-10-27T16:24:33.072986Z"
    }
   },
   "outputs": [
    {
     "name": "stdout",
     "output_type": "stream",
     "text": [
      "[SNAPBOT] CONNECT\n",
      "[PortHandler setup] The port number 0 has same device name... reinitialize port number 0!!\n",
      " SUCCEEDED TO OPEN THE PORT!\n",
      " SUCCEEDED TO CHANGE THE BAUDRATE!\n",
      "COMMUNICATION SUCCESS\n",
      "[SNAPBOT] DETECT ID\n",
      "[SNAPBOT] [16]MOTORS DETECTED \n",
      "[SNAPBOT] ID_LIST:[[1, 2, 3, 4, 5, 6, 7, 8, 9, 10, 11, 12, 13, 14, 15, 16]]\n"
     ]
    }
   ],
   "source": [
    "snapbot.connect()\n",
    "\n",
    "# snapbot.IDX_LIST = [21, 22, b15, 16, 13, 14, 17, 18]"
   ]
  },
  {
   "cell_type": "code",
   "execution_count": 46,
   "metadata": {},
   "outputs": [],
   "source": [
    "snapbot.set_torque([0])"
   ]
  },
  {
   "cell_type": "code",
   "execution_count": 47,
   "metadata": {},
   "outputs": [
    {
     "data": {
      "text/plain": [
       "array([1422,  692, 1423, 1626,  393, 3695, 2521, 3675, 3759, 3721, 2538,\n",
       "        523, 3440, 1601, 3628, 2591])"
      ]
     },
     "execution_count": 47,
     "metadata": {},
     "output_type": "execute_result"
    }
   ],
   "source": [
    "snapbot.get_currpos()"
   ]
  },
  {
   "cell_type": "markdown",
   "metadata": {},
   "source": [
    "## Realax and Calibrate(Preset)"
   ]
  },
  {
   "cell_type": "code",
   "execution_count": 75,
   "metadata": {},
   "outputs": [
    {
     "name": "stdout",
     "output_type": "stream",
     "text": [
      "INITIALIZE POSITION\n",
      "[1743 -159  741 2291  585 3407 2162 3947 4244 2755 1896 1401 3443 1588\n",
      " 3593 2657]\n",
      "[1837 -128  759 2266  586 3421 2178 3921 4233 2791 1919 1373 3541 1588\n",
      " 3594 2653]\n"
     ]
    }
   ],
   "source": [
    "snapbot.set_torque([0])\n",
    "\n",
    "print (\"INITIALIZE POSITION\")\n",
    "currpos = snapbot.get_currpos()\n",
    "print (currpos)\n",
    "\n",
    "\n",
    "snapbot.set_minmaxpos(currpos-np.ones_like(currpos)*minmaxInterval,currpos+np.ones_like(currpos)*minmaxInterval)\n",
    "\n",
    "time.sleep(2)\n",
    "snapbot.set_torque([1])\n",
    "snapbot.get_currpos()\n",
    "\n",
    "# 1번은 플러스, 2번 마이너스, 3번 마이너스, 4번 플러스\n",
    "\n",
    "# initpos = np.array([1444,  659, 1335, 1801,  290, 3695, 2861, 3562, 3654, 3641, 2888, 707, 3443, 1588, 3893, 2558])\n",
    "\n",
    "initpos = np.array([1843,  -160, 739, 2293,  586, 3406, 2161, 3949, 4245, 2753, 1894, 1403, 3543, 1588, 3593, 2658])\n",
    "\n",
    "snapbot.set_goalposcluster(initpos,1)\n",
    "\n",
    "currpos = snapbot.get_currpos()\n",
    "print (currpos)\n",
    "\n",
    "\n",
    "snapbot.set_minmaxpos(currpos-np.ones_like(currpos)*minmaxInterval,currpos+np.ones_like(currpos)*minmaxInterval)\n"
   ]
  },
  {
   "cell_type": "code",
   "execution_count": 49,
   "metadata": {},
   "outputs": [
    {
     "name": "stdout",
     "output_type": "stream",
     "text": [
      "[1743 -145  750 2278  585 3416 2170 3929 4239 2772 1907 1391 3443 1589\n",
      " 3594 2653]\n"
     ]
    }
   ],
   "source": [
    "currpos = snapbot.get_currpos()\n",
    "print (currpos)\n",
    "\n",
    "\n",
    "snapbot.set_minmaxpos(currpos-np.ones_like(currpos)*minmaxInterval,currpos+np.ones_like(currpos)*minmaxInterval)"
   ]
  },
  {
   "cell_type": "code",
   "execution_count": 50,
   "metadata": {},
   "outputs": [],
   "source": [
    "# pos = initpos + np.array([0,2000,0,0] *4) * np.array([1,-1,-1,1]*4)\n",
    "# snapbot.set_goalposcluster(pos,1)\n",
    "# snapbot.get_currpos()"
   ]
  },
  {
   "cell_type": "markdown",
   "metadata": {},
   "source": [
    "# Pull Same"
   ]
  },
  {
   "cell_type": "code",
   "execution_count": 51,
   "metadata": {},
   "outputs": [],
   "source": [
    "pos = initpos + np.array([1,1,1,1]*4) *0* np.array([1,-1,-1,1]*4)\n",
    "snapbot.set_goalposcluster(pos,1)"
   ]
  },
  {
   "cell_type": "markdown",
   "metadata": {},
   "source": [
    "# Proportion Check"
   ]
  },
  {
   "cell_type": "code",
   "execution_count": 52,
   "metadata": {},
   "outputs": [],
   "source": [
    "# # 10:1:4:4\n",
    "# pos = initpos + np.array([800,800,200,2000, 0,0,0,0, 0,0,0,0, 0,0,0,0]) * np.array([1,-1,-1,1]*4)\n",
    "# snapbot.set_goalposcluster(pos,1)"
   ]
  },
  {
   "cell_type": "code",
   "execution_count": 53,
   "metadata": {},
   "outputs": [],
   "source": [
    "PROPORTION_MATRIX = np.array(\n",
    "    [\n",
    "        [1,0.1,0.4,0.4, 0,0,0,0, 0,0,0,0, 0,0,0,0],\n",
    "        [0.1,1,0.4,0.4, 0,0,0,0, 0,0,0,0, 0,0,0,0],\n",
    "        [0.4,0.4,1,0.1, 0,0,0,0, 0,0,0,0, 0,0,0,0],\n",
    "        [0.4,0.4,0.1,1, 0,0,0,0, 0,0,0,0, 0,0,0,0],\n",
    "        \n",
    "        [0,0,0,0,  1,0.1,0.4,0.4, 0,0,0,0, 0,0,0,0],\n",
    "        [0,0,0,0,  0.1,1,0.4,0.4,  0,0,0,0, 0,0,0,0],\n",
    "        [0,0,0,0,  0.4,0.4,1,0.1, 0,0,0,0, 0,0,0,0],\n",
    "        [0,0,0,0,  0.4,0.4,0.1,1, 0,0,0,0, 0,0,0,0],\n",
    "        \n",
    "        [0,0,0,0, 0,0,0,0, 1,0.1,0.4,0.4, 0,0,0,0],\n",
    "        [0,0,0,0, 0,0,0,0, 0.1,1,0.4,0.4, 0,0,0,0],\n",
    "        [0,0,0,0, 0,0,0,0, 0.4,0.4,1,0.1, 0,0,0,0],\n",
    "        [0,0,0,0, 0,0,0,0, 0.4,0.4,0.1,1, 0,0,0,0],\n",
    "        \n",
    "        [0,0,0,0, 0,0,0,0, 0,0,0,0, 1,0.1,0.4,0.4],\n",
    "        [0,0,0,0, 0,0,0,0, 0,0,0,0, 0.1,1,0.4,0.4],\n",
    "        [0,0,0,0, 0,0,0,0, 0,0,0,0, 0.4,0.4,1,0.1],\n",
    "        [0,0,0,0, 0,0,0,0, 0,0,0,0, 0.4,0.4,0.1,1],\n",
    "        ])\n"
   ]
  },
  {
   "cell_type": "code",
   "execution_count": 19,
   "metadata": {},
   "outputs": [],
   "source": [
    "# pos = PROPORTION_MATRIX @ np.array([2000,0,0,0, 0,0,0,0, 0,0,0,0, 0,0,0,0]) * np.array([1,-1,-1,1]*4)\n",
    "# pos.astype(int)"
   ]
  },
  {
   "cell_type": "code",
   "execution_count": 20,
   "metadata": {},
   "outputs": [],
   "source": [
    "# pos = PROPORTION_MATRIX @ np.array([2000,0,0,0, 0,0,0,0, 0,0,0,0, 0,0,0,0]) * np.array([1,-1,-1,1]*4)\n",
    "# snapbot.set_goalposcluster(pos,1)"
   ]
  },
  {
   "cell_type": "code",
   "execution_count": 21,
   "metadata": {},
   "outputs": [],
   "source": [
    "# pos = initpos + PROPORTION_MATRIX @ np.array([0,0,0,0, 0,0,0,0, 0,0,0,0, 0,0,0,0]) * np.array([1,-1,-1,1]*4)\n",
    "# snapbot.set_goalposcluster(pos,1)"
   ]
  },
  {
   "cell_type": "code",
   "execution_count": null,
   "metadata": {},
   "outputs": [],
   "source": []
  },
  {
   "cell_type": "markdown",
   "metadata": {},
   "source": [
    "# Right"
   ]
  },
  {
   "cell_type": "code",
   "execution_count": 22,
   "metadata": {},
   "outputs": [
    {
     "ename": "ValueError",
     "evalue": "operands could not be broadcast together with shapes (0,) (16,) ",
     "output_type": "error",
     "traceback": [
      "\u001b[0;31m---------------------------------------------------------------------------\u001b[0m",
      "\u001b[0;31mValueError\u001b[0m                                Traceback (most recent call last)",
      "\u001b[1;32m/home/terry-q/Rilab/sOftrobot/SORO-Dynamixel-python/linear_finger.ipynb Cell 26\u001b[0m in \u001b[0;36m<cell line: 1>\u001b[0;34m()\u001b[0m\n\u001b[0;32m----> <a href='vscode-notebook-cell:/home/terry-q/Rilab/sOftrobot/SORO-Dynamixel-python/linear_finger.ipynb#X34sZmlsZQ%3D%3D?line=0'>1</a>\u001b[0m pos \u001b[39m=\u001b[39m initpos \u001b[39m+\u001b[39m np\u001b[39m.\u001b[39;49marray([]) \u001b[39m*\u001b[39;49m np\u001b[39m.\u001b[39;49marray([\u001b[39m1\u001b[39;49m,\u001b[39m-\u001b[39;49m\u001b[39m1\u001b[39;49m]\u001b[39m*\u001b[39;49m\u001b[39m2\u001b[39;49m\u001b[39m*\u001b[39;49m\u001b[39m4\u001b[39;49m)\n\u001b[1;32m      <a href='vscode-notebook-cell:/home/terry-q/Rilab/sOftrobot/SORO-Dynamixel-python/linear_finger.ipynb#X34sZmlsZQ%3D%3D?line=1'>2</a>\u001b[0m snapbot\u001b[39m.\u001b[39mset_goalposcluster(pos,\u001b[39m1\u001b[39m)\n\u001b[1;32m      <a href='vscode-notebook-cell:/home/terry-q/Rilab/sOftrobot/SORO-Dynamixel-python/linear_finger.ipynb#X34sZmlsZQ%3D%3D?line=2'>3</a>\u001b[0m currpos \u001b[39m=\u001b[39m snapbot\u001b[39m.\u001b[39mget_currpos()\n",
      "\u001b[0;31mValueError\u001b[0m: operands could not be broadcast together with shapes (0,) (16,) "
     ]
    }
   ],
   "source": [
    "pos = initpos + np.array([]) * np.array([1,-1]*2*4)\n",
    "snapbot.set_goalposcluster(pos,1)\n",
    "currpos = snapbot.get_currpos()"
   ]
  },
  {
   "cell_type": "markdown",
   "metadata": {},
   "source": [
    "# 4Finger Grip"
   ]
  },
  {
   "cell_type": "code",
   "execution_count": 100,
   "metadata": {},
   "outputs": [],
   "source": [
    "pos = initpos+ PROPORTION_MATRIX @ np.array([1,0,0,0, 1,0,0,0, 1,0,0,0, 1,0,0,0]) * 1000 * np.array([1,-1,-1,1]*4)\n",
    "\n",
    "# pos = pos + np.array([0,0,0,0, 0,0,0,0, 0,0,0,400, 0,0,0,0]) * np.array([1,-1,-1,1]*4)\n",
    "snapbot.set_goalposcluster(pos,1)"
   ]
  },
  {
   "cell_type": "code",
   "execution_count": 99,
   "metadata": {},
   "outputs": [],
   "source": [
    "pos = initpos+ PROPORTION_MATRIX @ np.array([1,0,0,0, 1,0,0,0, 1,0,0,0, 1,0,0,0]) * 5000 * np.array([1,-1,-1,1]*4)\n",
    "\n",
    "# pos = pos + np.array([0,0,0,0, 0,0,0,0, 0,0,0,400, 0,0,0,0]) * np.array([1,-1,-1,1]*4)\n",
    "snapbot.set_goalposcluster(pos,1)"
   ]
  },
  {
   "cell_type": "markdown",
   "metadata": {},
   "source": [
    "# Ungrip"
   ]
  },
  {
   "cell_type": "code",
   "execution_count": null,
   "metadata": {},
   "outputs": [],
   "source": [
    "pos = initpos+ PROPORTION_MATRIX @ np.array([0,1,0,0, 0,1,0,0, 0,1,0,0, 0,1,0,0]) * 2000 * np.array([1,-1,-1,1]*4)\n",
    "\n",
    "snapbot.set_goalposcluster(pos,1)"
   ]
  },
  {
   "cell_type": "code",
   "execution_count": null,
   "metadata": {},
   "outputs": [],
   "source": []
  },
  {
   "cell_type": "markdown",
   "metadata": {},
   "source": [
    "# Marker"
   ]
  },
  {
   "cell_type": "code",
   "execution_count": null,
   "metadata": {},
   "outputs": [],
   "source": [
    "pos = initpos+ PROPORTION_MATRIX @ np.array([0,0,0,0, 0,0,0,0, 1,0,0,0, 1,0,0,0]) * 0 * np.array([1,-1,-1,1]*4)\n",
    "# pos = pos    + PROPORTION_MATRIX @ np.array([0,0,0,0, 0,0,0,0, -0.1,0,1,0, -0.1,0,1,0]) * 4000 * np.array([1,-1,-1,1]*4)\n",
    "\n",
    "snapbot.set_goalposcluster(pos,1)"
   ]
  },
  {
   "cell_type": "code",
   "execution_count": null,
   "metadata": {},
   "outputs": [],
   "source": []
  },
  {
   "cell_type": "markdown",
   "metadata": {},
   "source": [
    "## Paper Count"
   ]
  },
  {
   "cell_type": "code",
   "execution_count": null,
   "metadata": {},
   "outputs": [],
   "source": [
    "# ur높이 -646, -59, -372"
   ]
  },
  {
   "cell_type": "code",
   "execution_count": 94,
   "metadata": {},
   "outputs": [],
   "source": [
    "pos = initpos\n",
    "snapbot.set_goalposcluster(pos,1)"
   ]
  },
  {
   "cell_type": "code",
   "execution_count": 95,
   "metadata": {},
   "outputs": [],
   "source": [
    "for _ in range(5):\n",
    "    pos = initpos+ PROPORTION_MATRIX @ np.array([1.4,1,0,0, 0,0,0,0, 0,0,0,0, 1.4,1,0,0]) * 3300 * np.array([1,-1,-1,1]*4) # 올림\n",
    "    pos = pos    + PROPORTION_MATRIX @ np.array([0,0,0,0, 1,0,0,0, 1,0,0,0, 0,0,0,0]) * 1000 * np.array([1,-1,-1,1]*4)     # 내림\n",
    "    snapbot.set_goalposcluster(pos,1)\n",
    "\n",
    "    pos = initpos+ PROPORTION_MATRIX @ np.array([1,1,0,0, 0,0,0,0, 0,0,0,0, 1,1,0,0]) * 3300 * np.array([1,-1,-1,1]*4)   # 올림2\n",
    "    pos = pos+ PROPORTION_MATRIX @ np.array([0,0,0,0, 1,0,0,0, 1,0,0,0, 0,0,0,0]) * 3300 * np.array([1,-1,-1,1]*4)         # 당김\n",
    "    snapbot.set_goalposcluster(pos,1)\n",
    "    \n",
    "    pos = initpos+ PROPORTION_MATRIX @ np.array([1,0,0,0, 0,0,0,0, 0,0,0,0, 1,0,0,0]) * 1000 * np.array([1,-1,-1,1]*4)     # 내림\n",
    "    pos = pos    + PROPORTION_MATRIX @ np.array([0,0,0,0, 1.4,1,0,0, 1.4,1,0,0, 0,0,0,0]) * 3300 * np.array([1,-1,-1,1]*4) # 올림\n",
    "    snapbot.set_goalposcluster(pos,1)\n",
    "\n",
    "    pos = initpos+ PROPORTION_MATRIX @ np.array([1,0,0,0, 0,0,0,0, 0,0,0,0, 1,0,0,0]) * 3300 * np.array([1,-1,-1,1]*4)   # 당김\n",
    "    pos = pos+ PROPORTION_MATRIX @ np.array([0,0,0,0, 1,1,0,0, 1,1,0,0, 0,0,0,0]) * 3300 * np.array([1,-1,-1,1]*4)       # 올림2\n",
    "    \n",
    "    snapbot.set_goalposcluster(pos,1)\n",
    "\n",
    "pos = initpos\n",
    "snapbot.set_goalposcluster(pos,1)\n"
   ]
  },
  {
   "cell_type": "code",
   "execution_count": 99,
   "metadata": {},
   "outputs": [],
   "source": [
    "pos = initpos+ PROPORTION_MATRIX @ np.array([0,0,0,0, 1.4,1,0,0, 1.4,1,0,0, 0,0,0,0]) * 3000 * np.array([1,-1,-1,1]*4)\n",
    "pos = pos+ PROPORTION_MATRIX @ np.array([1,0,0,0, 0,0,0,0, 0,0,0,0, 1,0,0,0]) * 3000 * np.array([1,-1,-1,1]*4)\n",
    "\n",
    "snapbot.set_goalposcluster(pos,1)"
   ]
  },
  {
   "cell_type": "code",
   "execution_count": null,
   "metadata": {},
   "outputs": [],
   "source": []
  },
  {
   "cell_type": "code",
   "execution_count": null,
   "metadata": {},
   "outputs": [],
   "source": []
  },
  {
   "cell_type": "code",
   "execution_count": 86,
   "metadata": {},
   "outputs": [],
   "source": [
    "pos = initpos+ PROPORTION_MATRIX @ np.array([0,0,0,0, 0,0,0,0, 0,0,0,0, 0,0,0,0]) * 1000 * np.array([1,-1,-1,1]*4)\n",
    "pos = pos+ PROPORTION_MATRIX @ np.array([0,0,0,0, 0,0,0,0, 1,0,0,0, 0,0,0,0]) * 3000 * np.array([1,-1,-1,1]*4)\n",
    "\n",
    "snapbot.set_goalposcluster(pos,1)"
   ]
  },
  {
   "cell_type": "code",
   "execution_count": 87,
   "metadata": {},
   "outputs": [],
   "source": [
    "pos = initpos+ PROPORTION_MATRIX @ np.array([0,0,0,0, 0,0,0,0, 1.4,1,0,0, 0,0,0,0]) * 3000 * np.array([1,-1,-1,1]*4)\n",
    "\n",
    "snapbot.set_goalposcluster(pos,1)"
   ]
  },
  {
   "cell_type": "code",
   "execution_count": 88,
   "metadata": {},
   "outputs": [],
   "source": [
    "pos = initpos+ PROPORTION_MATRIX @ np.array([0,0,0,0, 0,0,0,0, 0,0,0,0, 0,0,0,0]) * 1000 * np.array([1,-1,-1,1]*4)\n",
    "pos = pos+ PROPORTION_MATRIX @ np.array([0,0,0,0, 0,0,0,0, 0,0,0,0, 1,0,0,0]) * 3000 * np.array([1,-1,-1,1]*4)\n",
    "\n",
    "snapbot.set_goalposcluster(pos,1)"
   ]
  },
  {
   "cell_type": "code",
   "execution_count": 89,
   "metadata": {},
   "outputs": [],
   "source": [
    "pos = initpos+ PROPORTION_MATRIX @ np.array([0,0,0,0, 0,0,0,0, 0,0,0,0, 1.4,1,0,0]) * 3000 * np.array([1,-1,-1,1]*4)\n",
    "\n",
    "snapbot.set_goalposcluster(pos,1)"
   ]
  },
  {
   "cell_type": "code",
   "execution_count": 90,
   "metadata": {},
   "outputs": [],
   "source": [
    "pos = initpos+ PROPORTION_MATRIX @ np.array([0,0,0,0, 0,0,0,0, 0,0,0,0, 0,0,0,0]) * 1000 * np.array([1,-1,-1,1]*4)\n",
    "pos = pos+ PROPORTION_MATRIX @ np.array([0,0,0,0, 0,0,0,0, 0,0,0,0, 1,0,0,0]) * 3000 * np.array([1,-1,-1,1]*4)\n",
    "\n",
    "snapbot.set_goalposcluster(pos,1)"
   ]
  },
  {
   "cell_type": "code",
   "execution_count": null,
   "metadata": {},
   "outputs": [],
   "source": []
  },
  {
   "cell_type": "code",
   "execution_count": null,
   "metadata": {},
   "outputs": [],
   "source": []
  },
  {
   "cell_type": "code",
   "execution_count": 41,
   "metadata": {},
   "outputs": [],
   "source": [
    "pos = initpos+ PROPORTION_MATRIX @ np.array([1.4,1,0,0, 0,0,0,0, 0,0,0,0, 0,0,0,0]) * 3000 * np.array([1,-1,-1,1]*4)\n",
    "\n",
    "snapbot.set_goalposcluster(pos,1)"
   ]
  },
  {
   "cell_type": "code",
   "execution_count": 42,
   "metadata": {},
   "outputs": [],
   "source": [
    "pos = initpos+ PROPORTION_MATRIX @ np.array([0,1,0,0, 0,0,0,0, 0,0,0,0, 0,0,0,0]) * 3000 * np.array([1,-1,-1,1]*4)\n",
    "\n",
    "snapbot.set_goalposcluster(pos,1)"
   ]
  }
 ],
 "metadata": {
  "kernelspec": {
   "display_name": "Python 3.8.10 64-bit",
   "language": "python",
   "name": "python3"
  },
  "language_info": {
   "codemirror_mode": {
    "name": "ipython",
    "version": 3
   },
   "file_extension": ".py",
   "mimetype": "text/x-python",
   "name": "python",
   "nbconvert_exporter": "python",
   "pygments_lexer": "ipython3",
   "version": "3.8.10"
  },
  "varInspector": {
   "cols": {
    "lenName": 16,
    "lenType": 16,
    "lenVar": 40
   },
   "kernels_config": {
    "python": {
     "delete_cmd_postfix": "",
     "delete_cmd_prefix": "del ",
     "library": "var_list.py",
     "varRefreshCmd": "print(var_dic_list())"
    },
    "r": {
     "delete_cmd_postfix": ") ",
     "delete_cmd_prefix": "rm(",
     "library": "var_list.r",
     "varRefreshCmd": "cat(var_dic_list()) "
    }
   },
   "types_to_exclude": [
    "module",
    "function",
    "builtin_function_or_method",
    "instance",
    "_Feature"
   ],
   "window_display": false
  },
  "vscode": {
   "interpreter": {
    "hash": "916dbcbb3f70747c44a77c7bcd40155683ae19c65e1c03b4aa3499c5328201f1"
   }
  }
 },
 "nbformat": 4,
 "nbformat_minor": 2
}
