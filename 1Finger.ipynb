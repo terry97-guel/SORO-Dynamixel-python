{
 "cells": [
  {
   "cell_type": "code",
   "execution_count": 1,
   "metadata": {},
   "outputs": [],
   "source": [
    "Limit = 2000\n",
    "soroMove_per_urMove = 5"
   ]
  },
  {
   "cell_type": "markdown",
   "metadata": {},
   "source": [
    "## open port"
   ]
  },
  {
   "cell_type": "code",
   "execution_count": 23,
   "metadata": {},
   "outputs": [
    {
     "name": "stdout",
     "output_type": "stream",
     "text": [
      "[sudo] password for terry-q: "
     ]
    }
   ],
   "source": [
    "!echo 'qwer1234'| sudo -S chmod a+rw /dev/ttyUSB1"
   ]
  },
  {
   "cell_type": "markdown",
   "metadata": {},
   "source": [
    "## BASIC USAGE OF XL320 CLASS"
   ]
  },
  {
   "cell_type": "code",
   "execution_count": 24,
   "metadata": {
    "ExecuteTime": {
     "end_time": "2017-10-27T16:24:29.711191Z",
     "start_time": "2017-10-27T16:24:29.478864Z"
    }
   },
   "outputs": [
    {
     "name": "stdout",
     "output_type": "stream",
     "text": [
      "PACKAGES LOADED.\n"
     ]
    }
   ],
   "source": [
    "import os, time\n",
    "import numpy as np\n",
    "import matplotlib.pyplot as plt\n",
    "from datetime import datetime\n",
    "import sys\n",
    "sys.path.append(\".\")\n",
    "from model.class_xc330 import xc330\n",
    "\n",
    "# from class_grp import grp\n",
    "%matplotlib inline\n",
    "print (\"PACKAGES LOADED.\")\n"
   ]
  },
  {
   "cell_type": "markdown",
   "metadata": {},
   "source": [
    "## INSTANTIATE XL320 "
   ]
  },
  {
   "cell_type": "code",
   "execution_count": 25,
   "metadata": {
    "ExecuteTime": {
     "end_time": "2017-10-27T16:24:31.277571Z",
     "start_time": "2017-10-27T16:24:31.275156Z"
    }
   },
   "outputs": [
    {
     "name": "stdout",
     "output_type": "stream",
     "text": [
      "[SNAPBOT] INSTANTIATED AT [/dev/ttyUSB1]\n"
     ]
    }
   ],
   "source": [
    "snapbot = xc330('SNAPBOT', _USB_NUM=1)"
   ]
  },
  {
   "cell_type": "markdown",
   "metadata": {},
   "source": [
    "## CONNECT"
   ]
  },
  {
   "cell_type": "code",
   "execution_count": 26,
   "metadata": {
    "ExecuteTime": {
     "end_time": "2017-10-27T16:24:34.695450Z",
     "start_time": "2017-10-27T16:24:33.072986Z"
    }
   },
   "outputs": [
    {
     "name": "stdout",
     "output_type": "stream",
     "text": [
      "[SNAPBOT] CONNECT\n",
      " SUCCEEDED TO OPEN THE PORT!\n",
      " SUCCEEDED TO CHANGE THE BAUDRATE!\n",
      "COMMUNICATION SUCCESS\n",
      "[SNAPBOT] DETECT ID\n",
      "[SNAPBOT] [4]MOTORS DETECTED \n",
      "[SNAPBOT] ID_LIST:[[13, 14, 15, 16]]\n"
     ]
    }
   ],
   "source": [
    "snapbot.connect()\n",
    "\n",
    "# snapbot.IDX_LIST = [21, 22, 15, 16, 13, 14, 17, 18]"
   ]
  },
  {
   "cell_type": "code",
   "execution_count": 27,
   "metadata": {},
   "outputs": [
    {
     "name": "stdout",
     "output_type": "stream",
     "text": [
      "TORQUE ON\n"
     ]
    }
   ],
   "source": [
    "snapbot.set_torque([1])\n",
    "print (\"TORQUE ON\")\n"
   ]
  },
  {
   "cell_type": "code",
   "execution_count": 28,
   "metadata": {},
   "outputs": [],
   "source": [
    "snapbot.set_operatingmode([4])\n"
   ]
  },
  {
   "cell_type": "markdown",
   "metadata": {},
   "source": [
    "## Calibrate (Preset Pose)"
   ]
  },
  {
   "cell_type": "code",
   "execution_count": 29,
   "metadata": {},
   "outputs": [],
   "source": [
    "snapbot.set_torque([0])\n",
    "time.sleep(2)\n",
    "snapbot.set_torque([1])\n",
    "\n",
    "currpos = snapbot.get_currpos()\n",
    "minmaxInterval = 5000\n",
    "snapbot.set_minmaxpos(currpos-np.ones_like(currpos)*minmaxInterval,currpos+np.ones_like(currpos)*minmaxInterval)\n",
    "\n",
    "initpos = [1695, 1443, 2725, 1502] #  np.array([15,-15,30,-15]\n",
    "snapbot.set_goalposcluster(initpos,1)\n"
   ]
  },
  {
   "cell_type": "code",
   "execution_count": 30,
   "metadata": {
    "ExecuteTime": {
     "end_time": "2017-10-27T16:13:36.890155Z",
     "start_time": "2017-10-27T16:13:35.871780Z"
    }
   },
   "outputs": [
    {
     "name": "stdout",
     "output_type": "stream",
     "text": [
      "INITIALIZE POSITION\n",
      "[1688 1448 2712 1509]\n"
     ]
    }
   ],
   "source": [
    "print (\"INITIALIZE POSITION\")\n",
    "currpos = snapbot.get_currpos()\n",
    "print (currpos)\n",
    "\n",
    "minmaxInterval = 5000\n",
    "snapbot.set_minmaxpos(currpos-np.ones_like(currpos)*minmaxInterval,currpos+np.ones_like(currpos)*minmaxInterval)"
   ]
  },
  {
   "cell_type": "code",
   "execution_count": 34,
   "metadata": {},
   "outputs": [],
   "source": [
    "##Grasp\n",
    "l1=0\n",
    "l2=0\n",
    "l3=0\n",
    "l4=0\n",
    "\n",
    "pos = currpos+np.array([l1,l2,l3,l4])\n",
    "pos = pos.astype(np.int)\n",
    "snapbot.set_goalposcluster(pos,1)"
   ]
  },
  {
   "cell_type": "code",
   "execution_count": 74,
   "metadata": {},
   "outputs": [
    {
     "data": {
      "text/plain": [
       "array([ 0.12203823, -0.49517691,  0.03438852, -0.9093204 ])"
      ]
     },
     "execution_count": 74,
     "metadata": {},
     "output_type": "execute_result"
    }
   ],
   "source": [
    "np.random.rand(4) * np.array([1,-1,1,-1])"
   ]
  },
  {
   "cell_type": "code",
   "execution_count": 76,
   "metadata": {},
   "outputs": [
    {
     "name": "stdout",
     "output_type": "stream",
     "text": [
      "[  561 -1085   281 -1604]\n",
      "[  149 -1973  1544  -397]\n",
      "[   11 -1630  1413 -1458]\n",
      "[1542 -148  716 -231]\n",
      "[ 1726 -1246   661  -127]\n"
     ]
    }
   ],
   "source": [
    "import json\n",
    "# np.random.seed(42)\n",
    "# Data to be written\n",
    "dictionary ={}\n",
    "\n",
    "urposjson = {0:[2.0,1.2,0.2]}\n",
    "urfileidx = 0\n",
    "\n",
    "\n",
    "for soroMove_Idx in range(soroMove_per_urMove):\n",
    "    delta = (np.random.rand(4)) * np.array([1,-1,1,-1]) * Limit\n",
    "    delta = delta.astype(np.int)\n",
    "    print(delta)\n",
    "    pos = currpos + delta\n",
    "    snapbot.set_goalposcluster(pos,1)\n",
    "    \n",
    "    dictionary[soroMove_Idx] = {\"RPY\":list(urposjson[urfileidx]),\"motor_control\":list(delta)}\n",
    "    time.sleep(3)\n",
    "    \n",
    "# Serializing json \n",
    "json_object = json.dumps(dictionary)\n",
    "\n",
    "name = \"results/URIdx_{}_.json\".format(urfileidx)\n",
    "\n",
    "# Writing to sample.json\n",
    "with open(name, \"w\") as outfile:\n",
    "    outfile.write(json_object)\n",
    "    "
   ]
  },
  {
   "cell_type": "code",
   "execution_count": 83,
   "metadata": {},
   "outputs": [],
   "source": []
  }
 ],
 "metadata": {
  "interpreter": {
   "hash": "386093ab83ddeba233afb6ca52bad0bdae5da3794f823c62290d42e746dfacfe"
  },
  "kernelspec": {
   "display_name": "Python 2.7.16 64-bit ('soro')",
   "language": "python",
   "name": "python3"
  },
  "language_info": {
   "codemirror_mode": {
    "name": "ipython",
    "version": 2
   },
   "file_extension": ".py",
   "mimetype": "text/x-python",
   "name": "python",
   "nbconvert_exporter": "python",
   "pygments_lexer": "ipython2",
   "version": "2.7.16"
  },
  "varInspector": {
   "cols": {
    "lenName": 16,
    "lenType": 16,
    "lenVar": 40
   },
   "kernels_config": {
    "python": {
     "delete_cmd_postfix": "",
     "delete_cmd_prefix": "del ",
     "library": "var_list.py",
     "varRefreshCmd": "print(var_dic_list())"
    },
    "r": {
     "delete_cmd_postfix": ") ",
     "delete_cmd_prefix": "rm(",
     "library": "var_list.r",
     "varRefreshCmd": "cat(var_dic_list()) "
    }
   },
   "types_to_exclude": [
    "module",
    "function",
    "builtin_function_or_method",
    "instance",
    "_Feature"
   ],
   "window_display": false
  }
 },
 "nbformat": 4,
 "nbformat_minor": 2
}
