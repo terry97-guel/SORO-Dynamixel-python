{
 "cells": [
  {
   "cell_type": "code",
   "execution_count": 2,
   "metadata": {},
   "outputs": [],
   "source": [
    "Limit = 2000\n",
    "soroMove_per_urMove = 5"
   ]
  },
  {
   "cell_type": "markdown",
   "metadata": {},
   "source": [
    "## open port"
   ]
  },
  {
   "cell_type": "code",
   "execution_count": 3,
   "metadata": {},
   "outputs": [
    {
     "name": "stdout",
     "output_type": "stream",
     "text": [
      "[sudo] password for terry-q: "
     ]
    }
   ],
   "source": [
    "!echo 'qwer1234'| sudo -S chmod a+rw /dev/ttyUSB0"
   ]
  },
  {
   "cell_type": "markdown",
   "metadata": {},
   "source": [
    "## BASIC USAGE OF XL320 CLASS"
   ]
  },
  {
   "cell_type": "code",
   "execution_count": 4,
   "metadata": {
    "ExecuteTime": {
     "end_time": "2017-10-27T16:24:29.711191Z",
     "start_time": "2017-10-27T16:24:29.478864Z"
    }
   },
   "outputs": [
    {
     "name": "stdout",
     "output_type": "stream",
     "text": [
      "['/home/terry-q/Rilab/sOftrobot/SORO-Dynamixel-python', '', '/home/terry-q/catkin_ws/devel/lib/python3/dist-packages', '/opt/ros/noetic/lib/python3/dist-packages', '/usr/lib/python38.zip', '/usr/lib/python3.8', '/usr/lib/python3.8/lib-dynload', '/home/terry-q/.local/lib/python3.8/site-packages', '/usr/local/lib/python3.8/dist-packages', '/usr/lib/python3/dist-packages', '.']\n",
      "PACKAGES LOADED.\n"
     ]
    }
   ],
   "source": [
    "import os, time\n",
    "import numpy as np\n",
    "import matplotlib.pyplot as plt\n",
    "from datetime import datetime\n",
    "import sys\n",
    "sys.path.append(\".\")\n",
    "from model.class_xc330 import xc330\n",
    "\n",
    "# from class_grp import grp\n",
    "%matplotlib inline\n",
    "print (\"PACKAGES LOADED.\")\n"
   ]
  },
  {
   "cell_type": "code",
   "execution_count": 5,
   "metadata": {},
   "outputs": [],
   "source": [
    "import rospy \n",
    "import numpy as np \n",
    "import math\n",
    "from class_demo import DemoClass\n",
    "import json \n",
    "import random\n",
    "import sys\n",
    "import time\n",
    "from pathlib import Path\n"
   ]
  },
  {
   "cell_type": "code",
   "execution_count": 6,
   "metadata": {},
   "outputs": [
    {
     "name": "stdout",
     "output_type": "stream",
     "text": [
      "[SNAPBOT] INSTANTIATED AT [b'/dev/ttyUSB0']\n",
      "[SNAPBOT] CONNECT\n",
      " SUCCEEDED TO OPEN THE PORT!\n",
      " SUCCEEDED TO CHANGE THE BAUDRATE!\n",
      "COMMUNICATION SUCCESS\n",
      "[SNAPBOT] DETECT ID\n",
      "[SNAPBOT] [4]MOTORS DETECTED \n",
      "[SNAPBOT] ID_LIST:[[13, 14, 15, 16]]\n",
      "TORQUE ON\n",
      "No initpos Found\n",
      "INITIALIZE POSITION\n",
      "[3504  379 2378 3253]\n",
      "[SNAPBOT] CONNECT\n",
      "[PortHandler setup] The port number 0 has same device name... reinitialize port number 0!!\n",
      " SUCCEEDED TO OPEN THE PORT!\n",
      " SUCCEEDED TO CHANGE THE BAUDRATE!\n",
      "COMMUNICATION SUCCESS\n",
      "[SNAPBOT] DETECT ID\n",
      "[SNAPBOT] [4]MOTORS DETECTED \n",
      "[SNAPBOT] ID_LIST:[[13, 14, 15, 16]]\n",
      "TORQUE ON\n",
      "INITIALIZE POSITION\n",
      "[4273  775 2902 3590]\n"
     ]
    }
   ],
   "source": [
    "robot = DemoClass()\n",
    "robot.init_xc(np.array([None]))\n",
    "initpos = robot.xc.get_currpos()\n",
    "# pos = initpos + np.array([1,1,1,1])*1000 * np.array([1,-1,-1,1])\n",
    "\n",
    "# robot.move_xc(pos)\n",
    "\n",
    "initpos = np.array([4304,  777, 2907, 3617]) \n",
    "robot.init_xc(initpos)"
   ]
  },
  {
   "cell_type": "code",
   "execution_count": 9,
   "metadata": {},
   "outputs": [],
   "source": [
    "pos = np.array([00,1000,000,0000])\n",
    "robot.pmove_xc(pos)\n",
    "time.sleep(1)"
   ]
  },
  {
   "cell_type": "code",
   "execution_count": 12,
   "metadata": {},
   "outputs": [],
   "source": [
    "pos = np.array([0,0,0,0])\n",
    "robot.pmove_xc(pos)\n",
    "time.sleep(1)\n",
    "\n",
    "pos = np.array([1000,0,0,0])\n",
    "robot.pmove_xc(pos)\n",
    "time.sleep(1)\n",
    "\n",
    "pos = np.array([0,0,0,0])\n",
    "robot.pmove_xc(pos)\n",
    "time.sleep(1)\n",
    "\n",
    "pos = np.array([0,1000,0,0])\n",
    "robot.pmove_xc(pos)\n",
    "time.sleep(1)\n",
    "\n",
    "pos = np.array([0,0,0,0])\n",
    "robot.pmove_xc(pos)\n",
    "time.sleep(1)\n",
    "\n",
    "pos = np.array([0,0,1000,0])\n",
    "robot.pmove_xc(pos)\n",
    "time.sleep(1)\n",
    "\n",
    "pos = np.array([0,0,0,0])\n",
    "robot.pmove_xc(pos)\n",
    "time.sleep(1)\n",
    "\n",
    "pos = np.array([0,0,0,1000])\n",
    "robot.pmove_xc(pos)\n",
    "time.sleep(1)\n",
    "\n",
    "pos = np.array([0,0,0,0])\n",
    "robot.pmove_xc(pos)\n",
    "time.sleep(1)\n"
   ]
  },
  {
   "cell_type": "code",
   "execution_count": null,
   "metadata": {},
   "outputs": [],
   "source": [
    "pos = np.array([0,0,0,0])\n",
    "robot.pmove_xc(pos)\n",
    "time.sleep(1)\n",
    "\n",
    "pos = np.array([2000,0,0,0])\n",
    "robot.pmove_xc(pos)\n",
    "time.sleep(1)\n",
    "\n",
    "pos = np.array([0,0,0,0])\n",
    "robot.pmove_xc(pos)\n",
    "time.sleep(1)\n",
    "\n",
    "pos = np.array([0,2000,0,0])\n",
    "robot.pmove_xc(pos)\n",
    "time.sleep(1)\n",
    "\n",
    "pos = np.array([0,0,0,0])\n",
    "robot.pmove_xc(pos)\n",
    "time.sleep(1)\n",
    "\n",
    "pos = np.array([0,0,2000,0])\n",
    "robot.pmove_xc(pos)\n",
    "time.sleep(1)\n",
    "\n",
    "pos = np.array([0,0,0,0])\n",
    "robot.pmove_xc(pos)\n",
    "time.sleep(1)\n",
    "\n",
    "pos = np.array([0,0,0,2000])\n",
    "robot.pmove_xc(pos)\n",
    "time.sleep(1)\n",
    "\n",
    "pos = np.array([0,0,0,0])\n",
    "robot.pmove_xc(pos)\n",
    "time.sleep(1)\n",
    "\n",
    "pos = np.array([2000,0,2000,0])\n",
    "robot.pmove_xc(pos)\n",
    "time.sleep(1)\n",
    "\n",
    "pos = np.array([0,0,0,0])\n",
    "robot.pmove_xc(pos)\n",
    "time.sleep(1)\n",
    "\n",
    "pos = np.array([2000,0,0,2000])\n",
    "robot.pmove_xc(pos)\n",
    "time.sleep(1)\n",
    "\n",
    "pos = np.array([0,0,0,0])\n",
    "robot.pmove_xc(pos)\n",
    "time.sleep(1)\n",
    "\n",
    "pos = np.array([0,2000,2000,0])\n",
    "robot.pmove_xc(pos)\n",
    "time.sleep(1)\n",
    "\n",
    "pos = np.array([0,0,0,0])\n",
    "robot.pmove_xc(pos)\n",
    "time.sleep(1)\n",
    "\n",
    "pos = np.array([0,2000,0,2000])\n",
    "robot.pmove_xc(pos)\n",
    "time.sleep(1)\n",
    "\n",
    "pos = np.array([0,0,0,0])\n",
    "robot.pmove_xc(pos)\n",
    "time.sleep(1)\n",
    "\n",
    "\n"
   ]
  },
  {
   "cell_type": "code",
   "execution_count": 14,
   "metadata": {},
   "outputs": [],
   "source": []
  },
  {
   "cell_type": "code",
   "execution_count": null,
   "metadata": {},
   "outputs": [],
   "source": []
  },
  {
   "cell_type": "code",
   "execution_count": null,
   "metadata": {},
   "outputs": [],
   "source": []
  },
  {
   "cell_type": "code",
   "execution_count": null,
   "metadata": {},
   "outputs": [],
   "source": []
  },
  {
   "cell_type": "code",
   "execution_count": null,
   "metadata": {},
   "outputs": [],
   "source": []
  },
  {
   "cell_type": "code",
   "execution_count": null,
   "metadata": {},
   "outputs": [],
   "source": []
  },
  {
   "cell_type": "code",
   "execution_count": null,
   "metadata": {},
   "outputs": [],
   "source": []
  },
  {
   "cell_type": "markdown",
   "metadata": {},
   "source": [
    "## INSTANTIATE XL320 "
   ]
  },
  {
   "cell_type": "code",
   "execution_count": 4,
   "metadata": {
    "ExecuteTime": {
     "end_time": "2017-10-27T16:24:31.277571Z",
     "start_time": "2017-10-27T16:24:31.275156Z"
    }
   },
   "outputs": [
    {
     "name": "stdout",
     "output_type": "stream",
     "text": [
      "[SNAPBOT] INSTANTIATED AT [/dev/ttyUSB0]\n"
     ]
    }
   ],
   "source": [
    "snapbot = xc330('SNAPBOT', _USB_NUM=0)"
   ]
  },
  {
   "cell_type": "markdown",
   "metadata": {},
   "source": [
    "## CONNECT"
   ]
  },
  {
   "cell_type": "code",
   "execution_count": 5,
   "metadata": {
    "ExecuteTime": {
     "end_time": "2017-10-27T16:24:34.695450Z",
     "start_time": "2017-10-27T16:24:33.072986Z"
    }
   },
   "outputs": [
    {
     "name": "stdout",
     "output_type": "stream",
     "text": [
      "[SNAPBOT] CONNECT\n",
      " SUCCEEDED TO OPEN THE PORT!\n",
      " SUCCEEDED TO CHANGE THE BAUDRATE!\n",
      "COMMUNICATION SUCCESS\n",
      "[SNAPBOT] DETECT ID\n",
      "[SNAPBOT] [4]MOTORS DETECTED \n",
      "[SNAPBOT] ID_LIST:[[13, 14, 15, 16]]\n"
     ]
    }
   ],
   "source": [
    "snapbot.connect()\n",
    "\n",
    "# snapbot.IDX_LIST = [21, 22, 15, 16, 13, 14, 17, 18]"
   ]
  },
  {
   "cell_type": "code",
   "execution_count": 6,
   "metadata": {},
   "outputs": [
    {
     "name": "stdout",
     "output_type": "stream",
     "text": [
      "TORQUE ON\n"
     ]
    }
   ],
   "source": [
    "snapbot.set_torque([1])\n",
    "print (\"TORQUE ON\")\n"
   ]
  },
  {
   "cell_type": "code",
   "execution_count": 7,
   "metadata": {},
   "outputs": [],
   "source": [
    "snapbot.set_operatingmode([4])\n"
   ]
  },
  {
   "cell_type": "markdown",
   "metadata": {},
   "source": [
    "## Calibrate (Preset Pose)"
   ]
  },
  {
   "cell_type": "code",
   "execution_count": 9,
   "metadata": {},
   "outputs": [],
   "source": [
    "# snapbot.set_torque([0])\n",
    "# time.sleep(2)\n",
    "# snapbot.set_torque([1])\n",
    "\n",
    "currpos = snapbot.get_currpos()\n",
    "minmaxInterval = 5000\n",
    "snapbot.set_minmaxpos(currpos-np.ones_like(currpos)*minmaxInterval,currpos+np.ones_like(currpos)*minmaxInterval)\n",
    "temp=currpos[0]\n",
    "initpos = np.array([temp,  970, 3106, 3197])\n",
    "initpos = np.array([4200,  970, 3106, 3197])\n",
    "# initpos = np.array([temp,  870, 2700, 3600]) #  np.array([15,-15,30,-15]\n",
    "\n",
    "snapbot.set_goalposcluster(initpos,1)\n"
   ]
  },
  {
   "cell_type": "code",
   "execution_count": null,
   "metadata": {},
   "outputs": [
    {
     "data": {
      "text/plain": [
       "array([3500,  970, 3106, 3197])"
      ]
     },
     "execution_count": 63,
     "metadata": {},
     "output_type": "execute_result"
    }
   ],
   "source": [
    "initpos"
   ]
  },
  {
   "cell_type": "code",
   "execution_count": null,
   "metadata": {},
   "outputs": [],
   "source": [
    "time.sleep(2)\n",
    "step = 800\n",
    "initpos = [1695+step, 1443, 2725, 1502] #  np.array([15,-15,30,-15]\n",
    "snapbot.set_goalposcluster(initpos,1)\n",
    "\n",
    "time.sleep(2)\n",
    "initpos = [1695, 1443-step, 2725, 1502] #  np.array([15,-15,30,-15]\n",
    "snapbot.set_goalposcluster(initpos,1)\n",
    "\n",
    "time.sleep(2)\n",
    "initpos = [1695, 1443, 2725+step, 1502] #  np.array([15,-15,30,-15]\n",
    "snapbot.set_goalposcluster(initpos,1)\n",
    "\n",
    "time.sleep(2)\n",
    "initpos = [1695, 1443, 2725, 1502-step] #  np.array([15,-15,30,-15]\n",
    "snapbot.set_goalposcluster(initpos,1)"
   ]
  },
  {
   "cell_type": "code",
   "execution_count": 30,
   "metadata": {
    "ExecuteTime": {
     "end_time": "2017-10-27T16:13:36.890155Z",
     "start_time": "2017-10-27T16:13:35.871780Z"
    }
   },
   "outputs": [
    {
     "name": "stdout",
     "output_type": "stream",
     "text": [
      "INITIALIZE POSITION\n",
      "[1688 1448 2712 1509]\n"
     ]
    }
   ],
   "source": [
    "print (\"INITIALIZE POSITION\")\n",
    "currpos = snapbot.get_currpos()\n",
    "print (currpos)\n",
    "\n",
    "minmaxInterval = 5000\n",
    "snapbot.set_minmaxpos(currpos-np.ones_like(currpos)*minmaxInterval,currpos+np.ones_like(currpos)*minmaxInterval)"
   ]
  },
  {
   "cell_type": "code",
   "execution_count": 34,
   "metadata": {},
   "outputs": [],
   "source": [
    "##Grasp\n",
    "l1=0\n",
    "l2=0\n",
    "l3=0\n",
    "l4=0\n",
    "\n",
    "pos = currpos+np.array([l1,l2,l3,l4])\n",
    "pos = pos.astype(np.int)\n",
    "snapbot.set_goalposcluster(pos,1)"
   ]
  },
  {
   "cell_type": "code",
   "execution_count": 74,
   "metadata": {},
   "outputs": [
    {
     "data": {
      "text/plain": [
       "array([ 0.12203823, -0.49517691,  0.03438852, -0.9093204 ])"
      ]
     },
     "execution_count": 74,
     "metadata": {},
     "output_type": "execute_result"
    }
   ],
   "source": [
    "np.random.rand(4) * np.array([1,-1,1,-1])"
   ]
  },
  {
   "cell_type": "code",
   "execution_count": 76,
   "metadata": {},
   "outputs": [
    {
     "name": "stdout",
     "output_type": "stream",
     "text": [
      "[  561 -1085   281 -1604]\n",
      "[  149 -1973  1544  -397]\n",
      "[   11 -1630  1413 -1458]\n",
      "[1542 -148  716 -231]\n",
      "[ 1726 -1246   661  -127]\n"
     ]
    }
   ],
   "source": [
    "import json\n",
    "# np.random.seed(42)\n",
    "# Data to be written\n",
    "dictionary ={}\n",
    "\n",
    "urposjson = {0:[2.0,1.2,0.2]}\n",
    "urfileidx = 0\n",
    "\n",
    "\n",
    "for soroMove_Idx in range(soroMove_per_urMove):\n",
    "    delta = (np.random.rand(4)) * np.array([1,-1,1,-1]) * Limit\n",
    "    delta = delta.astype(np.int)\n",
    "    print(delta)\n",
    "    pos = currpos + delta\n",
    "    snapbot.set_goalposcluster(pos,1)\n",
    "    \n",
    "    dictionary[soroMove_Idx] = {\"RPY\":list(urposjson[urfileidx]),\"motor_control\":list(delta)}\n",
    "    time.sleep(3)\n",
    "    \n",
    "# Serializing json \n",
    "json_object = json.dumps(dictionary)\n",
    "\n",
    "name = \"results/URIdx_{}_.json\".format(urfileidx)\n",
    "\n",
    "# Writing to sample.json\n",
    "with open(name, \"w\") as outfile:\n",
    "    outfile.write(json_object)\n",
    "    "
   ]
  },
  {
   "cell_type": "code",
   "execution_count": 83,
   "metadata": {},
   "outputs": [],
   "source": []
  }
 ],
 "metadata": {
  "kernelspec": {
   "display_name": "Python 3.8.10 64-bit",
   "language": "python",
   "name": "python3"
  },
  "language_info": {
   "codemirror_mode": {
    "name": "ipython",
    "version": 3
   },
   "file_extension": ".py",
   "mimetype": "text/x-python",
   "name": "python",
   "nbconvert_exporter": "python",
   "pygments_lexer": "ipython3",
   "version": "3.8.10"
  },
  "varInspector": {
   "cols": {
    "lenName": 16,
    "lenType": 16,
    "lenVar": 40
   },
   "kernels_config": {
    "python": {
     "delete_cmd_postfix": "",
     "delete_cmd_prefix": "del ",
     "library": "var_list.py",
     "varRefreshCmd": "print(var_dic_list())"
    },
    "r": {
     "delete_cmd_postfix": ") ",
     "delete_cmd_prefix": "rm(",
     "library": "var_list.r",
     "varRefreshCmd": "cat(var_dic_list()) "
    }
   },
   "types_to_exclude": [
    "module",
    "function",
    "builtin_function_or_method",
    "instance",
    "_Feature"
   ],
   "window_display": false
  },
  "vscode": {
   "interpreter": {
    "hash": "916dbcbb3f70747c44a77c7bcd40155683ae19c65e1c03b4aa3499c5328201f1"
   }
  }
 },
 "nbformat": 4,
 "nbformat_minor": 2
}
