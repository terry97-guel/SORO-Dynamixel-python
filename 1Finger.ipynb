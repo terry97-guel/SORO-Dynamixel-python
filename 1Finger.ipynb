{
 "cells": [
  {
   "cell_type": "code",
   "execution_count": 1,
   "metadata": {},
   "outputs": [],
   "source": [
    "minmaxInterval = 2000"
   ]
  },
  {
   "cell_type": "markdown",
   "metadata": {},
   "source": [
    "## open port"
   ]
  },
  {
   "cell_type": "code",
   "execution_count": 2,
   "metadata": {},
   "outputs": [
    {
     "name": "stdout",
     "output_type": "stream",
     "text": [
      "[sudo] password for terry: chmod: cannot access '/dev/ttyUSB1': No such file or directory\n"
     ]
    }
   ],
   "source": [
    "!echo 'quzinee1!'| sudo -S chmod a+rw /dev/ttyUSB1"
   ]
  },
  {
   "cell_type": "markdown",
   "metadata": {},
   "source": [
    "## BASIC USAGE OF XL320 CLASS"
   ]
  },
  {
   "cell_type": "code",
   "execution_count": 3,
   "metadata": {},
   "outputs": [
    {
     "data": {
      "text/plain": [
       "(4, 4)"
      ]
     },
     "execution_count": 3,
     "metadata": {},
     "output_type": "execute_result"
    }
   ],
   "source": [
    "import os, time\n",
    "import numpy as np\n",
    "import matplotlib.pyplot as plt\n",
    "from datetime import datetime\n",
    "from math import pi as PI\n",
    "DEG90 = PI/2\n",
    "PROPORTION_MATRIX = np.array(\n",
    "    [\n",
    "        [1,0.1,0.4,0.4, 0,0,0,0, 0,0,0,0, 0,0,0,0],\n",
    "        [0.1,1,0.4,0.4, 0,0,0,0, 0,0,0,0, 0,0,0,0],\n",
    "        [0.4,0.4,1,0.1, 0,0,0,0, 0,0,0,0, 0,0,0,0],\n",
    "        [0.4,0.4,0.1,1, 0,0,0,0, 0,0,0,0, 0,0,0,0],\n",
    "        \n",
    "        [0,0,0,0,  1,0.1,0.4,0.4, 0,0,0,0, 0,0,0,0],\n",
    "        [0,0,0,0,  0.1,1,0.4,0.4,  0,0,0,0, 0,0,0,0],\n",
    "        [0,0,0,0,  0.4,0.4,1,0.1, 0,0,0,0, 0,0,0,0],\n",
    "        [0,0,0,0,  0.4,0.4,0.1,1, 0,0,0,0, 0,0,0,0],\n",
    "        \n",
    "        [0,0,0,0, 0,0,0,0, 1,0.1,0.4,0.4, 0,0,0,0],\n",
    "        [0,0,0,0, 0,0,0,0, 0.1,1,0.4,0.4, 0,0,0,0],\n",
    "        [0,0,0,0, 0,0,0,0, 0.4,0.4,1,0.1, 0,0,0,0],\n",
    "        [0,0,0,0, 0,0,0,0, 0.4,0.4,0.1,1, 0,0,0,0],\n",
    "        \n",
    "        [0,0,0,0, 0,0,0,0, 0,0,0,0, 1,0.1,0.4,0.4],\n",
    "        [0,0,0,0, 0,0,0,0, 0,0,0,0, 0.1,1,0.4,0.4],\n",
    "        [0,0,0,0, 0,0,0,0, 0,0,0,0, 0.4,0.4,1,0.1],\n",
    "        [0,0,0,0, 0,0,0,0, 0,0,0,0, 0.4,0.4,0.1,1],\n",
    "        ])\n",
    "PROPORTION_MATRIX = PROPORTION_MATRIX[:4,:4]\n",
    "PROPORTION_MATRIX.shape"
   ]
  },
  {
   "cell_type": "code",
   "execution_count": 4,
   "metadata": {
    "ExecuteTime": {
     "end_time": "2017-10-27T16:24:29.711191Z",
     "start_time": "2017-10-27T16:24:29.478864Z"
    }
   },
   "outputs": [
    {
     "name": "stdout",
     "output_type": "stream",
     "text": [
      "['/home/terry/Rilab/sOftrobot/SORO-Dynamixel-python', '', '/home/terry/catkin_ws/devel/lib/python3/dist-packages', '/opt/ros/noetic/lib/python3/dist-packages', '/usr/lib/python38.zip', '/usr/lib/python3.8', '/usr/lib/python3.8/lib-dynload', '/home/terry/.local/lib/python3.8/site-packages', '/usr/local/lib/python3.8/dist-packages', '/usr/lib/python3/dist-packages', '.']\n"
     ]
    }
   ],
   "source": [
    "import sys\n",
    "sys.path.append(\".\")\n",
    "\"\"\" FOR DYNAMIXEL \"\"\"\n",
    "from model.class_xc330 import xc330\n",
    "\"\"\" FOR MODERN DRIVER \"\"\"\n",
    "import roslib; roslib.load_manifest('ur_driver')\n",
    "import rospy\n",
    "import actionlib\n",
    "from control_msgs.msg import *\n",
    "from trajectory_msgs.msg import *\n",
    "from sensor_msgs.msg import JointState\n",
    "\n",
    "from class_vicon_marker import VICON\n",
    "from class_vicon_base import ViconBase\n",
    "\n",
    "class OneFinger(object):\n",
    "    def __init__(self,):\n",
    "        rospy.init_node(\"DEMO\")\n",
    "        self.JOINT_NAMES = ['shoulder_pan_joint', 'shoulder_lift_joint', 'elbow_joint',\n",
    "                            'wrist_1_joint', 'wrist_2_joint', 'wrist_3_joint']\n",
    "        self.client      = None\n",
    "        \n",
    "        self.xc          = xc330('SOFTROBOT', _USB_NUM=0)\n",
    "        \n",
    "    def init_xc(self,initpos):\n",
    "        self.xc.connect()\n",
    "        self.xc.set_operatingmode([4])\n",
    "\n",
    "        self.xc.set_torque([0])\n",
    "        time.sleep(2)\n",
    "        self.xc.set_torque([1])\n",
    "        print (\"TORQUE ON\")\n",
    "\n",
    "        currpos = self.xc.get_currpos()\n",
    "        minmaxInterval = 5000\n",
    "        self.xc.set_minmaxpos(currpos-np.ones_like(currpos)*minmaxInterval,currpos+np.ones_like(currpos)*minmaxInterval)\n",
    "\n",
    "        if initpos is None:\n",
    "            initpos = currpos; print(\"No initpos Found\")\n",
    "            self.set_init_pos()\n",
    "            return currpos\n",
    "\n",
    "        self.xc.set_goalposcluster(initpos,1)\n",
    "\n",
    "        print(\"INITIALIZE POSITION\")\n",
    "        currpos = self.xc.get_currpos()\n",
    "        print(currpos)\n",
    "\n",
    "        minmaxInterval = minmaxInterval\n",
    "        self.xc.set_minmaxpos(currpos-np.ones_like(currpos)*minmaxInterval,currpos+np.ones_like(currpos)*minmaxInterval)\n",
    "        self.set_init_pos()\n",
    "        return currpos\n",
    "        \n",
    "    def set_init_pos(self):\n",
    "        self.initpos = self.xc.get_currpos()\n",
    "    # def move_xc(self,pos):\n",
    "    #     pos = self.initpos + np.array(pos)* np.array([1,-1,-1,1])\n",
    "    #     self.xc.set_goalposcluster(pos,1)\n",
    "        \n",
    "    def pmove_xc(self,pos):\n",
    "        pos = self.initpos + PROPORTION_MATRIX @ np.array(pos) * np.array([1,-1,-1,1])\n",
    "        self.xc.set_goalposcluster(pos,1)\n",
    "        \n",
    "    def move_arm_speed(self, joints, speed):\n",
    "        try: \n",
    "            q = joints\n",
    "            g = FollowJointTrajectoryGoal()\n",
    "            g.trajectory = JointTrajectory()\n",
    "            g.trajectory.joint_names = self.JOINT_NAMES\n",
    "            joint_states = rospy.wait_for_message(\"joint_states\", JointState)\n",
    "            joints_pos   = joint_states.position\n",
    "\n",
    "            diff = np.array(joints_pos) - np.array(q)\n",
    "\n",
    "            assert speed <= 1e-1 \n",
    "            movetime = np.linalg.norm(diff)/speed\n",
    "\n",
    "            g.trajectory.points = [\n",
    "                JointTrajectoryPoint(positions=joints_pos, velocities=[0]*6, time_from_start=rospy.Duration(0.0)),\n",
    "                JointTrajectoryPoint(positions=q, velocities=[0]*6, time_from_start=rospy.Duration(movetime))]  \n",
    "\n",
    "            self.client.send_goal(g)\n",
    "            self.client.wait_for_result()\n",
    "        except KeyboardInterrupt:\n",
    "            self.client.cancel_goal()\n",
    "            raise\n",
    "        except:\n",
    "            raise  \n",
    "        \n",
    "    def move_xc(self, control, movetime):\n",
    "        controls = np.array(control).astype(int)\n",
    "        assert controls.ndim == 1\n",
    "\n",
    "        \n",
    "        pos_list = []\n",
    "        currpos = self.xc.get_currpos()\n",
    "        goal_pos  = control * np.array([1,-1,-1,1]) + self.initpos\n",
    "\n",
    "        resolution = 5\n",
    "        splitnum = np.linalg.norm(goal_pos - currpos)/resolution\n",
    "\n",
    "        interpolate_pos = np.linspace(currpos,goal_pos,int(splitnum))\n",
    "        currpos = goal_pos\n",
    "        pos_list.append(interpolate_pos)\n",
    "        \n",
    "        pos_array = np.vstack(pos_list)\n",
    "\n",
    "        if len(pos_array) > 0:\n",
    "            unit_sleep = movetime/len(pos_array)\n",
    "            for pos in pos_array:\n",
    "                self.xc.set_goalpos(pos)\n",
    "                time.sleep(unit_sleep)\n",
    "\n",
    "\n",
    "    def multiple_move_xc(self, controls, movetimes):\n",
    "        controls = np.array(controls).astype(int)\n",
    "        movetimes = np.array(movetimes)\n",
    "        assert controls.ndim == 2\n",
    "        assert movetimes.ndim == 1\n",
    "        \n",
    "        pos_list = []\n",
    "        currpos = self.xc.get_currpos()\n",
    "\n",
    "        for control in controls:\n",
    "            goal_pos  = control * np.array([1,-1,-1,1]) + self.initpos\n",
    "\n",
    "            resolution = 5\n",
    "            splitnum = np.linalg.norm(goal_pos - currpos)/resolution\n",
    "\n",
    "            interpolate_pos = np.linspace(currpos,goal_pos,int(splitnum))\n",
    "            currpos = goal_pos\n",
    "            pos_list.append(interpolate_pos)\n",
    "            \n",
    "        # pos_array = np.vstack(pos_list)\n",
    "        for pos, movetime in zip(pos_list, movetimes):\n",
    "            unit_sleep = movetime/len(pos)\n",
    "            for pos_ in pos:\n",
    "                self.xc.set_goalpos(pos_)\n",
    "                time.sleep(unit_sleep)\n",
    "\n",
    "    def execute_arm_speed(self, joints, speed):\n",
    "        try:\n",
    "            self.client = actionlib.SimpleActionClient('follow_joint_trajectory', FollowJointTrajectoryAction)\n",
    "            print(\"Waiting for server...\")\n",
    "            self.client.wait_for_server()\n",
    "            print(\"Connected to server\")\n",
    "            \"\"\" Initialize \"\"\"\n",
    "            self.move_arm_speed(joints, speed)\n",
    "            print(\"Finish plan\")\n",
    "\n",
    "        except KeyboardInterrupt:\n",
    "            rospy.signal_shutdown(\"KeyboardInterrupt\")\n",
    "            raise      \n"
   ]
  },
  {
   "cell_type": "markdown",
   "metadata": {},
   "source": [
    "## INSTANTIATE Robot "
   ]
  },
  {
   "cell_type": "code",
   "execution_count": 5,
   "metadata": {
    "ExecuteTime": {
     "end_time": "2017-10-27T16:24:31.277571Z",
     "start_time": "2017-10-27T16:24:31.275156Z"
    }
   },
   "outputs": [
    {
     "name": "stdout",
     "output_type": "stream",
     "text": [
      "[SOFTROBOT] INSTANTIATED AT [b'/dev/ttyUSB0']\n"
     ]
    }
   ],
   "source": [
    "robot = OneFinger()"
   ]
  },
  {
   "cell_type": "code",
   "execution_count": 39,
   "metadata": {},
   "outputs": [
    {
     "name": "stdout",
     "output_type": "stream",
     "text": [
      "Waiting for server...\n",
      "Connected to server\n",
      "Finish plan\n"
     ]
    }
   ],
   "source": [
    "init_joint=[0,-DEG90,DEG90,-DEG90,-DEG90, 0]\n",
    "robot.execute_arm_speed(init_joint, speed=1e-1)"
   ]
  },
  {
   "cell_type": "code",
   "execution_count": 7,
   "metadata": {},
   "outputs": [
    {
     "name": "stdout",
     "output_type": "stream",
     "text": [
      "[SOFTROBOT] CONNECT\n",
      " SUCCEEDED TO OPEN THE PORT!\n",
      " SUCCEEDED TO CHANGE THE BAUDRATE!\n",
      "COMMUNICATION SUCCESS\n",
      "[SOFTROBOT] DETECT ID\n",
      "[SOFTROBOT] [4]MOTORS DETECTED \n",
      "[SOFTROBOT] ID_LIST:[[13, 14, 15, 16]]\n",
      "TORQUE ON\n",
      "INITIALIZE POSITION\n",
      "[4682 3096  977 1595]\n"
     ]
    }
   ],
   "source": [
    "currpos = robot.init_xc([4722, 3082,  957, 1628])"
   ]
  },
  {
   "cell_type": "code",
   "execution_count": 8,
   "metadata": {},
   "outputs": [],
   "source": [
    "# robot.move_xc([1000,0,0,0], movetime=5)"
   ]
  },
  {
   "cell_type": "code",
   "execution_count": 9,
   "metadata": {},
   "outputs": [],
   "source": [
    "def move_arm_soro(robot:OneFinger, qs_array, motor_array, time_array):\n",
    "    qs_array = np.array(qs_array)\n",
    "    motor_array = np.array(motor_array)\n",
    "\n",
    "    assert qs_array.ndim == 2\n",
    "    assert motor_array.ndim == 2\n",
    "    assert len(time_array) == len(qs_array)\n",
    "    assert len(time_array) == len(motor_array)\n",
    "\n",
    "    motor_list = []\n",
    "    currpos = robot.xc.get_currpos()\n",
    "    \n",
    "    for motor_control in motor_array:\n",
    "        goal_pos  = motor_control * np.array([1,-1,-1,1]) + robot.initpos\n",
    "\n",
    "        resolution = 10\n",
    "        splitnum = np.linalg.norm(goal_pos - currpos)/resolution\n",
    "\n",
    "        interpolate_pos = np.linspace(currpos,goal_pos,int(splitnum))\n",
    "        currpos = goal_pos\n",
    "        motor_list.append(interpolate_pos)\n",
    "    \n",
    "    from tqdm.notebook import tqdm\n",
    "    i = 0\n",
    "    for motor_array, q, movetime in tqdm(zip(motor_list, qs_array, time_array)):\n",
    "        \n",
    "        try:\n",
    "            g = FollowJointTrajectoryGoal()\n",
    "            g.trajectory = JointTrajectory()\n",
    "            g.trajectory.joint_names = robot.JOINT_NAMES\n",
    "            joint_states = rospy.wait_for_message(\"joint_states\", JointState)\n",
    "            joints_pos   = joint_states.position\n",
    "\n",
    "            diff = np.array(joints_pos) - np.array(q)\n",
    "\n",
    "            speed = np.linalg.norm(diff)/movetime\n",
    "\n",
    "            speed_max = 1e-1\n",
    "            if speed > speed_max:\n",
    "                movetime = np.linalg.norm(diff)/speed_max\n",
    "            \n",
    "            \n",
    "            # g.trajectory.points = [\n",
    "            #     JointTrajectoryPoint(positions=joints_pos, velocities=[0]*6, time_from_start=rospy.Duration(0.0)),\n",
    "            #     JointTrajectoryPoint(positions=q, velocities=[0]*6, time_from_start=rospy.Duration(movetime))\n",
    "            #     ]  \n",
    "            \n",
    "            qs = np.linspace(joints_pos, q, 100)\n",
    "            temp = []\n",
    "            for j,q_ in enumerate(qs):\n",
    "                temp.append(JointTrajectoryPoint(positions=q_, velocities=[0]*6, time_from_start=rospy.Duration((j-1)*movetime/len(qs))))\n",
    "            \n",
    "            g.trajectory.points = temp\n",
    "\n",
    "            print(q)\n",
    "            robot.client.send_goal(g)\n",
    "            unit_sleep = movetime/len(motor_array)\n",
    "            for motor in motor_array:\n",
    "                robot.xc.set_goalpos(motor)\n",
    "                time.sleep(unit_sleep* 0.7)\n",
    "            robot.client.wait_for_result()\n",
    "\n",
    "        except KeyboardInterrupt:\n",
    "            robot.client.cancel_goal()\n",
    "            raise\n",
    "        except:\n",
    "            raise  \n",
    "\n",
    "        robot.client.wait_for_result()\n",
    "        \n",
    "\n",
    "\n"
   ]
  },
  {
   "attachments": {},
   "cell_type": "markdown",
   "metadata": {},
   "source": [
    "# get qs and motor for paint"
   ]
  },
  {
   "cell_type": "code",
   "execution_count": 10,
   "metadata": {},
   "outputs": [
    {
     "data": {
      "text/plain": [
       "((3, 6), (3, 4))"
      ]
     },
     "execution_count": 10,
     "metadata": {},
     "output_type": "execute_result"
    }
   ],
   "source": [
    "q0 = [0,-DEG90,DEG90,-DEG90,-DEG90, 0]\n",
    "motor0 = [0,0,0,0]\n",
    "\n",
    "q1 = np.array([-0.6, -57.6, 109.6, -179.4, -100.5, 0.0])/180 * PI\n",
    "motor1 = [0,1000,0,0]\n",
    "q2 = np.array([-3.6, -56.0, 108.3, -177.1, -97.4, 0.0])/180 * PI\n",
    "moto2 = [1000,0,0,0]\n",
    "\n",
    "qs_array = np.array([q0,q1,q2])\n",
    "motor_array = np.array([motor0,motor1,moto2])\n",
    "\n",
    "qs_array.shape, motor_array.shape"
   ]
  },
  {
   "cell_type": "code",
   "execution_count": 11,
   "metadata": {},
   "outputs": [
    {
     "data": {
      "application/vnd.jupyter.widget-view+json": {
       "model_id": "6c154edc3068496f83d51ad2aeb8cec9",
       "version_major": 2,
       "version_minor": 0
      },
      "text/plain": [
       "0it [00:00, ?it/s]"
      ]
     },
     "metadata": {},
     "output_type": "display_data"
    },
    {
     "name": "stdout",
     "output_type": "stream",
     "text": [
      "[ 0.         -1.57079633  1.57079633 -1.57079633 -1.57079633  0.        ]\n",
      "[-0.01047198 -1.00530965  1.91288086 -3.13112068 -1.7540559   0.        ]\n",
      "[ 0.06283185 -0.97738438  1.89019158 -3.09097811 -1.69995069  0.        ]\n"
     ]
    }
   ],
   "source": [
    "move_arm_soro(robot, qs_array, motor_array, time_array=2*np.ones(len(motor_array)).astype(np.float32))"
   ]
  },
  {
   "cell_type": "code",
   "execution_count": 37,
   "metadata": {},
   "outputs": [],
   "source": [
    "pertub = [2,3,0,1]\n",
    "\n",
    "motor_array = np.load(\"planned_traj/paint/motor_array.npy\").astype(np.float32)[:, pertub]\n",
    "qs_array    = np.load(\"planned_traj/paint/qs_array.npy\").astype(np.float32)\n",
    "\n",
    "assert (qs_array <  PI).all() and (qs_array>-PI).all()"
   ]
  },
  {
   "cell_type": "code",
   "execution_count": 38,
   "metadata": {},
   "outputs": [
    {
     "data": {
      "application/vnd.jupyter.widget-view+json": {
       "model_id": "d3b8a61400d04f10b2f42718891bdac6",
       "version_major": 2,
       "version_minor": 0
      },
      "text/plain": [
       "0it [00:00, ?it/s]"
      ]
     },
     "metadata": {},
     "output_type": "display_data"
    },
    {
     "name": "stdout",
     "output_type": "stream",
     "text": [
      "[ 0.        -1.5707964  1.5707964 -1.5707964 -1.5707964  0.       ]\n",
      "[ 0.00402592 -1.5481125   1.6148673  -1.6375489  -1.5707964   0.00402654]\n",
      "[-0.01470772 -1.4827226   1.6207126  -1.7087858  -1.5707964  -0.01470811]\n",
      "[-0.02856332 -1.4114763   1.6138504  -1.7731702  -1.5707964  -0.02856405]\n",
      "[-0.04066654 -1.3356045   1.5974509  -1.8326427  -1.5707963  -0.04066747]\n",
      "[-0.05153741 -1.2559649   1.5710888  -1.8859208  -1.5707961  -0.05153854]\n",
      "[-0.06136599 -1.1730137   1.5344644  -1.9322476  -1.570796   -0.06136735]\n",
      "[-0.07026374 -1.0870807   1.4872328  -1.9709498  -1.5707959  -0.07026538]\n",
      "[-0.07830586 -0.9983497   1.4289579  -2.0014064  -1.5707959  -0.07830779]\n",
      "[-0.08555821 -0.90674466  1.358935   -2.0229888  -1.5707958  -0.08556052]\n",
      "[-0.08555821 -0.90674466  1.358935   -2.0229888  -1.5707958  -0.08556052]\n"
     ]
    },
    {
     "name": "stderr",
     "output_type": "stream",
     "text": [
      "/tmp/ipykernel_36723/1142653806.py:57: RuntimeWarning: divide by zero encountered in divide\n",
      "  unit_sleep = movetime/len(motor_array)\n"
     ]
    },
    {
     "name": "stdout",
     "output_type": "stream",
     "text": [
      "[-0.08968499 -0.9063684   1.3601892  -2.024618   -1.570796   -0.08968574]\n",
      "[-0.09487383 -0.909061    1.3647705  -2.0265057  -1.5707963  -0.09487335]\n",
      "[-0.09993018 -0.9138848   1.3715167  -2.0284271  -1.5707964  -0.09992886]\n",
      "[-0.10453302 -0.9218143   1.381792   -2.030772   -1.5707965  -0.1045312 ]\n",
      "[-0.09800417 -0.94581103  1.4145575  -2.0395415  -1.5707966  -0.09800343]\n",
      "[-0.09921987 -0.94820756  1.4186143  -2.0412014  -1.5707966  -0.09921865]\n",
      "[-0.10344716 -0.9533125   1.427383   -2.0448647  -1.5707967  -0.10344516]\n",
      "[-0.10861161 -0.9592518   1.4379708  -2.0495136  -1.5707968  -0.10860988]\n",
      "[-0.11064094 -0.96423554  1.4483029  -2.0548625  -1.5707968  -0.11064015]\n"
     ]
    }
   ],
   "source": [
    "move_arm_soro(robot, qs_array, motor_array, time_array=2 * np.ones(len(motor_array)).astype(np.float32))"
   ]
  },
  {
   "cell_type": "code",
   "execution_count": null,
   "metadata": {},
   "outputs": [],
   "source": []
  },
  {
   "cell_type": "code",
   "execution_count": 8,
   "metadata": {},
   "outputs": [],
   "source": [
    "q0 = init_joint\n",
    "q1 = np.array([0, -44, 63, -139, -92, 0]) / 180 * PI\n",
    "q2 = np.array([0, -33, 58, -150, -92, 0])/180 * PI\n",
    "q3 = np.array([0, -76, 124, -150, -93, 11])/180 * PI\n",
    "\n",
    "motor_0 = [0,0,0,0]\n",
    "motor_1 = [0,0,0,1000]\n",
    "motor_2 = [0,0,1000,0]\n",
    "motor_3 = [0,0,1000,0]\n"
   ]
  },
  {
   "cell_type": "code",
   "execution_count": null,
   "metadata": {},
   "outputs": [],
   "source": []
  },
  {
   "cell_type": "code",
   "execution_count": 30,
   "metadata": {},
   "outputs": [
    {
     "data": {
      "text/plain": [
       "((5, 6), (5, 4))"
      ]
     },
     "execution_count": 30,
     "metadata": {},
     "output_type": "execute_result"
    }
   ],
   "source": [
    "qs_array = np.array([q0, q1, q2, q3, q0])\n",
    "motor_array = np.array([motor_0, motor_1, motor_2, motor_3, motor_0])\n",
    "time_array = np.array([1,1,3,1,1])\n",
    "# move_arm_soro(robot, qs_array, motor_array, time_array=time_array)\n",
    "\n",
    "qs_array.shape, motor_array.shape,\n"
   ]
  },
  {
   "cell_type": "code",
   "execution_count": 31,
   "metadata": {},
   "outputs": [
    {
     "data": {
      "text/plain": [
       "array([[   0,    0,    0,    0],\n",
       "       [   0, 1000,    0,    0],\n",
       "       [1000,    0,    0,    0],\n",
       "       [1000,    0,    0,    0],\n",
       "       [   0,    0,    0,    0]])"
      ]
     },
     "execution_count": 31,
     "metadata": {},
     "output_type": "execute_result"
    }
   ],
   "source": [
    "motor_array[:,[2,3,0,1]]\n",
    "\n",
    "# 1 -> 3\n",
    "# 2 -> 4\n",
    "# 3 -> 1\n",
    "# 4 -> 2"
   ]
  },
  {
   "cell_type": "code",
   "execution_count": 32,
   "metadata": {},
   "outputs": [
    {
     "data": {
      "text/plain": [
       "((30, 6), (30, 4))"
      ]
     },
     "execution_count": 32,
     "metadata": {},
     "output_type": "execute_result"
    }
   ],
   "source": [
    "pertub = [2,3,0,1]\n",
    "\n",
    "motor_array = np.load(\"planned_traj/scraps/motor_array.npy\")[:,0,:].astype(np.float32)[:, pertub]\n",
    "qs_array = np.load(\"planned_traj/scraps/qs_array.npy\").astype(np.float32)\n",
    "\n",
    "qs_array.shape, motor_array.shape"
   ]
  },
  {
   "cell_type": "code",
   "execution_count": 33,
   "metadata": {},
   "outputs": [
    {
     "data": {
      "application/vnd.jupyter.widget-view+json": {
       "model_id": "a9580c1577474f978768a7f459830bc3",
       "version_major": 2,
       "version_minor": 0
      },
      "text/plain": [
       "0it [00:00, ?it/s]"
      ]
     },
     "metadata": {},
     "output_type": "display_data"
    },
    {
     "name": "stdout",
     "output_type": "stream",
     "text": [
      "[-0.04599259 -1.5802035   1.6107767  -1.5999597  -1.56946    -0.04463042]\n",
      "[-0.03281507 -1.519118    1.6044059  -1.7096051  -1.5721114  -0.03104687]\n",
      "[-0.0224144  -1.4481554   1.5931858  -1.8278202  -1.5751153  -0.01928964]\n",
      "[-0.01287514 -1.3721259   1.5746301  -1.9434882  -1.5792477  -0.00877141]\n",
      "[-3.9338181e-03 -1.2910470e+00  1.5476949e+00 -2.0557394e+00\n",
      " -1.5844587e+00  5.9030089e-04]\n",
      "[ 0.00454562 -1.2037833   1.510621   -2.164815   -1.5906992   0.00883939]\n",
      "[ 0.0116776  -1.1122956   1.46019    -2.2635028  -1.5973823   0.01507278]\n",
      "[ 0.01833413 -1.0156705   1.3981818  -2.3564265  -1.6047064   0.02008578]\n",
      "[ 0.0236902  -0.9147392   1.3196965  -2.436416   -1.6120366   0.02313502]\n",
      "[ 0.02818281 -0.80857635  1.2255981  -2.5067809  -1.6194508   0.02460419]\n",
      "[ 0.02726448 -0.795765    1.2131997  -2.513029   -1.6193823   0.02360758]\n",
      "[ 0.02036208 -0.77704686  1.1937478  -2.5191767  -1.6160221   0.01755973]\n",
      "[ 0.01172219 -0.75521994  1.1715642  -2.5279825  -1.6117204   0.01005257]\n",
      "[ 1.7376429e-03 -7.3071593e-01  1.1430913e+00 -2.5342598e+00\n",
      " -1.6065856e+00  1.4781432e-03]\n",
      "[-0.00809154 -0.705787    1.113248   -2.5393484  -1.601367   -0.00685827]\n",
      "[-0.01839252 -0.6745144   1.0716193  -2.539641   -1.5957217  -0.01547919]\n",
      "[-0.02649312 -0.6481442   1.0394459  -2.5429122  -1.5911429  -0.02216452]\n",
      "[-0.03449051 -0.6173836   1.0002588  -2.544349   -1.5864799  -0.02866597]\n",
      "[-0.0416485  -0.5838638   0.9551413  -2.5425262  -1.5821677  -0.03438557]\n",
      "[-0.04819417 -0.54874045  0.90778786 -2.5400326  -1.5780975  -0.03952116]\n",
      "[-0.04987517 -0.5490661   0.912076   -2.543876   -1.5773954  -0.04014104]\n",
      "[-0.04909836 -0.6454645   1.082294   -2.5771399  -1.5877931  -0.02289745]\n",
      "[-0.05063237 -0.74497294  1.2576759  -2.6086466  -1.5962474  -0.00526069]\n",
      "[-0.05213662 -0.8324796   1.4065613  -2.6258085  -1.6031303   0.01295899]\n",
      "[-0.05512609 -0.91692126  1.5461646  -2.6363     -1.6078728   0.0305924 ]\n",
      "[-0.0590332  -0.99633694  1.6726929  -2.639419   -1.6106949   0.04748438]\n",
      "[-0.06443181 -1.0745187   1.7928923  -2.637094   -1.6116198   0.06345189]\n",
      "[-0.07131125 -1.1517235   1.9067707  -2.6295228  -1.6107696   0.07815993]\n",
      "[-0.08011395 -1.2290459   2.0155134  -2.6168618  -1.6082096   0.09102838]\n",
      "[-0.09125952 -1.3076278   2.119987   -2.5988603  -1.6040964   0.10150811]\n"
     ]
    }
   ],
   "source": [
    "move_arm_soro(robot, qs_array, motor_array, time_array=np.ones(len(motor_array)).astype(np.float32))"
   ]
  },
  {
   "cell_type": "code",
   "execution_count": null,
   "metadata": {},
   "outputs": [],
   "source": []
  },
  {
   "cell_type": "code",
   "execution_count": null,
   "metadata": {},
   "outputs": [],
   "source": []
  },
  {
   "cell_type": "code",
   "execution_count": null,
   "metadata": {},
   "outputs": [],
   "source": [
    "        \n",
    "robot.execute_arm_speed(init_joint, speed=1e-1)\n",
    "robot.move_xc(np.array([0,0,0,0]), movetime=3)        \n",
    "\n",
    "motor_array = np.load(\"planned_traj/scraps/motor_array.npy\")[:,0,:] * 1.5\n",
    "qs_array    = np.load(\"planned_traj/scraps/qs_array.npy\") + np.array([0,0,0,-4*DEG90,0, DEG90])\n",
    "# motor_array = np.array([[1000,0,0,0]]*30)\n",
    "qs_array.shape, motor_array.shape\n",
    "\n",
    "move_arm_soro(robot, qs_array, motor_array, time_array=np.ones(len(qs_array))*2)\n"
   ]
  },
  {
   "cell_type": "code",
   "execution_count": 41,
   "metadata": {},
   "outputs": [
    {
     "name": "stderr",
     "output_type": "stream",
     "text": [
      "/tmp/ipykernel_119085/917136251.py:135: RuntimeWarning: divide by zero encountered in double_scalars\n",
      "  unit_sleep = movetime/len(pos)\n"
     ]
    }
   ],
   "source": [
    "# import numpy as np\n",
    "\n",
    "motor_controls = np.load(\"planned_traj/scraps/motor_array.npy\")[:,0,:] * 1.5\n",
    "motor_controls.shape\n",
    "robot.multiple_move_xc(motor_controls, movetimes=np.ones(len(motor_controls))*0.5 )"
   ]
  },
  {
   "cell_type": "code",
   "execution_count": 15,
   "metadata": {},
   "outputs": [
    {
     "data": {
      "text/plain": [
       "array([-3.78221267e-01, -4.00708568e-01,  2.98003205e-01,  6.38293777e+00,\n",
       "        5.67389440e-04, -1.95196208e+00])"
      ]
     },
     "execution_count": 15,
     "metadata": {},
     "output_type": "execute_result"
    }
   ],
   "source": [
    "import numpy as np\n",
    "\n",
    "qs_array = np.load(\"planned_traj/scraps/qs_array.npy\")\n",
    "qs_array[0] - init_joint\n",
    "\n",
    "\n",
    "# init_joint=[0,-DEG90,DEG90,-DEG90,-DEG90, 0]\n",
    "# robot.execute_arm(init_joint, movetime = 5)\n",
    "\n",
    "# for qs in qs_array:\n",
    "#     robot.execute_arm(qs + np.array([0,0,0,-4*DEG90,0,-DEG90]), movetime = 10)"
   ]
  },
  {
   "cell_type": "markdown",
   "metadata": {},
   "source": [
    "# Calibrate initpos\n",
    "반드시 Cap을 벗기고 진행할것"
   ]
  },
  {
   "cell_type": "code",
   "execution_count": null,
   "metadata": {},
   "outputs": [],
   "source": [
    "# Upright_joint = np.array([0, -90+45, 90-45, -90, 90, 90])/90*DEG90\n",
    "# robot.execute_arm(Upright_joint)"
   ]
  },
  {
   "cell_type": "code",
   "execution_count": null,
   "metadata": {},
   "outputs": [],
   "source": [
    "# robot.init_xc(initpos=np.array([None]))\n",
    "# initpos = robot.xc.get_currpos()"
   ]
  },
  {
   "cell_type": "code",
   "execution_count": null,
   "metadata": {},
   "outputs": [],
   "source": [
    "# relaxed_pos = initpos"
   ]
  },
  {
   "cell_type": "code",
   "execution_count": null,
   "metadata": {},
   "outputs": [],
   "source": [
    "# initpos = np.array([2247, -546,  344, 2629, 1000, 2833, 1801, 4351, 4761, 2223, 1299,\n",
    "#        1990,  2605, -703, 2454, 1732])\n",
    "# # initpos[-4:] = relaxed_pos[-4:]\n",
    "# robot.init_xc(initpos=initpos)"
   ]
  },
  {
   "cell_type": "code",
   "execution_count": null,
   "metadata": {},
   "outputs": [],
   "source": [
    "# relaxed_pos"
   ]
  },
  {
   "cell_type": "code",
   "execution_count": null,
   "metadata": {},
   "outputs": [],
   "source": [
    "# # 1번은 플러스, 2번 마이너스, 3번 마이너스, 4번 플러스\n",
    "# pos = initpos + np.array([0,0,0,0, 0,0,0,0, 0,0,0,0, 100,200,200,200]) * np.array([1,-1,-1,1]*4)\n",
    "# # robot.move_xc(pos)\n",
    "\n",
    "# pos = pos + PROPORTION_MATRIX @ np.array([0,0,0,0, 0,0,0,0, 0,0,0,0, 600,600,600,600]) * np.array([1,-1,-1,1]*4)\n",
    "\n",
    "# robot.move_xc(pos)\n",
    "\n",
    "# robot.xc.get_currpos()"
   ]
  },
  {
   "cell_type": "code",
   "execution_count": null,
   "metadata": {},
   "outputs": [],
   "source": [
    "# initpos = np.array([2247, -546,  344, 2629, 1000, 2833, 1801, 4351, 4761, 2223, 1299,\n",
    "#        1990, 4110,  970, 3106, 3197])\n",
    "# robot.init_xc(initpos)\n",
    "# robot.xc.get_currpos()\n",
    "\n",
    "# pos = initpos + np.array([300]*16) * np.array([1,-1,-1,1]*4)\n",
    "# robot.move_xc(pos)\n",
    "# time.sleep(2)\n",
    "\n",
    "# pos = initpos + PROPORTION_MATRIX @ np.array([1000,0,0,0, 0,0,1000,0, 0,1000,0,0, 0,0,0,1000]) * np.array([1,-1,-1,1]*4)\n",
    "# robot.move_xc(pos)\n",
    "# time.sleep(2)\n",
    "\n",
    "\n",
    "# pos = initpos + PROPORTION_MATRIX @ np.array([0,1000,0,0, 0,0,0,1000, 1000,0,0,0, 0,0,1000,0]) * np.array([1,-1,-1,1]*4)\n",
    "# robot.move_xc(pos)\n",
    "# time.sleep(2)\n",
    "\n",
    "# robot.move_xc(initpos)"
   ]
  },
  {
   "cell_type": "markdown",
   "metadata": {},
   "source": [
    "# Twist Open"
   ]
  },
  {
   "cell_type": "code",
   "execution_count": 7,
   "metadata": {},
   "outputs": [
    {
     "name": "stdout",
     "output_type": "stream",
     "text": [
      "[SOFTROBOT] CONNECT\n",
      " SUCCEEDED TO OPEN THE PORT!\n",
      " SUCCEEDED TO CHANGE THE BAUDRATE!\n",
      "COMMUNICATION SUCCESS\n",
      "[SOFTROBOT] DETECT ID\n",
      "[SOFTROBOT] [16]MOTORS DETECTED \n",
      "[SOFTROBOT] ID_LIST:[[1, 2, 3, 4, 5, 6, 7, 8, 9, 10, 11, 12, 13, 14, 15, 16]]\n",
      "TORQUE ON\n",
      "No initpos Found\n",
      "INITIALIZE POSITION\n",
      "[1872  150  818 2040  574 3438 2144 3701 4350 3154 2029 1159 1867   54\n",
      " 2864  908]\n",
      "[SOFTROBOT] CONNECT\n",
      "[PortHandler setup] The port number 0 has same device name... reinitialize port number 0!!\n",
      " SUCCEEDED TO OPEN THE PORT!\n",
      " SUCCEEDED TO CHANGE THE BAUDRATE!\n",
      "COMMUNICATION SUCCESS\n",
      "[SOFTROBOT] DETECT ID\n",
      "[SOFTROBOT] [16]MOTORS DETECTED \n",
      "[SOFTROBOT] ID_LIST:[[1, 2, 3, 4, 5, 6, 7, 8, 9, 10, 11, 12, 13, 14, 15, 16]]\n",
      "TORQUE ON\n",
      "INITIALIZE POSITION\n",
      "[2229 -515  367 2596  982 2861 1820 4319 4740 2264 1334 1954 2667 -762\n",
      " 2390 1784]\n"
     ]
    },
    {
     "data": {
      "text/plain": [
       "array([2239, -532,  357, 2612,  991, 2848, 1812, 4332, 4750, 2242, 1316,\n",
       "       1973, 2687, -784, 2374, 1808])"
      ]
     },
     "execution_count": 7,
     "metadata": {},
     "output_type": "execute_result"
    }
   ],
   "source": [
    "robot.init_xc(np.array([None]))\n",
    "initpos = robot.xc.get_currpos()\n",
    "pos = initpos + np.array([1,1,1,1, 1,1,1,1, 1,1,1,1, 1,1,1,1])*1000 * np.array([1,-1,-1,1]*4)\n",
    "robot.move_xc(pos)\n",
    "\n",
    "initpos = np.array([2247, -546,  344, 2629, 1000, 2833, 1801, 4351, 4761, 2223, 1299,\n",
    "       1990,  2705, -803, 2354, 1832])\n",
    "robot.init_xc(initpos)\n",
    "\n",
    "robot.xc.get_currpos()"
   ]
  },
  {
   "cell_type": "markdown",
   "metadata": {},
   "source": [
    "# Close Up"
   ]
  },
  {
   "cell_type": "code",
   "execution_count": 15,
   "metadata": {},
   "outputs": [
    {
     "name": "stdout",
     "output_type": "stream",
     "text": [
      "Waiting for server...\n",
      "Connected to server\n",
      "Finish plan\n"
     ]
    }
   ],
   "source": [
    "Target_up_joint = [0.001,-DEG90,DEG90,-DEG90,-DEG90,DEG90]\n",
    "\n",
    "Target_down_joint = np.array([0.02,-86.79,106.58,-109.79, -90.04, 90.11])/90*DEG90\n",
    "\n",
    "Target_down_joint2 = np.array([0.02,-87.48,104.85,-107.46, -90.03, 90.09])/90*DEG90\n",
    "Target_down_joint = (Target_down_joint2+Target_down_joint)/2\n",
    "assert (Target_up_joint * np.array([1,-1,1,-1,-1,1])>0).all()\n",
    "assert (Target_down_joint * np.array([1,-1,1,-1,-1,1])>0).all()\n",
    "assert (Target_down_joint2 * np.array([1,-1,1,-1,-1,1])>0).all()\n",
    "\n",
    "robot.execute_arm(Target_up_joint)\n",
    "robot.pmove_xc(np.array([0,0,0,0]*4))\n",
    "\n"
   ]
  },
  {
   "cell_type": "code",
   "execution_count": 16,
   "metadata": {},
   "outputs": [],
   "source": [
    "coeff = 1.4\n",
    "rollout_actuation = np.load(\"actuations/Custom_grasp.npy\") * coeff\n",
    "\n",
    "# Ungrasp\n",
    "act = rollout_actuation[0].tolist()\n",
    "robot.pmove_xc(np.array(act*4)/coeff)"
   ]
  },
  {
   "cell_type": "code",
   "execution_count": 17,
   "metadata": {},
   "outputs": [
    {
     "name": "stdout",
     "output_type": "stream",
     "text": [
      "Waiting for server...\n",
      "Connected to server\n",
      "Finish plan\n"
     ]
    }
   ],
   "source": [
    "# Ungrasp\n",
    "act = rollout_actuation[0].tolist()\n",
    "robot.pmove_xc(np.array(act*4)/coeff)\n",
    "\n",
    "robot.execute_arm(Target_down_joint)\n",
    "\n",
    "# 접근 동작\n",
    "act = rollout_actuation[1].tolist()\n",
    "robot.pmove_xc(np.array(act*4))\n",
    "\n",
    "# 잡는 동작\n",
    "act = rollout_actuation[2].tolist()\n",
    "robot.pmove_xc(np.array(act*4))\n",
    "\n",
    "# 절반 돌리고\n",
    "act = rollout_actuation[3].tolist()\n",
    "robot.pmove_xc(np.array(act*4))\n",
    "\n",
    "# 나머지 돌리고\n",
    "act = rollout_actuation[4].tolist()\n",
    "robot.pmove_xc(np.array(act*4))\n",
    "\n",
    "# 들고\n",
    "act = rollout_actuation[5].tolist()\n",
    "robot.pmove_xc(np.array(act*4))\n",
    "\n",
    "# Ungrasp\n",
    "act = rollout_actuation[0].tolist()\n",
    "robot.pmove_xc(np.array(act*4)/coeff)\n",
    "\n",
    "# 접근 동작\n",
    "act = rollout_actuation[1].tolist()\n",
    "robot.pmove_xc(np.array(act*4))\n",
    "\n",
    "# 잡는 동작\n",
    "act = rollout_actuation[2].tolist()\n",
    "robot.pmove_xc(np.array(act*4))\n",
    "\n",
    "# 절반 돌리고\n",
    "act = rollout_actuation[3].tolist()\n",
    "robot.pmove_xc(np.array(act*4))\n",
    "\n",
    "# 나머지 돌리고\n",
    "act = rollout_actuation[4].tolist()\n",
    "robot.pmove_xc(np.array(act*4))\n",
    "\n",
    "# 들고\n",
    "act = rollout_actuation[5].tolist()\n",
    "robot.pmove_xc(np.array(act*4))\n",
    "\n",
    "# Ungrasp\n",
    "act = rollout_actuation[0].tolist()\n",
    "robot.pmove_xc(np.array(act*4)/coeff)\n",
    "\n",
    "# 접근 동작\n",
    "act = rollout_actuation[1].tolist()\n",
    "robot.pmove_xc(np.array(act*4))\n",
    "\n",
    "# 잡는 동작\n",
    "act = rollout_actuation[2].tolist()\n",
    "robot.pmove_xc(np.array(act*4))\n",
    "\n",
    "# 절반 돌리고\n",
    "act = rollout_actuation[3].tolist()\n",
    "robot.pmove_xc(np.array(act*4))\n",
    "\n",
    "# 나머지 돌리고\n",
    "act = rollout_actuation[4].tolist()\n",
    "robot.pmove_xc(np.array(act*4))\n",
    "\n"
   ]
  },
  {
   "cell_type": "code",
   "execution_count": 18,
   "metadata": {},
   "outputs": [
    {
     "name": "stdout",
     "output_type": "stream",
     "text": [
      "Waiting for server...\n",
      "Connected to server\n",
      "Finish plan\n",
      "Waiting for server...\n",
      "Connected to server\n",
      "Finish plan\n"
     ]
    }
   ],
   "source": [
    "robot.execute_arm(Target_up_joint)\n",
    "time.sleep(4)\n",
    "robot.execute_arm(Target_down_joint2)\n"
   ]
  },
  {
   "cell_type": "code",
   "execution_count": 19,
   "metadata": {},
   "outputs": [],
   "source": [
    "### Capping ###\n",
    "\n",
    "# 놓고\n",
    "act = rollout_actuation[3].tolist()\n",
    "robot.pmove_xc(np.array(act*4))\n",
    "robot.pmove_xc(np.array([1000,0,1000,0]*4))\n",
    "\n",
    "# 접근 동작\n",
    "robot.pmove_xc(np.array([0,2000,2000,0]*4))\n",
    "\n",
    "# 잡는 동작\n",
    "robot.pmove_xc(np.array([0,1800,200,800]*4))\n",
    "\n",
    "# 절반 돌리고\n",
    "robot.pmove_xc(np.array([500,500,200,1200]*4))\n",
    "\n",
    "# 나머지 돌리고\n",
    "robot.pmove_xc(np.array([700,1000,200,2000]*4))\n",
    "\n",
    "# 들고\n",
    "robot.pmove_xc(np.array([3000,1000,0,2000]*4))\n",
    "\n",
    "# UnGrasp\n",
    "robot.pmove_xc(np.array([1000,0,1000,0]*4))\n",
    "\n",
    "\n",
    "# 접근 동작\n",
    "robot.pmove_xc(np.array([0,2000,2000,0]*4))\n",
    "\n",
    "# 잡는 동작\n",
    "robot.pmove_xc(np.array([0,1800,200,800]*4))\n",
    "\n",
    "# 절반 돌리고\n",
    "robot.pmove_xc(np.array([500,500,200,1200]*4))\n",
    "\n",
    "# 나머지 돌리고\n",
    "robot.pmove_xc(np.array([700,1000,200,2000]*4))\n",
    "\n",
    "# 들고\n",
    "robot.pmove_xc(np.array([3000,1000,0,2000]*4))\n",
    "\n",
    "# UnGrasp\n",
    "robot.pmove_xc(np.array([1000,0,1000,0]*4))\n",
    "\n",
    "\n",
    "# 접근 동작\n",
    "robot.pmove_xc(np.array([0,2000,2000,0]*4))\n",
    "\n",
    "# 잡는 동작\n",
    "robot.pmove_xc(np.array([0,1800,200,800]*4))\n",
    "\n",
    "# 절반 돌리고\n",
    "robot.pmove_xc(np.array([500,500,200,1200]*4))\n",
    "\n",
    "# 나머지 돌리고\n",
    "robot.pmove_xc(np.array([700,1000,200,2000]*4))\n",
    "\n",
    "# 들고\n",
    "robot.pmove_xc(np.array([3000,1000,0,2000]*4))\n",
    "\n",
    "# UnGrasp\n",
    "robot.pmove_xc(np.array([1000,0,1000,0]*4))\n",
    "\n",
    "# 접근 동작\n",
    "robot.pmove_xc(np.array([0,2000,2000,0]*4))\n",
    "\n",
    "# 잡는 동작\n",
    "robot.pmove_xc(np.array([0,1800,200,800]*4))\n",
    "\n",
    "# 절반 돌리고\n",
    "robot.pmove_xc(np.array([500,500,200,1200]*4))\n",
    "\n",
    "# 나머지 돌리고\n",
    "robot.pmove_xc(np.array([700,1000,200,2000]*4))\n",
    "\n",
    "# 들고\n",
    "robot.pmove_xc(np.array([3000,1000,0,2000]*4))\n",
    "\n",
    "# UnGrasp\n",
    "robot.pmove_xc(np.array([1000,0,1000,0]*4))\n"
   ]
  },
  {
   "cell_type": "code",
   "execution_count": 20,
   "metadata": {},
   "outputs": [
    {
     "name": "stdout",
     "output_type": "stream",
     "text": [
      "Waiting for server...\n",
      "Connected to server\n",
      "Finish plan\n"
     ]
    }
   ],
   "source": [
    "robot.execute_arm(Target_up_joint)"
   ]
  },
  {
   "cell_type": "code",
   "execution_count": 114,
   "metadata": {},
   "outputs": [],
   "source": [
    "# # Ungrasp\n",
    "# act = rollout_actuation[0].tolist()\n",
    "# robot.pmove_xc(np.array(act*4)/coeff)\n",
    "\n",
    "# # 접근 동작\n",
    "# act = rollout_actuation[1].tolist()\n",
    "# robot.pmove_xc(np.array(act*4))\n",
    "\n",
    "# # 잡는 동작\n",
    "# act = rollout_actuation[2].tolist()\n",
    "# robot.pmove_xc(np.array(act*4))\n",
    "\n",
    "# # 절반 돌리고\n",
    "# act = rollout_actuation[3].tolist()\n",
    "# robot.pmove_xc(np.array(act*4))\n",
    "\n",
    "# # 나머지 돌리고\n",
    "# act = rollout_actuation[4].tolist()\n",
    "# robot.pmove_xc(np.array(act*4))"
   ]
  },
  {
   "cell_type": "code",
   "execution_count": 91,
   "metadata": {},
   "outputs": [],
   "source": [
    "robot.pmove_xc(np.array([1000,0,1000,0]*4))"
   ]
  },
  {
   "cell_type": "code",
   "execution_count": 87,
   "metadata": {},
   "outputs": [],
   "source": [
    "# # 잡는 동작\n",
    "# robot.pmove_xc(np.array([0,1800,200,800]*4))\n",
    "\n",
    "# # 절반 돌리고\n",
    "# robot.pmove_xc(np.array([800,800,500,1500]*4))\n",
    "\n",
    "# # 나머지 돌리고\n",
    "# robot.pmove_xc(np.array([500,800,0,1800]*4))"
   ]
  },
  {
   "cell_type": "code",
   "execution_count": 92,
   "metadata": {},
   "outputs": [],
   "source": []
  },
  {
   "cell_type": "code",
   "execution_count": 53,
   "metadata": {},
   "outputs": [],
   "source": [
    "coeff = 0.7\n",
    "rollout_actuation = np.load(\"actuations/Custom_grasp.npy\") * coeff\n",
    "\n",
    "cap_actuation = np.zeros_like(rollout_actuation)\n",
    "\n",
    "cap_actuation[:,0] = rollout_actuation[:,2]\n",
    "cap_actuation[:,1] = rollout_actuation[:,3]\n",
    "cap_actuation[:,2] = rollout_actuation[:,0]\n",
    "cap_actuation[:,3] = rollout_actuation[:,1]\n"
   ]
  },
  {
   "cell_type": "code",
   "execution_count": 57,
   "metadata": {},
   "outputs": [
    {
     "ename": "KeyboardInterrupt",
     "evalue": "",
     "output_type": "error",
     "traceback": [
      "\u001b[0;31m---------------------------------------------------------------------------\u001b[0m",
      "\u001b[0;31mKeyboardInterrupt\u001b[0m                         Traceback (most recent call last)",
      "\u001b[1;32m/home/terry-q/Rilab/sOftrobot/SORO-Dynamixel-python/4Finger.ipynb Cell 27\u001b[0m in \u001b[0;36m<cell line: 23>\u001b[0;34m()\u001b[0m\n\u001b[1;32m     <a href='vscode-notebook-cell:/home/terry-q/Rilab/sOftrobot/SORO-Dynamixel-python/4Finger.ipynb#Y122sZmlsZQ%3D%3D?line=20'>21</a>\u001b[0m \u001b[39m# 나머지 돌리고\u001b[39;00m\n\u001b[1;32m     <a href='vscode-notebook-cell:/home/terry-q/Rilab/sOftrobot/SORO-Dynamixel-python/4Finger.ipynb#Y122sZmlsZQ%3D%3D?line=21'>22</a>\u001b[0m act \u001b[39m=\u001b[39m cap_actuation[\u001b[39m4\u001b[39m]\u001b[39m.\u001b[39mtolist()\n\u001b[0;32m---> <a href='vscode-notebook-cell:/home/terry-q/Rilab/sOftrobot/SORO-Dynamixel-python/4Finger.ipynb#Y122sZmlsZQ%3D%3D?line=22'>23</a>\u001b[0m robot\u001b[39m.\u001b[39;49mpmove_xc(np\u001b[39m.\u001b[39;49marray(act\u001b[39m*\u001b[39;49m\u001b[39m4\u001b[39;49m))\n\u001b[1;32m     <a href='vscode-notebook-cell:/home/terry-q/Rilab/sOftrobot/SORO-Dynamixel-python/4Finger.ipynb#Y122sZmlsZQ%3D%3D?line=24'>25</a>\u001b[0m \u001b[39m# 들고\u001b[39;00m\n\u001b[1;32m     <a href='vscode-notebook-cell:/home/terry-q/Rilab/sOftrobot/SORO-Dynamixel-python/4Finger.ipynb#Y122sZmlsZQ%3D%3D?line=25'>26</a>\u001b[0m act \u001b[39m=\u001b[39m cap_actuation[\u001b[39m5\u001b[39m]\u001b[39m.\u001b[39mtolist()\n",
      "\u001b[1;32m/home/terry-q/Rilab/sOftrobot/SORO-Dynamixel-python/4Finger.ipynb Cell 27\u001b[0m in \u001b[0;36mFourFingers.pmove_xc\u001b[0;34m(self, pos)\u001b[0m\n\u001b[1;32m     <a href='vscode-notebook-cell:/home/terry-q/Rilab/sOftrobot/SORO-Dynamixel-python/4Finger.ipynb#Y122sZmlsZQ%3D%3D?line=51'>52</a>\u001b[0m \u001b[39mdef\u001b[39;00m \u001b[39mpmove_xc\u001b[39m(\u001b[39mself\u001b[39m,pos):\n\u001b[1;32m     <a href='vscode-notebook-cell:/home/terry-q/Rilab/sOftrobot/SORO-Dynamixel-python/4Finger.ipynb#Y122sZmlsZQ%3D%3D?line=52'>53</a>\u001b[0m     pos \u001b[39m=\u001b[39m \u001b[39mself\u001b[39m\u001b[39m.\u001b[39minitpos \u001b[39m+\u001b[39m PROPORTION_MATRIX \u001b[39m@\u001b[39m np\u001b[39m.\u001b[39marray(pos) \u001b[39m*\u001b[39m np\u001b[39m.\u001b[39marray([\u001b[39m1\u001b[39m,\u001b[39m-\u001b[39m\u001b[39m1\u001b[39m,\u001b[39m-\u001b[39m\u001b[39m1\u001b[39m,\u001b[39m1\u001b[39m]\u001b[39m*\u001b[39m\u001b[39m4\u001b[39m)\n\u001b[0;32m---> <a href='vscode-notebook-cell:/home/terry-q/Rilab/sOftrobot/SORO-Dynamixel-python/4Finger.ipynb#Y122sZmlsZQ%3D%3D?line=53'>54</a>\u001b[0m     \u001b[39mself\u001b[39;49m\u001b[39m.\u001b[39;49mxc\u001b[39m.\u001b[39;49mset_goalposcluster(pos,\u001b[39m1\u001b[39;49m)\n",
      "File \u001b[0;32m~/Rilab/sOftrobot/SORO-Dynamixel-python/model/class_xc330.py:373\u001b[0m, in \u001b[0;36mxc330.set_goalposcluster\u001b[0;34m(self, GOAL_POS, partition)\u001b[0m\n\u001b[1;32m    370\u001b[0m \u001b[39m# print(goal)\u001b[39;00m\n\u001b[1;32m    371\u001b[0m \u001b[39mself\u001b[39m\u001b[39m.\u001b[39mset_goalpos(goal)\n\u001b[0;32m--> 373\u001b[0m time\u001b[39m.\u001b[39;49msleep(\u001b[39m0.1\u001b[39;49m)\n",
      "\u001b[0;31mKeyboardInterrupt\u001b[0m: "
     ]
    }
   ],
   "source": [
    "# # robot.execute_arm(Target_down_joint)\n",
    "\n",
    "# # Ungrasp\n",
    "# act = cap_actuation[0].tolist()\n",
    "# robot.pmove_xc(np.array(act*4)/coeff)\n",
    "\n",
    "# # robot.execute_arm(Target_down2_joint)\n",
    "\n",
    "# # 접근 동작\n",
    "# act = cap_actuation[1].tolist()\n",
    "# robot.pmove_xc(np.array(act*4))\n",
    "\n",
    "# # 잡는 동작\n",
    "# act = cap_actuation[2].tolist()\n",
    "# robot.pmove_xc(np.array(act*4))\n",
    "\n",
    "# # 절반 돌리고\n",
    "# act = cap_actuation[3].tolist()\n",
    "# robot.pmove_xc(np.array(act*4))\n",
    "\n",
    "# # 나머지 돌리고\n",
    "# act = cap_actuation[4].tolist()\n",
    "# robot.pmove_xc(np.array(act*4))\n",
    "\n",
    "# # 들고\n",
    "# act = cap_actuation[5].tolist()\n",
    "# robot.pmove_xc(np.array(act*4))\n",
    "\n",
    "# # Ungrasp\n",
    "# act = cap_actuation[0].tolist()\n",
    "# robot.pmove_xc(np.array(act*4)/coeff)\n"
   ]
  },
  {
   "cell_type": "code",
   "execution_count": null,
   "metadata": {},
   "outputs": [],
   "source": []
  },
  {
   "cell_type": "code",
   "execution_count": null,
   "metadata": {},
   "outputs": [],
   "source": []
  },
  {
   "cell_type": "code",
   "execution_count": null,
   "metadata": {},
   "outputs": [],
   "source": []
  },
  {
   "cell_type": "code",
   "execution_count": 46,
   "metadata": {},
   "outputs": [],
   "source": [
    "# 놓고\n",
    "act = rollout_actuation[0].tolist()\n",
    "robot.pmove_xc(np.array(act*4)/coeff)"
   ]
  },
  {
   "cell_type": "code",
   "execution_count": 47,
   "metadata": {},
   "outputs": [],
   "source": [
    "coeff = 1.5\n",
    "rollout_actuation = np.load(\"actuations/Custom_grasp.npy\") * coeff\n",
    "\n",
    "# 놓고\n",
    "act = rollout_actuation[0].tolist()\n",
    "robot.pmove_xc(np.array(act*4)/coeff)\n",
    "\n",
    "# robot.execute_arm(Target_down_joint)\n",
    "\n",
    "# 들고\n",
    "act = rollout_actuation[4].tolist()\n",
    "robot.pmove_xc(np.array(act*4))\n",
    "\n",
    "# # 원래대로 오고\n",
    "# act = rollout_actuation[4].tolist()\n",
    "# robot.pmove_xc(np.array(act*4))\n",
    "\n",
    "# # 절반 돌리고\n",
    "# act = rollout_actuation[3].tolist()\n",
    "# robot.pmove_xc(np.array(act*4))\n",
    "\n",
    "# # 나머지 돌리고\n",
    "# act = rollout_actuation[2].tolist()\n",
    "# robot.pmove_xc(np.array(act*4))\n",
    "\n",
    "# # 들고\n",
    "# act = rollout_actuation[1].tolist()\n",
    "# robot.pmove_xc(np.array(act*4))\n",
    "\n",
    "# # 놓고\n",
    "# act = rollout_actuation[0].tolist()\n",
    "# robot.pmove_xc(np.array(act*4)/coeff)\n"
   ]
  },
  {
   "cell_type": "code",
   "execution_count": 44,
   "metadata": {},
   "outputs": [
    {
     "data": {
      "text/plain": [
       "array([[ 153, 1101, 1186,    8],\n",
       "       [   0, 1712,  445,  909],\n",
       "       [  85, 1025,  495, 1208],\n",
       "       [  45,  867,  191, 1631],\n",
       "       [1302,   63, -146, 1425],\n",
       "       [1139,  137, 1054,    0]])"
      ]
     },
     "execution_count": 44,
     "metadata": {},
     "output_type": "execute_result"
    }
   ],
   "source": [
    "rollout_actuation = np.load(\"actuations/Custom_grasp.npy\")\n",
    "rollout_actuation = np.flip(rollout_actuation,axis=0)\n",
    "rollout_actuation"
   ]
  },
  {
   "cell_type": "code",
   "execution_count": 50,
   "metadata": {},
   "outputs": [],
   "source": [
    "\n",
    "act = rollout_actuation[5].tolist()\n",
    "robot.pmove_xc(np.array(act*4))"
   ]
  },
  {
   "cell_type": "code",
   "execution_count": 19,
   "metadata": {},
   "outputs": [],
   "source": [
    "# robot.pmove_xc(np.array([0,0,0,0]*4))"
   ]
  },
  {
   "cell_type": "markdown",
   "metadata": {},
   "source": [
    "# Jar"
   ]
  },
  {
   "cell_type": "code",
   "execution_count": 94,
   "metadata": {},
   "outputs": [],
   "source": [
    "robot.pmove_xc(np.array([0,0,0,0]*4))"
   ]
  },
  {
   "cell_type": "code",
   "execution_count": 95,
   "metadata": {},
   "outputs": [],
   "source": [
    "# robot.execute_arm(Place_up_joint)\n",
    "# init_joint=[0,-DEG90,DEG90,-DEG90,-DEG90,DEG90]\n",
    "# robot.execute_arm(init_joint)"
   ]
  },
  {
   "cell_type": "code",
   "execution_count": 114,
   "metadata": {},
   "outputs": [
    {
     "data": {
      "text/plain": [
       "[[1366, 164, 1264, 0],\n",
       " [2083, 100, -233, 2280],\n",
       " [72, 1387, 305, 2609],\n",
       " [136, 1640, 792, 1932],\n",
       " [0, 2739, 712, 1454],\n",
       " [244, 1761, 1897, 12]]"
      ]
     },
     "execution_count": 114,
     "metadata": {},
     "output_type": "execute_result"
    }
   ],
   "source": [
    "Custom_grasp = np.load(\"actuations/Custom_grasp.npy\")\n",
    "Custom_grasp[0] = Custom_grasp[0]* 1.2\n",
    "Custom_grasp[1:] = Custom_grasp[1:]* 1.6\n",
    "\n",
    "\n",
    "Custom_grasp = Custom_grasp.tolist()\n",
    "Custom_grasp"
   ]
  },
  {
   "cell_type": "code",
   "execution_count": 115,
   "metadata": {},
   "outputs": [],
   "source": [
    "robot.pmove_xc(np.tile(Custom_grasp[0],4))"
   ]
  },
  {
   "cell_type": "code",
   "execution_count": 113,
   "metadata": {},
   "outputs": [],
   "source": [
    "for actuation in Custom_grasp:\n",
    "    time.sleep(1)\n",
    "    robot.pmove_xc(np.array(np.tile(actuation,4)))\n",
    "\n",
    "for actuation in Custom_grasp:\n",
    "    time.sleep(1)\n",
    "    if actuation == Custom_grasp[-1]: break\n",
    "    robot.pmove_xc(np.array(np.tile(actuation,4)))\n",
    "    "
   ]
  },
  {
   "cell_type": "code",
   "execution_count": 63,
   "metadata": {},
   "outputs": [
    {
     "data": {
      "text/plain": [
       "True"
      ]
     },
     "execution_count": 63,
     "metadata": {},
     "output_type": "execute_result"
    }
   ],
   "source": [
    "actuation == Custom_grasp[-1]"
   ]
  },
  {
   "cell_type": "code",
   "execution_count": 48,
   "metadata": {},
   "outputs": [],
   "source": [
    "init_joint=[0,-DEG90,DEG90,-DEG90,-DEG90,DEG90]\n",
    "Target_up_joint = np.array([-51.04,-79.42,73.24,-83.68,-89.61,81.53])/90*DEG90\n",
    "Target_down_joint = np.array([-50.75,-75,100.9,-115.94,-89.4,82.05])/90*DEG90\n",
    "Place_up_joint = np.array([-38.01,-54.74,37.94,-73.06,-89.60,94.45])/90*DEG90\n",
    "Place_down_joint = np.array([-38.07,-49.32,77.91,-118.45,-89.65,94.72])/90*DEG90\n",
    "\n",
    "assert (Target_up_joint * np.array([-1,-1,1,-1,-1,1])>0).all()\n",
    "assert (Target_down_joint * np.array([-1,-1,1,-1,-1,1])>0).all()\n",
    "assert (Place_up_joint * np.array([-1,-1,1,-1,-1,1])>0).all()\n",
    "assert (Place_down_joint * np.array([-1,-1,1,-1,-1,1])>0).all()\n",
    "\n",
    "\n",
    "# robot.execute_arm(init_joint)\n",
    "\n",
    "# robot.execute_arm(Target_up_joint)\n",
    "\n",
    "robot.pmove_xc(np.array([1000,0,1000,0]*4))\n",
    "\n",
    "# robot.execute_arm(Target_down_joint)\n",
    "\n",
    "# 접근 동작\n",
    "robot.pmove_xc(np.array([2000,0,0,2000]*4))\n",
    "\n",
    "# 잡는 동작\n",
    "robot.pmove_xc(np.array([200,1200,0,2000]*4))\n",
    "\n",
    "# 절반 돌리고\n",
    "robot.pmove_xc(np.array([200,1200,500,500]*4))\n",
    "\n",
    "# 나머지 돌리고\n",
    "robot.pmove_xc(np.array([200,2200,500,1000]*4))\n",
    "\n",
    "# 들고\n",
    "robot.pmove_xc(np.array([0,2000,3000,1000]*4))\n",
    "\n",
    "# UnGrasp\n",
    "robot.pmove_xc(np.array([1000,0,1000,0]*4))\n",
    "\n",
    "# 접근 동작\n",
    "robot.pmove_xc(np.array([2000,0,0,2000]*4))\n",
    "\n",
    "# # 잡는 동작\n",
    "robot.pmove_xc(np.array([200,1200,0,2000]*4))\n",
    "\n",
    "# 절반 돌리고\n",
    "robot.pmove_xc(np.array([200,1200,500,500]*4))\n",
    "\n",
    "# 나머지 돌리고\n",
    "robot.pmove_xc(np.array([200,2200,500,1000]*4))\n",
    "\n",
    "# robot.execute_arm(Target_up_joint)\n",
    "# robot.execute_arm(Place_up_joint)\n",
    "# robot.execute_arm(Place_down_joint)\n",
    "\n",
    "robot.pmove_xc(np.array([1000,0,1000,0]*4))\n",
    "# robot.execute_arm(Place_up_joint)\n",
    "# robot.execute_arm(init_joint)"
   ]
  },
  {
   "cell_type": "markdown",
   "metadata": {},
   "source": [
    "# Tumbler"
   ]
  },
  {
   "cell_type": "code",
   "execution_count": 43,
   "metadata": {},
   "outputs": [],
   "source": [
    "robot.pmove_xc(np.array([0,0,0,0]*4))"
   ]
  },
  {
   "cell_type": "code",
   "execution_count": 44,
   "metadata": {},
   "outputs": [],
   "source": [
    "# robot.execute_arm(Place_up_joint)\n",
    "# init_joint=[0,-DEG90,DEG90,-DEG90,-DEG90,DEG90]\n",
    "# robot.execute_arm(init_joint)"
   ]
  },
  {
   "cell_type": "code",
   "execution_count": 45,
   "metadata": {},
   "outputs": [
    {
     "name": "stdout",
     "output_type": "stream",
     "text": [
      "Waiting for server...\n",
      "Connected to server\n",
      "Finish plan\n",
      "Waiting for server...\n",
      "Connected to server\n",
      "Finish plan\n",
      "Waiting for server...\n",
      "Connected to server\n",
      "Finish plan\n",
      "Waiting for server...\n",
      "Connected to server\n",
      "Finish plan\n",
      "Waiting for server...\n",
      "Connected to server\n",
      "Finish plan\n",
      "Waiting for server...\n",
      "Connected to server\n",
      "Finish plan\n",
      "Waiting for server...\n",
      "Connected to server\n",
      "Finish plan\n",
      "Waiting for server...\n",
      "Connected to server\n",
      "Finish plan\n"
     ]
    }
   ],
   "source": [
    "init_joint=[0,-DEG90,DEG90,-DEG90,-DEG90,DEG90]\n",
    "Target_up_joint = np.array([-34.38,-90.85,93.59,-92.60,-89.61,98.27])/90*DEG90\n",
    "Target_down_joint = np.array([-34.42,-87.67,107.73,-109.93,-89.65,98.36])/90*DEG90\n",
    "Place_up_joint = np.array([-25.41,-66.39,63.93,-87.40,-89.59,107.17])/90*DEG90\n",
    "Place_down_joint = np.array([-25.45,-56.45,89.79,-123.20,-89.68,107.37])/90*DEG90\n",
    "\n",
    "assert (Target_up_joint * np.array([-1,-1,1,-1,-1,1])>0).all()\n",
    "assert (Target_down_joint * np.array([-1,-1,1,-1,-1,1])>0).all()\n",
    "assert (Place_up_joint * np.array([-1,-1,1,-1,-1,1])>0).all()\n",
    "assert (Place_down_joint * np.array([-1,-1,1,-1,-1,1])>0).all()\n",
    "\n",
    "\n",
    "robot.execute_arm(init_joint)\n",
    "\n",
    "robot.execute_arm(Target_up_joint)\n",
    "\n",
    "robot.pmove_xc(np.array([1000,0,1000,0]*4))\n",
    "\n",
    "robot.execute_arm(Target_down_joint)\n",
    "\n",
    "# 접근 동작\n",
    "robot.pmove_xc(np.array([2000,0,0,2000]*4))\n",
    "\n",
    "# 잡는 동작\n",
    "robot.pmove_xc(np.array([200,1200,0,2000]*4))\n",
    "\n",
    "# 절반 돌리고\n",
    "robot.pmove_xc(np.array([200,1200,500,500]*4))\n",
    "\n",
    "# 나머지 돌리고\n",
    "robot.pmove_xc(np.array([200,2200,500,1000]*4))\n",
    "\n",
    "# 들고\n",
    "robot.pmove_xc(np.array([0,2000,3000,1000]*4))\n",
    "\n",
    "# UnGrasp\n",
    "robot.pmove_xc(np.array([1000,0,1000,0]*4))\n",
    "\n",
    "# 접근 동작\n",
    "robot.pmove_xc(np.array([2000,0,0,2000]*4))\n",
    "\n",
    "# # 잡는 동작\n",
    "robot.pmove_xc(np.array([200,1200,0,2000]*4))\n",
    "\n",
    "# 절반 돌리고\n",
    "robot.pmove_xc(np.array([200,1200,500,500]*4))\n",
    "\n",
    "# 나머지 돌리고\n",
    "robot.pmove_xc(np.array([200,2200,500,1000]*4))\n",
    "\n",
    "robot.execute_arm(Target_up_joint)\n",
    "robot.execute_arm(Place_up_joint)\n",
    "robot.execute_arm(Place_down_joint)\n",
    "\n",
    "robot.pmove_xc(np.array([1000,0,1000,0]*4))\n",
    "robot.execute_arm(Place_up_joint)\n",
    "robot.execute_arm(init_joint)\n"
   ]
  },
  {
   "cell_type": "markdown",
   "metadata": {},
   "source": [
    "# Tumbler2"
   ]
  },
  {
   "cell_type": "code",
   "execution_count": 46,
   "metadata": {},
   "outputs": [],
   "source": [
    "robot.pmove_xc(np.array([0,0,0,0]*4))"
   ]
  },
  {
   "cell_type": "code",
   "execution_count": 47,
   "metadata": {},
   "outputs": [
    {
     "name": "stdout",
     "output_type": "stream",
     "text": [
      "Waiting for server...\n",
      "Connected to server\n",
      "Finish plan\n",
      "Waiting for server...\n",
      "Connected to server\n",
      "Finish plan\n",
      "Waiting for server...\n",
      "Connected to server\n",
      "Finish plan\n",
      "Waiting for server...\n",
      "Connected to server\n",
      "Finish plan\n",
      "Waiting for server...\n",
      "Connected to server\n",
      "Finish plan\n",
      "Waiting for server...\n",
      "Connected to server\n",
      "Finish plan\n",
      "Waiting for server...\n",
      "Connected to server\n",
      "Finish plan\n",
      "Waiting for server...\n",
      "Connected to server\n",
      "Finish plan\n"
     ]
    }
   ],
   "source": [
    "init_joint=[0,-DEG90,DEG90,-DEG90,-DEG90,DEG90]\n",
    "Target_up_joint = np.array([-11.76,-94.52,93.83,-89.17,-89.60,120.91])/90*DEG90\n",
    "Target_down_joint = np.array([-11.76,-91.46,111.03,-109.48,-89.64,121.01])/90*DEG90\n",
    "Place_up_joint = np.array([-8.21,-66.55,61.03,-84.34,-89.52,124.35])/90*DEG90\n",
    "Place_down_joint = np.array([-8.26,-57.02,90.09,-122.93,-89.67,124.56])/90*DEG90\n",
    "\n",
    "assert (Target_up_joint * np.array([-1,-1,1,-1,-1,1])>0).all()\n",
    "assert (Target_down_joint * np.array([-1,-1,1,-1,-1,1])>0).all()\n",
    "assert (Place_up_joint * np.array([-1,-1,1,-1,-1,1])>0).all()\n",
    "assert (Place_down_joint * np.array([-1,-1,1,-1,-1,1])>0).all()\n",
    "\n",
    "\n",
    "robot.execute_arm(init_joint)\n",
    "\n",
    "robot.execute_arm(Target_up_joint)\n",
    "\n",
    "robot.pmove_xc(np.array([1000,0,1000,0]*4))\n",
    "\n",
    "robot.execute_arm(Target_down_joint)\n",
    "\n",
    "# 접근 동작\n",
    "robot.pmove_xc(np.array([2000,0,0,2000]*4))\n",
    "\n",
    "# 잡는 동작\n",
    "robot.pmove_xc(np.array([200,1200,0,2000]*4))\n",
    "\n",
    "# 절반 돌리고\n",
    "robot.pmove_xc(np.array([200,1200,500,500]*4))\n",
    "\n",
    "# 나머지 돌리고\n",
    "robot.pmove_xc(np.array([200,2200,500,1000]*4))\n",
    "\n",
    "# 들고\n",
    "robot.pmove_xc(np.array([0,2000,3000,1000]*4))\n",
    "\n",
    "# UnGrasp\n",
    "robot.pmove_xc(np.array([1000,0,1000,0]*4))\n",
    "\n",
    "# 접근 동작\n",
    "robot.pmove_xc(np.array([2000,0,0,2000]*4))\n",
    "\n",
    "# 잡는 동작\n",
    "robot.pmove_xc(np.array([200,1200,0,2000]*4))\n",
    "\n",
    "# 절반 돌리고\n",
    "robot.pmove_xc(np.array([200,1200,500,500]*4))\n",
    "\n",
    "# 나머지 돌리고\n",
    "robot.pmove_xc(np.array([200,2200,500,1000]*4))\n",
    "\n",
    "# 들고\n",
    "robot.pmove_xc(np.array([0,2000,3000,1000]*4))\n",
    "\n",
    "# UnGrasp\n",
    "robot.pmove_xc(np.array([1000,0,1000,0]*4))\n",
    "\n",
    "# 접근 동작\n",
    "robot.pmove_xc(np.array([2000,0,0,2000]*4))\n",
    "\n",
    "# 잡는 동작\n",
    "robot.pmove_xc(np.array([200,1200,0,2000]*4))\n",
    "\n",
    "# 절반 돌리고\n",
    "robot.pmove_xc(np.array([200,1200,500,500]*4))\n",
    "\n",
    "# 나머지 돌리고\n",
    "robot.pmove_xc(np.array([200,2200,500,1000]*4))\n",
    "\n",
    "\n",
    "robot.execute_arm(Target_up_joint)\n",
    "robot.execute_arm(Place_up_joint)\n",
    "robot.execute_arm(Place_down_joint)\n",
    "\n",
    "robot.pmove_xc(np.array([1000,0,1000,0]*4))\n",
    "robot.execute_arm(Place_up_joint)\n",
    "robot.execute_arm(init_joint)\n"
   ]
  },
  {
   "cell_type": "markdown",
   "metadata": {},
   "source": [
    "## Gat"
   ]
  },
  {
   "cell_type": "code",
   "execution_count": 48,
   "metadata": {},
   "outputs": [],
   "source": [
    "robot.pmove_xc(np.array([0,0,0,0]*4))\n"
   ]
  },
  {
   "cell_type": "code",
   "execution_count": 49,
   "metadata": {},
   "outputs": [
    {
     "name": "stdout",
     "output_type": "stream",
     "text": [
      "Waiting for server...\n",
      "Connected to server\n",
      "Finish plan\n",
      "Waiting for server...\n",
      "Connected to server\n",
      "Finish plan\n",
      "Waiting for server...\n",
      "Connected to server\n",
      "Finish plan\n",
      "Waiting for server...\n",
      "Connected to server\n",
      "Finish plan\n",
      "Waiting for server...\n",
      "Connected to server\n",
      "Finish plan\n",
      "Waiting for server...\n",
      "Connected to server\n",
      "Finish plan\n",
      "Waiting for server...\n",
      "Connected to server\n",
      "Finish plan\n",
      "Waiting for server...\n",
      "Connected to server\n",
      "Finish plan\n"
     ]
    }
   ],
   "source": [
    "init_joint=[0,-DEG90,DEG90,-DEG90,-DEG90,DEG90]\n",
    "Target_up_joint   = np.array([16.84,-83.79,82.93,-89.01,-89.59,149.49])/90*DEG90\n",
    "Target_down_joint = np.array([16.81,-82.13,96.38,-104.12,-89.61,149.57])/90*DEG90\n",
    "Place_up_joint    = np.array([12.25,-55.41,42.79,-77.25,-89.58,144.78])/90*DEG90\n",
    "Place_down_joint  = np.array([12.20,-48.98,77.21,-118.10,-89.63,145.01])/90*DEG90\n",
    "\n",
    "assert (Target_up_joint * np.array([1,-1,1,-1,-1,1])>0).all()\n",
    "assert (Target_down_joint * np.array([1,-1,1,-1,-1,1])>0).all()\n",
    "assert (Place_up_joint * np.array([1,-1,1,-1,-1,1])>0).all()\n",
    "assert (Place_down_joint * np.array([1,-1,1,-1,-1,1])>0).all()\n",
    "\n",
    "\n",
    "robot.execute_arm(init_joint)\n",
    "\n",
    "robot.execute_arm(Target_up_joint)\n",
    "\n",
    "robot.pmove_xc(np.array([1000,0,1000,0]*4))\n",
    "\n",
    "robot.execute_arm(Target_down_joint)\n",
    "\n",
    "\n",
    "# 접근 동작\n",
    "robot.pmove_xc(np.array([2000,0,0,2000]*4))\n",
    "\n",
    "# 잡는 동작\n",
    "robot.pmove_xc(np.array([200,1500,0,2000]*4))\n",
    "\n",
    "# 절반 돌리고\n",
    "robot.pmove_xc(np.array([200,1200,1200,1600]*4))\n",
    "\n",
    "# 나머지 돌리고\n",
    "robot.pmove_xc(np.array([200,2200,500,1000]*4))\n",
    "\n",
    "\n",
    "robot.execute_arm(Target_up_joint)\n",
    "robot.execute_arm(Place_up_joint)\n",
    "robot.execute_arm(Place_down_joint)\n",
    "\n",
    "robot.pmove_xc(np.array([1000,0,1000,0]*4))\n",
    "robot.execute_arm(Place_up_joint)\n",
    "robot.execute_arm(init_joint)\n"
   ]
  },
  {
   "cell_type": "code",
   "execution_count": 50,
   "metadata": {},
   "outputs": [],
   "source": [
    "robot.pmove_xc(np.array([0,0,0,0]*4))"
   ]
  },
  {
   "cell_type": "markdown",
   "metadata": {},
   "source": [
    "# MAYO"
   ]
  },
  {
   "cell_type": "code",
   "execution_count": 17,
   "metadata": {},
   "outputs": [],
   "source": [
    "pos = initpos+ PROPORTION_MATRIX @ np.array([1,0,1,0, 0,0,0,0, 0,0,0,0, 1,0,1,0]) * 4000 * np.array([1,-1,-1,1]*4)\n",
    "pos = pos    + PROPORTION_MATRIX @ np.array([0,0,0,0, 0.3,0,1,0, 1,0,0,0.3, 0,0,0,0]) * 4000 * np.array([1,-1,-1,1]*4)\n",
    "\n",
    "# pos = pos + np.array([0,0,0,0, 0,0,0,0, 0,0,0,400, 0,0,0,0]) * np.array([1,-1,-1,1]*4)\n",
    "snapbot.set_goalposcluster(pos,1)"
   ]
  },
  {
   "cell_type": "code",
   "execution_count": 18,
   "metadata": {},
   "outputs": [],
   "source": [
    "pos = initpos+ PROPORTION_MATRIX @ np.array([1,0,1,0, 0,0,0,0, 0,0,0,0, 1,0,1,0]) * 4000 * np.array([1,-1,-1,1]*4)\n",
    "pos = pos    + PROPORTION_MATRIX @ np.array([0,0,0,0, 0.3,0,1,0, 1,0,0,0.3, 0,0,0,0]) * 4000 * np.array([1,-1,-1,1]*4)\n",
    "pos = pos    + PROPORTION_MATRIX @ np.array([0,0,0,0, 0,0,1,0, 1,0,0,0, 0,0,0,0]) * 1000 * np.array([1,-1,-1,1]*4)\n",
    "\n",
    "# pos = pos + np.array([0,0,0,0, 0,0,0,0, 0,0,0,400, 0,0,0,0]) * np.array([1,-1,-1,1]*4)\n",
    "snapbot.set_goalposcluster(pos,1)"
   ]
  },
  {
   "cell_type": "code",
   "execution_count": null,
   "metadata": {},
   "outputs": [],
   "source": []
  },
  {
   "cell_type": "code",
   "execution_count": 83,
   "metadata": {},
   "outputs": [],
   "source": []
  }
 ],
 "metadata": {
  "kernelspec": {
   "display_name": "Python 3.8.10 64-bit",
   "language": "python",
   "name": "python3"
  },
  "language_info": {
   "codemirror_mode": {
    "name": "ipython",
    "version": 3
   },
   "file_extension": ".py",
   "mimetype": "text/x-python",
   "name": "python",
   "nbconvert_exporter": "python",
   "pygments_lexer": "ipython3",
   "version": "3.8.10 (default, Nov 14 2022, 12:59:47) \n[GCC 9.4.0]"
  },
  "varInspector": {
   "cols": {
    "lenName": 16,
    "lenType": 16,
    "lenVar": 40
   },
   "kernels_config": {
    "python": {
     "delete_cmd_postfix": "",
     "delete_cmd_prefix": "del ",
     "library": "var_list.py",
     "varRefreshCmd": "print(var_dic_list())"
    },
    "r": {
     "delete_cmd_postfix": ") ",
     "delete_cmd_prefix": "rm(",
     "library": "var_list.r",
     "varRefreshCmd": "cat(var_dic_list()) "
    }
   },
   "types_to_exclude": [
    "module",
    "function",
    "builtin_function_or_method",
    "instance",
    "_Feature"
   ],
   "window_display": false
  },
  "vscode": {
   "interpreter": {
    "hash": "916dbcbb3f70747c44a77c7bcd40155683ae19c65e1c03b4aa3499c5328201f1"
   }
  }
 },
 "nbformat": 4,
 "nbformat_minor": 2
}
