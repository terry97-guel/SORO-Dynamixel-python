{
 "cells": [
  {
   "cell_type": "code",
   "execution_count": 1,
   "metadata": {},
   "outputs": [],
   "source": [
    "minmaxInterval = 7000"
   ]
  },
  {
   "cell_type": "markdown",
   "metadata": {},
   "source": [
    "## open port"
   ]
  },
  {
   "cell_type": "code",
   "execution_count": 2,
   "metadata": {},
   "outputs": [
    {
     "name": "stdout",
     "output_type": "stream",
     "text": [
      "[sudo] password for terry-q: "
     ]
    }
   ],
   "source": [
    "!echo 'qwer1234'| sudo -S chmod a+rw /dev/ttyUSB0"
   ]
  },
  {
   "cell_type": "markdown",
   "metadata": {},
   "source": [
    "## BASIC USAGE OF XL320 CLASS"
   ]
  },
  {
   "cell_type": "code",
   "execution_count": 3,
   "metadata": {},
   "outputs": [],
   "source": [
    "import os, time\n",
    "import numpy as np\n",
    "import matplotlib.pyplot as plt\n",
    "from datetime import datetime\n",
    "from math import pi as PI\n",
    "DEG90 = PI/2\n",
    "PROPORTION_MATRIX = np.array(\n",
    "    [\n",
    "        [1,0.1,0.4,0.4, 0,0,0,0, 0,0,0,0, 0,0,0,0],\n",
    "        [0.1,1,0.4,0.4, 0,0,0,0, 0,0,0,0, 0,0,0,0],\n",
    "        [0.4,0.4,1,0.1, 0,0,0,0, 0,0,0,0, 0,0,0,0],\n",
    "        [0.4,0.4,0.1,1, 0,0,0,0, 0,0,0,0, 0,0,0,0],\n",
    "        \n",
    "        [0,0,0,0,  1,0.1,0.4,0.4, 0,0,0,0, 0,0,0,0],\n",
    "        [0,0,0,0,  0.1,1,0.4,0.4,  0,0,0,0, 0,0,0,0],\n",
    "        [0,0,0,0,  0.4,0.4,1,0.1, 0,0,0,0, 0,0,0,0],\n",
    "        [0,0,0,0,  0.4,0.4,0.1,1, 0,0,0,0, 0,0,0,0],\n",
    "        \n",
    "        [0,0,0,0, 0,0,0,0, 1,0.1,0.4,0.4, 0,0,0,0],\n",
    "        [0,0,0,0, 0,0,0,0, 0.1,1,0.4,0.4, 0,0,0,0],\n",
    "        [0,0,0,0, 0,0,0,0, 0.4,0.4,1,0.1, 0,0,0,0],\n",
    "        [0,0,0,0, 0,0,0,0, 0.4,0.4,0.1,1, 0,0,0,0],\n",
    "        \n",
    "        [0,0,0,0, 0,0,0,0, 0,0,0,0, 1,0.1,0.4,0.4],\n",
    "        [0,0,0,0, 0,0,0,0, 0,0,0,0, 0.1,1,0.4,0.4],\n",
    "        [0,0,0,0, 0,0,0,0, 0,0,0,0, 0.4,0.4,1,0.1],\n",
    "        [0,0,0,0, 0,0,0,0, 0,0,0,0, 0.4,0.4,0.1,1],\n",
    "        ])\n"
   ]
  },
  {
   "cell_type": "code",
   "execution_count": 4,
   "metadata": {
    "ExecuteTime": {
     "end_time": "2017-10-27T16:24:29.711191Z",
     "start_time": "2017-10-27T16:24:29.478864Z"
    }
   },
   "outputs": [
    {
     "name": "stdout",
     "output_type": "stream",
     "text": [
      "['/home/terry-q/Rilab/sOftrobot/SORO-Dynamixel-python', '', '/home/terry-q/catkin_ws/devel/lib/python3/dist-packages', '/opt/ros/noetic/lib/python3/dist-packages', '/usr/lib/python38.zip', '/usr/lib/python3.8', '/usr/lib/python3.8/lib-dynload', '/home/terry-q/.local/lib/python3.8/site-packages', '/usr/local/lib/python3.8/dist-packages', '/usr/lib/python3/dist-packages', '.']\n"
     ]
    }
   ],
   "source": [
    "import sys\n",
    "sys.path.append(\".\")\n",
    "\"\"\" FOR DYNAMIXEL \"\"\"\n",
    "from model.class_xc330 import xc330\n",
    "\"\"\" FOR MODERN DRIVER \"\"\"\n",
    "import roslib; roslib.load_manifest('ur_driver')\n",
    "import rospy\n",
    "import actionlib\n",
    "from control_msgs.msg import *\n",
    "from trajectory_msgs.msg import *\n",
    "from sensor_msgs.msg import JointState\n",
    "\n",
    "\n",
    "class FourFingers(object):\n",
    "    def __init__(self,):\n",
    "        rospy.init_node(\"DEMO\")\n",
    "        self.JOINT_NAMES = ['shoulder_pan_joint', 'shoulder_lift_joint', 'elbow_joint',\n",
    "                            'wrist_1_joint', 'wrist_2_joint', 'wrist_3_joint']\n",
    "        self.client      = None\n",
    "        \n",
    "        self.xc          = xc330('SOFTROBOT', _USB_NUM=0)\n",
    "        \n",
    "    def init_xc(self,initpos):\n",
    "        self.xc.connect()\n",
    "        self.xc.set_operatingmode([4])\n",
    "\n",
    "        self.xc.set_torque([0])\n",
    "        time.sleep(2)\n",
    "        self.xc.set_torque([1])\n",
    "        print (\"TORQUE ON\")\n",
    "\n",
    "        currpos = self.xc.get_currpos()\n",
    "        minmaxInterval = 5000\n",
    "        self.xc.set_minmaxpos(currpos-np.ones_like(currpos)*minmaxInterval,currpos+np.ones_like(currpos)*minmaxInterval)\n",
    "\n",
    "        if (initpos==None).any(): initpos = currpos; print(\"No initpos Found\")\n",
    "        self.initpos = initpos\n",
    "        self.xc.set_goalposcluster(initpos,1)\n",
    "\n",
    "        print (\"INITIALIZE POSITION\")\n",
    "        currpos = self.xc.get_currpos()\n",
    "        print (currpos)\n",
    "\n",
    "        minmaxInterval = minmaxInterval\n",
    "        self.xc.set_minmaxpos(currpos-np.ones_like(currpos)*minmaxInterval,currpos+np.ones_like(currpos)*minmaxInterval)\n",
    "    \n",
    "    def move_xc(self,pos):\n",
    "        self.xc.set_goalposcluster(pos,1)\n",
    "        \n",
    "    def pmove_xc(self,pos):\n",
    "        pos = self.initpos + PROPORTION_MATRIX @ np.array(pos) * np.array([1,-1,-1,1]*4)\n",
    "        self.xc.set_goalposcluster(pos,1)\n",
    "        \n",
    "    def move_arm(self, joints):\n",
    "        try: \n",
    "            q = joints\n",
    "            g = FollowJointTrajectoryGoal()\n",
    "            g.trajectory = JointTrajectory()\n",
    "            g.trajectory.joint_names = self.JOINT_NAMES\n",
    "            joint_states = rospy.wait_for_message(\"joint_states\", JointState)\n",
    "            joints_pos   = joint_states.position\n",
    "            g.trajectory.points = [\n",
    "                JointTrajectoryPoint(positions=joints_pos, velocities=[0]*6, time_from_start=rospy.Duration(0.0)),\n",
    "                JointTrajectoryPoint(positions=q, velocities=[0]*6, time_from_start=rospy.Duration(3))]  \n",
    "            self.client.send_goal(g)\n",
    "            self.client.wait_for_result()\n",
    "        except KeyboardInterrupt:\n",
    "            self.client.cancel_goal()\n",
    "            raise\n",
    "        except:\n",
    "            raise  \n",
    "         \n",
    "    def execute_arm(self, joints):\n",
    "        try:\n",
    "            self.client = actionlib.SimpleActionClient('follow_joint_trajectory', FollowJointTrajectoryAction)\n",
    "            print(\"Waiting for server...\")\n",
    "            self.client.wait_for_server()\n",
    "            print(\"Connected to server\")\n",
    "            \"\"\" Initialize \"\"\"\n",
    "            self.move_arm(joints)\n",
    "            print(\"Finish plan\")\n",
    "\n",
    "        except KeyboardInterrupt:\n",
    "            rospy.signal_shutdown(\"KeyboardInterrupt\")\n",
    "            raise      \n"
   ]
  },
  {
   "cell_type": "markdown",
   "metadata": {},
   "source": [
    "## INSTANTIATE Robot "
   ]
  },
  {
   "cell_type": "code",
   "execution_count": 5,
   "metadata": {
    "ExecuteTime": {
     "end_time": "2017-10-27T16:24:31.277571Z",
     "start_time": "2017-10-27T16:24:31.275156Z"
    }
   },
   "outputs": [
    {
     "name": "stdout",
     "output_type": "stream",
     "text": [
      "[SOFTROBOT] INSTANTIATED AT [b'/dev/ttyUSB0']\n"
     ]
    }
   ],
   "source": [
    "robot = FourFingers()"
   ]
  },
  {
   "cell_type": "code",
   "execution_count": 6,
   "metadata": {},
   "outputs": [
    {
     "name": "stdout",
     "output_type": "stream",
     "text": [
      "Waiting for server...\n",
      "Connected to server\n",
      "Finish plan\n"
     ]
    }
   ],
   "source": [
    "init_joint=[0,-DEG90,DEG90,-DEG90,-DEG90,DEG90]\n",
    "robot.execute_arm(init_joint)"
   ]
  },
  {
   "cell_type": "markdown",
   "metadata": {},
   "source": [
    "# Calibrate initpos\n",
    "반드시 Cap을 벗기고 진행할것"
   ]
  },
  {
   "cell_type": "code",
   "execution_count": null,
   "metadata": {},
   "outputs": [],
   "source": [
    "# Upright_joint = np.array([0, -90+45, 90-45, -90, 90, 90])/90*DEG90\n",
    "# robot.execute_arm(Upright_joint)"
   ]
  },
  {
   "cell_type": "code",
   "execution_count": null,
   "metadata": {},
   "outputs": [],
   "source": [
    "# robot.init_xc(initpos=np.array([None]))\n",
    "# initpos = robot.xc.get_currpos()"
   ]
  },
  {
   "cell_type": "code",
   "execution_count": null,
   "metadata": {},
   "outputs": [],
   "source": [
    "# relaxed_pos = initpos"
   ]
  },
  {
   "cell_type": "code",
   "execution_count": null,
   "metadata": {},
   "outputs": [],
   "source": [
    "# initpos = np.array([2247, -546,  344, 2629, 1000, 2833, 1801, 4351, 4761, 2223, 1299,\n",
    "#        1990,  2605, -703, 2454, 1732])\n",
    "# # initpos[-4:] = relaxed_pos[-4:]\n",
    "# robot.init_xc(initpos=initpos)"
   ]
  },
  {
   "cell_type": "code",
   "execution_count": null,
   "metadata": {},
   "outputs": [],
   "source": [
    "# relaxed_pos"
   ]
  },
  {
   "cell_type": "code",
   "execution_count": null,
   "metadata": {},
   "outputs": [],
   "source": [
    "# # 1번은 플러스, 2번 마이너스, 3번 마이너스, 4번 플러스\n",
    "# pos = initpos + np.array([0,0,0,0, 0,0,0,0, 0,0,0,0, 100,200,200,200]) * np.array([1,-1,-1,1]*4)\n",
    "# # robot.move_xc(pos)\n",
    "\n",
    "# pos = pos + PROPORTION_MATRIX @ np.array([0,0,0,0, 0,0,0,0, 0,0,0,0, 600,600,600,600]) * np.array([1,-1,-1,1]*4)\n",
    "\n",
    "# robot.move_xc(pos)\n",
    "\n",
    "# robot.xc.get_currpos()"
   ]
  },
  {
   "cell_type": "code",
   "execution_count": null,
   "metadata": {},
   "outputs": [],
   "source": [
    "# initpos = np.array([2247, -546,  344, 2629, 1000, 2833, 1801, 4351, 4761, 2223, 1299,\n",
    "#        1990, 4110,  970, 3106, 3197])\n",
    "# robot.init_xc(initpos)\n",
    "# robot.xc.get_currpos()\n",
    "\n",
    "# pos = initpos + np.array([300]*16) * np.array([1,-1,-1,1]*4)\n",
    "# robot.move_xc(pos)\n",
    "# time.sleep(2)\n",
    "\n",
    "# pos = initpos + PROPORTION_MATRIX @ np.array([1000,0,0,0, 0,0,1000,0, 0,1000,0,0, 0,0,0,1000]) * np.array([1,-1,-1,1]*4)\n",
    "# robot.move_xc(pos)\n",
    "# time.sleep(2)\n",
    "\n",
    "\n",
    "# pos = initpos + PROPORTION_MATRIX @ np.array([0,1000,0,0, 0,0,0,1000, 1000,0,0,0, 0,0,1000,0]) * np.array([1,-1,-1,1]*4)\n",
    "# robot.move_xc(pos)\n",
    "# time.sleep(2)\n",
    "\n",
    "# robot.move_xc(initpos)"
   ]
  },
  {
   "cell_type": "markdown",
   "metadata": {},
   "source": [
    "# Twist Open"
   ]
  },
  {
   "cell_type": "code",
   "execution_count": 7,
   "metadata": {},
   "outputs": [
    {
     "name": "stdout",
     "output_type": "stream",
     "text": [
      "[SOFTROBOT] CONNECT\n",
      " SUCCEEDED TO OPEN THE PORT!\n",
      " SUCCEEDED TO CHANGE THE BAUDRATE!\n",
      "COMMUNICATION SUCCESS\n",
      "[SOFTROBOT] DETECT ID\n",
      "[SOFTROBOT] [16]MOTORS DETECTED \n",
      "[SOFTROBOT] ID_LIST:[[1, 2, 3, 4, 5, 6, 7, 8, 9, 10, 11, 12, 13, 14, 15, 16]]\n",
      "TORQUE ON\n",
      "No initpos Found\n",
      "INITIALIZE POSITION\n",
      "[1872  150  818 2040  574 3438 2144 3701 4350 3154 2029 1159 1867   54\n",
      " 2864  908]\n",
      "[SOFTROBOT] CONNECT\n",
      "[PortHandler setup] The port number 0 has same device name... reinitialize port number 0!!\n",
      " SUCCEEDED TO OPEN THE PORT!\n",
      " SUCCEEDED TO CHANGE THE BAUDRATE!\n",
      "COMMUNICATION SUCCESS\n",
      "[SOFTROBOT] DETECT ID\n",
      "[SOFTROBOT] [16]MOTORS DETECTED \n",
      "[SOFTROBOT] ID_LIST:[[1, 2, 3, 4, 5, 6, 7, 8, 9, 10, 11, 12, 13, 14, 15, 16]]\n",
      "TORQUE ON\n",
      "INITIALIZE POSITION\n",
      "[2229 -515  367 2596  982 2861 1820 4319 4740 2264 1334 1954 2667 -762\n",
      " 2390 1784]\n"
     ]
    },
    {
     "data": {
      "text/plain": [
       "array([2239, -532,  357, 2612,  991, 2848, 1812, 4332, 4750, 2242, 1316,\n",
       "       1973, 2687, -784, 2374, 1808])"
      ]
     },
     "execution_count": 7,
     "metadata": {},
     "output_type": "execute_result"
    }
   ],
   "source": [
    "robot.init_xc(np.array([None]))\n",
    "initpos = robot.xc.get_currpos()\n",
    "pos = initpos + np.array([1,1,1,1, 1,1,1,1, 1,1,1,1, 1,1,1,1])*1000 * np.array([1,-1,-1,1]*4)\n",
    "robot.move_xc(pos)\n",
    "\n",
    "initpos = np.array([2247, -546,  344, 2629, 1000, 2833, 1801, 4351, 4761, 2223, 1299,\n",
    "       1990,  2705, -803, 2354, 1832])\n",
    "robot.init_xc(initpos)\n",
    "\n",
    "robot.xc.get_currpos()"
   ]
  },
  {
   "cell_type": "markdown",
   "metadata": {},
   "source": [
    "# Close Up"
   ]
  },
  {
   "cell_type": "code",
   "execution_count": 15,
   "metadata": {},
   "outputs": [
    {
     "name": "stdout",
     "output_type": "stream",
     "text": [
      "Waiting for server...\n",
      "Connected to server\n",
      "Finish plan\n"
     ]
    }
   ],
   "source": [
    "Target_up_joint = [0.001,-DEG90,DEG90,-DEG90,-DEG90,DEG90]\n",
    "\n",
    "Target_down_joint = np.array([0.02,-86.79,106.58,-109.79, -90.04, 90.11])/90*DEG90\n",
    "\n",
    "Target_down_joint2 = np.array([0.02,-87.48,104.85,-107.46, -90.03, 90.09])/90*DEG90\n",
    "Target_down_joint = (Target_down_joint2+Target_down_joint)/2\n",
    "assert (Target_up_joint * np.array([1,-1,1,-1,-1,1])>0).all()\n",
    "assert (Target_down_joint * np.array([1,-1,1,-1,-1,1])>0).all()\n",
    "assert (Target_down_joint2 * np.array([1,-1,1,-1,-1,1])>0).all()\n",
    "\n",
    "robot.execute_arm(Target_up_joint)\n",
    "robot.pmove_xc(np.array([0,0,0,0]*4))\n",
    "\n"
   ]
  },
  {
   "cell_type": "code",
   "execution_count": 16,
   "metadata": {},
   "outputs": [],
   "source": [
    "coeff = 1.4\n",
    "rollout_actuation = np.load(\"actuations/Custom_grasp.npy\") * coeff\n",
    "\n",
    "# Ungrasp\n",
    "act = rollout_actuation[0].tolist()\n",
    "robot.pmove_xc(np.array(act*4)/coeff)"
   ]
  },
  {
   "cell_type": "code",
   "execution_count": 17,
   "metadata": {},
   "outputs": [
    {
     "name": "stdout",
     "output_type": "stream",
     "text": [
      "Waiting for server...\n",
      "Connected to server\n",
      "Finish plan\n"
     ]
    }
   ],
   "source": [
    "# Ungrasp\n",
    "act = rollout_actuation[0].tolist()\n",
    "robot.pmove_xc(np.array(act*4)/coeff)\n",
    "\n",
    "robot.execute_arm(Target_down_joint)\n",
    "\n",
    "# 접근 동작\n",
    "act = rollout_actuation[1].tolist()\n",
    "robot.pmove_xc(np.array(act*4))\n",
    "\n",
    "# 잡는 동작\n",
    "act = rollout_actuation[2].tolist()\n",
    "robot.pmove_xc(np.array(act*4))\n",
    "\n",
    "# 절반 돌리고\n",
    "act = rollout_actuation[3].tolist()\n",
    "robot.pmove_xc(np.array(act*4))\n",
    "\n",
    "# 나머지 돌리고\n",
    "act = rollout_actuation[4].tolist()\n",
    "robot.pmove_xc(np.array(act*4))\n",
    "\n",
    "# 들고\n",
    "act = rollout_actuation[5].tolist()\n",
    "robot.pmove_xc(np.array(act*4))\n",
    "\n",
    "# Ungrasp\n",
    "act = rollout_actuation[0].tolist()\n",
    "robot.pmove_xc(np.array(act*4)/coeff)\n",
    "\n",
    "# 접근 동작\n",
    "act = rollout_actuation[1].tolist()\n",
    "robot.pmove_xc(np.array(act*4))\n",
    "\n",
    "# 잡는 동작\n",
    "act = rollout_actuation[2].tolist()\n",
    "robot.pmove_xc(np.array(act*4))\n",
    "\n",
    "# 절반 돌리고\n",
    "act = rollout_actuation[3].tolist()\n",
    "robot.pmove_xc(np.array(act*4))\n",
    "\n",
    "# 나머지 돌리고\n",
    "act = rollout_actuation[4].tolist()\n",
    "robot.pmove_xc(np.array(act*4))\n",
    "\n",
    "# 들고\n",
    "act = rollout_actuation[5].tolist()\n",
    "robot.pmove_xc(np.array(act*4))\n",
    "\n",
    "# Ungrasp\n",
    "act = rollout_actuation[0].tolist()\n",
    "robot.pmove_xc(np.array(act*4)/coeff)\n",
    "\n",
    "# 접근 동작\n",
    "act = rollout_actuation[1].tolist()\n",
    "robot.pmove_xc(np.array(act*4))\n",
    "\n",
    "# 잡는 동작\n",
    "act = rollout_actuation[2].tolist()\n",
    "robot.pmove_xc(np.array(act*4))\n",
    "\n",
    "# 절반 돌리고\n",
    "act = rollout_actuation[3].tolist()\n",
    "robot.pmove_xc(np.array(act*4))\n",
    "\n",
    "# 나머지 돌리고\n",
    "act = rollout_actuation[4].tolist()\n",
    "robot.pmove_xc(np.array(act*4))\n",
    "\n"
   ]
  },
  {
   "cell_type": "code",
   "execution_count": 18,
   "metadata": {},
   "outputs": [
    {
     "name": "stdout",
     "output_type": "stream",
     "text": [
      "Waiting for server...\n",
      "Connected to server\n",
      "Finish plan\n",
      "Waiting for server...\n",
      "Connected to server\n",
      "Finish plan\n"
     ]
    }
   ],
   "source": [
    "robot.execute_arm(Target_up_joint)\n",
    "time.sleep(4)\n",
    "robot.execute_arm(Target_down_joint2)\n"
   ]
  },
  {
   "cell_type": "code",
   "execution_count": 19,
   "metadata": {},
   "outputs": [],
   "source": [
    "### Capping ###\n",
    "\n",
    "# 놓고\n",
    "act = rollout_actuation[3].tolist()\n",
    "robot.pmove_xc(np.array(act*4))\n",
    "robot.pmove_xc(np.array([1000,0,1000,0]*4))\n",
    "\n",
    "# 접근 동작\n",
    "robot.pmove_xc(np.array([0,2000,2000,0]*4))\n",
    "\n",
    "# 잡는 동작\n",
    "robot.pmove_xc(np.array([0,1800,200,800]*4))\n",
    "\n",
    "# 절반 돌리고\n",
    "robot.pmove_xc(np.array([500,500,200,1200]*4))\n",
    "\n",
    "# 나머지 돌리고\n",
    "robot.pmove_xc(np.array([700,1000,200,2000]*4))\n",
    "\n",
    "# 들고\n",
    "robot.pmove_xc(np.array([3000,1000,0,2000]*4))\n",
    "\n",
    "# UnGrasp\n",
    "robot.pmove_xc(np.array([1000,0,1000,0]*4))\n",
    "\n",
    "\n",
    "# 접근 동작\n",
    "robot.pmove_xc(np.array([0,2000,2000,0]*4))\n",
    "\n",
    "# 잡는 동작\n",
    "robot.pmove_xc(np.array([0,1800,200,800]*4))\n",
    "\n",
    "# 절반 돌리고\n",
    "robot.pmove_xc(np.array([500,500,200,1200]*4))\n",
    "\n",
    "# 나머지 돌리고\n",
    "robot.pmove_xc(np.array([700,1000,200,2000]*4))\n",
    "\n",
    "# 들고\n",
    "robot.pmove_xc(np.array([3000,1000,0,2000]*4))\n",
    "\n",
    "# UnGrasp\n",
    "robot.pmove_xc(np.array([1000,0,1000,0]*4))\n",
    "\n",
    "\n",
    "# 접근 동작\n",
    "robot.pmove_xc(np.array([0,2000,2000,0]*4))\n",
    "\n",
    "# 잡는 동작\n",
    "robot.pmove_xc(np.array([0,1800,200,800]*4))\n",
    "\n",
    "# 절반 돌리고\n",
    "robot.pmove_xc(np.array([500,500,200,1200]*4))\n",
    "\n",
    "# 나머지 돌리고\n",
    "robot.pmove_xc(np.array([700,1000,200,2000]*4))\n",
    "\n",
    "# 들고\n",
    "robot.pmove_xc(np.array([3000,1000,0,2000]*4))\n",
    "\n",
    "# UnGrasp\n",
    "robot.pmove_xc(np.array([1000,0,1000,0]*4))\n",
    "\n",
    "# 접근 동작\n",
    "robot.pmove_xc(np.array([0,2000,2000,0]*4))\n",
    "\n",
    "# 잡는 동작\n",
    "robot.pmove_xc(np.array([0,1800,200,800]*4))\n",
    "\n",
    "# 절반 돌리고\n",
    "robot.pmove_xc(np.array([500,500,200,1200]*4))\n",
    "\n",
    "# 나머지 돌리고\n",
    "robot.pmove_xc(np.array([700,1000,200,2000]*4))\n",
    "\n",
    "# 들고\n",
    "robot.pmove_xc(np.array([3000,1000,0,2000]*4))\n",
    "\n",
    "# UnGrasp\n",
    "robot.pmove_xc(np.array([1000,0,1000,0]*4))\n"
   ]
  },
  {
   "cell_type": "code",
   "execution_count": 20,
   "metadata": {},
   "outputs": [
    {
     "name": "stdout",
     "output_type": "stream",
     "text": [
      "Waiting for server...\n",
      "Connected to server\n",
      "Finish plan\n"
     ]
    }
   ],
   "source": [
    "robot.execute_arm(Target_up_joint)"
   ]
  },
  {
   "cell_type": "code",
   "execution_count": 114,
   "metadata": {},
   "outputs": [],
   "source": [
    "# # Ungrasp\n",
    "# act = rollout_actuation[0].tolist()\n",
    "# robot.pmove_xc(np.array(act*4)/coeff)\n",
    "\n",
    "# # 접근 동작\n",
    "# act = rollout_actuation[1].tolist()\n",
    "# robot.pmove_xc(np.array(act*4))\n",
    "\n",
    "# # 잡는 동작\n",
    "# act = rollout_actuation[2].tolist()\n",
    "# robot.pmove_xc(np.array(act*4))\n",
    "\n",
    "# # 절반 돌리고\n",
    "# act = rollout_actuation[3].tolist()\n",
    "# robot.pmove_xc(np.array(act*4))\n",
    "\n",
    "# # 나머지 돌리고\n",
    "# act = rollout_actuation[4].tolist()\n",
    "# robot.pmove_xc(np.array(act*4))"
   ]
  },
  {
   "cell_type": "code",
   "execution_count": 91,
   "metadata": {},
   "outputs": [],
   "source": [
    "robot.pmove_xc(np.array([1000,0,1000,0]*4))"
   ]
  },
  {
   "cell_type": "code",
   "execution_count": 87,
   "metadata": {},
   "outputs": [],
   "source": [
    "# # 잡는 동작\n",
    "# robot.pmove_xc(np.array([0,1800,200,800]*4))\n",
    "\n",
    "# # 절반 돌리고\n",
    "# robot.pmove_xc(np.array([800,800,500,1500]*4))\n",
    "\n",
    "# # 나머지 돌리고\n",
    "# robot.pmove_xc(np.array([500,800,0,1800]*4))"
   ]
  },
  {
   "cell_type": "code",
   "execution_count": 92,
   "metadata": {},
   "outputs": [],
   "source": []
  },
  {
   "cell_type": "code",
   "execution_count": 53,
   "metadata": {},
   "outputs": [],
   "source": [
    "coeff = 0.7\n",
    "rollout_actuation = np.load(\"actuations/Custom_grasp.npy\") * coeff\n",
    "\n",
    "cap_actuation = np.zeros_like(rollout_actuation)\n",
    "\n",
    "cap_actuation[:,0] = rollout_actuation[:,2]\n",
    "cap_actuation[:,1] = rollout_actuation[:,3]\n",
    "cap_actuation[:,2] = rollout_actuation[:,0]\n",
    "cap_actuation[:,3] = rollout_actuation[:,1]\n"
   ]
  },
  {
   "cell_type": "code",
   "execution_count": 57,
   "metadata": {},
   "outputs": [
    {
     "ename": "KeyboardInterrupt",
     "evalue": "",
     "output_type": "error",
     "traceback": [
      "\u001b[0;31m---------------------------------------------------------------------------\u001b[0m",
      "\u001b[0;31mKeyboardInterrupt\u001b[0m                         Traceback (most recent call last)",
      "\u001b[1;32m/home/terry-q/Rilab/sOftrobot/SORO-Dynamixel-python/4Finger.ipynb Cell 27\u001b[0m in \u001b[0;36m<cell line: 23>\u001b[0;34m()\u001b[0m\n\u001b[1;32m     <a href='vscode-notebook-cell:/home/terry-q/Rilab/sOftrobot/SORO-Dynamixel-python/4Finger.ipynb#Y122sZmlsZQ%3D%3D?line=20'>21</a>\u001b[0m \u001b[39m# 나머지 돌리고\u001b[39;00m\n\u001b[1;32m     <a href='vscode-notebook-cell:/home/terry-q/Rilab/sOftrobot/SORO-Dynamixel-python/4Finger.ipynb#Y122sZmlsZQ%3D%3D?line=21'>22</a>\u001b[0m act \u001b[39m=\u001b[39m cap_actuation[\u001b[39m4\u001b[39m]\u001b[39m.\u001b[39mtolist()\n\u001b[0;32m---> <a href='vscode-notebook-cell:/home/terry-q/Rilab/sOftrobot/SORO-Dynamixel-python/4Finger.ipynb#Y122sZmlsZQ%3D%3D?line=22'>23</a>\u001b[0m robot\u001b[39m.\u001b[39;49mpmove_xc(np\u001b[39m.\u001b[39;49marray(act\u001b[39m*\u001b[39;49m\u001b[39m4\u001b[39;49m))\n\u001b[1;32m     <a href='vscode-notebook-cell:/home/terry-q/Rilab/sOftrobot/SORO-Dynamixel-python/4Finger.ipynb#Y122sZmlsZQ%3D%3D?line=24'>25</a>\u001b[0m \u001b[39m# 들고\u001b[39;00m\n\u001b[1;32m     <a href='vscode-notebook-cell:/home/terry-q/Rilab/sOftrobot/SORO-Dynamixel-python/4Finger.ipynb#Y122sZmlsZQ%3D%3D?line=25'>26</a>\u001b[0m act \u001b[39m=\u001b[39m cap_actuation[\u001b[39m5\u001b[39m]\u001b[39m.\u001b[39mtolist()\n",
      "\u001b[1;32m/home/terry-q/Rilab/sOftrobot/SORO-Dynamixel-python/4Finger.ipynb Cell 27\u001b[0m in \u001b[0;36mFourFingers.pmove_xc\u001b[0;34m(self, pos)\u001b[0m\n\u001b[1;32m     <a href='vscode-notebook-cell:/home/terry-q/Rilab/sOftrobot/SORO-Dynamixel-python/4Finger.ipynb#Y122sZmlsZQ%3D%3D?line=51'>52</a>\u001b[0m \u001b[39mdef\u001b[39;00m \u001b[39mpmove_xc\u001b[39m(\u001b[39mself\u001b[39m,pos):\n\u001b[1;32m     <a href='vscode-notebook-cell:/home/terry-q/Rilab/sOftrobot/SORO-Dynamixel-python/4Finger.ipynb#Y122sZmlsZQ%3D%3D?line=52'>53</a>\u001b[0m     pos \u001b[39m=\u001b[39m \u001b[39mself\u001b[39m\u001b[39m.\u001b[39minitpos \u001b[39m+\u001b[39m PROPORTION_MATRIX \u001b[39m@\u001b[39m np\u001b[39m.\u001b[39marray(pos) \u001b[39m*\u001b[39m np\u001b[39m.\u001b[39marray([\u001b[39m1\u001b[39m,\u001b[39m-\u001b[39m\u001b[39m1\u001b[39m,\u001b[39m-\u001b[39m\u001b[39m1\u001b[39m,\u001b[39m1\u001b[39m]\u001b[39m*\u001b[39m\u001b[39m4\u001b[39m)\n\u001b[0;32m---> <a href='vscode-notebook-cell:/home/terry-q/Rilab/sOftrobot/SORO-Dynamixel-python/4Finger.ipynb#Y122sZmlsZQ%3D%3D?line=53'>54</a>\u001b[0m     \u001b[39mself\u001b[39;49m\u001b[39m.\u001b[39;49mxc\u001b[39m.\u001b[39;49mset_goalposcluster(pos,\u001b[39m1\u001b[39;49m)\n",
      "File \u001b[0;32m~/Rilab/sOftrobot/SORO-Dynamixel-python/model/class_xc330.py:373\u001b[0m, in \u001b[0;36mxc330.set_goalposcluster\u001b[0;34m(self, GOAL_POS, partition)\u001b[0m\n\u001b[1;32m    370\u001b[0m \u001b[39m# print(goal)\u001b[39;00m\n\u001b[1;32m    371\u001b[0m \u001b[39mself\u001b[39m\u001b[39m.\u001b[39mset_goalpos(goal)\n\u001b[0;32m--> 373\u001b[0m time\u001b[39m.\u001b[39;49msleep(\u001b[39m0.1\u001b[39;49m)\n",
      "\u001b[0;31mKeyboardInterrupt\u001b[0m: "
     ]
    }
   ],
   "source": [
    "# # robot.execute_arm(Target_down_joint)\n",
    "\n",
    "# # Ungrasp\n",
    "# act = cap_actuation[0].tolist()\n",
    "# robot.pmove_xc(np.array(act*4)/coeff)\n",
    "\n",
    "# # robot.execute_arm(Target_down2_joint)\n",
    "\n",
    "# # 접근 동작\n",
    "# act = cap_actuation[1].tolist()\n",
    "# robot.pmove_xc(np.array(act*4))\n",
    "\n",
    "# # 잡는 동작\n",
    "# act = cap_actuation[2].tolist()\n",
    "# robot.pmove_xc(np.array(act*4))\n",
    "\n",
    "# # 절반 돌리고\n",
    "# act = cap_actuation[3].tolist()\n",
    "# robot.pmove_xc(np.array(act*4))\n",
    "\n",
    "# # 나머지 돌리고\n",
    "# act = cap_actuation[4].tolist()\n",
    "# robot.pmove_xc(np.array(act*4))\n",
    "\n",
    "# # 들고\n",
    "# act = cap_actuation[5].tolist()\n",
    "# robot.pmove_xc(np.array(act*4))\n",
    "\n",
    "# # Ungrasp\n",
    "# act = cap_actuation[0].tolist()\n",
    "# robot.pmove_xc(np.array(act*4)/coeff)\n"
   ]
  },
  {
   "cell_type": "code",
   "execution_count": null,
   "metadata": {},
   "outputs": [],
   "source": []
  },
  {
   "cell_type": "code",
   "execution_count": null,
   "metadata": {},
   "outputs": [],
   "source": []
  },
  {
   "cell_type": "code",
   "execution_count": null,
   "metadata": {},
   "outputs": [],
   "source": []
  },
  {
   "cell_type": "code",
   "execution_count": 46,
   "metadata": {},
   "outputs": [],
   "source": [
    "# 놓고\n",
    "act = rollout_actuation[0].tolist()\n",
    "robot.pmove_xc(np.array(act*4)/coeff)"
   ]
  },
  {
   "cell_type": "code",
   "execution_count": 47,
   "metadata": {},
   "outputs": [],
   "source": [
    "coeff = 1.5\n",
    "rollout_actuation = np.load(\"actuations/Custom_grasp.npy\") * coeff\n",
    "\n",
    "# 놓고\n",
    "act = rollout_actuation[0].tolist()\n",
    "robot.pmove_xc(np.array(act*4)/coeff)\n",
    "\n",
    "# robot.execute_arm(Target_down_joint)\n",
    "\n",
    "# 들고\n",
    "act = rollout_actuation[4].tolist()\n",
    "robot.pmove_xc(np.array(act*4))\n",
    "\n",
    "# # 원래대로 오고\n",
    "# act = rollout_actuation[4].tolist()\n",
    "# robot.pmove_xc(np.array(act*4))\n",
    "\n",
    "# # 절반 돌리고\n",
    "# act = rollout_actuation[3].tolist()\n",
    "# robot.pmove_xc(np.array(act*4))\n",
    "\n",
    "# # 나머지 돌리고\n",
    "# act = rollout_actuation[2].tolist()\n",
    "# robot.pmove_xc(np.array(act*4))\n",
    "\n",
    "# # 들고\n",
    "# act = rollout_actuation[1].tolist()\n",
    "# robot.pmove_xc(np.array(act*4))\n",
    "\n",
    "# # 놓고\n",
    "# act = rollout_actuation[0].tolist()\n",
    "# robot.pmove_xc(np.array(act*4)/coeff)\n"
   ]
  },
  {
   "cell_type": "code",
   "execution_count": 44,
   "metadata": {},
   "outputs": [
    {
     "data": {
      "text/plain": [
       "array([[ 153, 1101, 1186,    8],\n",
       "       [   0, 1712,  445,  909],\n",
       "       [  85, 1025,  495, 1208],\n",
       "       [  45,  867,  191, 1631],\n",
       "       [1302,   63, -146, 1425],\n",
       "       [1139,  137, 1054,    0]])"
      ]
     },
     "execution_count": 44,
     "metadata": {},
     "output_type": "execute_result"
    }
   ],
   "source": [
    "rollout_actuation = np.load(\"actuations/Custom_grasp.npy\")\n",
    "rollout_actuation = np.flip(rollout_actuation,axis=0)\n",
    "rollout_actuation"
   ]
  },
  {
   "cell_type": "code",
   "execution_count": 50,
   "metadata": {},
   "outputs": [],
   "source": [
    "\n",
    "act = rollout_actuation[5].tolist()\n",
    "robot.pmove_xc(np.array(act*4))"
   ]
  },
  {
   "cell_type": "code",
   "execution_count": 19,
   "metadata": {},
   "outputs": [],
   "source": [
    "# robot.pmove_xc(np.array([0,0,0,0]*4))"
   ]
  },
  {
   "cell_type": "markdown",
   "metadata": {},
   "source": [
    "# Jar"
   ]
  },
  {
   "cell_type": "code",
   "execution_count": 94,
   "metadata": {},
   "outputs": [],
   "source": [
    "robot.pmove_xc(np.array([0,0,0,0]*4))"
   ]
  },
  {
   "cell_type": "code",
   "execution_count": 95,
   "metadata": {},
   "outputs": [],
   "source": [
    "# robot.execute_arm(Place_up_joint)\n",
    "# init_joint=[0,-DEG90,DEG90,-DEG90,-DEG90,DEG90]\n",
    "# robot.execute_arm(init_joint)"
   ]
  },
  {
   "cell_type": "code",
   "execution_count": 114,
   "metadata": {},
   "outputs": [
    {
     "data": {
      "text/plain": [
       "[[1366, 164, 1264, 0],\n",
       " [2083, 100, -233, 2280],\n",
       " [72, 1387, 305, 2609],\n",
       " [136, 1640, 792, 1932],\n",
       " [0, 2739, 712, 1454],\n",
       " [244, 1761, 1897, 12]]"
      ]
     },
     "execution_count": 114,
     "metadata": {},
     "output_type": "execute_result"
    }
   ],
   "source": [
    "Custom_grasp = np.load(\"actuations/Custom_grasp.npy\")\n",
    "Custom_grasp[0] = Custom_grasp[0]* 1.2\n",
    "Custom_grasp[1:] = Custom_grasp[1:]* 1.6\n",
    "\n",
    "\n",
    "Custom_grasp = Custom_grasp.tolist()\n",
    "Custom_grasp"
   ]
  },
  {
   "cell_type": "code",
   "execution_count": 115,
   "metadata": {},
   "outputs": [],
   "source": [
    "robot.pmove_xc(np.tile(Custom_grasp[0],4))"
   ]
  },
  {
   "cell_type": "code",
   "execution_count": 113,
   "metadata": {},
   "outputs": [],
   "source": [
    "for actuation in Custom_grasp:\n",
    "    time.sleep(1)\n",
    "    robot.pmove_xc(np.array(np.tile(actuation,4)))\n",
    "\n",
    "for actuation in Custom_grasp:\n",
    "    time.sleep(1)\n",
    "    if actuation == Custom_grasp[-1]: break\n",
    "    robot.pmove_xc(np.array(np.tile(actuation,4)))\n",
    "    "
   ]
  },
  {
   "cell_type": "code",
   "execution_count": 63,
   "metadata": {},
   "outputs": [
    {
     "data": {
      "text/plain": [
       "True"
      ]
     },
     "execution_count": 63,
     "metadata": {},
     "output_type": "execute_result"
    }
   ],
   "source": [
    "actuation == Custom_grasp[-1]"
   ]
  },
  {
   "cell_type": "code",
   "execution_count": 48,
   "metadata": {},
   "outputs": [],
   "source": [
    "init_joint=[0,-DEG90,DEG90,-DEG90,-DEG90,DEG90]\n",
    "Target_up_joint = np.array([-51.04,-79.42,73.24,-83.68,-89.61,81.53])/90*DEG90\n",
    "Target_down_joint = np.array([-50.75,-75,100.9,-115.94,-89.4,82.05])/90*DEG90\n",
    "Place_up_joint = np.array([-38.01,-54.74,37.94,-73.06,-89.60,94.45])/90*DEG90\n",
    "Place_down_joint = np.array([-38.07,-49.32,77.91,-118.45,-89.65,94.72])/90*DEG90\n",
    "\n",
    "assert (Target_up_joint * np.array([-1,-1,1,-1,-1,1])>0).all()\n",
    "assert (Target_down_joint * np.array([-1,-1,1,-1,-1,1])>0).all()\n",
    "assert (Place_up_joint * np.array([-1,-1,1,-1,-1,1])>0).all()\n",
    "assert (Place_down_joint * np.array([-1,-1,1,-1,-1,1])>0).all()\n",
    "\n",
    "\n",
    "# robot.execute_arm(init_joint)\n",
    "\n",
    "# robot.execute_arm(Target_up_joint)\n",
    "\n",
    "robot.pmove_xc(np.array([1000,0,1000,0]*4))\n",
    "\n",
    "# robot.execute_arm(Target_down_joint)\n",
    "\n",
    "# 접근 동작\n",
    "robot.pmove_xc(np.array([2000,0,0,2000]*4))\n",
    "\n",
    "# 잡는 동작\n",
    "robot.pmove_xc(np.array([200,1200,0,2000]*4))\n",
    "\n",
    "# 절반 돌리고\n",
    "robot.pmove_xc(np.array([200,1200,500,500]*4))\n",
    "\n",
    "# 나머지 돌리고\n",
    "robot.pmove_xc(np.array([200,2200,500,1000]*4))\n",
    "\n",
    "# 들고\n",
    "robot.pmove_xc(np.array([0,2000,3000,1000]*4))\n",
    "\n",
    "# UnGrasp\n",
    "robot.pmove_xc(np.array([1000,0,1000,0]*4))\n",
    "\n",
    "# 접근 동작\n",
    "robot.pmove_xc(np.array([2000,0,0,2000]*4))\n",
    "\n",
    "# # 잡는 동작\n",
    "robot.pmove_xc(np.array([200,1200,0,2000]*4))\n",
    "\n",
    "# 절반 돌리고\n",
    "robot.pmove_xc(np.array([200,1200,500,500]*4))\n",
    "\n",
    "# 나머지 돌리고\n",
    "robot.pmove_xc(np.array([200,2200,500,1000]*4))\n",
    "\n",
    "# robot.execute_arm(Target_up_joint)\n",
    "# robot.execute_arm(Place_up_joint)\n",
    "# robot.execute_arm(Place_down_joint)\n",
    "\n",
    "robot.pmove_xc(np.array([1000,0,1000,0]*4))\n",
    "# robot.execute_arm(Place_up_joint)\n",
    "# robot.execute_arm(init_joint)"
   ]
  },
  {
   "cell_type": "markdown",
   "metadata": {},
   "source": [
    "# Tumbler"
   ]
  },
  {
   "cell_type": "code",
   "execution_count": 43,
   "metadata": {},
   "outputs": [],
   "source": [
    "robot.pmove_xc(np.array([0,0,0,0]*4))"
   ]
  },
  {
   "cell_type": "code",
   "execution_count": 44,
   "metadata": {},
   "outputs": [],
   "source": [
    "# robot.execute_arm(Place_up_joint)\n",
    "# init_joint=[0,-DEG90,DEG90,-DEG90,-DEG90,DEG90]\n",
    "# robot.execute_arm(init_joint)"
   ]
  },
  {
   "cell_type": "code",
   "execution_count": 45,
   "metadata": {},
   "outputs": [
    {
     "name": "stdout",
     "output_type": "stream",
     "text": [
      "Waiting for server...\n",
      "Connected to server\n",
      "Finish plan\n",
      "Waiting for server...\n",
      "Connected to server\n",
      "Finish plan\n",
      "Waiting for server...\n",
      "Connected to server\n",
      "Finish plan\n",
      "Waiting for server...\n",
      "Connected to server\n",
      "Finish plan\n",
      "Waiting for server...\n",
      "Connected to server\n",
      "Finish plan\n",
      "Waiting for server...\n",
      "Connected to server\n",
      "Finish plan\n",
      "Waiting for server...\n",
      "Connected to server\n",
      "Finish plan\n",
      "Waiting for server...\n",
      "Connected to server\n",
      "Finish plan\n"
     ]
    }
   ],
   "source": [
    "init_joint=[0,-DEG90,DEG90,-DEG90,-DEG90,DEG90]\n",
    "Target_up_joint = np.array([-34.38,-90.85,93.59,-92.60,-89.61,98.27])/90*DEG90\n",
    "Target_down_joint = np.array([-34.42,-87.67,107.73,-109.93,-89.65,98.36])/90*DEG90\n",
    "Place_up_joint = np.array([-25.41,-66.39,63.93,-87.40,-89.59,107.17])/90*DEG90\n",
    "Place_down_joint = np.array([-25.45,-56.45,89.79,-123.20,-89.68,107.37])/90*DEG90\n",
    "\n",
    "assert (Target_up_joint * np.array([-1,-1,1,-1,-1,1])>0).all()\n",
    "assert (Target_down_joint * np.array([-1,-1,1,-1,-1,1])>0).all()\n",
    "assert (Place_up_joint * np.array([-1,-1,1,-1,-1,1])>0).all()\n",
    "assert (Place_down_joint * np.array([-1,-1,1,-1,-1,1])>0).all()\n",
    "\n",
    "\n",
    "robot.execute_arm(init_joint)\n",
    "\n",
    "robot.execute_arm(Target_up_joint)\n",
    "\n",
    "robot.pmove_xc(np.array([1000,0,1000,0]*4))\n",
    "\n",
    "robot.execute_arm(Target_down_joint)\n",
    "\n",
    "# 접근 동작\n",
    "robot.pmove_xc(np.array([2000,0,0,2000]*4))\n",
    "\n",
    "# 잡는 동작\n",
    "robot.pmove_xc(np.array([200,1200,0,2000]*4))\n",
    "\n",
    "# 절반 돌리고\n",
    "robot.pmove_xc(np.array([200,1200,500,500]*4))\n",
    "\n",
    "# 나머지 돌리고\n",
    "robot.pmove_xc(np.array([200,2200,500,1000]*4))\n",
    "\n",
    "# 들고\n",
    "robot.pmove_xc(np.array([0,2000,3000,1000]*4))\n",
    "\n",
    "# UnGrasp\n",
    "robot.pmove_xc(np.array([1000,0,1000,0]*4))\n",
    "\n",
    "# 접근 동작\n",
    "robot.pmove_xc(np.array([2000,0,0,2000]*4))\n",
    "\n",
    "# # 잡는 동작\n",
    "robot.pmove_xc(np.array([200,1200,0,2000]*4))\n",
    "\n",
    "# 절반 돌리고\n",
    "robot.pmove_xc(np.array([200,1200,500,500]*4))\n",
    "\n",
    "# 나머지 돌리고\n",
    "robot.pmove_xc(np.array([200,2200,500,1000]*4))\n",
    "\n",
    "robot.execute_arm(Target_up_joint)\n",
    "robot.execute_arm(Place_up_joint)\n",
    "robot.execute_arm(Place_down_joint)\n",
    "\n",
    "robot.pmove_xc(np.array([1000,0,1000,0]*4))\n",
    "robot.execute_arm(Place_up_joint)\n",
    "robot.execute_arm(init_joint)\n"
   ]
  },
  {
   "cell_type": "markdown",
   "metadata": {},
   "source": [
    "# Tumbler2"
   ]
  },
  {
   "cell_type": "code",
   "execution_count": 46,
   "metadata": {},
   "outputs": [],
   "source": [
    "robot.pmove_xc(np.array([0,0,0,0]*4))"
   ]
  },
  {
   "cell_type": "code",
   "execution_count": 47,
   "metadata": {},
   "outputs": [
    {
     "name": "stdout",
     "output_type": "stream",
     "text": [
      "Waiting for server...\n",
      "Connected to server\n",
      "Finish plan\n",
      "Waiting for server...\n",
      "Connected to server\n",
      "Finish plan\n",
      "Waiting for server...\n",
      "Connected to server\n",
      "Finish plan\n",
      "Waiting for server...\n",
      "Connected to server\n",
      "Finish plan\n",
      "Waiting for server...\n",
      "Connected to server\n",
      "Finish plan\n",
      "Waiting for server...\n",
      "Connected to server\n",
      "Finish plan\n",
      "Waiting for server...\n",
      "Connected to server\n",
      "Finish plan\n",
      "Waiting for server...\n",
      "Connected to server\n",
      "Finish plan\n"
     ]
    }
   ],
   "source": [
    "init_joint=[0,-DEG90,DEG90,-DEG90,-DEG90,DEG90]\n",
    "Target_up_joint = np.array([-11.76,-94.52,93.83,-89.17,-89.60,120.91])/90*DEG90\n",
    "Target_down_joint = np.array([-11.76,-91.46,111.03,-109.48,-89.64,121.01])/90*DEG90\n",
    "Place_up_joint = np.array([-8.21,-66.55,61.03,-84.34,-89.52,124.35])/90*DEG90\n",
    "Place_down_joint = np.array([-8.26,-57.02,90.09,-122.93,-89.67,124.56])/90*DEG90\n",
    "\n",
    "assert (Target_up_joint * np.array([-1,-1,1,-1,-1,1])>0).all()\n",
    "assert (Target_down_joint * np.array([-1,-1,1,-1,-1,1])>0).all()\n",
    "assert (Place_up_joint * np.array([-1,-1,1,-1,-1,1])>0).all()\n",
    "assert (Place_down_joint * np.array([-1,-1,1,-1,-1,1])>0).all()\n",
    "\n",
    "\n",
    "robot.execute_arm(init_joint)\n",
    "\n",
    "robot.execute_arm(Target_up_joint)\n",
    "\n",
    "robot.pmove_xc(np.array([1000,0,1000,0]*4))\n",
    "\n",
    "robot.execute_arm(Target_down_joint)\n",
    "\n",
    "# 접근 동작\n",
    "robot.pmove_xc(np.array([2000,0,0,2000]*4))\n",
    "\n",
    "# 잡는 동작\n",
    "robot.pmove_xc(np.array([200,1200,0,2000]*4))\n",
    "\n",
    "# 절반 돌리고\n",
    "robot.pmove_xc(np.array([200,1200,500,500]*4))\n",
    "\n",
    "# 나머지 돌리고\n",
    "robot.pmove_xc(np.array([200,2200,500,1000]*4))\n",
    "\n",
    "# 들고\n",
    "robot.pmove_xc(np.array([0,2000,3000,1000]*4))\n",
    "\n",
    "# UnGrasp\n",
    "robot.pmove_xc(np.array([1000,0,1000,0]*4))\n",
    "\n",
    "# 접근 동작\n",
    "robot.pmove_xc(np.array([2000,0,0,2000]*4))\n",
    "\n",
    "# 잡는 동작\n",
    "robot.pmove_xc(np.array([200,1200,0,2000]*4))\n",
    "\n",
    "# 절반 돌리고\n",
    "robot.pmove_xc(np.array([200,1200,500,500]*4))\n",
    "\n",
    "# 나머지 돌리고\n",
    "robot.pmove_xc(np.array([200,2200,500,1000]*4))\n",
    "\n",
    "# 들고\n",
    "robot.pmove_xc(np.array([0,2000,3000,1000]*4))\n",
    "\n",
    "# UnGrasp\n",
    "robot.pmove_xc(np.array([1000,0,1000,0]*4))\n",
    "\n",
    "# 접근 동작\n",
    "robot.pmove_xc(np.array([2000,0,0,2000]*4))\n",
    "\n",
    "# 잡는 동작\n",
    "robot.pmove_xc(np.array([200,1200,0,2000]*4))\n",
    "\n",
    "# 절반 돌리고\n",
    "robot.pmove_xc(np.array([200,1200,500,500]*4))\n",
    "\n",
    "# 나머지 돌리고\n",
    "robot.pmove_xc(np.array([200,2200,500,1000]*4))\n",
    "\n",
    "\n",
    "robot.execute_arm(Target_up_joint)\n",
    "robot.execute_arm(Place_up_joint)\n",
    "robot.execute_arm(Place_down_joint)\n",
    "\n",
    "robot.pmove_xc(np.array([1000,0,1000,0]*4))\n",
    "robot.execute_arm(Place_up_joint)\n",
    "robot.execute_arm(init_joint)\n"
   ]
  },
  {
   "cell_type": "markdown",
   "metadata": {},
   "source": [
    "## Gat"
   ]
  },
  {
   "cell_type": "code",
   "execution_count": 48,
   "metadata": {},
   "outputs": [],
   "source": [
    "robot.pmove_xc(np.array([0,0,0,0]*4))\n"
   ]
  },
  {
   "cell_type": "code",
   "execution_count": 49,
   "metadata": {},
   "outputs": [
    {
     "name": "stdout",
     "output_type": "stream",
     "text": [
      "Waiting for server...\n",
      "Connected to server\n",
      "Finish plan\n",
      "Waiting for server...\n",
      "Connected to server\n",
      "Finish plan\n",
      "Waiting for server...\n",
      "Connected to server\n",
      "Finish plan\n",
      "Waiting for server...\n",
      "Connected to server\n",
      "Finish plan\n",
      "Waiting for server...\n",
      "Connected to server\n",
      "Finish plan\n",
      "Waiting for server...\n",
      "Connected to server\n",
      "Finish plan\n",
      "Waiting for server...\n",
      "Connected to server\n",
      "Finish plan\n",
      "Waiting for server...\n",
      "Connected to server\n",
      "Finish plan\n"
     ]
    }
   ],
   "source": [
    "init_joint=[0,-DEG90,DEG90,-DEG90,-DEG90,DEG90]\n",
    "Target_up_joint   = np.array([16.84,-83.79,82.93,-89.01,-89.59,149.49])/90*DEG90\n",
    "Target_down_joint = np.array([16.81,-82.13,96.38,-104.12,-89.61,149.57])/90*DEG90\n",
    "Place_up_joint    = np.array([12.25,-55.41,42.79,-77.25,-89.58,144.78])/90*DEG90\n",
    "Place_down_joint  = np.array([12.20,-48.98,77.21,-118.10,-89.63,145.01])/90*DEG90\n",
    "\n",
    "assert (Target_up_joint * np.array([1,-1,1,-1,-1,1])>0).all()\n",
    "assert (Target_down_joint * np.array([1,-1,1,-1,-1,1])>0).all()\n",
    "assert (Place_up_joint * np.array([1,-1,1,-1,-1,1])>0).all()\n",
    "assert (Place_down_joint * np.array([1,-1,1,-1,-1,1])>0).all()\n",
    "\n",
    "\n",
    "robot.execute_arm(init_joint)\n",
    "\n",
    "robot.execute_arm(Target_up_joint)\n",
    "\n",
    "robot.pmove_xc(np.array([1000,0,1000,0]*4))\n",
    "\n",
    "robot.execute_arm(Target_down_joint)\n",
    "\n",
    "\n",
    "# 접근 동작\n",
    "robot.pmove_xc(np.array([2000,0,0,2000]*4))\n",
    "\n",
    "# 잡는 동작\n",
    "robot.pmove_xc(np.array([200,1500,0,2000]*4))\n",
    "\n",
    "# 절반 돌리고\n",
    "robot.pmove_xc(np.array([200,1200,1200,1600]*4))\n",
    "\n",
    "# 나머지 돌리고\n",
    "robot.pmove_xc(np.array([200,2200,500,1000]*4))\n",
    "\n",
    "\n",
    "robot.execute_arm(Target_up_joint)\n",
    "robot.execute_arm(Place_up_joint)\n",
    "robot.execute_arm(Place_down_joint)\n",
    "\n",
    "robot.pmove_xc(np.array([1000,0,1000,0]*4))\n",
    "robot.execute_arm(Place_up_joint)\n",
    "robot.execute_arm(init_joint)\n"
   ]
  },
  {
   "cell_type": "code",
   "execution_count": 50,
   "metadata": {},
   "outputs": [],
   "source": [
    "robot.pmove_xc(np.array([0,0,0,0]*4))"
   ]
  },
  {
   "cell_type": "markdown",
   "metadata": {},
   "source": [
    "# MAYO"
   ]
  },
  {
   "cell_type": "code",
   "execution_count": 17,
   "metadata": {},
   "outputs": [],
   "source": [
    "pos = initpos+ PROPORTION_MATRIX @ np.array([1,0,1,0, 0,0,0,0, 0,0,0,0, 1,0,1,0]) * 4000 * np.array([1,-1,-1,1]*4)\n",
    "pos = pos    + PROPORTION_MATRIX @ np.array([0,0,0,0, 0.3,0,1,0, 1,0,0,0.3, 0,0,0,0]) * 4000 * np.array([1,-1,-1,1]*4)\n",
    "\n",
    "# pos = pos + np.array([0,0,0,0, 0,0,0,0, 0,0,0,400, 0,0,0,0]) * np.array([1,-1,-1,1]*4)\n",
    "snapbot.set_goalposcluster(pos,1)"
   ]
  },
  {
   "cell_type": "code",
   "execution_count": 18,
   "metadata": {},
   "outputs": [],
   "source": [
    "pos = initpos+ PROPORTION_MATRIX @ np.array([1,0,1,0, 0,0,0,0, 0,0,0,0, 1,0,1,0]) * 4000 * np.array([1,-1,-1,1]*4)\n",
    "pos = pos    + PROPORTION_MATRIX @ np.array([0,0,0,0, 0.3,0,1,0, 1,0,0,0.3, 0,0,0,0]) * 4000 * np.array([1,-1,-1,1]*4)\n",
    "pos = pos    + PROPORTION_MATRIX @ np.array([0,0,0,0, 0,0,1,0, 1,0,0,0, 0,0,0,0]) * 1000 * np.array([1,-1,-1,1]*4)\n",
    "\n",
    "# pos = pos + np.array([0,0,0,0, 0,0,0,0, 0,0,0,400, 0,0,0,0]) * np.array([1,-1,-1,1]*4)\n",
    "snapbot.set_goalposcluster(pos,1)"
   ]
  },
  {
   "cell_type": "code",
   "execution_count": null,
   "metadata": {},
   "outputs": [],
   "source": []
  },
  {
   "cell_type": "code",
   "execution_count": 83,
   "metadata": {},
   "outputs": [],
   "source": []
  }
 ],
 "metadata": {
  "kernelspec": {
   "display_name": "Python 3.8.10 64-bit",
   "language": "python",
   "name": "python3"
  },
  "language_info": {
   "codemirror_mode": {
    "name": "ipython",
    "version": 3
   },
   "file_extension": ".py",
   "mimetype": "text/x-python",
   "name": "python",
   "nbconvert_exporter": "python",
   "pygments_lexer": "ipython3",
   "version": "3.8.10 (default, Mar 13 2023, 10:26:41) \n[GCC 9.4.0]"
  },
  "varInspector": {
   "cols": {
    "lenName": 16,
    "lenType": 16,
    "lenVar": 40
   },
   "kernels_config": {
    "python": {
     "delete_cmd_postfix": "",
     "delete_cmd_prefix": "del ",
     "library": "var_list.py",
     "varRefreshCmd": "print(var_dic_list())"
    },
    "r": {
     "delete_cmd_postfix": ") ",
     "delete_cmd_prefix": "rm(",
     "library": "var_list.r",
     "varRefreshCmd": "cat(var_dic_list()) "
    }
   },
   "types_to_exclude": [
    "module",
    "function",
    "builtin_function_or_method",
    "instance",
    "_Feature"
   ],
   "window_display": false
  },
  "vscode": {
   "interpreter": {
    "hash": "916dbcbb3f70747c44a77c7bcd40155683ae19c65e1c03b4aa3499c5328201f1"
   }
  }
 },
 "nbformat": 4,
 "nbformat_minor": 2
}
