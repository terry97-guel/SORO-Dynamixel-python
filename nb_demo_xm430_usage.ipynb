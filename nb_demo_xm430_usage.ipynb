{
 "cells": [
  {
   "cell_type": "markdown",
   "metadata": {},
   "source": [
    "## BASIC USAGE OF XL320 CLASS"
   ]
  },
  {
   "cell_type": "code",
   "execution_count": 1,
   "metadata": {
    "ExecuteTime": {
     "end_time": "2017-10-27T16:24:29.711191Z",
     "start_time": "2017-10-27T16:24:29.478864Z"
    }
   },
   "outputs": [
    {
     "name": "stdout",
     "output_type": "stream",
     "text": [
      "PACKAGES LOADED.\n"
     ]
    }
   ],
   "source": [
    "import os, time\n",
    "import numpy as np\n",
    "import matplotlib.pyplot as plt\n",
    "import custom_dynamixel_functions as dynamixel\n",
    "from datetime import datetime\n",
    "from class_xm430 import xm430\n",
    "from class_motionhelper import tracker, timer\n",
    "from class_grp import grp\n",
    "%matplotlib inline\n",
    "print (\"PACKAGES LOADED.\")"
   ]
  },
  {
   "cell_type": "markdown",
   "metadata": {},
   "source": [
    "## INSTANTIATE XL320 "
   ]
  },
  {
   "cell_type": "code",
   "execution_count": 3,
   "metadata": {
    "ExecuteTime": {
     "end_time": "2017-10-27T16:24:31.277571Z",
     "start_time": "2017-10-27T16:24:31.275156Z"
    }
   },
   "outputs": [
    {
     "name": "stdout",
     "output_type": "stream",
     "text": [
      "[SNAPBOT] INSTANTIATED AT [b'/dev/ttyUSB0']\n"
     ]
    }
   ],
   "source": [
    "snapbot = xm430('SNAPBOT', _USB_NUM=0)"
   ]
  },
  {
   "cell_type": "markdown",
   "metadata": {},
   "source": [
    "## CONNECT"
   ]
  },
  {
   "cell_type": "code",
   "execution_count": 4,
   "metadata": {
    "ExecuteTime": {
     "end_time": "2017-10-27T16:24:34.695450Z",
     "start_time": "2017-10-27T16:24:33.072986Z"
    }
   },
   "outputs": [
    {
     "name": "stdout",
     "output_type": "stream",
     "text": [
      "[SNAPBOT] CONNECT\n",
      "[PortHandler setup] The port number 0 has same device name... reinitialize port number 0!!\n",
      " SUCCEEDED TO OPEN THE PORT!\n",
      " SUCCEEDED TO CHANGE THE BAUDRATE!\n",
      " COMM FAIL [b'[TxRxResult] There is no status packet!']\n",
      "[SNAPBOT] DETECT ID\n",
      "[SNAPBOT] [0]MOTORS DETECTED \n",
      "[SNAPBOT] ID_LIST:[[]]\n",
      "[SNAPBOT] SYNCREAD FAIL\n"
     ]
    },
    {
     "ename": "ValueError",
     "evalue": "zero-size array to reduction operation minimum which has no identity",
     "output_type": "error",
     "traceback": [
      "\u001b[0;31m---------------------------------------------------------------------------\u001b[0m",
      "\u001b[0;31mValueError\u001b[0m                                Traceback (most recent call last)",
      "\u001b[0;32m/tmp/ipykernel_22127/560001688.py\u001b[0m in \u001b[0;36m<module>\u001b[0;34m\u001b[0m\n\u001b[0;32m----> 1\u001b[0;31m \u001b[0msnapbot\u001b[0m\u001b[0;34m.\u001b[0m\u001b[0mconnect\u001b[0m\u001b[0;34m(\u001b[0m\u001b[0;34m)\u001b[0m\u001b[0;34m\u001b[0m\u001b[0;34m\u001b[0m\u001b[0m\n\u001b[0m\u001b[1;32m      2\u001b[0m \u001b[0;34m\u001b[0m\u001b[0m\n\u001b[1;32m      3\u001b[0m \u001b[0;31m# snapbot.IDX_LIST = [21, 22, 15, 16, 13, 14, 17, 18]\u001b[0m\u001b[0;34m\u001b[0m\u001b[0;34m\u001b[0m\u001b[0;34m\u001b[0m\u001b[0m\n",
      "\u001b[0;32m~/Project/rl/src_scratch_aggressive_refine/class_xl320.py\u001b[0m in \u001b[0;36mconnect\u001b[0;34m(self, _EXPECTED_NID)\u001b[0m\n\u001b[1;32m    137\u001b[0m                 \u001b[0mprint\u001b[0m \u001b[0;34m(\u001b[0m\u001b[0;34m\"\\n\\n\\n[%s] NID DOES NOT MATCH\\n\\n\\n\"\u001b[0m \u001b[0;34m%\u001b[0m \u001b[0;34m(\u001b[0m\u001b[0mself\u001b[0m\u001b[0;34m.\u001b[0m\u001b[0mname\u001b[0m\u001b[0;34m)\u001b[0m\u001b[0;34m)\u001b[0m\u001b[0;34m\u001b[0m\u001b[0;34m\u001b[0m\u001b[0m\n\u001b[1;32m    138\u001b[0m         \u001b[0;31m# UPDATE CURRENT POSITION\u001b[0m\u001b[0;34m\u001b[0m\u001b[0;34m\u001b[0m\u001b[0;34m\u001b[0m\u001b[0m\n\u001b[0;32m--> 139\u001b[0;31m         \u001b[0mself\u001b[0m\u001b[0;34m.\u001b[0m\u001b[0mget_currpos\u001b[0m\u001b[0;34m(\u001b[0m\u001b[0;34m)\u001b[0m\u001b[0;34m\u001b[0m\u001b[0;34m\u001b[0m\u001b[0m\n\u001b[0m\u001b[1;32m    140\u001b[0m         \u001b[0;31m# LED THING\u001b[0m\u001b[0;34m\u001b[0m\u001b[0;34m\u001b[0m\u001b[0;34m\u001b[0m\u001b[0m\n\u001b[1;32m    141\u001b[0m         \u001b[0;32mfor\u001b[0m \u001b[0mi\u001b[0m \u001b[0;32min\u001b[0m \u001b[0mrange\u001b[0m\u001b[0;34m(\u001b[0m\u001b[0;36m8\u001b[0m\u001b[0;34m)\u001b[0m\u001b[0;34m:\u001b[0m\u001b[0;34m\u001b[0m\u001b[0;34m\u001b[0m\u001b[0m\n",
      "\u001b[0;32m~/Project/rl/src_scratch_aggressive_refine/class_xl320.py\u001b[0m in \u001b[0;36mget_currpos\u001b[0;34m(self, _NTRY)\u001b[0m\n\u001b[1;32m    276\u001b[0m                     self.LEN_PRESENT_POSITION, _NTRY))\n\u001b[1;32m    277\u001b[0m         \u001b[0mself\u001b[0m\u001b[0;34m.\u001b[0m\u001b[0mcurr_pos\u001b[0m \u001b[0;34m=\u001b[0m \u001b[0mcurr_pos\u001b[0m\u001b[0;34m\u001b[0m\u001b[0;34m\u001b[0m\u001b[0m\n\u001b[0;32m--> 278\u001b[0;31m         \u001b[0;32mif\u001b[0m \u001b[0mcurr_pos\u001b[0m\u001b[0;34m.\u001b[0m\u001b[0mmin\u001b[0m\u001b[0;34m(\u001b[0m\u001b[0;34m)\u001b[0m \u001b[0;34m==\u001b[0m \u001b[0;36m0\u001b[0m\u001b[0;34m:\u001b[0m\u001b[0;34m\u001b[0m\u001b[0;34m\u001b[0m\u001b[0m\n\u001b[0m\u001b[1;32m    279\u001b[0m             \u001b[0;32mif\u001b[0m \u001b[0mself\u001b[0m\u001b[0;34m.\u001b[0m\u001b[0mVERBOSE\u001b[0m\u001b[0;34m:\u001b[0m\u001b[0;34m\u001b[0m\u001b[0;34m\u001b[0m\u001b[0m\n\u001b[1;32m    280\u001b[0m                 \u001b[0mprint\u001b[0m \u001b[0;34m(\u001b[0m\u001b[0;34m\"[GET_CURRPOS] ERROR, PROBABILLY [%s]\"\u001b[0m \u001b[0;34m%\u001b[0m \u001b[0;34m(\u001b[0m\u001b[0mcurr_pos\u001b[0m\u001b[0;34m)\u001b[0m\u001b[0;34m)\u001b[0m\u001b[0;34m\u001b[0m\u001b[0;34m\u001b[0m\u001b[0m\n",
      "\u001b[0;32m~/.pyenv/versions/3.7.12/envs/tensor1/lib/python3.7/site-packages/numpy/core/_methods.py\u001b[0m in \u001b[0;36m_amin\u001b[0;34m(a, axis, out, keepdims, initial, where)\u001b[0m\n\u001b[1;32m     42\u001b[0m def _amin(a, axis=None, out=None, keepdims=False,\n\u001b[1;32m     43\u001b[0m           initial=_NoValue, where=True):\n\u001b[0;32m---> 44\u001b[0;31m     \u001b[0;32mreturn\u001b[0m \u001b[0mumr_minimum\u001b[0m\u001b[0;34m(\u001b[0m\u001b[0ma\u001b[0m\u001b[0;34m,\u001b[0m \u001b[0maxis\u001b[0m\u001b[0;34m,\u001b[0m \u001b[0;32mNone\u001b[0m\u001b[0;34m,\u001b[0m \u001b[0mout\u001b[0m\u001b[0;34m,\u001b[0m \u001b[0mkeepdims\u001b[0m\u001b[0;34m,\u001b[0m \u001b[0minitial\u001b[0m\u001b[0;34m,\u001b[0m \u001b[0mwhere\u001b[0m\u001b[0;34m)\u001b[0m\u001b[0;34m\u001b[0m\u001b[0;34m\u001b[0m\u001b[0m\n\u001b[0m\u001b[1;32m     45\u001b[0m \u001b[0;34m\u001b[0m\u001b[0m\n\u001b[1;32m     46\u001b[0m def _sum(a, axis=None, dtype=None, out=None, keepdims=False,\n",
      "\u001b[0;31mValueError\u001b[0m: zero-size array to reduction operation minimum which has no identity"
     ]
    }
   ],
   "source": [
    "snapbot.connect()\n",
    "\n",
    "# snapbot.IDX_LIST = [21, 22, 15, 16, 13, 14, 17, 18]"
   ]
  },
  {
   "cell_type": "code",
   "execution_count": 14,
   "metadata": {},
   "outputs": [
    {
     "name": "stdout",
     "output_type": "stream",
     "text": [
      "TORQUE ON\n"
     ]
    }
   ],
   "source": [
    "snapbot.set_torque([1])\n",
    "print (\"TORQUE ON\")"
   ]
  },
  {
   "cell_type": "code",
   "execution_count": 5,
   "metadata": {
    "ExecuteTime": {
     "end_time": "2017-10-27T16:13:36.890155Z",
     "start_time": "2017-10-27T16:13:35.871780Z"
    }
   },
   "outputs": [
    {
     "name": "stdout",
     "output_type": "stream",
     "text": [
      "[1476 2599]\n",
      "INITIALIZE POSITION\n"
     ]
    }
   ],
   "source": [
    "# THEN, MOVE\n",
    "# snapbot.set_goalpos([2800, 2100, 1300, 2100, 1300, 2100, 2800, 2100])\n",
    "\n",
    "# time.sleep(1)\n",
    "print (snapbot.get_currpos())\n",
    "# snapbot.set_goalpos([2800, 2000, 2000, 2200, 1300, 2000, 2000, 2200])\n",
    "# snapbot.set_goalpos([2800, 2000, 2000, 2000, 1300, 2000, 2000, 2000])\n",
    "# print snapbot.get_currpos()\n",
    "print (\"INITIALIZE POSITION\")"
   ]
  },
  {
   "cell_type": "markdown",
   "metadata": {},
   "source": [
    "## READ CURRENT POSITION"
   ]
  },
  {
   "cell_type": "code",
   "execution_count": 11,
   "metadata": {},
   "outputs": [],
   "source": [
    "posList = []"
   ]
  },
  {
   "cell_type": "code",
   "execution_count": 13,
   "metadata": {
    "ExecuteTime": {
     "end_time": "2017-10-27T15:25:17.936082Z",
     "start_time": "2017-10-27T15:25:17.926812Z"
    }
   },
   "outputs": [
    {
     "name": "stdout",
     "output_type": "stream",
     "text": [
      "[array([2194, 2383, 1967, 2373, 2050, 2369, 1940, 2511]), array([2128, 2065, 2003, 2370, 1402, 2447, 1386, 2402])]\n"
     ]
    }
   ],
   "source": [
    "currpos = snapbot.get_currpos()\n",
    "# print (\"CURRENT POS: %s\" % (currpos))\n",
    "posList.append(currpos)\n",
    "print(posList)"
   ]
  },
  {
   "cell_type": "code",
   "execution_count": 60,
   "metadata": {},
   "outputs": [
    {
     "name": "stdout",
     "output_type": "stream",
     "text": [
      "[array([1145, 2380, 1044, 2480, 1068, 2390, 1165, 2429, 1105, 2393, 1084,\n",
      "       2406]), array([1468, 2261, 1446, 2359, 1450, 2211, 1522, 2227, 1437, 2274, 1412,\n",
      "       2259]), array([1690, 2136, 1781, 2278, 1684, 2134, 1758, 2129, 1640, 2186, 1611,\n",
      "       2128]), array([1928, 2130, 1979, 2278, 2082, 2134, 1950, 2130, 1904, 2186, 1844,\n",
      "       2073]), array([2059, 2048, 2001, 2136, 2082, 2049, 2011, 2057, 2149, 2058, 1843,\n",
      "       2008])]\n"
     ]
    }
   ],
   "source": [
    "print(posList)"
   ]
  },
  {
   "cell_type": "markdown",
   "metadata": {},
   "source": [
    "## TORQUE OFF"
   ]
  },
  {
   "cell_type": "code",
   "execution_count": 6,
   "metadata": {
    "ExecuteTime": {
     "end_time": "2017-10-23T23:50:06.997394Z",
     "start_time": "2017-10-23T23:50:06.992490Z"
    },
    "collapsed": true
   },
   "outputs": [
    {
     "name": "stdout",
     "output_type": "stream",
     "text": [
      "TORQUE OFF\n"
     ]
    }
   ],
   "source": [
    "snapbot.set_torque([0])\n",
    "print (\"TORQUE OFF\")"
   ]
  },
  {
   "cell_type": "markdown",
   "metadata": {},
   "source": [
    "## CONTINUOUSLY CHECK MINMAX POS (FOR ONCE)"
   ]
  },
  {
   "cell_type": "code",
   "execution_count": 8,
   "metadata": {
    "collapsed": true
   },
   "outputs": [],
   "source": [
    "CHECK_MINMAX_FLAG = False"
   ]
  },
  {
   "cell_type": "code",
   "execution_count": 9,
   "metadata": {
    "collapsed": true,
    "scrolled": true
   },
   "outputs": [],
   "source": [
    "if CHECK_MINMAX_FLAG:\n",
    "    curr_pos_min = np.asarray([1000]*snapbot.NID)\n",
    "    curr_pos_max = np.asarray([0]*snapbot.NID)\n",
    "    print (\"CHECKING MINIMUM AND MAXIMUM\")\n",
    "    while True:\n",
    "        curr_pos_buff = snapbot.get_currpos()\n",
    "        if curr_pos_buff.min() != 0: curr_pos = curr_pos_buff\n",
    "        curr_pos_min = np.minimum(curr_pos_min, curr_pos)\n",
    "        curr_pos_max = np.maximum(curr_pos_max, curr_pos)\n",
    "        time.sleep(0.1)"
   ]
  },
  {
   "cell_type": "code",
   "execution_count": 10,
   "metadata": {
    "collapsed": true
   },
   "outputs": [],
   "source": [
    "if CHECK_MINMAX_FLAG:\n",
    "    print (\"POS_MIN: %s\" % (np.array2string(curr_pos_min, separator=', ')))\n",
    "    print (\"POS_MAX: %s\" % (np.array2string(curr_pos_max, separator=', ')))"
   ]
  },
  {
   "cell_type": "markdown",
   "metadata": {},
   "source": [
    "## SET MINIMUM AND MAXIMUM RANGE"
   ]
  },
  {
   "cell_type": "code",
   "execution_count": 11,
   "metadata": {
    "ExecuteTime": {
     "end_time": "2017-10-27T16:13:33.928381Z",
     "start_time": "2017-10-27T16:13:33.921470Z"
    }
   },
   "outputs": [
    {
     "name": "stdout",
     "output_type": "stream",
     "text": [
      "WORKING RANGE OF SNAPBOT CONFIGURED.\n",
      "MIN_POS:[[274 272 274 282 287 275 273 267]]\n",
      "MAX_POS:[[765 671 737 666 736 671 743 668]]\n"
     ]
    }
   ],
   "source": [
    "\"\"\"\n",
    "# 1. THIS IS FOR FOUR LEGS WITH THREE JOINTS\n",
    "POS_MIN: [ 44 272 269  61 280 245  46 267 260  67 285 247]\n",
    "POS_MAX: [936 743 671 974 750 668 967 753 674 912 741 677]\n",
    "# 2. FOUR LEGS WITH TWO JOINTS\n",
    "POS_MIN: [274, 272, 274, 282, 287, 275, 273, 267]\n",
    "POS_MAX: [765, 671, 737, 666, 736, 671, 743, 668]\n",
    "\"\"\"\n",
    "min_pos = np.asarray([274])\n",
    "max_pos = np.asarray([765])\n",
    "snapbot.set_minmaxpos(min_pos, max_pos)\n",
    "print (\"WORKING RANGE OF SNAPBOT CONFIGURED.\")\n",
    "print (\"MIN_POS:[%s]\" % (snapbot.min_pos))\n",
    "print (\"MAX_POS:[%s]\" % (snapbot.max_pos))"
   ]
  },
  {
   "cell_type": "markdown",
   "metadata": {},
   "source": [
    "## CHECK MOTION ID WITH LED"
   ]
  },
  {
   "cell_type": "code",
   "execution_count": 12,
   "metadata": {
    "ExecuteTime": {
     "end_time": "2017-10-23T23:40:47.214806Z",
     "start_time": "2017-10-23T23:40:45.791926Z"
    },
    "collapsed": true
   },
   "outputs": [
    {
     "ename": "IndexError",
     "evalue": "list index out of range",
     "output_type": "error",
     "traceback": [
      "\u001b[0;31m\u001b[0m",
      "\u001b[0;31mIndexError\u001b[0mTraceback (most recent call last)",
      "\u001b[0;32m<ipython-input-12-b7b40580eea6>\u001b[0m in \u001b[0;36m<module>\u001b[0;34m()\u001b[0m\n\u001b[1;32m      5\u001b[0m \u001b[0;31m# AND, THEN, SHOW LED!\u001b[0m\u001b[0;34m\u001b[0m\u001b[0;34m\u001b[0m\u001b[0m\n\u001b[1;32m      6\u001b[0m \u001b[0mtemp\u001b[0m \u001b[0;34m=\u001b[0m \u001b[0;34m[\u001b[0m\u001b[0;36m0\u001b[0m\u001b[0;34m]\u001b[0m\u001b[0;34m*\u001b[0m\u001b[0msnapbot\u001b[0m\u001b[0;34m.\u001b[0m\u001b[0mNID\u001b[0m\u001b[0;34m\u001b[0m\u001b[0m\n\u001b[0;32m----> 7\u001b[0;31m \u001b[0;32mprint\u001b[0m \u001b[0;34m(\u001b[0m\u001b[0;34m\"CURRENT ID IS [%d]\"\u001b[0m \u001b[0;34m%\u001b[0m \u001b[0;34m(\u001b[0m\u001b[0msnapbot\u001b[0m\u001b[0;34m.\u001b[0m\u001b[0mIDX_LIST\u001b[0m\u001b[0;34m[\u001b[0m\u001b[0mID\u001b[0m\u001b[0;34m]\u001b[0m\u001b[0;34m)\u001b[0m\u001b[0;34m)\u001b[0m\u001b[0;34m\u001b[0m\u001b[0m\n\u001b[0m\u001b[1;32m      8\u001b[0m \u001b[0;32mfor\u001b[0m \u001b[0mi\u001b[0m \u001b[0;32min\u001b[0m \u001b[0mreversed\u001b[0m\u001b[0;34m(\u001b[0m\u001b[0mrange\u001b[0m\u001b[0;34m(\u001b[0m\u001b[0;36m1\u001b[0m\u001b[0;34m,\u001b[0m \u001b[0;36m8\u001b[0m\u001b[0;34m)\u001b[0m\u001b[0;34m)\u001b[0m\u001b[0;34m:\u001b[0m\u001b[0;34m\u001b[0m\u001b[0m\n\u001b[1;32m      9\u001b[0m     \u001b[0mtemp\u001b[0m\u001b[0;34m[\u001b[0m\u001b[0mID\u001b[0m\u001b[0;34m]\u001b[0m \u001b[0;34m=\u001b[0m \u001b[0mi\u001b[0m\u001b[0;34m\u001b[0m\u001b[0m\n",
      "\u001b[0;31mIndexError\u001b[0m: list index out of range"
     ]
    }
   ],
   "source": [
    "ID = 6 # THIS CAN VARY FROM 0 ~ NID-1\n",
    "\n",
    "# FIRST, INITIALIZE POSITION\n",
    "snapbot.set_goalpos([512]*snapbot.NID)\n",
    "# AND, THEN, SHOW LED!\n",
    "temp = [0]*snapbot.NID\n",
    "print (\"CURRENT ID IS [%d]\" % (snapbot.IDX_LIST[ID]))\n",
    "for i in reversed(range(1, 8)):\n",
    "    temp[ID] = i\n",
    "    snapbot.set_led(LED_VAL=temp)\n",
    "    time.sleep(0.2)"
   ]
  },
  {
   "cell_type": "code",
   "execution_count": 13,
   "metadata": {
    "ExecuteTime": {
     "end_time": "2017-10-23T23:45:27.256613Z",
     "start_time": "2017-10-23T23:45:27.251944Z"
    },
    "collapsed": true
   },
   "outputs": [],
   "source": [
    "# TURN LED OFF\n",
    "snapbot.set_led(LED_VAL=[0])"
   ]
  },
  {
   "cell_type": "markdown",
   "metadata": {},
   "source": [
    "## CHECK ANGLE LIMIT"
   ]
  },
  {
   "cell_type": "code",
   "execution_count": null,
   "metadata": {},
   "outputs": [],
   "source": []
  },
  {
   "cell_type": "code",
   "execution_count": 6,
   "metadata": {
    "ExecuteTime": {
     "end_time": "2017-10-23T23:51:10.337101Z",
     "start_time": "2017-10-23T23:51:10.322210Z"
    }
   },
   "outputs": [
    {
     "name": "stdout",
     "output_type": "stream",
     "text": [
      "[array([4908, 5164]), array([25603, 25603])]\n"
     ]
    }
   ],
   "source": [
    "print (snapbot.get_anglelimit())"
   ]
  },
  {
   "cell_type": "code",
   "execution_count": null,
   "metadata": {
    "collapsed": true
   },
   "outputs": [],
   "source": []
  },
  {
   "cell_type": "code",
   "execution_count": null,
   "metadata": {
    "collapsed": true
   },
   "outputs": [],
   "source": []
  },
  {
   "cell_type": "code",
   "execution_count": null,
   "metadata": {
    "collapsed": true
   },
   "outputs": [],
   "source": []
  },
  {
   "cell_type": "markdown",
   "metadata": {},
   "source": [
    "## TORQUE OFF"
   ]
  },
  {
   "cell_type": "code",
   "execution_count": 1,
   "metadata": {
    "collapsed": true
   },
   "outputs": [
    {
     "ename": "NameError",
     "evalue": "name 'snapbot' is not defined",
     "output_type": "error",
     "traceback": [
      "\u001b[0;31m\u001b[0m",
      "\u001b[0;31mNameError\u001b[0mTraceback (most recent call last)",
      "\u001b[0;32m<ipython-input-1-d984bd8626c3>\u001b[0m in \u001b[0;36m<module>\u001b[0;34m()\u001b[0m\n\u001b[0;32m----> 1\u001b[0;31m \u001b[0msnapbot\u001b[0m\u001b[0;34m.\u001b[0m\u001b[0mset_torque\u001b[0m\u001b[0;34m(\u001b[0m\u001b[0;34m[\u001b[0m\u001b[0;36m0\u001b[0m\u001b[0;34m]\u001b[0m\u001b[0;34m)\u001b[0m\u001b[0;34m\u001b[0m\u001b[0m\n\u001b[0m\u001b[1;32m      2\u001b[0m \u001b[0;32mprint\u001b[0m \u001b[0;34m(\u001b[0m\u001b[0;34m\"TORQUE OFF\"\u001b[0m\u001b[0;34m)\u001b[0m\u001b[0;34m\u001b[0m\u001b[0m\n",
      "\u001b[0;31mNameError\u001b[0m: name 'snapbot' is not defined"
     ]
    }
   ],
   "source": [
    "snapbot.set_torque([0])\n",
    "print (\"TORQUE OFF\")"
   ]
  },
  {
   "cell_type": "markdown",
   "metadata": {},
   "source": [
    "## TORQUE ON"
   ]
  },
  {
   "cell_type": "code",
   "execution_count": 9,
   "metadata": {
    "collapsed": true
   },
   "outputs": [
    {
     "name": "stdout",
     "output_type": "stream",
     "text": [
      "TORQUE ON\n"
     ]
    }
   ],
   "source": [
    "snapbot.set_torque([1])\n",
    "print (\"TORQUE ON\")"
   ]
  },
  {
   "cell_type": "markdown",
   "metadata": {},
   "source": [
    "## SET DELAYED TIME"
   ]
  },
  {
   "cell_type": "code",
   "execution_count": 10,
   "metadata": {
    "collapsed": true
   },
   "outputs": [
    {
     "name": "stdout",
     "output_type": "stream",
     "text": [
      "DELAYED TIME CONFIGURED\n"
     ]
    }
   ],
   "source": [
    "snapbot.set_delaytime([20])\n",
    "print (\"DELAYED TIME CONFIGURED\")"
   ]
  },
  {
   "cell_type": "markdown",
   "metadata": {},
   "source": [
    "## SET PID GAINS (32, 0, 0)"
   ]
  },
  {
   "cell_type": "code",
   "execution_count": 11,
   "metadata": {
    "collapsed": true
   },
   "outputs": [
    {
     "name": "stdout",
     "output_type": "stream",
     "text": [
      "PID GAINS CONFIGURED\n"
     ]
    }
   ],
   "source": [
    "snapbot.set_pidgains(32, 0, 0)\n",
    "print (\"PID GAINS CONFIGURED\")"
   ]
  },
  {
   "cell_type": "markdown",
   "metadata": {},
   "source": [
    "## SET MAXIMUM TORQUE (~1023)"
   ]
  },
  {
   "cell_type": "code",
   "execution_count": 12,
   "metadata": {
    "collapsed": true
   },
   "outputs": [
    {
     "name": "stdout",
     "output_type": "stream",
     "text": [
      "MAX TORQUE CONFIGURED\n"
     ]
    }
   ],
   "source": [
    "snapbot.set_maxtorque([1000])\n",
    "print (\"MAX TORQUE CONFIGURED\")"
   ]
  },
  {
   "cell_type": "markdown",
   "metadata": {},
   "source": [
    "## SET MAXIMUM SPEED (~2047)"
   ]
  },
  {
   "cell_type": "code",
   "execution_count": 42,
   "metadata": {
    "collapsed": true
   },
   "outputs": [
    {
     "name": "stdout",
     "output_type": "stream",
     "text": [
      "GOAL SPEED CONFIGURED\n"
     ]
    }
   ],
   "source": [
    "# FIRST, SET SPEED\n",
    "snapbot.set_goalspeed([400])\n",
    "print (\"GOAL SPEED CONFIGURED\")"
   ]
  },
  {
   "cell_type": "markdown",
   "metadata": {},
   "source": [
    "## INITIALIZE POSITION"
   ]
  },
  {
   "cell_type": "code",
   "execution_count": 13,
   "metadata": {
    "ExecuteTime": {
     "end_time": "2017-10-27T15:42:03.667348Z",
     "start_time": "2017-10-27T15:42:02.649259Z"
    }
   },
   "outputs": [
    {
     "name": "stdout",
     "output_type": "stream",
     "text": [
      "INITIALIZE POSITION\n"
     ]
    }
   ],
   "source": [
    "# THEN, MOVE\n",
    "snapbot.set_goalpos([2048, 2048, 2048, 2048, 2048, 2048, 2048, 2048])\n",
    "# time.sleep(1)\n",
    "# print snapbot.get_currpos()\n",
    "# snapbot.set_goalpos([512])\n",
    "# print snapbot.get_currpos()\n",
    "print (\"INITIALIZE POSITION\")"
   ]
  },
  {
   "cell_type": "markdown",
   "metadata": {},
   "source": [
    "## USE GRP FOR SMOOTH PLANNING"
   ]
  },
  {
   "cell_type": "code",
   "execution_count": 8,
   "metadata": {
    "collapsed": true
   },
   "outputs": [
    {
     "name": "stdout",
     "output_type": "stream",
     "text": [
      "\n",
      "Trajectory is:\n",
      "\n",
      "[[0., 0.]]\n",
      "\n",
      "SHAPE IS [(1, 2)]\n"
     ]
    }
   ],
   "source": [
    "# INITIALIZE TRAJECTORIES\n",
    "posconcat = np.zeros((1, snapbot.NID))\n",
    "snapbot.set_torque([0])\n",
    "print (\"\\nTrajectory is:\\n\")\n",
    "print np.array2string(posconcat, separator=', ')\n",
    "print (\"\\nSHAPE IS [%s]\" % (posconcat.shape,))"
   ]
  },
  {
   "cell_type": "markdown",
   "metadata": {},
   "source": [
    "### ADD CURRENT POSITION"
   ]
  },
  {
   "cell_type": "code",
   "execution_count": 13,
   "metadata": {
    "collapsed": true
   },
   "outputs": [
    {
     "name": "stdout",
     "output_type": "stream",
     "text": [
      "\n",
      "Trajectory is:\n",
      "\n",
      "[[1549, 2113],\n",
      " [1946, 2113],\n",
      " [2283, 2113],\n",
      " [2046, 2113],\n",
      " [1669, 2113]]\n",
      "\n",
      "SHAPE IS [(5, 2)]\n"
     ]
    }
   ],
   "source": [
    "currpos = snapbot.get_currpos()\n",
    "if posconcat.sum() == 0:\n",
    "    posconcat = currpos.reshape((1, -1))\n",
    "else:\n",
    "    posconcat = np.append(posconcat, currpos.reshape((1, -1)), axis=0)\n",
    "print (\"\\nTrajectory is:\\n\")\n",
    "print np.array2string(posconcat, separator=', ')\n",
    "print (\"\\nSHAPE IS [%s]\" % (posconcat.shape,))"
   ]
  },
  {
   "cell_type": "markdown",
   "metadata": {},
   "source": [
    "### REMOVE LATEST POSITION"
   ]
  },
  {
   "cell_type": "code",
   "execution_count": null,
   "metadata": {
    "collapsed": true
   },
   "outputs": [],
   "source": [
    "n = posconcat.shape[0]\n",
    "posconcat = np.delete(posconcat, [n-1], axis=0)\n",
    "print (\"\\nTrajectory is:\\n\")\n",
    "print np.array2string(posconcat, separator=', ')\n",
    "print (\"\\nSHAPE IS [%s]\" % (posconcat.shape,))"
   ]
  },
  {
   "cell_type": "markdown",
   "metadata": {},
   "source": [
    "## USE SAVED POS"
   ]
  },
  {
   "cell_type": "code",
   "execution_count": 4,
   "metadata": {
    "collapsed": true
   },
   "outputs": [],
   "source": [
    "USE_SAVED = True\n",
    "if USE_SAVED:\n",
    "    posconcat = np.array(\n",
    "        [[1100, 2400, 1100, 2400, 1100, 2400, 1100, 2400, 1100, 2400, 1100, 2400],\n",
    "        # [1400, 2200, 1400, 2200, 1400, 2200, 1400, 2200, 1400, 2200, 1400, 2200],\n",
    "        # [1700, 2100, 1700, 2100, 1700, 2100, 1700, 2100, 1700, 2100, 1700, 2100],\n",
    "        # [1900, 2050, 1900, 2050, 1900, 2050, 1900, 2050, 1900, 2050, 1900, 2050],\n",
    "        [2000, 2000, 2000, 2000, 2000, 2000, 2000, 2000, 2000, 2000, 2000, 2000]]\n",
    "        #    [[512, 516, 511, 512, 511, 511, 513, 514],\n",
    "        #    [508, 469, 511, 445, 511, 511, 512, 512],\n",
    "        #    [620, 472, 395, 445, 390, 511, 586, 514],\n",
    "        #    [629, 533, 418, 515, 390, 512, 585, 514],\n",
    "        #    [631, 533, 418, 514, 393, 476, 586, 473],\n",
    "        #    [424, 533, 612, 522, 619, 476, 458, 473],\n",
    "        #    [424, 533, 612, 521, 619, 525, 457, 532],\n",
    "        #    [515, 533, 506, 522, 541, 525, 517, 528]]\n",
    "    )\n",
    "\n",
    "# print (\"GAUSSIAN RANDOM PATH!\")\n",
    "# npz_name = 'rollout/rollout_step002@2017_10_26_11_33_52.npz' # 32 CM !!\n",
    "# l = np.load(npz_name)\n",
    "# posconcat = l['samplepath']*4"
   ]
  },
  {
   "cell_type": "markdown",
   "metadata": {},
   "source": [
    "GAUSSIAN RANDOM PATH"
   ]
  },
  {
   "cell_type": "code",
   "execution_count": 5,
   "metadata": {
    "collapsed": true
   },
   "outputs": [
    {
     "name": "stdout",
     "output_type": "stream",
     "text": [
      "[[1100 2400 1100 2400 1100 2400 1100 2400 1100 2400 1100 2400]\n",
      " [2000 2000 2000 2000 2000 2000 2000 2000 2000 2000 2000 2000]\n",
      " [1100 2400 1100 2400 1100 2400 1100 2400 1100 2400 1100 2400]]\n",
      "[GRP] GAUSSIAN RANDOM PATH\n",
      "[GRP] THE LENGTH OF A INTERPOLATED TRAJ IS [96]\n"
     ]
    },
    {
     "data": {
      "image/png": "[encoded data removed]",
      "text/plain": [
       "<matplotlib.figure.Figure at 0x7fdec7f53510>"
      ]
     },
     "metadata": {
      "needs_background": "light"
     },
     "output_type": "display_data"
    }
   ],
   "source": [
    "\n",
    "posconcat_cont = np.copy(posconcat)\n",
    "posconcat_cont = np.append(posconcat_cont, posconcat[0, :].reshape((1, -1)), axis=0)\n",
    "posconcat_cont = posconcat_cont\n",
    "print(posconcat_cont)\n",
    "g = grp(\"GRP\")\n",
    "g.set_data(posconcat_cont,_hyp_mean={'gain':1, 'len':1, 'noise':1e-6},\n",
    "            _hyp_var={'gain':100.**2, 'len':100.**2, 'noise':1e-2},\n",
    "            _DO_EPSRU=True, _teps=0.05)\n",
    "g.compute_grp(_vel=50)\n",
    "\n",
    "# PLOT MEAN PATH (PER DIMENSION)\n",
    "plt.figure(figsize=(9, 3))\n",
    "for i in range(g.dim):\n",
    "    plt.plot(g.tz, g.muz[:, i])\n",
    "for i in range(g.dim):\n",
    "    plt.plot(g.tx_used, g.px_used[:,i], \n",
    "             marker='o', ms=15, mew=3, mec='k',\n",
    "             ls = 'none', lw=3)\n",
    "plt.title(\"Mean Paths per Each Dimension\", fontsize=25)\n",
    "plt.show()"
   ]
  },
  {
   "cell_type": "code",
   "execution_count": 6,
   "metadata": {},
   "outputs": [
    {
     "name": "stdout",
     "output_type": "stream",
     "text": [
      "[[1099 2400 1099 ... 2400 1099 2400]\n",
      " [1116 2392 1116 ... 2392 1116 2392]\n",
      " [1135 2384 1135 ... 2384 1135 2384]\n",
      " ...\n",
      " [1135 2384 1135 ... 2384 1135 2384]\n",
      " [1116 2392 1116 ... 2392 1116 2392]\n",
      " [1099 2400 1099 ... 2400 1099 2400]]\n"
     ]
    }
   ],
   "source": [
    "pos = g.muz[:, :].astype(np.int).tolist()\n",
    "print(np.array(pos))"
   ]
  },
  {
   "cell_type": "markdown",
   "metadata": {},
   "source": [
    "# Warn: It is very dangerous test"
   ]
  },
  {
   "cell_type": "code",
   "execution_count": 83,
   "metadata": {},
   "outputs": [
    {
     "name": "stdout",
     "output_type": "stream",
     "text": [
      "(96, 12)\n"
     ]
    }
   ],
   "source": [
    "p1 = [1100, 2400, 1100, 2400, 1100, 2400, 1100, 2400, 1100, 2400, 1100, 2400]\n",
    "p2 = [2900, 2000, 2900, 2000, 2900, 2000, 2900, 2000, 2900, 2000, 2900, 2000]\n",
    "poses = []\n",
    "hard_test = True\n",
    "\n",
    "if (hard_test):\n",
    "    for i in range(48):\n",
    "        poses.append(p1)\n",
    "    \n",
    "\n",
    "    for i in range(48):\n",
    "        poses.append(p1)\n",
    "\n",
    "print(np.array(poses).shape)"
   ]
  },
  {
   "cell_type": "code",
   "execution_count": 14,
   "metadata": {},
   "outputs": [],
   "source": [
    "poses = np.load('./qpos.npy')\n",
    "poses.T[1] = -poses.T[1]\n",
    "poses.T[3] = -poses.T[3]\n",
    "poses.T[5] = -poses.T[5]\n",
    "poses.T[7] = -poses.T[7]\n",
    "poses = 2048/180*poses+2048\n",
    "# poses.T[]"
   ]
  },
  {
   "cell_type": "code",
   "execution_count": 15,
   "metadata": {},
   "outputs": [
    {
     "name": "stdout",
     "output_type": "stream",
     "text": [
      "[SNAPBOT] INSTANTIATED AT [/dev/ttyUSB0]\n",
      "[SNAPBOT] CONNECT\n",
      " SUCCEEDED TO OPEN THE PORT!\n",
      " SUCCEEDED TO CHANGE THE BAUDRATE!\n",
      "COMMUNICATION SUCCESS\n",
      "[SNAPBOT] DETECT ID\n",
      "[SNAPBOT] [8]MOTORS DETECTED \n",
      "[SNAPBOT] ID_LIST:[[13, 14, 15, 16, 17, 18, 21, 22]]\n",
      "TIMER WITH [20]HZ INITIALIZED. MAX_SEC IS [1000.0sec].\n"
     ]
    }
   ],
   "source": [
    "def get_snapbot():\n",
    "    snapbot = xl320('SNAPBOT', _USB_NUM=0)\n",
    "    snapbot.connect()\n",
    "    # min_pos = np.asarray([274, 272, 274, 282, 287, 275, 273, 267]*4)\n",
    "    # max_pos = np.asarray([765, 671, 737, 666, 736, 671, 743, 668]*4)\n",
    "    # snapbot.set_minmaxpos(min_pos, max_pos)\n",
    "    snapbot.IDX_LIST = [21, 22, 15, 16, 13, 14, 17, 18]\n",
    "    snapbot.set_delaytime([30])\n",
    "    snapbot.set_pidgains(20, 0, 0)\n",
    "    snapbot.set_maxtorque([2000])\n",
    "    snapbot.set_goalspeed([1500])\n",
    "    snapbot.set_torque([1])\n",
    "    # snapbot.set_goalpos([512]*4)\n",
    "    return snapbot\n",
    "snapbot = get_snapbot()\n",
    "\n",
    "# MAKE THE SNAPBOT FOLLOW\n",
    "# pos = poses[0]#g.muz[0, :].astype(np.int).tolist()\n",
    "# snapbot.set_goalpos(pos)\n",
    "time.sleep(1)\n",
    "\n",
    "idx, loop_cnt, plot, flag, threshold = 0, 0, [], False, 0\n",
    "t = timer(_HZ=20, _MAX_SEC=1000)\n",
    "t.start()\n",
    "x=[]\n",
    "startT = time.time()\n",
    "while t.is_notfinished():\n",
    "    if t.do_run():\n",
    "        pos = poses[idx]#g.muz[idx, :].astype(np.int).tolist()\n",
    "        if not flag:\n",
    "            flag = True\n",
    "            # startT = time.time()\n",
    "            threshold = pos\n",
    "            # print('a', idx)\n",
    "        # currpos = snapbot.get_currpos(); time.sleep(0.001)\n",
    "        # currcurr = snapbot.get_currcurr(); time.sleep(0.001)\n",
    "        # if flag and abs(currpos[0] - threshold[0]) < 20:\n",
    "            # print(startT - time.time())\n",
    "            # startT = time.time()\n",
    "            # flag = False\n",
    "            # print('b', idx)\n",
    "        # print(currpos[0])\n",
    "        idx = idx + 1\n",
    "        # plot.append([pos[0], currpos[0]])\n",
    "        # plot.append(currcurr)\n",
    "        # x.append(time.time() - startT)\n",
    "        snapbot.set_goalpos((np.array(pos, dtype=np.int).tolist())); time.sleep(0.001)\n",
    "        # if idx >= g.nz:\n",
    "        #     idx = 0\n",
    "        #     loop_cnt = loop_cnt + 1\n",
    "        #     time.sleep(0.01)\n",
    "        if loop_cnt >= 4:\n",
    "            t.finish()\n",
    "\n",
    "plt.plot(x, plot)\n",
    "print (\"FINISHED.\")"
   ]
  },
  {
   "cell_type": "markdown",
   "metadata": {},
   "source": [
    "# PURSUIT"
   ]
  },
  {
   "cell_type": "code",
   "execution_count": 38,
   "metadata": {
    "collapsed": true
   },
   "outputs": [
    {
     "name": "stdout",
     "output_type": "stream",
     "text": [
      "[SNAPBOT] INSTANTIATED AT [/dev/ttyUSB0]\n",
      "[SNAPBOT] CONNECT\n",
      " SUCCEEDED TO OPEN THE PORT!\n",
      " SUCCEEDED TO CHANGE THE BAUDRATE!\n",
      "COMMUNICATION SUCCESS\n",
      "[SNAPBOT] DETECT ID\n",
      "[SNAPBOT] [2]MOTORS DETECTED \n",
      "[SNAPBOT] ID_LIST:[[19, 20]]\n",
      "TIMER WITH [50]HZ INITIALIZED. MAX_SEC IS [1000.0sec].\n",
      "FINISHED.\n"
     ]
    },
    {
     "data": {
      "image/png": "[encoded data removed]",
      "text/plain": [
       "<matplotlib.figure.Figure at 0x7f87de570f50>"
      ]
     },
     "metadata": {
      "needs_background": "light"
     },
     "output_type": "display_data"
    }
   ],
   "source": [
    "def get_snapbot():\n",
    "    snapbot = xl320('SNAPBOT', _USB_NUM=0)\n",
    "    snapbot.connect()\n",
    "    min_pos = np.asarray([274, 272, 274, 282, 287, 275, 273, 267])\n",
    "    max_pos = np.asarray([765, 671, 737, 666, 736, 671, 743, 668])\n",
    "    snapbot.set_minmaxpos(min_pos, max_pos)\n",
    "    snapbot.set_delaytime([30])\n",
    "    snapbot.set_pidgains(20, 0, 0)\n",
    "    snapbot.set_maxtorque([1000])\n",
    "    snapbot.set_goalspeed([500])\n",
    "    snapbot.set_torque([1])\n",
    "    # snapbot.set_goalpos([2200, 2000, 2200, 2000, 2200, 2000, 2200, 2000])\n",
    "    return snapbot\n",
    "snapbot = get_snapbot()\n",
    "\n",
    "# MAKE THE SNAPBOT FOLLOW\n",
    "pos = g.muz[0, :].astype(np.int).tolist()\n",
    "snapbot.set_goalpos(pos)\n",
    "time.sleep(1)\n",
    "\n",
    "idx, loop_cnt, plot, flag, threshold = 0, 0, [], False, 0\n",
    "t = timer(_HZ=50, _MAX_SEC=1000)\n",
    "t.start()\n",
    "while t.is_notfinished():\n",
    "    if t.do_run():\n",
    "        pos = g.muz[idx, :].astype(np.int).tolist()\n",
    "        if not flag:\n",
    "            flag = True\n",
    "            startT = time.time()\n",
    "            threshold = pos\n",
    "            # print('a', idx)\n",
    "        currpos = snapbot.get_currpos(); time.sleep(0.001)\n",
    "        if flag and abs(currpos[0] - threshold[0]) < 20:\n",
    "            print(startT - time.time())\n",
    "            startT = time.time()\n",
    "            flag = False\n",
    "            # print('b', idx)\n",
    "        # print(currpos[0])\n",
    "        idx = idx + 1\n",
    "        plot.append([pos[0], currpos[0]])\n",
    "        snapbot.set_goalpos(pos); time.sleep(0.001)\n",
    "        if idx >= g.nz:\n",
    "            idx = 0\n",
    "            loop_cnt = loop_cnt + 1\n",
    "            time.sleep(0.01)\n",
    "        if loop_cnt >= 4:\n",
    "            t.finish()\n",
    "\n",
    "plt.plot(plot)\n",
    "print (\"FINISHED.\")"
   ]
  },
  {
   "cell_type": "code",
   "execution_count": null,
   "metadata": {
    "collapsed": true
   },
   "outputs": [],
   "source": [
    "np.mod(190, 180)"
   ]
  },
  {
   "cell_type": "markdown",
   "metadata": {
    "collapsed": true
   },
   "source": [
    "## DISCONNECT"
   ]
  },
  {
   "cell_type": "code",
   "execution_count": 31,
   "metadata": {
    "collapsed": true
   },
   "outputs": [
    {
     "name": "stdout",
     "output_type": "stream",
     "text": [
      "[SNAPBOT] CLOSE\n"
     ]
    }
   ],
   "source": [
    "snapbot.close()"
   ]
  },
  {
   "cell_type": "markdown",
   "metadata": {},
   "source": [
    "## [!!CAUTION!!] CONFIGURATION (CHANGE ID)"
   ]
  },
  {
   "cell_type": "code",
   "execution_count": null,
   "metadata": {
    "ExecuteTime": {
     "end_time": "2017-10-27T16:24:16.900168Z",
     "start_time": "2017-10-27T16:24:16.867168Z"
    }
   },
   "outputs": [],
   "source": [
    "# BY DEFAULT, MAKE IT FALSE\n",
    "DO_YOU_REALLY_WANT_TO_DO_THIS = True\n",
    "\n",
    "if DO_YOU_REALLY_WANT_TO_DO_THIS:\n",
    "    import custom_dynamixel_functions as dynamixel\n",
    "    \n",
    "    # FROM AND TO DEVICE INDEX\n",
    "    DXL_ID              = int(14)\n",
    "    DXL_ID_TO           = int(22)\n",
    "    \n",
    "    # CONFIGURATION\n",
    "    DEVICENAME = \"/dev/ttyUSB0\".encode('utf-8')\n",
    "    BAUDRATE            = 1000000 \n",
    "    PROTOCOL_VERSION    = 2\n",
    "    ADDR_MX_ID          = 3\n",
    "    COMM_SUCCESS        = 0  \n",
    "    \n",
    "    # CHANGE THE BAUDRATE\n",
    "    port_num = dynamixel.portHandler(DEVICENAME)\n",
    "    dynamixel.packetHandler()\n",
    "    if dynamixel.openPort(port_num):\n",
    "        print(\"Succeeded to open the port!\")\n",
    "    else:\n",
    "        print(\"Failed to open the port!\")\n",
    "    if dynamixel.setBaudRate(port_num, BAUDRATE):\n",
    "        print(\"Succeeded to change the baudrate!\")\n",
    "    else:\n",
    "        print(\"Failed to change the baudrate!\")\n",
    "        \n",
    "    # CHANGE TO ID\n",
    "    dynamixel.write1ByteTxRx(port_num, PROTOCOL_VERSION, DXL_ID, ADDR_MX_ID, DXL_ID_TO)\n",
    "    if dynamixel.getLastTxRxResult(port_num, PROTOCOL_VERSION) != COMM_SUCCESS:\n",
    "        print('printTXRXResult')\n",
    "        # dynamixel.printTxRxResult(PROTOCOL_VERSION, dynamixel.getLastTxRxResult(port_num, PROTOCOL_VERSION))\n",
    "    elif dynamixel.getLastRxPacketError(port_num, PROTOCOL_VERSION) != 0:\n",
    "        print('printRxPacketError')\n",
    "        # dynamixel.printRxPacketError(PROTOCOL_VERSION, dynamixel.getLastRxPacketError(port_num, PROTOCOL_VERSION))\n",
    "    else:\n",
    "        print (\"SUCCESS! [%d] TO [%d]\" % (DXL_ID, DXL_ID_TO))"
   ]
  }
 ],
 "metadata": {
  "interpreter": {
   "hash": "767d51c1340bd893661ea55ea3124f6de3c7a262a8b4abca0554b478b1e2ff90"
  },
  "kernelspec": {
   "display_name": "Python 2.7.17 64-bit",
   "name": "python3"
  },
  "language_info": {
   "codemirror_mode": {
    "name": "ipython",
    "version": 3
   },
   "file_extension": ".py",
   "mimetype": "text/x-python",
   "name": "python",
   "nbconvert_exporter": "python",
   "pygments_lexer": "ipython3",
   "version": "3.7.12"
  },
  "varInspector": {
   "cols": {
    "lenName": 16,
    "lenType": 16,
    "lenVar": 40
   },
   "kernels_config": {
    "python": {
     "delete_cmd_postfix": "",
     "delete_cmd_prefix": "del ",
     "library": "var_list.py",
     "varRefreshCmd": "print(var_dic_list())"
    },
    "r": {
     "delete_cmd_postfix": ") ",
     "delete_cmd_prefix": "rm(",
     "library": "var_list.r",
     "varRefreshCmd": "cat(var_dic_list()) "
    }
   },
   "types_to_exclude": [
    "module",
    "function",
    "builtin_function_or_method",
    "instance",
    "_Feature"
   ],
   "window_display": false
  }
 },
 "nbformat": 4,
 "nbformat_minor": 2
}
