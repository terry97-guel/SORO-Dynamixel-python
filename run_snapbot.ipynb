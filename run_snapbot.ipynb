{
 "cells": [
  {
   "cell_type": "markdown",
   "metadata": {},
   "source": [
    "## IMPORT LIBRARIES"
   ]
  },
  {
   "cell_type": "code",
   "execution_count": null,
   "metadata": {
    "ExecuteTime": {
     "end_time": "2017-10-27T16:24:29.711191Z",
     "start_time": "2017-10-27T16:24:29.478864Z"
    }
   },
   "outputs": [],
   "source": [
    "import os, time, cv2\n",
    "from class_motionhelper import tracker, timer\n",
    "import numpy as np\n",
    "import matplotlib.pyplot as plt\n",
    "import custom_dynamixel_functions as dynamixel\n",
    "from datetime import datetime\n",
    "from class_xm430 import xm430\n",
    "from utils import *\n",
    "%matplotlib inline\n",
    "print (\"PACKAGES LOADED.\")"
   ]
  },
  {
   "cell_type": "markdown",
   "metadata": {},
   "source": [
    "## INSTANTIATE SNAPBOT"
   ]
  },
  {
   "cell_type": "code",
   "execution_count": null,
   "metadata": {
    "ExecuteTime": {
     "end_time": "2017-10-27T16:24:31.277571Z",
     "start_time": "2017-10-27T16:24:31.275156Z"
    }
   },
   "outputs": [],
   "source": [
    "snapbot = xm430('SNAPBOT', _USB_NUM=1)\n",
    "snapbot.connect()\n",
    "snapbot.IDX_LIST = [15, 16, 17, 18, 13, 14, 21, 22]\n",
    "snapbot.set_delaytime([30])\n",
    "snapbot.set_pidgains(20, 0, 0)\n",
    "snapbot.set_maxtorque([2000])\n",
    "snapbot.set_goalspeed([1500])\n",
    "snapbot.set_torque([1])"
   ]
  },
  {
   "cell_type": "code",
   "execution_count": null,
   "metadata": {},
   "outputs": [],
   "source": [
    "snapbot.set_goalpos([2048, 2048, 2048, 2048, 2048, 2048, 2048, 2048])\n",
    "print (snapbot.get_currpos())\n",
    "print (\"INITIALIZE POSITION\")"
   ]
  },
  {
   "cell_type": "markdown",
   "metadata": {},
   "source": [
    "## SET GOALS AND ACT"
   ]
  },
  {
   "cell_type": "code",
   "execution_count": null,
   "metadata": {},
   "outputs": [],
   "source": [
    "poses = np.load('qpos_dlpg/qpos_dlpg_17.npy')\n",
    "traj = get_shorttraj(poses)\n",
    "traj_len = traj.shape[0]\n",
    "Act_dim = traj.shape[1]\n",
    "print(\"Traj_len : {}, Act_dim : {}\".format(traj_len,Act_dim))"
   ]
  },
  {
   "cell_type": "code",
   "execution_count": null,
   "metadata": {},
   "outputs": [],
   "source": [
    "# Run without OpticalFlow\n",
    "run_snapbot(traj,snapbot,30,1000)"
   ]
  },
  {
   "cell_type": "code",
   "execution_count": null,
   "metadata": {},
   "outputs": [],
   "source": [
    "# Run with OpticalFlow\n",
    "cam_idx = find_snapbotcamidx()\n",
    "print(\"CAM_IDX : {}\".format(cam_idx))\n",
    "cap = cv2.VideoCapture(cam_idx)\n",
    "run_snapbot_opticalflow(traj,snapbot,30,1000, cap)"
   ]
  },
  {
   "cell_type": "markdown",
   "metadata": {
    "collapsed": true
   },
   "source": [
    "## DISCONNECT"
   ]
  },
  {
   "cell_type": "code",
   "execution_count": null,
   "metadata": {
    "collapsed": true
   },
   "outputs": [],
   "source": [
    "snapbot.set_torque([0])\n",
    "snapbot.close()"
   ]
  }
 ],
 "metadata": {
  "interpreter": {
   "hash": "767d51c1340bd893661ea55ea3124f6de3c7a262a8b4abca0554b478b1e2ff90"
  },
  "kernelspec": {
   "display_name": "Python 2.7.17 64-bit",
   "name": "python3"
  },
  "language_info": {
   "codemirror_mode": {
    "name": "ipython",
    "version": 3
   },
   "file_extension": ".py",
   "mimetype": "text/x-python",
   "name": "python",
   "nbconvert_exporter": "python",
   "pygments_lexer": "ipython3",
   "version": "3.9.10"
  },
  "varInspector": {
   "cols": {
    "lenName": 16,
    "lenType": 16,
    "lenVar": 40
   },
   "kernels_config": {
    "python": {
     "delete_cmd_postfix": "",
     "delete_cmd_prefix": "del ",
     "library": "var_list.py",
     "varRefreshCmd": "print(var_dic_list())"
    },
    "r": {
     "delete_cmd_postfix": ") ",
     "delete_cmd_prefix": "rm(",
     "library": "var_list.r",
     "varRefreshCmd": "cat(var_dic_list()) "
    }
   },
   "types_to_exclude": [
    "module",
    "function",
    "builtin_function_or_method",
    "instance",
    "_Feature"
   ],
   "window_display": false
  }
 },
 "nbformat": 4,
 "nbformat_minor": 2
}
